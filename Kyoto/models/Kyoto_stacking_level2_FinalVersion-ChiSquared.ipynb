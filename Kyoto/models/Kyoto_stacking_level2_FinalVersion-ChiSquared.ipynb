{
 "cells": [
  {
   "cell_type": "code",
   "execution_count": 1,
   "metadata": {},
   "outputs": [],
   "source": [
    "import pandas as pd\n",
    "import numpy as np"
   ]
  },
  {
   "cell_type": "code",
   "execution_count": 2,
   "metadata": {},
   "outputs": [],
   "source": [
    "from sklearn.model_selection import cross_val_score\n",
    "from sklearn.model_selection import cross_validate\n",
    "from sklearn.feature_selection import SelectKBest\n",
    "from sklearn.feature_selection import f_classif\n",
    "from sklearn.metrics import fbeta_score, make_scorer\n",
    "from sklearn.metrics import make_scorer, accuracy_score, precision_score, recall_score, f1_score"
   ]
  },
  {
   "cell_type": "markdown",
   "metadata": {},
   "source": [
    "# Reading Data"
   ]
  },
  {
   "cell_type": "code",
   "execution_count": 3,
   "metadata": {},
   "outputs": [],
   "source": [
    "df = pd.read_csv('kyoto/kyoto-full.csv')"
   ]
  },
  {
   "cell_type": "code",
   "execution_count": 4,
   "metadata": {},
   "outputs": [
    {
     "data": {
      "text/html": [
       "<div>\n",
       "<style scoped>\n",
       "    .dataframe tbody tr th:only-of-type {\n",
       "        vertical-align: middle;\n",
       "    }\n",
       "\n",
       "    .dataframe tbody tr th {\n",
       "        vertical-align: top;\n",
       "    }\n",
       "\n",
       "    .dataframe thead th {\n",
       "        text-align: right;\n",
       "    }\n",
       "</style>\n",
       "<table border=\"1\" class=\"dataframe\">\n",
       "  <thead>\n",
       "    <tr style=\"text-align: right;\">\n",
       "      <th></th>\n",
       "      <th>Duration</th>\n",
       "      <th>Service</th>\n",
       "      <th>Source_bytes</th>\n",
       "      <th>Destination_bytes</th>\n",
       "      <th>Count</th>\n",
       "      <th>Same_srv_rate</th>\n",
       "      <th>Serror_rate</th>\n",
       "      <th>Srv_serror_rate</th>\n",
       "      <th>Dst_host_count</th>\n",
       "      <th>Dst_host_srv_count</th>\n",
       "      <th>Dst_host_same_src_port_rate</th>\n",
       "      <th>Dst_host_serror_rate</th>\n",
       "      <th>Dst_host_srv_serror_rate</th>\n",
       "      <th>Flag</th>\n",
       "      <th>Label</th>\n",
       "      <th>Source_Port_Number</th>\n",
       "      <th>Destination_Port_Number</th>\n",
       "      <th>protocol_type</th>\n",
       "    </tr>\n",
       "  </thead>\n",
       "  <tbody>\n",
       "    <tr>\n",
       "      <td>0</td>\n",
       "      <td>0.000000</td>\n",
       "      <td>other</td>\n",
       "      <td>0</td>\n",
       "      <td>0</td>\n",
       "      <td>0</td>\n",
       "      <td>0.0</td>\n",
       "      <td>0.0</td>\n",
       "      <td>0.0</td>\n",
       "      <td>0</td>\n",
       "      <td>0</td>\n",
       "      <td>0.0</td>\n",
       "      <td>0.0</td>\n",
       "      <td>0.0</td>\n",
       "      <td>S0</td>\n",
       "      <td>-1</td>\n",
       "      <td>47904</td>\n",
       "      <td>23</td>\n",
       "      <td>tcp</td>\n",
       "    </tr>\n",
       "    <tr>\n",
       "      <td>1</td>\n",
       "      <td>0.000000</td>\n",
       "      <td>other</td>\n",
       "      <td>0</td>\n",
       "      <td>0</td>\n",
       "      <td>0</td>\n",
       "      <td>0.0</td>\n",
       "      <td>0.0</td>\n",
       "      <td>0.0</td>\n",
       "      <td>0</td>\n",
       "      <td>0</td>\n",
       "      <td>0.0</td>\n",
       "      <td>0.0</td>\n",
       "      <td>0.0</td>\n",
       "      <td>S0</td>\n",
       "      <td>-1</td>\n",
       "      <td>58974</td>\n",
       "      <td>23</td>\n",
       "      <td>tcp</td>\n",
       "    </tr>\n",
       "    <tr>\n",
       "      <td>2</td>\n",
       "      <td>0.000000</td>\n",
       "      <td>other</td>\n",
       "      <td>0</td>\n",
       "      <td>0</td>\n",
       "      <td>0</td>\n",
       "      <td>0.0</td>\n",
       "      <td>0.0</td>\n",
       "      <td>0.0</td>\n",
       "      <td>0</td>\n",
       "      <td>0</td>\n",
       "      <td>0.0</td>\n",
       "      <td>0.0</td>\n",
       "      <td>0.0</td>\n",
       "      <td>S0</td>\n",
       "      <td>-1</td>\n",
       "      <td>37174</td>\n",
       "      <td>23</td>\n",
       "      <td>tcp</td>\n",
       "    </tr>\n",
       "    <tr>\n",
       "      <td>3</td>\n",
       "      <td>0.000000</td>\n",
       "      <td>other</td>\n",
       "      <td>0</td>\n",
       "      <td>0</td>\n",
       "      <td>0</td>\n",
       "      <td>0.0</td>\n",
       "      <td>0.0</td>\n",
       "      <td>0.0</td>\n",
       "      <td>0</td>\n",
       "      <td>0</td>\n",
       "      <td>0.0</td>\n",
       "      <td>0.0</td>\n",
       "      <td>0.0</td>\n",
       "      <td>S0</td>\n",
       "      <td>-1</td>\n",
       "      <td>40711</td>\n",
       "      <td>3389</td>\n",
       "      <td>tcp</td>\n",
       "    </tr>\n",
       "    <tr>\n",
       "      <td>4</td>\n",
       "      <td>0.000052</td>\n",
       "      <td>other</td>\n",
       "      <td>0</td>\n",
       "      <td>0</td>\n",
       "      <td>0</td>\n",
       "      <td>0.0</td>\n",
       "      <td>0.0</td>\n",
       "      <td>0.0</td>\n",
       "      <td>0</td>\n",
       "      <td>0</td>\n",
       "      <td>0.0</td>\n",
       "      <td>0.0</td>\n",
       "      <td>0.0</td>\n",
       "      <td>SH</td>\n",
       "      <td>-1</td>\n",
       "      <td>8429</td>\n",
       "      <td>22</td>\n",
       "      <td>tcp</td>\n",
       "    </tr>\n",
       "  </tbody>\n",
       "</table>\n",
       "</div>"
      ],
      "text/plain": [
       "   Duration Service  Source_bytes  Destination_bytes  Count  Same_srv_rate  \\\n",
       "0  0.000000   other             0                  0      0            0.0   \n",
       "1  0.000000   other             0                  0      0            0.0   \n",
       "2  0.000000   other             0                  0      0            0.0   \n",
       "3  0.000000   other             0                  0      0            0.0   \n",
       "4  0.000052   other             0                  0      0            0.0   \n",
       "\n",
       "   Serror_rate  Srv_serror_rate  Dst_host_count  Dst_host_srv_count  \\\n",
       "0          0.0              0.0               0                   0   \n",
       "1          0.0              0.0               0                   0   \n",
       "2          0.0              0.0               0                   0   \n",
       "3          0.0              0.0               0                   0   \n",
       "4          0.0              0.0               0                   0   \n",
       "\n",
       "   Dst_host_same_src_port_rate  Dst_host_serror_rate  \\\n",
       "0                          0.0                   0.0   \n",
       "1                          0.0                   0.0   \n",
       "2                          0.0                   0.0   \n",
       "3                          0.0                   0.0   \n",
       "4                          0.0                   0.0   \n",
       "\n",
       "   Dst_host_srv_serror_rate Flag  Label  Source_Port_Number  \\\n",
       "0                       0.0   S0     -1               47904   \n",
       "1                       0.0   S0     -1               58974   \n",
       "2                       0.0   S0     -1               37174   \n",
       "3                       0.0   S0     -1               40711   \n",
       "4                       0.0   SH     -1                8429   \n",
       "\n",
       "   Destination_Port_Number protocol_type  \n",
       "0                       23           tcp  \n",
       "1                       23           tcp  \n",
       "2                       23           tcp  \n",
       "3                     3389           tcp  \n",
       "4                       22           tcp  "
      ]
     },
     "execution_count": 4,
     "metadata": {},
     "output_type": "execute_result"
    }
   ],
   "source": [
    "df.head()"
   ]
  },
  {
   "cell_type": "code",
   "execution_count": 5,
   "metadata": {},
   "outputs": [],
   "source": [
    "df = df.sample(n=4000)"
   ]
  },
  {
   "cell_type": "markdown",
   "metadata": {},
   "source": [
    "# Data Preprocessing"
   ]
  },
  {
   "cell_type": "code",
   "execution_count": 6,
   "metadata": {},
   "outputs": [
    {
     "data": {
      "text/plain": [
       "Duration                       0\n",
       "Source_bytes                   0\n",
       "Destination_bytes              0\n",
       "Count                          0\n",
       "Same_srv_rate                  0\n",
       "Serror_rate                    0\n",
       "Srv_serror_rate                0\n",
       "Dst_host_count                 0\n",
       "Dst_host_srv_count             0\n",
       "Dst_host_same_src_port_rate    0\n",
       "Dst_host_serror_rate           0\n",
       "Dst_host_srv_serror_rate       0\n",
       "Label                          0\n",
       "Source_Port_Number             0\n",
       "Destination_Port_Number        0\n",
       "Service_dns                    0\n",
       "Service_http                   0\n",
       "Service_other                  0\n",
       "Service_rdp                    0\n",
       "Service_sip                    0\n",
       "Service_smtp                   0\n",
       "Service_snmp                   0\n",
       "Service_ssh                    0\n",
       "Flag_OTH                       0\n",
       "Flag_REJ                       0\n",
       "Flag_RSTO                      0\n",
       "Flag_RSTOS0                    0\n",
       "Flag_RSTR                      0\n",
       "Flag_RSTRH                     0\n",
       "Flag_S0                        0\n",
       "Flag_S1                        0\n",
       "Flag_SF                        0\n",
       "Flag_SH                        0\n",
       "Flag_SHR                       0\n",
       "protocol_type_icmp             0\n",
       "protocol_type_tcp              0\n",
       "protocol_type_udp              0\n",
       "dtype: int64"
      ]
     },
     "execution_count": 6,
     "metadata": {},
     "output_type": "execute_result"
    }
   ],
   "source": [
    "dummy_cols = ['Service' , 'Flag' , 'protocol_type']\n",
    "df = pd.get_dummies( df , columns = dummy_cols)\n",
    "df.isna().sum()\n"
   ]
  },
  {
   "cell_type": "code",
   "execution_count": 7,
   "metadata": {},
   "outputs": [
    {
     "data": {
      "text/plain": [
       "Duration                       0\n",
       "Source_bytes                   0\n",
       "Destination_bytes              0\n",
       "Count                          0\n",
       "Same_srv_rate                  0\n",
       "Serror_rate                    0\n",
       "Srv_serror_rate                0\n",
       "Dst_host_count                 0\n",
       "Dst_host_srv_count             0\n",
       "Dst_host_same_src_port_rate    0\n",
       "Dst_host_serror_rate           0\n",
       "Dst_host_srv_serror_rate       0\n",
       "Label                          0\n",
       "Source_Port_Number             0\n",
       "Destination_Port_Number        0\n",
       "Service_dns                    0\n",
       "Service_http                   0\n",
       "Service_other                  0\n",
       "Service_rdp                    0\n",
       "Service_sip                    0\n",
       "Service_smtp                   0\n",
       "Service_snmp                   0\n",
       "Service_ssh                    0\n",
       "Flag_OTH                       0\n",
       "Flag_REJ                       0\n",
       "Flag_RSTO                      0\n",
       "Flag_RSTOS0                    0\n",
       "Flag_RSTR                      0\n",
       "Flag_RSTRH                     0\n",
       "Flag_S0                        0\n",
       "Flag_S1                        0\n",
       "Flag_SF                        0\n",
       "Flag_SH                        0\n",
       "Flag_SHR                       0\n",
       "protocol_type_icmp             0\n",
       "protocol_type_tcp              0\n",
       "protocol_type_udp              0\n",
       "dtype: int64"
      ]
     },
     "execution_count": 7,
     "metadata": {},
     "output_type": "execute_result"
    }
   ],
   "source": [
    "df = df.dropna()\n",
    "df.isna().sum()"
   ]
  },
  {
   "cell_type": "code",
   "execution_count": 8,
   "metadata": {},
   "outputs": [
    {
     "data": {
      "text/html": [
       "<div>\n",
       "<style scoped>\n",
       "    .dataframe tbody tr th:only-of-type {\n",
       "        vertical-align: middle;\n",
       "    }\n",
       "\n",
       "    .dataframe tbody tr th {\n",
       "        vertical-align: top;\n",
       "    }\n",
       "\n",
       "    .dataframe thead th {\n",
       "        text-align: right;\n",
       "    }\n",
       "</style>\n",
       "<table border=\"1\" class=\"dataframe\">\n",
       "  <thead>\n",
       "    <tr style=\"text-align: right;\">\n",
       "      <th></th>\n",
       "      <th>Duration</th>\n",
       "      <th>Source_bytes</th>\n",
       "      <th>Destination_bytes</th>\n",
       "      <th>Count</th>\n",
       "      <th>Same_srv_rate</th>\n",
       "      <th>Serror_rate</th>\n",
       "      <th>Srv_serror_rate</th>\n",
       "      <th>Dst_host_count</th>\n",
       "      <th>Dst_host_srv_count</th>\n",
       "      <th>Dst_host_same_src_port_rate</th>\n",
       "      <th>...</th>\n",
       "      <th>Flag_RSTR</th>\n",
       "      <th>Flag_RSTRH</th>\n",
       "      <th>Flag_S0</th>\n",
       "      <th>Flag_S1</th>\n",
       "      <th>Flag_SF</th>\n",
       "      <th>Flag_SH</th>\n",
       "      <th>Flag_SHR</th>\n",
       "      <th>protocol_type_icmp</th>\n",
       "      <th>protocol_type_tcp</th>\n",
       "      <th>protocol_type_udp</th>\n",
       "    </tr>\n",
       "  </thead>\n",
       "  <tbody>\n",
       "    <tr>\n",
       "      <td>365315</td>\n",
       "      <td>0.000140</td>\n",
       "      <td>0</td>\n",
       "      <td>0</td>\n",
       "      <td>0</td>\n",
       "      <td>0.0</td>\n",
       "      <td>0.0</td>\n",
       "      <td>1.00</td>\n",
       "      <td>1</td>\n",
       "      <td>12</td>\n",
       "      <td>1.0</td>\n",
       "      <td>...</td>\n",
       "      <td>0</td>\n",
       "      <td>0</td>\n",
       "      <td>0</td>\n",
       "      <td>0</td>\n",
       "      <td>0</td>\n",
       "      <td>0</td>\n",
       "      <td>0</td>\n",
       "      <td>0</td>\n",
       "      <td>1</td>\n",
       "      <td>0</td>\n",
       "    </tr>\n",
       "    <tr>\n",
       "      <td>104467</td>\n",
       "      <td>0.000000</td>\n",
       "      <td>0</td>\n",
       "      <td>0</td>\n",
       "      <td>0</td>\n",
       "      <td>0.0</td>\n",
       "      <td>0.0</td>\n",
       "      <td>0.82</td>\n",
       "      <td>0</td>\n",
       "      <td>0</td>\n",
       "      <td>0.0</td>\n",
       "      <td>...</td>\n",
       "      <td>0</td>\n",
       "      <td>0</td>\n",
       "      <td>1</td>\n",
       "      <td>0</td>\n",
       "      <td>0</td>\n",
       "      <td>0</td>\n",
       "      <td>0</td>\n",
       "      <td>0</td>\n",
       "      <td>0</td>\n",
       "      <td>1</td>\n",
       "    </tr>\n",
       "    <tr>\n",
       "      <td>370364</td>\n",
       "      <td>1.597221</td>\n",
       "      <td>520</td>\n",
       "      <td>1745</td>\n",
       "      <td>1</td>\n",
       "      <td>1.0</td>\n",
       "      <td>0.0</td>\n",
       "      <td>0.00</td>\n",
       "      <td>25</td>\n",
       "      <td>25</td>\n",
       "      <td>0.0</td>\n",
       "      <td>...</td>\n",
       "      <td>0</td>\n",
       "      <td>0</td>\n",
       "      <td>0</td>\n",
       "      <td>0</td>\n",
       "      <td>1</td>\n",
       "      <td>0</td>\n",
       "      <td>0</td>\n",
       "      <td>0</td>\n",
       "      <td>1</td>\n",
       "      <td>0</td>\n",
       "    </tr>\n",
       "    <tr>\n",
       "      <td>378066</td>\n",
       "      <td>0.000447</td>\n",
       "      <td>44</td>\n",
       "      <td>104</td>\n",
       "      <td>10</td>\n",
       "      <td>1.0</td>\n",
       "      <td>0.0</td>\n",
       "      <td>0.00</td>\n",
       "      <td>81</td>\n",
       "      <td>96</td>\n",
       "      <td>0.0</td>\n",
       "      <td>...</td>\n",
       "      <td>0</td>\n",
       "      <td>0</td>\n",
       "      <td>0</td>\n",
       "      <td>0</td>\n",
       "      <td>1</td>\n",
       "      <td>0</td>\n",
       "      <td>0</td>\n",
       "      <td>0</td>\n",
       "      <td>0</td>\n",
       "      <td>1</td>\n",
       "    </tr>\n",
       "    <tr>\n",
       "      <td>280142</td>\n",
       "      <td>0.000544</td>\n",
       "      <td>44</td>\n",
       "      <td>104</td>\n",
       "      <td>25</td>\n",
       "      <td>1.0</td>\n",
       "      <td>0.0</td>\n",
       "      <td>0.00</td>\n",
       "      <td>93</td>\n",
       "      <td>99</td>\n",
       "      <td>0.0</td>\n",
       "      <td>...</td>\n",
       "      <td>0</td>\n",
       "      <td>0</td>\n",
       "      <td>0</td>\n",
       "      <td>0</td>\n",
       "      <td>1</td>\n",
       "      <td>0</td>\n",
       "      <td>0</td>\n",
       "      <td>0</td>\n",
       "      <td>0</td>\n",
       "      <td>1</td>\n",
       "    </tr>\n",
       "  </tbody>\n",
       "</table>\n",
       "<p>5 rows × 37 columns</p>\n",
       "</div>"
      ],
      "text/plain": [
       "        Duration  Source_bytes  Destination_bytes  Count  Same_srv_rate  \\\n",
       "365315  0.000140             0                  0      0            0.0   \n",
       "104467  0.000000             0                  0      0            0.0   \n",
       "370364  1.597221           520               1745      1            1.0   \n",
       "378066  0.000447            44                104     10            1.0   \n",
       "280142  0.000544            44                104     25            1.0   \n",
       "\n",
       "        Serror_rate  Srv_serror_rate  Dst_host_count  Dst_host_srv_count  \\\n",
       "365315          0.0             1.00               1                  12   \n",
       "104467          0.0             0.82               0                   0   \n",
       "370364          0.0             0.00              25                  25   \n",
       "378066          0.0             0.00              81                  96   \n",
       "280142          0.0             0.00              93                  99   \n",
       "\n",
       "        Dst_host_same_src_port_rate  ...  Flag_RSTR  Flag_RSTRH  Flag_S0  \\\n",
       "365315                          1.0  ...          0           0        0   \n",
       "104467                          0.0  ...          0           0        1   \n",
       "370364                          0.0  ...          0           0        0   \n",
       "378066                          0.0  ...          0           0        0   \n",
       "280142                          0.0  ...          0           0        0   \n",
       "\n",
       "        Flag_S1  Flag_SF  Flag_SH  Flag_SHR  protocol_type_icmp  \\\n",
       "365315        0        0        0         0                   0   \n",
       "104467        0        0        0         0                   0   \n",
       "370364        0        1        0         0                   0   \n",
       "378066        0        1        0         0                   0   \n",
       "280142        0        1        0         0                   0   \n",
       "\n",
       "        protocol_type_tcp  protocol_type_udp  \n",
       "365315                  1                  0  \n",
       "104467                  0                  1  \n",
       "370364                  1                  0  \n",
       "378066                  0                  1  \n",
       "280142                  0                  1  \n",
       "\n",
       "[5 rows x 37 columns]"
      ]
     },
     "execution_count": 8,
     "metadata": {},
     "output_type": "execute_result"
    }
   ],
   "source": [
    "df.head()"
   ]
  },
  {
   "cell_type": "markdown",
   "metadata": {},
   "source": [
    "# Split Data"
   ]
  },
  {
   "cell_type": "code",
   "execution_count": 9,
   "metadata": {},
   "outputs": [],
   "source": [
    "X = df.drop(['Label'], axis=1)\n",
    "y = df['Label']"
   ]
  },
  {
   "cell_type": "code",
   "execution_count": 10,
   "metadata": {},
   "outputs": [],
   "source": [
    "scoring_metrics = {'accuracy' : make_scorer(accuracy_score), \n",
    "           'precision' : make_scorer(precision_score, average=\"micro\"),\n",
    "           'recall' : make_scorer(recall_score, average=\"micro\"), \n",
    "           'f1_score' : make_scorer(f1_score, average=\"micro\")}"
   ]
  },
  {
   "cell_type": "code",
   "execution_count": 11,
   "metadata": {},
   "outputs": [
    {
     "data": {
      "text/html": [
       "<div>\n",
       "<style scoped>\n",
       "    .dataframe tbody tr th:only-of-type {\n",
       "        vertical-align: middle;\n",
       "    }\n",
       "\n",
       "    .dataframe tbody tr th {\n",
       "        vertical-align: top;\n",
       "    }\n",
       "\n",
       "    .dataframe thead th {\n",
       "        text-align: right;\n",
       "    }\n",
       "</style>\n",
       "<table border=\"1\" class=\"dataframe\">\n",
       "  <thead>\n",
       "    <tr style=\"text-align: right;\">\n",
       "      <th></th>\n",
       "      <th>Duration</th>\n",
       "      <th>Source_bytes</th>\n",
       "      <th>Destination_bytes</th>\n",
       "      <th>Count</th>\n",
       "      <th>Same_srv_rate</th>\n",
       "      <th>Serror_rate</th>\n",
       "      <th>Srv_serror_rate</th>\n",
       "      <th>Dst_host_count</th>\n",
       "      <th>Dst_host_srv_count</th>\n",
       "      <th>Dst_host_same_src_port_rate</th>\n",
       "      <th>...</th>\n",
       "      <th>Flag_RSTR</th>\n",
       "      <th>Flag_RSTRH</th>\n",
       "      <th>Flag_S0</th>\n",
       "      <th>Flag_S1</th>\n",
       "      <th>Flag_SF</th>\n",
       "      <th>Flag_SH</th>\n",
       "      <th>Flag_SHR</th>\n",
       "      <th>protocol_type_icmp</th>\n",
       "      <th>protocol_type_tcp</th>\n",
       "      <th>protocol_type_udp</th>\n",
       "    </tr>\n",
       "  </thead>\n",
       "  <tbody>\n",
       "    <tr>\n",
       "      <td>365315</td>\n",
       "      <td>0.000140</td>\n",
       "      <td>0</td>\n",
       "      <td>0</td>\n",
       "      <td>0</td>\n",
       "      <td>0.0</td>\n",
       "      <td>0.0</td>\n",
       "      <td>1.00</td>\n",
       "      <td>1</td>\n",
       "      <td>12</td>\n",
       "      <td>1.0</td>\n",
       "      <td>...</td>\n",
       "      <td>0</td>\n",
       "      <td>0</td>\n",
       "      <td>0</td>\n",
       "      <td>0</td>\n",
       "      <td>0</td>\n",
       "      <td>0</td>\n",
       "      <td>0</td>\n",
       "      <td>0</td>\n",
       "      <td>1</td>\n",
       "      <td>0</td>\n",
       "    </tr>\n",
       "    <tr>\n",
       "      <td>104467</td>\n",
       "      <td>0.000000</td>\n",
       "      <td>0</td>\n",
       "      <td>0</td>\n",
       "      <td>0</td>\n",
       "      <td>0.0</td>\n",
       "      <td>0.0</td>\n",
       "      <td>0.82</td>\n",
       "      <td>0</td>\n",
       "      <td>0</td>\n",
       "      <td>0.0</td>\n",
       "      <td>...</td>\n",
       "      <td>0</td>\n",
       "      <td>0</td>\n",
       "      <td>1</td>\n",
       "      <td>0</td>\n",
       "      <td>0</td>\n",
       "      <td>0</td>\n",
       "      <td>0</td>\n",
       "      <td>0</td>\n",
       "      <td>0</td>\n",
       "      <td>1</td>\n",
       "    </tr>\n",
       "    <tr>\n",
       "      <td>370364</td>\n",
       "      <td>1.597221</td>\n",
       "      <td>520</td>\n",
       "      <td>1745</td>\n",
       "      <td>1</td>\n",
       "      <td>1.0</td>\n",
       "      <td>0.0</td>\n",
       "      <td>0.00</td>\n",
       "      <td>25</td>\n",
       "      <td>25</td>\n",
       "      <td>0.0</td>\n",
       "      <td>...</td>\n",
       "      <td>0</td>\n",
       "      <td>0</td>\n",
       "      <td>0</td>\n",
       "      <td>0</td>\n",
       "      <td>1</td>\n",
       "      <td>0</td>\n",
       "      <td>0</td>\n",
       "      <td>0</td>\n",
       "      <td>1</td>\n",
       "      <td>0</td>\n",
       "    </tr>\n",
       "    <tr>\n",
       "      <td>378066</td>\n",
       "      <td>0.000447</td>\n",
       "      <td>44</td>\n",
       "      <td>104</td>\n",
       "      <td>10</td>\n",
       "      <td>1.0</td>\n",
       "      <td>0.0</td>\n",
       "      <td>0.00</td>\n",
       "      <td>81</td>\n",
       "      <td>96</td>\n",
       "      <td>0.0</td>\n",
       "      <td>...</td>\n",
       "      <td>0</td>\n",
       "      <td>0</td>\n",
       "      <td>0</td>\n",
       "      <td>0</td>\n",
       "      <td>1</td>\n",
       "      <td>0</td>\n",
       "      <td>0</td>\n",
       "      <td>0</td>\n",
       "      <td>0</td>\n",
       "      <td>1</td>\n",
       "    </tr>\n",
       "    <tr>\n",
       "      <td>280142</td>\n",
       "      <td>0.000544</td>\n",
       "      <td>44</td>\n",
       "      <td>104</td>\n",
       "      <td>25</td>\n",
       "      <td>1.0</td>\n",
       "      <td>0.0</td>\n",
       "      <td>0.00</td>\n",
       "      <td>93</td>\n",
       "      <td>99</td>\n",
       "      <td>0.0</td>\n",
       "      <td>...</td>\n",
       "      <td>0</td>\n",
       "      <td>0</td>\n",
       "      <td>0</td>\n",
       "      <td>0</td>\n",
       "      <td>1</td>\n",
       "      <td>0</td>\n",
       "      <td>0</td>\n",
       "      <td>0</td>\n",
       "      <td>0</td>\n",
       "      <td>1</td>\n",
       "    </tr>\n",
       "  </tbody>\n",
       "</table>\n",
       "<p>5 rows × 37 columns</p>\n",
       "</div>"
      ],
      "text/plain": [
       "        Duration  Source_bytes  Destination_bytes  Count  Same_srv_rate  \\\n",
       "365315  0.000140             0                  0      0            0.0   \n",
       "104467  0.000000             0                  0      0            0.0   \n",
       "370364  1.597221           520               1745      1            1.0   \n",
       "378066  0.000447            44                104     10            1.0   \n",
       "280142  0.000544            44                104     25            1.0   \n",
       "\n",
       "        Serror_rate  Srv_serror_rate  Dst_host_count  Dst_host_srv_count  \\\n",
       "365315          0.0             1.00               1                  12   \n",
       "104467          0.0             0.82               0                   0   \n",
       "370364          0.0             0.00              25                  25   \n",
       "378066          0.0             0.00              81                  96   \n",
       "280142          0.0             0.00              93                  99   \n",
       "\n",
       "        Dst_host_same_src_port_rate  ...  Flag_RSTR  Flag_RSTRH  Flag_S0  \\\n",
       "365315                          1.0  ...          0           0        0   \n",
       "104467                          0.0  ...          0           0        1   \n",
       "370364                          0.0  ...          0           0        0   \n",
       "378066                          0.0  ...          0           0        0   \n",
       "280142                          0.0  ...          0           0        0   \n",
       "\n",
       "        Flag_S1  Flag_SF  Flag_SH  Flag_SHR  protocol_type_icmp  \\\n",
       "365315        0        0        0         0                   0   \n",
       "104467        0        0        0         0                   0   \n",
       "370364        0        1        0         0                   0   \n",
       "378066        0        1        0         0                   0   \n",
       "280142        0        1        0         0                   0   \n",
       "\n",
       "        protocol_type_tcp  protocol_type_udp  \n",
       "365315                  1                  0  \n",
       "104467                  0                  1  \n",
       "370364                  1                  0  \n",
       "378066                  0                  1  \n",
       "280142                  0                  1  \n",
       "\n",
       "[5 rows x 37 columns]"
      ]
     },
     "execution_count": 11,
     "metadata": {},
     "output_type": "execute_result"
    }
   ],
   "source": [
    "df.head()"
   ]
  },
  {
   "cell_type": "code",
   "execution_count": 12,
   "metadata": {},
   "outputs": [
    {
     "data": {
      "text/plain": [
       "(4000,)"
      ]
     },
     "execution_count": 12,
     "metadata": {},
     "output_type": "execute_result"
    }
   ],
   "source": [
    "y.shape"
   ]
  },
  {
   "cell_type": "code",
   "execution_count": 13,
   "metadata": {},
   "outputs": [
    {
     "data": {
      "text/plain": [
       "365315   -1\n",
       "104467   -1\n",
       "370364   -1\n",
       "378066   -1\n",
       "280142   -1\n",
       "Name: Label, dtype: int64"
      ]
     },
     "execution_count": 13,
     "metadata": {},
     "output_type": "execute_result"
    }
   ],
   "source": [
    "y.head()"
   ]
  },
  {
   "cell_type": "code",
   "execution_count": 14,
   "metadata": {},
   "outputs": [],
   "source": [
    "from sklearn.datasets import load_iris\n",
    "from sklearn.ensemble import RandomForestClassifier, StackingClassifier\n",
    "from sklearn.linear_model import LogisticRegression\n",
    "from sklearn.model_selection import train_test_split\n",
    "from sklearn.neighbors import KNeighborsClassifier\n",
    "from sklearn.tree import DecisionTreeClassifier\n",
    "from sklearn.ensemble import AdaBoostClassifier\n",
    "from sklearn.neural_network import MLPClassifier"
   ]
  },
  {
   "cell_type": "markdown",
   "metadata": {},
   "source": [
    "# Chi Squared"
   ]
  },
  {
   "cell_type": "code",
   "execution_count": 15,
   "metadata": {},
   "outputs": [],
   "source": [
    "import matplotlib.pyplot as plt\n",
    "from sklearn.datasets import load_iris\n",
    "from sklearn.model_selection import train_test_split\n",
    "from sklearn.preprocessing import MinMaxScaler\n",
    "from sklearn.svm import LinearSVC\n",
    "from sklearn.pipeline import make_pipeline\n",
    "from sklearn.feature_selection import SelectKBest, chi2"
   ]
  },
  {
   "cell_type": "code",
   "execution_count": 16,
   "metadata": {},
   "outputs": [
    {
     "name": "stdout",
     "output_type": "stream",
     "text": [
      "before transform:         Duration  Source_bytes  Destination_bytes  Count  Same_srv_rate  \\\n",
      "365315  0.000140             0                  0      0            0.0   \n",
      "104467  0.000000             0                  0      0            0.0   \n",
      "370364  1.597221           520               1745      1            1.0   \n",
      "378066  0.000447            44                104     10            1.0   \n",
      "280142  0.000544            44                104     25            1.0   \n",
      "...          ...           ...                ...    ...            ...   \n",
      "316485  1.596176           520               1745      1            1.0   \n",
      "287818  0.000439            44                104     22            1.0   \n",
      "160364  0.000000             0                  0      0            0.0   \n",
      "11488   0.000000             0                  0      0            0.0   \n",
      "179915  0.000000             0                  0      0            0.0   \n",
      "\n",
      "        Serror_rate  Srv_serror_rate  Dst_host_count  Dst_host_srv_count  \\\n",
      "365315          0.0             1.00               1                  12   \n",
      "104467          0.0             0.82               0                   0   \n",
      "370364          0.0             0.00              25                  25   \n",
      "378066          0.0             0.00              81                  96   \n",
      "280142          0.0             0.00              93                  99   \n",
      "...             ...              ...             ...                 ...   \n",
      "316485          0.0             0.00              16                  16   \n",
      "287818          0.0             0.04              90                  97   \n",
      "160364          0.0             0.00               0                   0   \n",
      "11488           0.0             0.50               0                   0   \n",
      "179915          0.0             1.00               0                   0   \n",
      "\n",
      "        Dst_host_same_src_port_rate  ...  Flag_RSTR  Flag_RSTRH  Flag_S0  \\\n",
      "365315                          1.0  ...          0           0        0   \n",
      "104467                          0.0  ...          0           0        1   \n",
      "370364                          0.0  ...          0           0        0   \n",
      "378066                          0.0  ...          0           0        0   \n",
      "280142                          0.0  ...          0           0        0   \n",
      "...                             ...  ...        ...         ...      ...   \n",
      "316485                          0.0  ...          0           0        0   \n",
      "287818                          0.0  ...          0           0        0   \n",
      "160364                          0.0  ...          0           0        1   \n",
      "11488                           0.0  ...          0           0        1   \n",
      "179915                          0.0  ...          0           0        1   \n",
      "\n",
      "        Flag_S1  Flag_SF  Flag_SH  Flag_SHR  protocol_type_icmp  \\\n",
      "365315        0        0        0         0                   0   \n",
      "104467        0        0        0         0                   0   \n",
      "370364        0        1        0         0                   0   \n",
      "378066        0        1        0         0                   0   \n",
      "280142        0        1        0         0                   0   \n",
      "...         ...      ...      ...       ...                 ...   \n",
      "316485        0        1        0         0                   0   \n",
      "287818        0        1        0         0                   0   \n",
      "160364        0        0        0         0                   0   \n",
      "11488         0        0        0         0                   0   \n",
      "179915        0        0        0         0                   0   \n",
      "\n",
      "        protocol_type_tcp  protocol_type_udp  \n",
      "365315                  1                  0  \n",
      "104467                  0                  1  \n",
      "370364                  1                  0  \n",
      "378066                  0                  1  \n",
      "280142                  0                  1  \n",
      "...                   ...                ...  \n",
      "316485                  1                  0  \n",
      "287818                  0                  1  \n",
      "160364                  1                  0  \n",
      "11488                   0                  1  \n",
      "179915                  1                  0  \n",
      "\n",
      "[4000 rows x 36 columns]\n",
      "scores_: [7.69218648e+01 1.17834082e+04 9.01552723e+02 5.64548315e+02\n",
      " 1.05242982e+02 3.07724565e+00 1.03742530e+02 3.52490502e+02\n",
      " 3.44530340e+03 8.04048495e-01 1.46820695e+01 2.20689615e+01\n",
      " 1.67192757e+06 1.05854900e+06 1.70469736e+02 1.29393685e+00\n",
      " 2.14777988e+02 5.17574742e+00 5.88153115e-01 5.88153115e-01\n",
      " 1.17630623e+00 1.02805514e+02 3.44273776e-01 1.15278011e+01\n",
      " 4.69836605e+00 7.05783738e-01 2.94076558e+00 5.88153115e-01\n",
      " 1.70022830e+02 3.52891869e-01 1.91985952e+02 1.29393685e+00\n",
      " 1.69969924e+02 7.42395576e+00 7.86912322e+01 1.40214471e+02]\n",
      "pvalues_: [1.77857117e-018 0.00000000e+000 4.51105090e-198 8.61419376e-125\n",
      " 1.08040717e-024 7.93948759e-002 2.30392073e-024 1.21563418e-078\n",
      " 0.00000000e+000 3.69885686e-001 1.27251099e-004 2.63028537e-006\n",
      " 0.00000000e+000 0.00000000e+000 5.84214403e-039 2.55323704e-001\n",
      " 1.24594434e-048 2.29043159e-002 4.43134187e-001 4.43134187e-001\n",
      " 2.78109258e-001 3.69718981e-024 5.57372645e-001 6.85630654e-004\n",
      " 3.01913069e-002 4.00847072e-001 8.63697880e-002 4.43134187e-001\n",
      " 7.31442544e-039 5.52480660e-001 1.17179661e-043 2.55323704e-001\n",
      " 7.51165258e-039 6.43611651e-003 7.26171516e-019 2.38953930e-032]\n",
      "selected index: [ 1  2  3  7  8 12 13]\n",
      "after transform: [[0.0000e+00 0.0000e+00 0.0000e+00 ... 1.2000e+01 1.2340e+03 8.0000e+01]\n",
      " [0.0000e+00 0.0000e+00 0.0000e+00 ... 0.0000e+00 5.7658e+04 1.9000e+03]\n",
      " [5.2000e+02 1.7450e+03 1.0000e+00 ... 2.5000e+01 4.5034e+04 2.2000e+01]\n",
      " ...\n",
      " [0.0000e+00 0.0000e+00 0.0000e+00 ... 0.0000e+00 4.8059e+04 5.5740e+03]\n",
      " [0.0000e+00 0.0000e+00 0.0000e+00 ... 0.0000e+00 5.1203e+04 1.2300e+02]\n",
      " [0.0000e+00 0.0000e+00 0.0000e+00 ... 0.0000e+00 4.8059e+04 5.6640e+03]]\n"
     ]
    }
   ],
   "source": [
    "print(\"before transform:\",X)\n",
    "selector=SelectKBest(score_func=chi2,k=7)\n",
    "fit = selector.fit(X,y)\n",
    "features = fit.transform(X)\n",
    "print(\"scores_:\",fit.scores_)\n",
    "print(\"pvalues_:\",fit.pvalues_)\n",
    "print(\"selected index:\",fit.get_support(True))\n",
    "print(\"after transform:\",fit.transform(X)) \n",
    "X = fit.transform(X)"
   ]
  },
  {
   "cell_type": "markdown",
   "metadata": {},
   "source": [
    "# (KNN-RF-ADA)_(DT-MLP)_MLP"
   ]
  },
  {
   "cell_type": "code",
   "execution_count": 17,
   "metadata": {},
   "outputs": [],
   "source": [
    "# Create Learners per layer\n",
    "layer_one_estimators = [\n",
    "                        ('knn_1', KNeighborsClassifier(n_neighbors=5, n_jobs=-1)),\n",
    "                        ('rn_1', RandomForestClassifier(random_state=0, n_jobs=-1, n_estimators=90, max_depth=19, \n",
    "                                                        min_samples_split=0.1)),\n",
    "                        ('ada_1', AdaBoostClassifier(random_state=0, learning_rate=0.1, n_estimators=1000))\n",
    "                       ]\n",
    "\n",
    "layer_two_estimators = [\n",
    "                        ('dt_2', DecisionTreeClassifier(max_depth=13, min_samples_split=10)),\n",
    "                        ('mlp_2', MLPClassifier(solver='adam', alpha=0.001, hidden_layer_sizes=20)),\n",
    "                       ]"
   ]
  },
  {
   "cell_type": "code",
   "execution_count": 18,
   "metadata": {},
   "outputs": [],
   "source": [
    "layer_two = StackingClassifier(estimators=layer_two_estimators, final_estimator=MLPClassifier())"
   ]
  },
  {
   "cell_type": "code",
   "execution_count": 19,
   "metadata": {},
   "outputs": [
    {
     "name": "stdout",
     "output_type": "stream",
     "text": [
      "  Accuracy Precision   Recall\n",
      "0    0.977  0.866071  0.92381\n"
     ]
    }
   ],
   "source": [
    "# Create Final model by \n",
    "clf = StackingClassifier(estimators=layer_one_estimators, final_estimator=layer_two)\n",
    "\n",
    "X_train, X_test, y_train, y_test = train_test_split(X, y, stratify=y, random_state=42)\n",
    "\n",
    "clf.fit(X_train, y_train)\n",
    "\n",
    "y_pred = clf.predict(X_test)\n",
    "\n",
    "acurcy = accuracy_score(y_test, y_pred)\n",
    "prec = precision_score(y_test, y_pred)\n",
    "recal = recall_score(y_test, y_pred)\n",
    "\n",
    "clf_Score = pd.DataFrame(columns=['Accuracy', 'Precision', 'Recall'])\n",
    "clf_Score.at[0, 'Accuracy'] = acurcy\n",
    "clf_Score.at[0, 'Precision'] = prec\n",
    "clf_Score.at[0, 'Recall'] = recal\n",
    "print(clf_Score)"
   ]
  },
  {
   "cell_type": "code",
   "execution_count": 20,
   "metadata": {},
   "outputs": [],
   "source": [
    "# clf_Score.to_csv('NSL_DOS_Stacking_level2_(KNN-RF-ADA)_(DT-MLP)_MLP_ChiSquared.csv')"
   ]
  },
  {
   "cell_type": "markdown",
   "metadata": {},
   "source": [
    "# (KNN-RF)_(DT-MLP)_MLP"
   ]
  },
  {
   "cell_type": "code",
   "execution_count": 21,
   "metadata": {},
   "outputs": [],
   "source": [
    "# Create Learners per layer\n",
    "layer_one_estimators = [\n",
    "                        ('knn_1', KNeighborsClassifier(n_neighbors=5, n_jobs=-1)),\n",
    "                        ('rn_1', RandomForestClassifier(random_state=0, n_jobs=-1, n_estimators=90, max_depth=19, \n",
    "                                                        min_samples_split=0.1))\n",
    "                       ]\n",
    "\n",
    "layer_two_estimators = [\n",
    "                        ('dt_2', DecisionTreeClassifier(max_depth=13, min_samples_split=10)),\n",
    "                        ('mlp_2', MLPClassifier(solver='adam', alpha=0.001, hidden_layer_sizes=20)),\n",
    "                       ]\n",
    "layer_two = StackingClassifier(estimators=layer_two_estimators, final_estimator=MLPClassifier())"
   ]
  },
  {
   "cell_type": "code",
   "execution_count": 22,
   "metadata": {},
   "outputs": [
    {
     "name": "stdout",
     "output_type": "stream",
     "text": [
      "  Accuracy Precision    Recall\n",
      "0    0.978  0.880734  0.914286\n"
     ]
    }
   ],
   "source": [
    "# Create Final model by \n",
    "clf = StackingClassifier(estimators=layer_one_estimators, final_estimator=layer_two)\n",
    "\n",
    "X_train, X_test, y_train, y_test = train_test_split(X, y, stratify=y, random_state=42)\n",
    "\n",
    "clf.fit(X_train, y_train)\n",
    "\n",
    "y_pred = clf.predict(X_test)\n",
    "\n",
    "acurcy = accuracy_score(y_test, y_pred)\n",
    "prec = precision_score(y_test, y_pred)\n",
    "recal = recall_score(y_test, y_pred)\n",
    "\n",
    "clf_Score = pd.DataFrame(columns=['Accuracy', 'Precision', 'Recall'])\n",
    "clf_Score.at[0, 'Accuracy'] = acurcy\n",
    "clf_Score.at[0, 'Precision'] = prec\n",
    "clf_Score.at[0, 'Recall'] = recal\n",
    "print(clf_Score)"
   ]
  },
  {
   "cell_type": "code",
   "execution_count": 23,
   "metadata": {},
   "outputs": [],
   "source": [
    "# clf_Score.to_csv('NSL_DOS_Stacking_level2_(KNN-RF)_(DT-MLP)_MLP_ChiSquared.csv')"
   ]
  },
  {
   "cell_type": "markdown",
   "metadata": {},
   "source": [
    "# (RF-MLP)_(DT-KNN)_MLP"
   ]
  },
  {
   "cell_type": "code",
   "execution_count": 24,
   "metadata": {},
   "outputs": [],
   "source": [
    "# Create Learners per layer\n",
    "layer_one_estimators = [\n",
    "                        ('rn_1', RandomForestClassifier(random_state=0, n_jobs=-1, n_estimators=90, max_depth=19, min_samples_split=0.1)),\n",
    "                        ('mlp_2', MLPClassifier(solver='adam', alpha=0.001, hidden_layer_sizes=20))\n",
    "                       ]\n",
    "\n",
    "layer_two_estimators = [\n",
    "                        ('dt_2', DecisionTreeClassifier(max_depth=13, min_samples_split=10)),\n",
    "                        ('knn_1', KNeighborsClassifier(n_neighbors=5, n_jobs=-1))\n",
    "                       ]\n",
    "layer_two = StackingClassifier(estimators=layer_two_estimators, final_estimator=MLPClassifier())"
   ]
  },
  {
   "cell_type": "code",
   "execution_count": 25,
   "metadata": {},
   "outputs": [
    {
     "name": "stderr",
     "output_type": "stream",
     "text": [
      "C:\\Users\\nayer\\Anaconda3\\lib\\site-packages\\sklearn\\neural_network\\_multilayer_perceptron.py:571: ConvergenceWarning: Stochastic Optimizer: Maximum iterations (200) reached and the optimization hasn't converged yet.\n",
      "  % self.max_iter, ConvergenceWarning)\n"
     ]
    },
    {
     "name": "stdout",
     "output_type": "stream",
     "text": [
      "  Accuracy Precision    Recall\n",
      "0    0.956  0.850575  0.704762\n"
     ]
    }
   ],
   "source": [
    "# Create Final model by \n",
    "clf = StackingClassifier(estimators=layer_one_estimators, final_estimator=layer_two)\n",
    "\n",
    "X_train, X_test, y_train, y_test = train_test_split(X, y, stratify=y, random_state=42)\n",
    "\n",
    "clf.fit(X_train, y_train)\n",
    "\n",
    "y_pred = clf.predict(X_test)\n",
    "\n",
    "acurcy = accuracy_score(y_test, y_pred)\n",
    "prec = precision_score(y_test, y_pred)\n",
    "recal = recall_score(y_test, y_pred)\n",
    "\n",
    "clf_Score = pd.DataFrame(columns=['Accuracy', 'Precision', 'Recall'])\n",
    "clf_Score.at[0, 'Accuracy'] = acurcy\n",
    "clf_Score.at[0, 'Precision'] = prec\n",
    "clf_Score.at[0, 'Recall'] = recal\n",
    "print(clf_Score)"
   ]
  },
  {
   "cell_type": "code",
   "execution_count": 26,
   "metadata": {},
   "outputs": [],
   "source": [
    "# clf_Score.to_csv('NSL_DOS_Stacking_level2_(RF-MLP)_(DT-KNN)_MLP_ChiSquared.csv')"
   ]
  },
  {
   "cell_type": "markdown",
   "metadata": {},
   "source": [
    "# (KNN-RF)_(DT-MLP)_DT"
   ]
  },
  {
   "cell_type": "code",
   "execution_count": 27,
   "metadata": {},
   "outputs": [],
   "source": [
    "# Create Learners per layer\n",
    "layer_one_estimators = [\n",
    "                        ('knn_1', KNeighborsClassifier(n_neighbors=5, n_jobs=-1)),\n",
    "                        ('rn_1', RandomForestClassifier(random_state=0, n_jobs=-1, n_estimators=90, max_depth=19, \n",
    "                                                        min_samples_split=0.1))\n",
    "                       ]\n",
    "\n",
    "layer_two_estimators = [\n",
    "                        ('dt_2', DecisionTreeClassifier(max_depth=13, min_samples_split=10)),\n",
    "                        ('mlp_2', MLPClassifier(solver='adam', alpha=0.001, hidden_layer_sizes=20)),\n",
    "                       ]"
   ]
  },
  {
   "cell_type": "code",
   "execution_count": 28,
   "metadata": {},
   "outputs": [],
   "source": [
    "layer_two = StackingClassifier(estimators=layer_two_estimators, final_estimator=DecisionTreeClassifier())"
   ]
  },
  {
   "cell_type": "code",
   "execution_count": 29,
   "metadata": {},
   "outputs": [
    {
     "name": "stdout",
     "output_type": "stream",
     "text": [
      "  Accuracy Precision    Recall\n",
      "0    0.964   0.80531  0.866667\n"
     ]
    }
   ],
   "source": [
    "# Create Final model by \n",
    "clf = StackingClassifier(estimators=layer_one_estimators, final_estimator=layer_two)\n",
    "\n",
    "X_train, X_test, y_train, y_test = train_test_split(X, y, stratify=y, random_state=42)\n",
    "\n",
    "clf.fit(X_train, y_train)\n",
    "\n",
    "y_pred = clf.predict(X_test)\n",
    "\n",
    "acurcy = accuracy_score(y_test, y_pred)\n",
    "prec = precision_score(y_test, y_pred)\n",
    "recal = recall_score(y_test, y_pred)\n",
    "\n",
    "clf_Score = pd.DataFrame(columns=['Accuracy', 'Precision', 'Recall'])\n",
    "clf_Score.at[0, 'Accuracy'] = acurcy\n",
    "clf_Score.at[0, 'Precision'] = prec\n",
    "clf_Score.at[0, 'Recall'] = recal\n",
    "print(clf_Score)"
   ]
  },
  {
   "cell_type": "code",
   "execution_count": 30,
   "metadata": {},
   "outputs": [],
   "source": [
    "# clf_Score.to_csv('NSL_DOS_Stacking_level2_(KNN-RF)_(DT-MLP)_DT_ChiSquared.csv')"
   ]
  },
  {
   "cell_type": "markdown",
   "metadata": {},
   "source": [
    "# (ADA-MLP)_(DT-RF)_MLP"
   ]
  },
  {
   "cell_type": "code",
   "execution_count": 31,
   "metadata": {},
   "outputs": [],
   "source": [
    "# Create Learners per layer\n",
    "layer_one_estimators = [\n",
    "                        ('ada_1', AdaBoostClassifier(random_state=0, learning_rate=0.1, n_estimators=1000)),\n",
    "                        ('mlp_2', MLPClassifier(solver='adam', alpha=0.001, hidden_layer_sizes=20))\n",
    "                       ]\n",
    "\n",
    "layer_two_estimators = [\n",
    "                        ('dt_2', DecisionTreeClassifier(max_depth=13, min_samples_split=10)),\n",
    "                        ('rn_1', RandomForestClassifier(random_state=0, n_jobs=-1, n_estimators=90, max_depth=19, \n",
    "                                                        min_samples_split=0.1))\n",
    "                       ]\n",
    "layer_two = StackingClassifier(estimators=layer_two_estimators, final_estimator=MLPClassifier())"
   ]
  },
  {
   "cell_type": "code",
   "execution_count": 32,
   "metadata": {},
   "outputs": [
    {
     "name": "stdout",
     "output_type": "stream",
     "text": [
      "  Accuracy Precision    Recall\n",
      "0    0.971      0.88  0.838095\n"
     ]
    }
   ],
   "source": [
    "# Create Final model by \n",
    "clf = StackingClassifier(estimators=layer_one_estimators, final_estimator=layer_two)\n",
    "\n",
    "X_train, X_test, y_train, y_test = train_test_split(X, y, stratify=y, random_state=42)\n",
    "\n",
    "clf.fit(X_train, y_train)\n",
    "\n",
    "y_pred = clf.predict(X_test)\n",
    "\n",
    "acurcy = accuracy_score(y_test, y_pred)\n",
    "prec = precision_score(y_test, y_pred)\n",
    "recal = recall_score(y_test, y_pred)\n",
    "\n",
    "clf_Score = pd.DataFrame(columns=['Accuracy', 'Precision', 'Recall'])\n",
    "clf_Score.at[0, 'Accuracy'] = acurcy\n",
    "clf_Score.at[0, 'Precision'] = prec\n",
    "clf_Score.at[0, 'Recall'] = recal\n",
    "print(clf_Score)"
   ]
  },
  {
   "cell_type": "code",
   "execution_count": 33,
   "metadata": {},
   "outputs": [],
   "source": [
    "# clf_Score.to_csv('NSL_DOS_Stacking_level2_(ADA-MLP)_(DT-RF)_MLP_ChiSquared.csv')"
   ]
  },
  {
   "cell_type": "markdown",
   "metadata": {},
   "source": [
    "# (MLP-RF)_(DT-KNN)_DT"
   ]
  },
  {
   "cell_type": "code",
   "execution_count": 34,
   "metadata": {},
   "outputs": [],
   "source": [
    "# Create Learners per layer\n",
    "layer_one_estimators = [\n",
    "                        ('rn_1', RandomForestClassifier(random_state=0, n_jobs=-1, n_estimators=90, max_depth=19, \n",
    "                                                        min_samples_split=0.1)),\n",
    "                        ('mlp_2', MLPClassifier(solver='adam', alpha=0.001, hidden_layer_sizes=20))\n",
    "                       ]\n",
    "\n",
    "layer_two_estimators = [\n",
    "                        ('knn_1', KNeighborsClassifier(n_neighbors=5, n_jobs=-1)),\n",
    "                        ('dt_2', DecisionTreeClassifier(max_depth=13, min_samples_split=10))\n",
    "                       ]"
   ]
  },
  {
   "cell_type": "code",
   "execution_count": 35,
   "metadata": {},
   "outputs": [],
   "source": [
    "layer_two = StackingClassifier(estimators=layer_two_estimators, final_estimator=DecisionTreeClassifier())"
   ]
  },
  {
   "cell_type": "code",
   "execution_count": 36,
   "metadata": {},
   "outputs": [
    {
     "name": "stderr",
     "output_type": "stream",
     "text": [
      "C:\\Users\\nayer\\Anaconda3\\lib\\site-packages\\sklearn\\neural_network\\_multilayer_perceptron.py:571: ConvergenceWarning: Stochastic Optimizer: Maximum iterations (200) reached and the optimization hasn't converged yet.\n",
      "  % self.max_iter, ConvergenceWarning)\n"
     ]
    },
    {
     "name": "stdout",
     "output_type": "stream",
     "text": [
      "  Accuracy Precision Recall\n",
      "0     0.96  0.815534    0.8\n"
     ]
    }
   ],
   "source": [
    "# Create Final model by \n",
    "clf = StackingClassifier(estimators=layer_one_estimators, final_estimator=layer_two)\n",
    "\n",
    "X_train, X_test, y_train, y_test = train_test_split(X, y, stratify=y, random_state=42)\n",
    "\n",
    "clf.fit(X_train, y_train)\n",
    "\n",
    "y_pred = clf.predict(X_test)\n",
    "\n",
    "acurcy = accuracy_score(y_test, y_pred)\n",
    "prec = precision_score(y_test, y_pred)\n",
    "recal = recall_score(y_test, y_pred)\n",
    "\n",
    "clf_Score = pd.DataFrame(columns=['Accuracy', 'Precision', 'Recall'])\n",
    "clf_Score.at[0, 'Accuracy'] = acurcy\n",
    "clf_Score.at[0, 'Precision'] = prec\n",
    "clf_Score.at[0, 'Recall'] = recal\n",
    "print(clf_Score)"
   ]
  },
  {
   "cell_type": "code",
   "execution_count": 37,
   "metadata": {},
   "outputs": [],
   "source": [
    "# clf_Score.to_csv('NSL_DOS_Stacking_level2_(MLP-RF)_(DT-KNN)_DT_ChiSquaredT.csv')"
   ]
  },
  {
   "cell_type": "markdown",
   "metadata": {},
   "source": [
    "# (KNN-RF)_(DT-MLP)_KNN"
   ]
  },
  {
   "cell_type": "code",
   "execution_count": 38,
   "metadata": {},
   "outputs": [],
   "source": [
    "# Create Learners per layer\n",
    "layer_one_estimators = [\n",
    "                        ('knn_1', KNeighborsClassifier(n_neighbors=5, n_jobs=-1)),\n",
    "                        ('rn_1', RandomForestClassifier(random_state=0, n_jobs=-1, n_estimators=90, max_depth=19, \n",
    "                                                        min_samples_split=0.1))\n",
    "                       ]\n",
    "\n",
    "layer_two_estimators = [\n",
    "                        ('dt_2', DecisionTreeClassifier(max_depth=13, min_samples_split=10)),\n",
    "                        ('mlp_2', MLPClassifier(solver='adam', alpha=0.001, hidden_layer_sizes=20)),\n",
    "                       ]"
   ]
  },
  {
   "cell_type": "code",
   "execution_count": 39,
   "metadata": {},
   "outputs": [],
   "source": [
    "layer_two = StackingClassifier(estimators=layer_two_estimators, final_estimator=KNeighborsClassifier())"
   ]
  },
  {
   "cell_type": "code",
   "execution_count": 40,
   "metadata": {},
   "outputs": [
    {
     "name": "stdout",
     "output_type": "stream",
     "text": [
      "  Accuracy Precision    Recall\n",
      "0    0.975  0.863636  0.904762\n"
     ]
    }
   ],
   "source": [
    "# Create Final model by \n",
    "clf = StackingClassifier(estimators=layer_one_estimators, final_estimator=layer_two)\n",
    "\n",
    "X_train, X_test, y_train, y_test = train_test_split(X, y, stratify=y, random_state=42)\n",
    "\n",
    "clf.fit(X_train, y_train)\n",
    "\n",
    "y_pred = clf.predict(X_test)\n",
    "\n",
    "acurcy = accuracy_score(y_test, y_pred)\n",
    "prec = precision_score(y_test, y_pred)\n",
    "recal = recall_score(y_test, y_pred)\n",
    "\n",
    "clf_Score = pd.DataFrame(columns=['Accuracy', 'Precision', 'Recall'])\n",
    "clf_Score.at[0, 'Accuracy'] = acurcy\n",
    "clf_Score.at[0, 'Precision'] = prec\n",
    "clf_Score.at[0, 'Recall'] = recal\n",
    "print(clf_Score)"
   ]
  },
  {
   "cell_type": "code",
   "execution_count": 41,
   "metadata": {},
   "outputs": [],
   "source": [
    "# clf_Score.to_csv('NSL_DOS_Stacking_level2_(KNN-RF)_(DT-MLP)_KNN_ChiSquared.csv')"
   ]
  },
  {
   "cell_type": "markdown",
   "metadata": {},
   "source": [
    "# (MLP-RF)_(DT-KNN)_KNN"
   ]
  },
  {
   "cell_type": "code",
   "execution_count": 42,
   "metadata": {},
   "outputs": [],
   "source": [
    "# Create Learners per layer\n",
    "layer_one_estimators = [\n",
    "                        ('mlp_2', MLPClassifier(solver='adam', alpha=0.001, hidden_layer_sizes=20)),\n",
    "                        ('rn_1', RandomForestClassifier(random_state=0, n_jobs=-1, n_estimators=90, max_depth=19, \n",
    "                                                        min_samples_split=0.1))\n",
    "                       ]\n",
    "\n",
    "layer_two_estimators = [\n",
    "                        ('dt_2', DecisionTreeClassifier(max_depth=13, min_samples_split=10)),\n",
    "                        ('knn_1', KNeighborsClassifier(n_neighbors=5, n_jobs=-1))\n",
    "                       ]"
   ]
  },
  {
   "cell_type": "code",
   "execution_count": 43,
   "metadata": {},
   "outputs": [],
   "source": [
    "layer_two = StackingClassifier(estimators=layer_two_estimators, final_estimator=KNeighborsClassifier())"
   ]
  },
  {
   "cell_type": "code",
   "execution_count": 44,
   "metadata": {},
   "outputs": [
    {
     "name": "stdout",
     "output_type": "stream",
     "text": [
      "  Accuracy Precision    Recall\n",
      "0    0.951  0.841463  0.657143\n"
     ]
    }
   ],
   "source": [
    "# Create Final model by \n",
    "clf = StackingClassifier(estimators=layer_one_estimators, final_estimator=layer_two)\n",
    "\n",
    "X_train, X_test, y_train, y_test = train_test_split(X, y, stratify=y, random_state=42)\n",
    "\n",
    "clf.fit(X_train, y_train)\n",
    "\n",
    "y_pred = clf.predict(X_test)\n",
    "\n",
    "acurcy = accuracy_score(y_test, y_pred)\n",
    "prec = precision_score(y_test, y_pred)\n",
    "recal = recall_score(y_test, y_pred)\n",
    "\n",
    "clf_Score = pd.DataFrame(columns=['Accuracy', 'Precision', 'Recall'])\n",
    "clf_Score.at[0, 'Accuracy'] = acurcy\n",
    "clf_Score.at[0, 'Precision'] = prec\n",
    "clf_Score.at[0, 'Recall'] = recal\n",
    "print(clf_Score)"
   ]
  },
  {
   "cell_type": "code",
   "execution_count": 45,
   "metadata": {},
   "outputs": [],
   "source": [
    "# clf_Score.to_csv('NSL_DOS_Stacking_level2_(MLP-RF)_(DT-KNN)_KNN_ChiSquared.csv')"
   ]
  },
  {
   "cell_type": "markdown",
   "metadata": {},
   "source": [
    "# (KNN-MLP)_(DT-RF)_KNN"
   ]
  },
  {
   "cell_type": "code",
   "execution_count": 46,
   "metadata": {},
   "outputs": [],
   "source": [
    "# Create Learners per layer\n",
    "layer_one_estimators = [\n",
    "                        ('knn_1', KNeighborsClassifier(n_neighbors=5, n_jobs=-1)),\n",
    "                        ('mlp_2', MLPClassifier(solver='adam', alpha=0.001, hidden_layer_sizes=20))\n",
    "                       ]\n",
    "\n",
    "layer_two_estimators = [\n",
    "                        ('dt_2', DecisionTreeClassifier(max_depth=13, min_samples_split=10)),\n",
    "                        ('rn_1', RandomForestClassifier(random_state=0, n_jobs=-1, n_estimators=90, max_depth=19, \n",
    "                                                        min_samples_split=0.1))\n",
    "                       ]"
   ]
  },
  {
   "cell_type": "code",
   "execution_count": 47,
   "metadata": {},
   "outputs": [],
   "source": [
    "layer_two = StackingClassifier(estimators=layer_two_estimators, final_estimator=KNeighborsClassifier())"
   ]
  },
  {
   "cell_type": "code",
   "execution_count": 48,
   "metadata": {},
   "outputs": [
    {
     "name": "stderr",
     "output_type": "stream",
     "text": [
      "C:\\Users\\nayer\\Anaconda3\\lib\\site-packages\\sklearn\\neural_network\\_multilayer_perceptron.py:571: ConvergenceWarning: Stochastic Optimizer: Maximum iterations (200) reached and the optimization hasn't converged yet.\n",
      "  % self.max_iter, ConvergenceWarning)\n"
     ]
    },
    {
     "name": "stdout",
     "output_type": "stream",
     "text": [
      "  Accuracy Precision     Recall\n",
      "0      0.9  0.857143  0.0571429\n"
     ]
    }
   ],
   "source": [
    "# Create Final model by \n",
    "clf = StackingClassifier(estimators=layer_one_estimators, final_estimator=layer_two)\n",
    "\n",
    "X_train, X_test, y_train, y_test = train_test_split(X, y, stratify=y, random_state=42)\n",
    "\n",
    "clf.fit(X_train, y_train)\n",
    "\n",
    "y_pred = clf.predict(X_test)\n",
    "\n",
    "acurcy = accuracy_score(y_test, y_pred)\n",
    "prec = precision_score(y_test, y_pred)\n",
    "recal = recall_score(y_test, y_pred)\n",
    "\n",
    "clf_Score = pd.DataFrame(columns=['Accuracy', 'Precision', 'Recall'])\n",
    "clf_Score.at[0, 'Accuracy'] = acurcy\n",
    "clf_Score.at[0, 'Precision'] = prec\n",
    "clf_Score.at[0, 'Recall'] = recal\n",
    "print(clf_Score)"
   ]
  },
  {
   "cell_type": "code",
   "execution_count": 49,
   "metadata": {},
   "outputs": [],
   "source": [
    "# clf_Score.to_csv('NSL_DOS_Stacking_level2_(KNN-MLP)_(DT-RF)_KNN_ChiSquared.csv')"
   ]
  },
  {
   "cell_type": "markdown",
   "metadata": {},
   "source": [
    "# (KNN-RF)_(DT-MLP)_RF"
   ]
  },
  {
   "cell_type": "code",
   "execution_count": 50,
   "metadata": {},
   "outputs": [],
   "source": [
    "# Create Learners per layer\n",
    "layer_one_estimators = [\n",
    "                        ('knn_1', KNeighborsClassifier(n_neighbors=5, n_jobs=-1)),\n",
    "                        ('rn_1', RandomForestClassifier(random_state=0, n_jobs=-1, n_estimators=90, max_depth=19, \n",
    "                                                        min_samples_split=0.1))\n",
    "                       ]\n",
    "\n",
    "layer_two_estimators = [\n",
    "                        ('dt_2', DecisionTreeClassifier(max_depth=13, min_samples_split=10)),\n",
    "                        ('mlp_2', MLPClassifier(solver='adam', alpha=0.001, hidden_layer_sizes=20)),\n",
    "                       ]"
   ]
  },
  {
   "cell_type": "code",
   "execution_count": 51,
   "metadata": {},
   "outputs": [],
   "source": [
    "layer_two = StackingClassifier(estimators=layer_two_estimators, final_estimator=RandomForestClassifier())"
   ]
  },
  {
   "cell_type": "code",
   "execution_count": 52,
   "metadata": {},
   "outputs": [
    {
     "name": "stdout",
     "output_type": "stream",
     "text": [
      "  Accuracy Precision   Recall\n",
      "0    0.971  0.851852  0.87619\n"
     ]
    }
   ],
   "source": [
    "# Create Final model by \n",
    "clf = StackingClassifier(estimators=layer_one_estimators, final_estimator=layer_two)\n",
    "\n",
    "X_train, X_test, y_train, y_test = train_test_split(X, y, stratify=y, random_state=42)\n",
    "\n",
    "clf.fit(X_train, y_train)\n",
    "\n",
    "y_pred = clf.predict(X_test)\n",
    "\n",
    "acurcy = accuracy_score(y_test, y_pred)\n",
    "prec = precision_score(y_test, y_pred)\n",
    "recal = recall_score(y_test, y_pred)\n",
    "\n",
    "clf_Score = pd.DataFrame(columns=['Accuracy', 'Precision', 'Recall'])\n",
    "clf_Score.at[0, 'Accuracy'] = acurcy\n",
    "clf_Score.at[0, 'Precision'] = prec\n",
    "clf_Score.at[0, 'Recall'] = recal\n",
    "print(clf_Score)"
   ]
  },
  {
   "cell_type": "code",
   "execution_count": 53,
   "metadata": {},
   "outputs": [],
   "source": [
    "# clf_Score.to_csv('NSL_DOS_Stacking_level2_(KNN-RF)_(DT-MLP)_RF_ChiSquared.csv')"
   ]
  },
  {
   "cell_type": "markdown",
   "metadata": {},
   "source": [
    "# (MLP-RF)_(DT-KNN)_RF"
   ]
  },
  {
   "cell_type": "code",
   "execution_count": 54,
   "metadata": {},
   "outputs": [],
   "source": [
    "# Create Learners per layer\n",
    "layer_one_estimators = [\n",
    "                        ('mlp_2', MLPClassifier(solver='adam', alpha=0.001, hidden_layer_sizes=20)),\n",
    "                        ('rn_1', RandomForestClassifier(random_state=0, n_jobs=-1, n_estimators=90, max_depth=19, \n",
    "                                                        min_samples_split=0.1))\n",
    "                       ]\n",
    "\n",
    "layer_two_estimators = [\n",
    "                        ('dt_2', DecisionTreeClassifier(max_depth=13, min_samples_split=10)),\n",
    "                        ('knn_1', KNeighborsClassifier(n_neighbors=5, n_jobs=-1))\n",
    "                       ]"
   ]
  },
  {
   "cell_type": "code",
   "execution_count": 55,
   "metadata": {},
   "outputs": [],
   "source": [
    "layer_two = StackingClassifier(estimators=layer_two_estimators, final_estimator=RandomForestClassifier())"
   ]
  },
  {
   "cell_type": "code",
   "execution_count": 56,
   "metadata": {},
   "outputs": [
    {
     "name": "stderr",
     "output_type": "stream",
     "text": [
      "C:\\Users\\nayer\\Anaconda3\\lib\\site-packages\\sklearn\\neural_network\\_multilayer_perceptron.py:571: ConvergenceWarning: Stochastic Optimizer: Maximum iterations (200) reached and the optimization hasn't converged yet.\n",
      "  % self.max_iter, ConvergenceWarning)\n"
     ]
    },
    {
     "name": "stdout",
     "output_type": "stream",
     "text": [
      "  Accuracy Precision Recall\n",
      "0    0.948  0.730435    0.8\n"
     ]
    }
   ],
   "source": [
    "# Create Final model by \n",
    "clf = StackingClassifier(estimators=layer_one_estimators, final_estimator=layer_two)\n",
    "\n",
    "X_train, X_test, y_train, y_test = train_test_split(X, y, stratify=y, random_state=42)\n",
    "\n",
    "clf.fit(X_train, y_train)\n",
    "\n",
    "y_pred = clf.predict(X_test)\n",
    "\n",
    "acurcy = accuracy_score(y_test, y_pred)\n",
    "prec = precision_score(y_test, y_pred)\n",
    "recal = recall_score(y_test, y_pred)\n",
    "\n",
    "clf_Score = pd.DataFrame(columns=['Accuracy', 'Precision', 'Recall'])\n",
    "clf_Score.at[0, 'Accuracy'] = acurcy\n",
    "clf_Score.at[0, 'Precision'] = prec\n",
    "clf_Score.at[0, 'Recall'] = recal\n",
    "print(clf_Score)"
   ]
  },
  {
   "cell_type": "code",
   "execution_count": 57,
   "metadata": {},
   "outputs": [],
   "source": [
    "# clf_Score.to_csv('NSL_DOS_Stacking_level2_(MLP-RF)_(DT-KNN)_RF_ChiSquared.csv')"
   ]
  },
  {
   "cell_type": "markdown",
   "metadata": {},
   "source": [
    "# (KNN-MLP)_(DT-RF)_RF"
   ]
  },
  {
   "cell_type": "code",
   "execution_count": 58,
   "metadata": {},
   "outputs": [],
   "source": [
    "# Create Learners per layer\n",
    "layer_one_estimators = [\n",
    "                        ('knn_1', KNeighborsClassifier(n_neighbors=5, n_jobs=-1)),\n",
    "                        ('mlp_2', MLPClassifier(solver='adam', alpha=0.001, hidden_layer_sizes=20))\n",
    "                       ]\n",
    "\n",
    "layer_two_estimators = [\n",
    "                        ('dt_2', DecisionTreeClassifier(max_depth=13, min_samples_split=10)),\n",
    "                        ('rn_1', RandomForestClassifier(random_state=0, n_jobs=-1, n_estimators=90, max_depth=19, \n",
    "                                                        min_samples_split=0.1))\n",
    "                       ]"
   ]
  },
  {
   "cell_type": "code",
   "execution_count": 59,
   "metadata": {},
   "outputs": [],
   "source": [
    "layer_two = StackingClassifier(estimators=layer_two_estimators, final_estimator=RandomForestClassifier())"
   ]
  },
  {
   "cell_type": "code",
   "execution_count": 60,
   "metadata": {},
   "outputs": [
    {
     "name": "stderr",
     "output_type": "stream",
     "text": [
      "C:\\Users\\nayer\\Anaconda3\\lib\\site-packages\\sklearn\\neural_network\\_multilayer_perceptron.py:571: ConvergenceWarning: Stochastic Optimizer: Maximum iterations (200) reached and the optimization hasn't converged yet.\n",
      "  % self.max_iter, ConvergenceWarning)\n"
     ]
    },
    {
     "name": "stdout",
     "output_type": "stream",
     "text": [
      "  Accuracy Precision    Recall\n",
      "0    0.907     0.875  0.133333\n"
     ]
    }
   ],
   "source": [
    "# Create Final model by \n",
    "clf = StackingClassifier(estimators=layer_one_estimators, final_estimator=layer_two)\n",
    "\n",
    "X_train, X_test, y_train, y_test = train_test_split(X, y, stratify=y, random_state=42)\n",
    "\n",
    "clf.fit(X_train, y_train)\n",
    "\n",
    "y_pred = clf.predict(X_test)\n",
    "\n",
    "acurcy = accuracy_score(y_test, y_pred)\n",
    "prec = precision_score(y_test, y_pred)\n",
    "recal = recall_score(y_test, y_pred)\n",
    "\n",
    "clf_Score = pd.DataFrame(columns=['Accuracy', 'Precision', 'Recall'])\n",
    "clf_Score.at[0, 'Accuracy'] = acurcy\n",
    "clf_Score.at[0, 'Precision'] = prec\n",
    "clf_Score.at[0, 'Recall'] = recal\n",
    "print(clf_Score)"
   ]
  },
  {
   "cell_type": "code",
   "execution_count": 61,
   "metadata": {},
   "outputs": [],
   "source": [
    "# clf_Score.to_csv('NSL_DOS_Stacking_level2_(KNN-MLP)_(DT-RF)_RF_ChiSquared.csv')"
   ]
  },
  {
   "cell_type": "markdown",
   "metadata": {},
   "source": [
    "# (KNN-RF)_(DT-MLP)_ADA"
   ]
  },
  {
   "cell_type": "code",
   "execution_count": 62,
   "metadata": {},
   "outputs": [],
   "source": [
    "# Create Learners per layer\n",
    "layer_one_estimators = [\n",
    "                        ('knn_1', KNeighborsClassifier(n_neighbors=5, n_jobs=-1)),\n",
    "                        ('rn_1', RandomForestClassifier(random_state=0, n_jobs=-1, n_estimators=90, max_depth=19, \n",
    "                                                        min_samples_split=0.1))\n",
    "                       ]\n",
    "\n",
    "layer_two_estimators = [\n",
    "                        ('dt_2', DecisionTreeClassifier(max_depth=13, min_samples_split=10)),\n",
    "                        ('mlp_2', MLPClassifier(solver='adam', alpha=0.001, hidden_layer_sizes=20)),\n",
    "                       ]"
   ]
  },
  {
   "cell_type": "code",
   "execution_count": 63,
   "metadata": {},
   "outputs": [],
   "source": [
    "layer_two = StackingClassifier(estimators=layer_two_estimators, final_estimator=AdaBoostClassifier())"
   ]
  },
  {
   "cell_type": "code",
   "execution_count": 64,
   "metadata": {},
   "outputs": [
    {
     "name": "stdout",
     "output_type": "stream",
     "text": [
      "  Accuracy Precision    Recall\n",
      "0    0.974  0.849558  0.914286\n"
     ]
    }
   ],
   "source": [
    "# Create Final model by \n",
    "clf = StackingClassifier(estimators=layer_one_estimators, final_estimator=layer_two)\n",
    "\n",
    "X_train, X_test, y_train, y_test = train_test_split(X, y, stratify=y, random_state=42)\n",
    "\n",
    "clf.fit(X_train, y_train)\n",
    "\n",
    "y_pred = clf.predict(X_test)\n",
    "\n",
    "acurcy = accuracy_score(y_test, y_pred)\n",
    "prec = precision_score(y_test, y_pred)\n",
    "recal = recall_score(y_test, y_pred)\n",
    "\n",
    "clf_Score = pd.DataFrame(columns=['Accuracy', 'Precision', 'Recall'])\n",
    "clf_Score.at[0, 'Accuracy'] = acurcy\n",
    "clf_Score.at[0, 'Precision'] = prec\n",
    "clf_Score.at[0, 'Recall'] = recal\n",
    "print(clf_Score)"
   ]
  },
  {
   "cell_type": "code",
   "execution_count": 65,
   "metadata": {},
   "outputs": [],
   "source": [
    "# clf_Score.to_csv('NSL_DOS_Stacking_level2_(KNN-RF)_(DT-MLP)_ADA_ChiSquared.csv')"
   ]
  },
  {
   "cell_type": "markdown",
   "metadata": {},
   "source": [
    "# (MLP-RF)_(DT-KNN)_ADA"
   ]
  },
  {
   "cell_type": "code",
   "execution_count": 66,
   "metadata": {},
   "outputs": [],
   "source": [
    "# Create Learners per layer\n",
    "layer_one_estimators = [\n",
    "                        ('mlp_2', MLPClassifier(solver='adam', alpha=0.001, hidden_layer_sizes=20)),\n",
    "                        ('rn_1', RandomForestClassifier(random_state=0, n_jobs=-1, n_estimators=90, max_depth=19, \n",
    "                                                        min_samples_split=0.1))\n",
    "                       ]\n",
    "\n",
    "layer_two_estimators = [\n",
    "                        ('dt_2', DecisionTreeClassifier(max_depth=13, min_samples_split=10)),\n",
    "                        ('knn_1', KNeighborsClassifier(n_neighbors=5, n_jobs=-1))\n",
    "                       ]"
   ]
  },
  {
   "cell_type": "code",
   "execution_count": 67,
   "metadata": {},
   "outputs": [],
   "source": [
    "layer_two = StackingClassifier(estimators=layer_two_estimators, final_estimator=AdaBoostClassifier())"
   ]
  },
  {
   "cell_type": "code",
   "execution_count": 68,
   "metadata": {
    "scrolled": true
   },
   "outputs": [
    {
     "name": "stdout",
     "output_type": "stream",
     "text": [
      "  Accuracy Precision    Recall\n",
      "0    0.559  0.191176  0.990476\n"
     ]
    }
   ],
   "source": [
    "# Create Final model by \n",
    "clf = StackingClassifier(estimators=layer_one_estimators, final_estimator=layer_two)\n",
    "\n",
    "X_train, X_test, y_train, y_test = train_test_split(X, y, stratify=y, random_state=42)\n",
    "\n",
    "clf.fit(X_train, y_train)\n",
    "\n",
    "y_pred = clf.predict(X_test)\n",
    "\n",
    "acurcy = accuracy_score(y_test, y_pred)\n",
    "prec = precision_score(y_test, y_pred)\n",
    "recal = recall_score(y_test, y_pred)\n",
    "\n",
    "clf_Score = pd.DataFrame(columns=['Accuracy', 'Precision', 'Recall'])\n",
    "clf_Score.at[0, 'Accuracy'] = acurcy\n",
    "clf_Score.at[0, 'Precision'] = prec\n",
    "clf_Score.at[0, 'Recall'] = recal\n",
    "print(clf_Score)"
   ]
  },
  {
   "cell_type": "code",
   "execution_count": 69,
   "metadata": {},
   "outputs": [],
   "source": [
    "# clf_Score.to_csv('NSL_DOS_Stacking_level2_(MLP-RF)_(DT-KNN)_ADA_ChiSquared.csv')"
   ]
  }
 ],
 "metadata": {
  "kernelspec": {
   "display_name": "Python 3",
   "language": "python",
   "name": "python3"
  },
  "language_info": {
   "codemirror_mode": {
    "name": "ipython",
    "version": 3
   },
   "file_extension": ".py",
   "mimetype": "text/x-python",
   "name": "python",
   "nbconvert_exporter": "python",
   "pygments_lexer": "ipython3",
   "version": "3.7.4"
  }
 },
 "nbformat": 4,
 "nbformat_minor": 4
}
