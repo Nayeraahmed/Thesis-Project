{
 "cells": [
  {
   "cell_type": "code",
   "execution_count": 45,
   "metadata": {},
   "outputs": [],
   "source": [
    "import pandas as pd\n",
    "import numpy as np"
   ]
  },
  {
   "cell_type": "code",
   "execution_count": 46,
   "metadata": {},
   "outputs": [],
   "source": [
    "from sklearn.model_selection import cross_val_score\n",
    "from sklearn.model_selection import cross_validate\n",
    "from sklearn.feature_selection import SelectKBest\n",
    "from sklearn.feature_selection import f_classif\n",
    "from sklearn.metrics import fbeta_score, make_scorer\n",
    "from sklearn.metrics import make_scorer, accuracy_score, precision_score, recall_score, f1_score\n"
   ]
  },
  {
   "cell_type": "markdown",
   "metadata": {},
   "source": [
    "# Reading Data"
   ]
  },
  {
   "cell_type": "code",
   "execution_count": 47,
   "metadata": {
    "scrolled": true
   },
   "outputs": [],
   "source": [
    "df = pd.read_csv('../Dataset/NSL_new.csv')"
   ]
  },
  {
   "cell_type": "code",
   "execution_count": 48,
   "metadata": {},
   "outputs": [
    {
     "name": "stdout",
     "output_type": "stream",
     "text": [
      "(113270, 123)\n"
     ]
    }
   ],
   "source": [
    "df = df.drop( df[ (df.label != \"normal\") & (df.label != \"neptune\") & (df.label != \"back\") & (df.label != \"land\") & (df.label != \"pod\") & (df.label != \"smurf\") & (df.label != \"teardrop\") & (df.label != \"teardrop\") & (df.label != \"mailbomb\") & (df.label != \"apache2\") & (df.label != \"processtable\") & (df.label != \"udpstorm\") & (df.label != \"worm\")].index )\n",
    "print(df.shape)\n",
    "\n"
   ]
  },
  {
   "cell_type": "code",
   "execution_count": 49,
   "metadata": {},
   "outputs": [],
   "source": [
    "df = df.sample(n=8000)"
   ]
  },
  {
   "cell_type": "code",
   "execution_count": 50,
   "metadata": {},
   "outputs": [
    {
     "data": {
      "text/html": [
       "<div>\n",
       "<style scoped>\n",
       "    .dataframe tbody tr th:only-of-type {\n",
       "        vertical-align: middle;\n",
       "    }\n",
       "\n",
       "    .dataframe tbody tr th {\n",
       "        vertical-align: top;\n",
       "    }\n",
       "\n",
       "    .dataframe thead th {\n",
       "        text-align: right;\n",
       "    }\n",
       "</style>\n",
       "<table border=\"1\" class=\"dataframe\">\n",
       "  <thead>\n",
       "    <tr style=\"text-align: right;\">\n",
       "      <th></th>\n",
       "      <th>duration</th>\n",
       "      <th>src_bytes</th>\n",
       "      <th>dst_bytes</th>\n",
       "      <th>land</th>\n",
       "      <th>wrong_fragment</th>\n",
       "      <th>urgent</th>\n",
       "      <th>hot</th>\n",
       "      <th>num_failed_logins</th>\n",
       "      <th>logged_in</th>\n",
       "      <th>num_compromised</th>\n",
       "      <th>...</th>\n",
       "      <th>flag_RSTO</th>\n",
       "      <th>flag_RSTOS0</th>\n",
       "      <th>flag_RSTR</th>\n",
       "      <th>flag_S0</th>\n",
       "      <th>flag_S1</th>\n",
       "      <th>flag_S2</th>\n",
       "      <th>flag_S3</th>\n",
       "      <th>flag_SF</th>\n",
       "      <th>flag_SH</th>\n",
       "      <th>label</th>\n",
       "    </tr>\n",
       "  </thead>\n",
       "  <tbody>\n",
       "    <tr>\n",
       "      <th>29581</th>\n",
       "      <td>1</td>\n",
       "      <td>741</td>\n",
       "      <td>328</td>\n",
       "      <td>0</td>\n",
       "      <td>0</td>\n",
       "      <td>0</td>\n",
       "      <td>0</td>\n",
       "      <td>0</td>\n",
       "      <td>1</td>\n",
       "      <td>0</td>\n",
       "      <td>...</td>\n",
       "      <td>0</td>\n",
       "      <td>0</td>\n",
       "      <td>0</td>\n",
       "      <td>0</td>\n",
       "      <td>0</td>\n",
       "      <td>0</td>\n",
       "      <td>0</td>\n",
       "      <td>1</td>\n",
       "      <td>0</td>\n",
       "      <td>normal</td>\n",
       "    </tr>\n",
       "    <tr>\n",
       "      <th>53124</th>\n",
       "      <td>0</td>\n",
       "      <td>960</td>\n",
       "      <td>0</td>\n",
       "      <td>0</td>\n",
       "      <td>0</td>\n",
       "      <td>0</td>\n",
       "      <td>0</td>\n",
       "      <td>0</td>\n",
       "      <td>1</td>\n",
       "      <td>0</td>\n",
       "      <td>...</td>\n",
       "      <td>0</td>\n",
       "      <td>0</td>\n",
       "      <td>0</td>\n",
       "      <td>0</td>\n",
       "      <td>0</td>\n",
       "      <td>0</td>\n",
       "      <td>0</td>\n",
       "      <td>1</td>\n",
       "      <td>0</td>\n",
       "      <td>normal</td>\n",
       "    </tr>\n",
       "    <tr>\n",
       "      <th>41597</th>\n",
       "      <td>11</td>\n",
       "      <td>54540</td>\n",
       "      <td>8314</td>\n",
       "      <td>0</td>\n",
       "      <td>0</td>\n",
       "      <td>0</td>\n",
       "      <td>2</td>\n",
       "      <td>0</td>\n",
       "      <td>1</td>\n",
       "      <td>1</td>\n",
       "      <td>...</td>\n",
       "      <td>0</td>\n",
       "      <td>0</td>\n",
       "      <td>0</td>\n",
       "      <td>0</td>\n",
       "      <td>0</td>\n",
       "      <td>0</td>\n",
       "      <td>0</td>\n",
       "      <td>1</td>\n",
       "      <td>0</td>\n",
       "      <td>back</td>\n",
       "    </tr>\n",
       "    <tr>\n",
       "      <th>47864</th>\n",
       "      <td>0</td>\n",
       "      <td>243</td>\n",
       "      <td>2419</td>\n",
       "      <td>0</td>\n",
       "      <td>0</td>\n",
       "      <td>0</td>\n",
       "      <td>0</td>\n",
       "      <td>0</td>\n",
       "      <td>1</td>\n",
       "      <td>0</td>\n",
       "      <td>...</td>\n",
       "      <td>0</td>\n",
       "      <td>0</td>\n",
       "      <td>0</td>\n",
       "      <td>0</td>\n",
       "      <td>0</td>\n",
       "      <td>0</td>\n",
       "      <td>0</td>\n",
       "      <td>1</td>\n",
       "      <td>0</td>\n",
       "      <td>normal</td>\n",
       "    </tr>\n",
       "    <tr>\n",
       "      <th>35799</th>\n",
       "      <td>0</td>\n",
       "      <td>0</td>\n",
       "      <td>0</td>\n",
       "      <td>0</td>\n",
       "      <td>0</td>\n",
       "      <td>0</td>\n",
       "      <td>0</td>\n",
       "      <td>0</td>\n",
       "      <td>0</td>\n",
       "      <td>0</td>\n",
       "      <td>...</td>\n",
       "      <td>0</td>\n",
       "      <td>0</td>\n",
       "      <td>0</td>\n",
       "      <td>1</td>\n",
       "      <td>0</td>\n",
       "      <td>0</td>\n",
       "      <td>0</td>\n",
       "      <td>0</td>\n",
       "      <td>0</td>\n",
       "      <td>neptune</td>\n",
       "    </tr>\n",
       "  </tbody>\n",
       "</table>\n",
       "<p>5 rows × 123 columns</p>\n",
       "</div>"
      ],
      "text/plain": [
       "       duration  src_bytes  dst_bytes  land  wrong_fragment  urgent  hot  \\\n",
       "29581         1        741        328     0               0       0    0   \n",
       "53124         0        960          0     0               0       0    0   \n",
       "41597        11      54540       8314     0               0       0    2   \n",
       "47864         0        243       2419     0               0       0    0   \n",
       "35799         0          0          0     0               0       0    0   \n",
       "\n",
       "       num_failed_logins  logged_in  num_compromised  ...  flag_RSTO  \\\n",
       "29581                  0          1                0  ...          0   \n",
       "53124                  0          1                0  ...          0   \n",
       "41597                  0          1                1  ...          0   \n",
       "47864                  0          1                0  ...          0   \n",
       "35799                  0          0                0  ...          0   \n",
       "\n",
       "       flag_RSTOS0  flag_RSTR  flag_S0  flag_S1  flag_S2  flag_S3  flag_SF  \\\n",
       "29581            0          0        0        0        0        0        1   \n",
       "53124            0          0        0        0        0        0        1   \n",
       "41597            0          0        0        0        0        0        1   \n",
       "47864            0          0        0        0        0        0        1   \n",
       "35799            0          0        1        0        0        0        0   \n",
       "\n",
       "       flag_SH    label  \n",
       "29581        0   normal  \n",
       "53124        0   normal  \n",
       "41597        0     back  \n",
       "47864        0   normal  \n",
       "35799        0  neptune  \n",
       "\n",
       "[5 rows x 123 columns]"
      ]
     },
     "execution_count": 50,
     "metadata": {},
     "output_type": "execute_result"
    }
   ],
   "source": [
    "df.head()"
   ]
  },
  {
   "cell_type": "code",
   "execution_count": null,
   "metadata": {},
   "outputs": [],
   "source": []
  },
  {
   "cell_type": "code",
   "execution_count": 51,
   "metadata": {},
   "outputs": [],
   "source": [
    "X = df.drop(['label'], axis=1)\n",
    "y = df['label']"
   ]
  },
  {
   "cell_type": "code",
   "execution_count": 52,
   "metadata": {},
   "outputs": [],
   "source": [
    "scoring_metrics = {'accuracy' : make_scorer(accuracy_score), \n",
    "           'precision' : make_scorer(precision_score, average=\"micro\"),\n",
    "           'recall' : make_scorer(recall_score, average=\"micro\"), \n",
    "           'f1_score' : make_scorer(f1_score, average=\"micro\")}"
   ]
  },
  {
   "cell_type": "code",
   "execution_count": 53,
   "metadata": {},
   "outputs": [
    {
     "data": {
      "text/html": [
       "<div>\n",
       "<style scoped>\n",
       "    .dataframe tbody tr th:only-of-type {\n",
       "        vertical-align: middle;\n",
       "    }\n",
       "\n",
       "    .dataframe tbody tr th {\n",
       "        vertical-align: top;\n",
       "    }\n",
       "\n",
       "    .dataframe thead th {\n",
       "        text-align: right;\n",
       "    }\n",
       "</style>\n",
       "<table border=\"1\" class=\"dataframe\">\n",
       "  <thead>\n",
       "    <tr style=\"text-align: right;\">\n",
       "      <th></th>\n",
       "      <th>duration</th>\n",
       "      <th>src_bytes</th>\n",
       "      <th>dst_bytes</th>\n",
       "      <th>land</th>\n",
       "      <th>wrong_fragment</th>\n",
       "      <th>urgent</th>\n",
       "      <th>hot</th>\n",
       "      <th>num_failed_logins</th>\n",
       "      <th>logged_in</th>\n",
       "      <th>num_compromised</th>\n",
       "      <th>...</th>\n",
       "      <th>flag_RSTO</th>\n",
       "      <th>flag_RSTOS0</th>\n",
       "      <th>flag_RSTR</th>\n",
       "      <th>flag_S0</th>\n",
       "      <th>flag_S1</th>\n",
       "      <th>flag_S2</th>\n",
       "      <th>flag_S3</th>\n",
       "      <th>flag_SF</th>\n",
       "      <th>flag_SH</th>\n",
       "      <th>label</th>\n",
       "    </tr>\n",
       "  </thead>\n",
       "  <tbody>\n",
       "    <tr>\n",
       "      <th>29581</th>\n",
       "      <td>1</td>\n",
       "      <td>741</td>\n",
       "      <td>328</td>\n",
       "      <td>0</td>\n",
       "      <td>0</td>\n",
       "      <td>0</td>\n",
       "      <td>0</td>\n",
       "      <td>0</td>\n",
       "      <td>1</td>\n",
       "      <td>0</td>\n",
       "      <td>...</td>\n",
       "      <td>0</td>\n",
       "      <td>0</td>\n",
       "      <td>0</td>\n",
       "      <td>0</td>\n",
       "      <td>0</td>\n",
       "      <td>0</td>\n",
       "      <td>0</td>\n",
       "      <td>1</td>\n",
       "      <td>0</td>\n",
       "      <td>normal</td>\n",
       "    </tr>\n",
       "    <tr>\n",
       "      <th>53124</th>\n",
       "      <td>0</td>\n",
       "      <td>960</td>\n",
       "      <td>0</td>\n",
       "      <td>0</td>\n",
       "      <td>0</td>\n",
       "      <td>0</td>\n",
       "      <td>0</td>\n",
       "      <td>0</td>\n",
       "      <td>1</td>\n",
       "      <td>0</td>\n",
       "      <td>...</td>\n",
       "      <td>0</td>\n",
       "      <td>0</td>\n",
       "      <td>0</td>\n",
       "      <td>0</td>\n",
       "      <td>0</td>\n",
       "      <td>0</td>\n",
       "      <td>0</td>\n",
       "      <td>1</td>\n",
       "      <td>0</td>\n",
       "      <td>normal</td>\n",
       "    </tr>\n",
       "    <tr>\n",
       "      <th>41597</th>\n",
       "      <td>11</td>\n",
       "      <td>54540</td>\n",
       "      <td>8314</td>\n",
       "      <td>0</td>\n",
       "      <td>0</td>\n",
       "      <td>0</td>\n",
       "      <td>2</td>\n",
       "      <td>0</td>\n",
       "      <td>1</td>\n",
       "      <td>1</td>\n",
       "      <td>...</td>\n",
       "      <td>0</td>\n",
       "      <td>0</td>\n",
       "      <td>0</td>\n",
       "      <td>0</td>\n",
       "      <td>0</td>\n",
       "      <td>0</td>\n",
       "      <td>0</td>\n",
       "      <td>1</td>\n",
       "      <td>0</td>\n",
       "      <td>back</td>\n",
       "    </tr>\n",
       "    <tr>\n",
       "      <th>47864</th>\n",
       "      <td>0</td>\n",
       "      <td>243</td>\n",
       "      <td>2419</td>\n",
       "      <td>0</td>\n",
       "      <td>0</td>\n",
       "      <td>0</td>\n",
       "      <td>0</td>\n",
       "      <td>0</td>\n",
       "      <td>1</td>\n",
       "      <td>0</td>\n",
       "      <td>...</td>\n",
       "      <td>0</td>\n",
       "      <td>0</td>\n",
       "      <td>0</td>\n",
       "      <td>0</td>\n",
       "      <td>0</td>\n",
       "      <td>0</td>\n",
       "      <td>0</td>\n",
       "      <td>1</td>\n",
       "      <td>0</td>\n",
       "      <td>normal</td>\n",
       "    </tr>\n",
       "    <tr>\n",
       "      <th>35799</th>\n",
       "      <td>0</td>\n",
       "      <td>0</td>\n",
       "      <td>0</td>\n",
       "      <td>0</td>\n",
       "      <td>0</td>\n",
       "      <td>0</td>\n",
       "      <td>0</td>\n",
       "      <td>0</td>\n",
       "      <td>0</td>\n",
       "      <td>0</td>\n",
       "      <td>...</td>\n",
       "      <td>0</td>\n",
       "      <td>0</td>\n",
       "      <td>0</td>\n",
       "      <td>1</td>\n",
       "      <td>0</td>\n",
       "      <td>0</td>\n",
       "      <td>0</td>\n",
       "      <td>0</td>\n",
       "      <td>0</td>\n",
       "      <td>neptune</td>\n",
       "    </tr>\n",
       "  </tbody>\n",
       "</table>\n",
       "<p>5 rows × 123 columns</p>\n",
       "</div>"
      ],
      "text/plain": [
       "       duration  src_bytes  dst_bytes  land  wrong_fragment  urgent  hot  \\\n",
       "29581         1        741        328     0               0       0    0   \n",
       "53124         0        960          0     0               0       0    0   \n",
       "41597        11      54540       8314     0               0       0    2   \n",
       "47864         0        243       2419     0               0       0    0   \n",
       "35799         0          0          0     0               0       0    0   \n",
       "\n",
       "       num_failed_logins  logged_in  num_compromised  ...  flag_RSTO  \\\n",
       "29581                  0          1                0  ...          0   \n",
       "53124                  0          1                0  ...          0   \n",
       "41597                  0          1                1  ...          0   \n",
       "47864                  0          1                0  ...          0   \n",
       "35799                  0          0                0  ...          0   \n",
       "\n",
       "       flag_RSTOS0  flag_RSTR  flag_S0  flag_S1  flag_S2  flag_S3  flag_SF  \\\n",
       "29581            0          0        0        0        0        0        1   \n",
       "53124            0          0        0        0        0        0        1   \n",
       "41597            0          0        0        0        0        0        1   \n",
       "47864            0          0        0        0        0        0        1   \n",
       "35799            0          0        1        0        0        0        0   \n",
       "\n",
       "       flag_SH    label  \n",
       "29581        0   normal  \n",
       "53124        0   normal  \n",
       "41597        0     back  \n",
       "47864        0   normal  \n",
       "35799        0  neptune  \n",
       "\n",
       "[5 rows x 123 columns]"
      ]
     },
     "execution_count": 53,
     "metadata": {},
     "output_type": "execute_result"
    }
   ],
   "source": [
    "df.head()"
   ]
  },
  {
   "cell_type": "code",
   "execution_count": 54,
   "metadata": {
    "scrolled": true
   },
   "outputs": [
    {
     "data": {
      "text/html": [
       "<div>\n",
       "<style scoped>\n",
       "    .dataframe tbody tr th:only-of-type {\n",
       "        vertical-align: middle;\n",
       "    }\n",
       "\n",
       "    .dataframe tbody tr th {\n",
       "        vertical-align: top;\n",
       "    }\n",
       "\n",
       "    .dataframe thead th {\n",
       "        text-align: right;\n",
       "    }\n",
       "</style>\n",
       "<table border=\"1\" class=\"dataframe\">\n",
       "  <thead>\n",
       "    <tr style=\"text-align: right;\">\n",
       "      <th></th>\n",
       "      <th>duration</th>\n",
       "      <th>src_bytes</th>\n",
       "      <th>dst_bytes</th>\n",
       "      <th>land</th>\n",
       "      <th>wrong_fragment</th>\n",
       "      <th>urgent</th>\n",
       "      <th>hot</th>\n",
       "      <th>num_failed_logins</th>\n",
       "      <th>logged_in</th>\n",
       "      <th>num_compromised</th>\n",
       "      <th>...</th>\n",
       "      <th>flag_REJ</th>\n",
       "      <th>flag_RSTO</th>\n",
       "      <th>flag_RSTOS0</th>\n",
       "      <th>flag_RSTR</th>\n",
       "      <th>flag_S0</th>\n",
       "      <th>flag_S1</th>\n",
       "      <th>flag_S2</th>\n",
       "      <th>flag_S3</th>\n",
       "      <th>flag_SF</th>\n",
       "      <th>flag_SH</th>\n",
       "    </tr>\n",
       "  </thead>\n",
       "  <tbody>\n",
       "    <tr>\n",
       "      <th>29581</th>\n",
       "      <td>1</td>\n",
       "      <td>741</td>\n",
       "      <td>328</td>\n",
       "      <td>0</td>\n",
       "      <td>0</td>\n",
       "      <td>0</td>\n",
       "      <td>0</td>\n",
       "      <td>0</td>\n",
       "      <td>1</td>\n",
       "      <td>0</td>\n",
       "      <td>...</td>\n",
       "      <td>0</td>\n",
       "      <td>0</td>\n",
       "      <td>0</td>\n",
       "      <td>0</td>\n",
       "      <td>0</td>\n",
       "      <td>0</td>\n",
       "      <td>0</td>\n",
       "      <td>0</td>\n",
       "      <td>1</td>\n",
       "      <td>0</td>\n",
       "    </tr>\n",
       "    <tr>\n",
       "      <th>53124</th>\n",
       "      <td>0</td>\n",
       "      <td>960</td>\n",
       "      <td>0</td>\n",
       "      <td>0</td>\n",
       "      <td>0</td>\n",
       "      <td>0</td>\n",
       "      <td>0</td>\n",
       "      <td>0</td>\n",
       "      <td>1</td>\n",
       "      <td>0</td>\n",
       "      <td>...</td>\n",
       "      <td>0</td>\n",
       "      <td>0</td>\n",
       "      <td>0</td>\n",
       "      <td>0</td>\n",
       "      <td>0</td>\n",
       "      <td>0</td>\n",
       "      <td>0</td>\n",
       "      <td>0</td>\n",
       "      <td>1</td>\n",
       "      <td>0</td>\n",
       "    </tr>\n",
       "    <tr>\n",
       "      <th>41597</th>\n",
       "      <td>11</td>\n",
       "      <td>54540</td>\n",
       "      <td>8314</td>\n",
       "      <td>0</td>\n",
       "      <td>0</td>\n",
       "      <td>0</td>\n",
       "      <td>2</td>\n",
       "      <td>0</td>\n",
       "      <td>1</td>\n",
       "      <td>1</td>\n",
       "      <td>...</td>\n",
       "      <td>0</td>\n",
       "      <td>0</td>\n",
       "      <td>0</td>\n",
       "      <td>0</td>\n",
       "      <td>0</td>\n",
       "      <td>0</td>\n",
       "      <td>0</td>\n",
       "      <td>0</td>\n",
       "      <td>1</td>\n",
       "      <td>0</td>\n",
       "    </tr>\n",
       "    <tr>\n",
       "      <th>47864</th>\n",
       "      <td>0</td>\n",
       "      <td>243</td>\n",
       "      <td>2419</td>\n",
       "      <td>0</td>\n",
       "      <td>0</td>\n",
       "      <td>0</td>\n",
       "      <td>0</td>\n",
       "      <td>0</td>\n",
       "      <td>1</td>\n",
       "      <td>0</td>\n",
       "      <td>...</td>\n",
       "      <td>0</td>\n",
       "      <td>0</td>\n",
       "      <td>0</td>\n",
       "      <td>0</td>\n",
       "      <td>0</td>\n",
       "      <td>0</td>\n",
       "      <td>0</td>\n",
       "      <td>0</td>\n",
       "      <td>1</td>\n",
       "      <td>0</td>\n",
       "    </tr>\n",
       "    <tr>\n",
       "      <th>35799</th>\n",
       "      <td>0</td>\n",
       "      <td>0</td>\n",
       "      <td>0</td>\n",
       "      <td>0</td>\n",
       "      <td>0</td>\n",
       "      <td>0</td>\n",
       "      <td>0</td>\n",
       "      <td>0</td>\n",
       "      <td>0</td>\n",
       "      <td>0</td>\n",
       "      <td>...</td>\n",
       "      <td>0</td>\n",
       "      <td>0</td>\n",
       "      <td>0</td>\n",
       "      <td>0</td>\n",
       "      <td>1</td>\n",
       "      <td>0</td>\n",
       "      <td>0</td>\n",
       "      <td>0</td>\n",
       "      <td>0</td>\n",
       "      <td>0</td>\n",
       "    </tr>\n",
       "  </tbody>\n",
       "</table>\n",
       "<p>5 rows × 122 columns</p>\n",
       "</div>"
      ],
      "text/plain": [
       "       duration  src_bytes  dst_bytes  land  wrong_fragment  urgent  hot  \\\n",
       "29581         1        741        328     0               0       0    0   \n",
       "53124         0        960          0     0               0       0    0   \n",
       "41597        11      54540       8314     0               0       0    2   \n",
       "47864         0        243       2419     0               0       0    0   \n",
       "35799         0          0          0     0               0       0    0   \n",
       "\n",
       "       num_failed_logins  logged_in  num_compromised  ...  flag_REJ  \\\n",
       "29581                  0          1                0  ...         0   \n",
       "53124                  0          1                0  ...         0   \n",
       "41597                  0          1                1  ...         0   \n",
       "47864                  0          1                0  ...         0   \n",
       "35799                  0          0                0  ...         0   \n",
       "\n",
       "       flag_RSTO  flag_RSTOS0  flag_RSTR  flag_S0  flag_S1  flag_S2  flag_S3  \\\n",
       "29581          0            0          0        0        0        0        0   \n",
       "53124          0            0          0        0        0        0        0   \n",
       "41597          0            0          0        0        0        0        0   \n",
       "47864          0            0          0        0        0        0        0   \n",
       "35799          0            0          0        1        0        0        0   \n",
       "\n",
       "       flag_SF  flag_SH  \n",
       "29581        1        0  \n",
       "53124        1        0  \n",
       "41597        1        0  \n",
       "47864        1        0  \n",
       "35799        0        0  \n",
       "\n",
       "[5 rows x 122 columns]"
      ]
     },
     "execution_count": 54,
     "metadata": {},
     "output_type": "execute_result"
    }
   ],
   "source": [
    "X.head()"
   ]
  },
  {
   "cell_type": "code",
   "execution_count": 55,
   "metadata": {},
   "outputs": [
    {
     "data": {
      "text/plain": [
       "29581     normal\n",
       "53124     normal\n",
       "41597       back\n",
       "47864     normal\n",
       "35799    neptune\n",
       "Name: label, dtype: object"
      ]
     },
     "execution_count": 55,
     "metadata": {},
     "output_type": "execute_result"
    }
   ],
   "source": [
    "y.head()"
   ]
  },
  {
   "cell_type": "code",
   "execution_count": 56,
   "metadata": {},
   "outputs": [],
   "source": [
    "y = y.replace( to_replace =  'normal' , value = 0 )\n",
    "\n",
    "y = y.replace( to_replace =  'neptune' , value = 1 )\n",
    "y = y.replace( to_replace =  'back' , value = 1 )\n",
    "y = y.replace( to_replace =  'land' , value = 1 )\n",
    "y = y.replace( to_replace =  'pod' , value = 1 )\n",
    "y = y.replace( to_replace =  'smurf' , value = 1 )\n",
    "y = y.replace( to_replace =  'teardrop' , value = 1 )\n",
    "y = y.replace( to_replace =  'mailbomb' , value = 1 )\n",
    "y = y.replace( to_replace =  'apache2' , value = 1 )\n",
    "y = y.replace( to_replace =  'processtable' , value = 1 )\n",
    "y = y.replace( to_replace =  'udpstorm' , value = 1 )\n",
    "y = y.replace( to_replace =  'worm' , value = 1 )\n",
    "\n",
    "# y = y.replace( to_replace =  'ipsweep' , value = 2 )\n",
    "# y = y.replace( to_replace =  'nmap' , value = 2 )\n",
    "# y = y.replace( to_replace =  'portsweep' , value = 2 )\n",
    "# y = y.replace( to_replace =  'satan' , value = 2 )\n",
    "# y = y.replace( to_replace =  'mscan' , value = 2 )\n",
    "# y = y.replace( to_replace =  'saint' , value = 2 )\n",
    "\n",
    "# y = y.replace( to_replace =  'ftp_write' , value = 3 )\n",
    "# y = y.replace( to_replace =  'guess_passwd' , value = 3 )\n",
    "# y = y.replace( to_replace =  'imap' , value = 3)\n",
    "# y = y.replace( to_replace =  'multihop' , value = 3 )\n",
    "# y = y.replace( to_replace =  'phf' , value = 3 )\n",
    "# y = y.replace( to_replace =  'spy' , value = 3 )\n",
    "# y = y.replace( to_replace =  'warezclient' , value = 3 )\n",
    "# y = y.replace( to_replace =  'warezmaster' , value = 3 )\n",
    "# y = y.replace( to_replace =  'sendmail' , value = 3 )\n",
    "# y = y.replace( to_replace =  'snmpgetattack' , value = 3 )\n",
    "# y = y.replace( to_replace =  'snmpguess' , value = 3 )\n",
    "# y = y.replace( to_replace =  'xlock' , value = 3 )\n",
    "# y = y.replace( to_replace =  'xsnoop' , value = 3 )\n",
    "# y = y.replace( to_replace =  'httptunnel' , value = 3 )\n",
    "\n",
    "# y = y.replace( to_replace =  'buffer_overflow' , value = 4 )\n",
    "# y = y.replace( to_replace =  'loadmodule' , value = 4 )\n",
    "# y = y.replace( to_replace =  'perl' , value = 4 )\n",
    "# y = y.replace( to_replace =  'rootkit' , value = 4 )\n",
    "# y = y.replace( to_replace =  'ps' , value = 4 )\n",
    "# y = y.replace( to_replace =  'sqlattack' , value = 4  )\n",
    "# y = y.replace( to_replace =  'xterm' , value = 4 )\n",
    "\n",
    "# y = y.replace( to_replace =  'unknown' , value = 5 )"
   ]
  },
  {
   "cell_type": "code",
   "execution_count": 57,
   "metadata": {
    "scrolled": true
   },
   "outputs": [
    {
     "data": {
      "text/plain": [
       "29581    0\n",
       "53124    0\n",
       "41597    1\n",
       "47864    0\n",
       "35799    1\n",
       "Name: label, dtype: int64"
      ]
     },
     "execution_count": 57,
     "metadata": {},
     "output_type": "execute_result"
    }
   ],
   "source": [
    "y.head()"
   ]
  },
  {
   "cell_type": "code",
   "execution_count": null,
   "metadata": {},
   "outputs": [],
   "source": []
  },
  {
   "cell_type": "code",
   "execution_count": null,
   "metadata": {},
   "outputs": [],
   "source": []
  },
  {
   "cell_type": "code",
   "execution_count": null,
   "metadata": {},
   "outputs": [],
   "source": []
  },
  {
   "cell_type": "markdown",
   "metadata": {},
   "source": [
    "# Feature Selection"
   ]
  },
  {
   "cell_type": "markdown",
   "metadata": {},
   "source": [
    "# SVM"
   ]
  },
  {
   "cell_type": "code",
   "execution_count": 18,
   "metadata": {},
   "outputs": [],
   "source": [
    "from sklearn import svm\n",
    "from sklearn.svm import SVC  "
   ]
  },
  {
   "cell_type": "code",
   "execution_count": 19,
   "metadata": {},
   "outputs": [],
   "source": [
    "svmModel = svm.SVC(gamma='scale')"
   ]
  },
  {
   "cell_type": "code",
   "execution_count": 20,
   "metadata": {
    "scrolled": true
   },
   "outputs": [
    {
     "name": "stderr",
     "output_type": "stream",
     "text": [
      "[Parallel(n_jobs=-1)]: Using backend LokyBackend with 12 concurrent workers.\n",
      "[Parallel(n_jobs=-1)]: Done   1 tasks      | elapsed:    2.1s\n",
      "[Parallel(n_jobs=-1)]: Done   3 out of   3 | elapsed:    2.1s remaining:    0.0s\n",
      "[Parallel(n_jobs=-1)]: Done   3 out of   3 | elapsed:    2.1s finished\n"
     ]
    }
   ],
   "source": [
    "svmScore = cross_validate(svmModel, X, y, cv=3, scoring=scoring_metrics, verbose=15 ,n_jobs=-1)"
   ]
  },
  {
   "cell_type": "code",
   "execution_count": 21,
   "metadata": {},
   "outputs": [],
   "source": [
    "ss = pd.DataFrame(svmScore)"
   ]
  },
  {
   "cell_type": "code",
   "execution_count": 22,
   "metadata": {},
   "outputs": [],
   "source": [
    "ss.to_csv('NSL_SVM.csv')"
   ]
  },
  {
   "cell_type": "code",
   "execution_count": 23,
   "metadata": {},
   "outputs": [],
   "source": [
    "from sklearn.model_selection import GridSearchCV\n",
    "import numpy as np"
   ]
  },
  {
   "cell_type": "code",
   "execution_count": 24,
   "metadata": {},
   "outputs": [],
   "source": [
    "param_grid = {'C': [1, 10, 100], 'gamma': [1,0.1,0.001],'kernel': ['rbf', 'poly', 'sigmoid']}"
   ]
  },
  {
   "cell_type": "code",
   "execution_count": 25,
   "metadata": {},
   "outputs": [],
   "source": [
    "ss2 = GridSearchCV(SVC() , param_grid, scoring=scoring_metrics, refit='accuracy', verbose=20, n_jobs=-1, cv=3)"
   ]
  },
  {
   "cell_type": "code",
   "execution_count": null,
   "metadata": {},
   "outputs": [
    {
     "name": "stdout",
     "output_type": "stream",
     "text": [
      "Fitting 3 folds for each of 27 candidates, totalling 81 fits\n",
      "[Parallel(n_jobs=-1)]: Using backend LokyBackend with 12 concurrent workers.\n",
      "Pickling array (shape=(122,), dtype=object).\n",
      "Pickling array (shape=(4000,), dtype=int64).\n",
      "Memmapping (shape=(107, 4000), dtype=int64) to new file C:\\Users\\amous\\AppData\\Local\\Temp\\joblib_memmapping_folder_6060_7404571132\\6060-1941810183560-0c8713c68a0e4d3b95e62218d1f96c03.pkl\n",
      "Pickling array (shape=(15, 4000), dtype=float64).\n",
      "Pickling array (shape=(107,), dtype=object).\n",
      "Pickling array (shape=(15,), dtype=object).\n",
      "Pickling array (shape=(107,), dtype=int64).\n",
      "Pickling array (shape=(15,), dtype=int64).\n",
      "Pickling array (shape=(4000,), dtype=int64).\n",
      "Pickling array (shape=(4000,), dtype=int64).\n",
      "Pickling array (shape=(2666,), dtype=int32).\n",
      "Pickling array (shape=(1334,), dtype=int32).\n",
      "Pickling array (shape=(122,), dtype=object).\n",
      "Pickling array (shape=(4000,), dtype=int64).\n",
      "Memmapping (shape=(107, 4000), dtype=int64) to old file C:\\Users\\amous\\AppData\\Local\\Temp\\joblib_memmapping_folder_6060_7404571132\\6060-1941810183560-0c8713c68a0e4d3b95e62218d1f96c03.pkl\n",
      "Pickling array (shape=(15, 4000), dtype=float64).\n",
      "Pickling array (shape=(107,), dtype=object).\n",
      "Pickling array (shape=(15,), dtype=object).\n",
      "Pickling array (shape=(107,), dtype=int64).\n",
      "Pickling array (shape=(15,), dtype=int64).\n",
      "Pickling array (shape=(4000,), dtype=int64).\n",
      "Pickling array (shape=(4000,), dtype=int64).\n",
      "Pickling array (shape=(2667,), dtype=int32).\n",
      "Pickling array (shape=(1333,), dtype=int32).\n",
      "Pickling array (shape=(122,), dtype=object).\n",
      "Pickling array (shape=(4000,), dtype=int64).\n",
      "Memmapping (shape=(107, 4000), dtype=int64) to old file C:\\Users\\amous\\AppData\\Local\\Temp\\joblib_memmapping_folder_6060_7404571132\\6060-1941810183560-0c8713c68a0e4d3b95e62218d1f96c03.pkl\n",
      "Pickling array (shape=(15, 4000), dtype=float64).\n",
      "Pickling array (shape=(107,), dtype=object).\n",
      "Pickling array (shape=(15,), dtype=object).\n",
      "Pickling array (shape=(107,), dtype=int64).\n",
      "Pickling array (shape=(15,), dtype=int64).\n",
      "Pickling array (shape=(4000,), dtype=int64).\n",
      "Pickling array (shape=(4000,), dtype=int64).\n",
      "Pickling array (shape=(2667,), dtype=int32).\n",
      "Pickling array (shape=(1333,), dtype=int32).\n",
      "Pickling array (shape=(122,), dtype=object).\n",
      "Pickling array (shape=(4000,), dtype=int64).\n",
      "Memmapping (shape=(107, 4000), dtype=int64) to old file C:\\Users\\amous\\AppData\\Local\\Temp\\joblib_memmapping_folder_6060_7404571132\\6060-1941810183560-0c8713c68a0e4d3b95e62218d1f96c03.pkl\n",
      "Pickling array (shape=(15, 4000), dtype=float64).\n",
      "Pickling array (shape=(107,), dtype=object).\n",
      "Pickling array (shape=(15,), dtype=object).\n",
      "Pickling array (shape=(107,), dtype=int64).\n",
      "Pickling array (shape=(15,), dtype=int64).\n",
      "Pickling array (shape=(4000,), dtype=int64).\n",
      "Pickling array (shape=(4000,), dtype=int64).\n",
      "Pickling array (shape=(2666,), dtype=int32).\n",
      "Pickling array (shape=(1334,), dtype=int32).\n",
      "Pickling array (shape=(122,), dtype=object).\n",
      "Pickling array (shape=(4000,), dtype=int64).\n",
      "Memmapping (shape=(107, 4000), dtype=int64) to old file C:\\Users\\amous\\AppData\\Local\\Temp\\joblib_memmapping_folder_6060_7404571132\\6060-1941810183560-0c8713c68a0e4d3b95e62218d1f96c03.pkl\n",
      "Pickling array (shape=(15, 4000), dtype=float64).\n",
      "Pickling array (shape=(107,), dtype=object).\n",
      "Pickling array (shape=(15,), dtype=object).\n",
      "Pickling array (shape=(107,), dtype=int64).\n",
      "Pickling array (shape=(15,), dtype=int64).\n",
      "Pickling array (shape=(4000,), dtype=int64).\n",
      "Pickling array (shape=(4000,), dtype=int64).\n",
      "Pickling array (shape=(2667,), dtype=int32).\n",
      "Pickling array (shape=(1333,), dtype=int32).\n",
      "Pickling array (shape=(122,), dtype=object).\n",
      "Pickling array (shape=(4000,), dtype=int64).\n",
      "Memmapping (shape=(107, 4000), dtype=int64) to old file C:\\Users\\amous\\AppData\\Local\\Temp\\joblib_memmapping_folder_6060_7404571132\\6060-1941810183560-0c8713c68a0e4d3b95e62218d1f96c03.pkl\n",
      "Pickling array (shape=(15, 4000), dtype=float64).\n",
      "Pickling array (shape=(107,), dtype=object).\n",
      "Pickling array (shape=(15,), dtype=object).\n",
      "Pickling array (shape=(107,), dtype=int64).\n",
      "Pickling array (shape=(15,), dtype=int64).\n",
      "Pickling array (shape=(4000,), dtype=int64).\n",
      "Pickling array (shape=(4000,), dtype=int64).\n",
      "Pickling array (shape=(2667,), dtype=int32).\n",
      "Pickling array (shape=(1333,), dtype=int32).\n",
      "Pickling array (shape=(122,), dtype=object).\n",
      "Pickling array (shape=(4000,), dtype=int64).\n",
      "Memmapping (shape=(107, 4000), dtype=int64) to old file C:\\Users\\amous\\AppData\\Local\\Temp\\joblib_memmapping_folder_6060_7404571132\\6060-1941810183560-0c8713c68a0e4d3b95e62218d1f96c03.pkl\n",
      "Pickling array (shape=(15, 4000), dtype=float64).\n",
      "Pickling array (shape=(107,), dtype=object).\n",
      "Pickling array (shape=(15,), dtype=object).\n",
      "Pickling array (shape=(107,), dtype=int64).\n",
      "Pickling array (shape=(15,), dtype=int64).\n",
      "Pickling array (shape=(4000,), dtype=int64).\n",
      "Pickling array (shape=(4000,), dtype=int64).\n",
      "Pickling array (shape=(2666,), dtype=int32).\n",
      "Pickling array (shape=(1334,), dtype=int32).\n",
      "Pickling array (shape=(122,), dtype=object).\n",
      "Pickling array (shape=(4000,), dtype=int64).\n",
      "Memmapping (shape=(107, 4000), dtype=int64) to old file C:\\Users\\amous\\AppData\\Local\\Temp\\joblib_memmapping_folder_6060_7404571132\\6060-1941810183560-0c8713c68a0e4d3b95e62218d1f96c03.pkl\n",
      "Pickling array (shape=(15, 4000), dtype=float64).\n",
      "Pickling array (shape=(107,), dtype=object).\n",
      "Pickling array (shape=(15,), dtype=object).\n",
      "Pickling array (shape=(107,), dtype=int64).\n",
      "Pickling array (shape=(15,), dtype=int64).\n",
      "Pickling array (shape=(4000,), dtype=int64).\n",
      "Pickling array (shape=(4000,), dtype=int64).\n",
      "Pickling array (shape=(2667,), dtype=int32).\n",
      "Pickling array (shape=(1333,), dtype=int32).\n",
      "Pickling array (shape=(122,), dtype=object).\n",
      "Pickling array (shape=(4000,), dtype=int64).\n",
      "Memmapping (shape=(107, 4000), dtype=int64) to old file C:\\Users\\amous\\AppData\\Local\\Temp\\joblib_memmapping_folder_6060_7404571132\\6060-1941810183560-0c8713c68a0e4d3b95e62218d1f96c03.pkl\n",
      "Pickling array (shape=(15, 4000), dtype=float64).\n",
      "Pickling array (shape=(107,), dtype=object).\n",
      "Pickling array (shape=(15,), dtype=object).\n",
      "Pickling array (shape=(107,), dtype=int64).\n",
      "Pickling array (shape=(15,), dtype=int64).\n",
      "Pickling array (shape=(4000,), dtype=int64).\n",
      "Pickling array (shape=(4000,), dtype=int64).\n",
      "Pickling array (shape=(2667,), dtype=int32).\n",
      "Pickling array (shape=(1333,), dtype=int32).\n",
      "Pickling array (shape=(122,), dtype=object).\n",
      "Pickling array (shape=(4000,), dtype=int64).\n",
      "Memmapping (shape=(107, 4000), dtype=int64) to old file C:\\Users\\amous\\AppData\\Local\\Temp\\joblib_memmapping_folder_6060_7404571132\\6060-1941810183560-0c8713c68a0e4d3b95e62218d1f96c03.pkl\n",
      "Pickling array (shape=(15, 4000), dtype=float64).\n",
      "Pickling array (shape=(107,), dtype=object).\n",
      "Pickling array (shape=(15,), dtype=object).\n",
      "Pickling array (shape=(107,), dtype=int64).\n",
      "Pickling array (shape=(15,), dtype=int64).\n",
      "Pickling array (shape=(4000,), dtype=int64).\n",
      "Pickling array (shape=(4000,), dtype=int64).\n",
      "Pickling array (shape=(2666,), dtype=int32).\n",
      "Pickling array (shape=(1334,), dtype=int32).\n",
      "Pickling array (shape=(122,), dtype=object).\n",
      "Pickling array (shape=(4000,), dtype=int64).\n",
      "Memmapping (shape=(107, 4000), dtype=int64) to old file C:\\Users\\amous\\AppData\\Local\\Temp\\joblib_memmapping_folder_6060_7404571132\\6060-1941810183560-0c8713c68a0e4d3b95e62218d1f96c03.pkl\n",
      "Pickling array (shape=(15, 4000), dtype=float64).\n",
      "Pickling array (shape=(107,), dtype=object).\n",
      "Pickling array (shape=(15,), dtype=object).\n",
      "Pickling array (shape=(107,), dtype=int64).\n",
      "Pickling array (shape=(15,), dtype=int64).\n",
      "Pickling array (shape=(4000,), dtype=int64).\n",
      "Pickling array (shape=(4000,), dtype=int64).\n",
      "Pickling array (shape=(2667,), dtype=int32).\n",
      "Pickling array (shape=(1333,), dtype=int32).\n",
      "Pickling array (shape=(122,), dtype=object).\n",
      "Pickling array (shape=(4000,), dtype=int64).\n",
      "Memmapping (shape=(107, 4000), dtype=int64) to old file C:\\Users\\amous\\AppData\\Local\\Temp\\joblib_memmapping_folder_6060_7404571132\\6060-1941810183560-0c8713c68a0e4d3b95e62218d1f96c03.pkl\n",
      "Pickling array (shape=(15, 4000), dtype=float64).\n",
      "Pickling array (shape=(107,), dtype=object).\n",
      "Pickling array (shape=(15,), dtype=object).\n",
      "Pickling array (shape=(107,), dtype=int64).\n",
      "Pickling array (shape=(15,), dtype=int64).\n",
      "Pickling array (shape=(4000,), dtype=int64).\n",
      "Pickling array (shape=(4000,), dtype=int64).\n",
      "Pickling array (shape=(2667,), dtype=int32).\n",
      "Pickling array (shape=(1333,), dtype=int32).\n",
      "Pickling array (shape=(122,), dtype=object).\n",
      "Pickling array (shape=(4000,), dtype=int64).\n",
      "Memmapping (shape=(107, 4000), dtype=int64) to old file C:\\Users\\amous\\AppData\\Local\\Temp\\joblib_memmapping_folder_6060_7404571132\\6060-1941810183560-0c8713c68a0e4d3b95e62218d1f96c03.pkl\n",
      "Pickling array (shape=(15, 4000), dtype=float64).\n",
      "Pickling array (shape=(107,), dtype=object).\n",
      "Pickling array (shape=(15,), dtype=object).\n",
      "Pickling array (shape=(107,), dtype=int64).\n",
      "Pickling array (shape=(15,), dtype=int64).\n",
      "Pickling array (shape=(4000,), dtype=int64).\n",
      "Pickling array (shape=(4000,), dtype=int64).\n",
      "Pickling array (shape=(2666,), dtype=int32).\n",
      "Pickling array (shape=(1334,), dtype=int32).\n"
     ]
    },
    {
     "name": "stdout",
     "output_type": "stream",
     "text": [
      "[Parallel(n_jobs=-1)]: Done   1 tasks      | elapsed:    4.1s\n",
      "Pickling array (shape=(122,), dtype=object).\n",
      "Pickling array (shape=(4000,), dtype=int64).\n",
      "Memmapping (shape=(107, 4000), dtype=int64) to old file C:\\Users\\amous\\AppData\\Local\\Temp\\joblib_memmapping_folder_6060_7404571132\\6060-1941810183560-0c8713c68a0e4d3b95e62218d1f96c03.pkl\n",
      "Pickling array (shape=(15, 4000), dtype=float64).\n",
      "Pickling array (shape=(107,), dtype=object).\n",
      "Pickling array (shape=(15,), dtype=object).\n",
      "Pickling array (shape=(107,), dtype=int64).\n",
      "Pickling array (shape=(15,), dtype=int64).\n",
      "Pickling array (shape=(4000,), dtype=int64).\n",
      "Pickling array (shape=(4000,), dtype=int64).\n",
      "Pickling array (shape=(2667,), dtype=int32).\n",
      "Pickling array (shape=(1333,), dtype=int32).\n",
      "[Parallel(n_jobs=-1)]: Done   2 tasks      | elapsed:    4.4s\n",
      "[Parallel(n_jobs=-1)]: Done   3 tasks      | elapsed:    4.4s\n",
      "Pickling array (shape=(122,), dtype=object).\n",
      "Pickling array (shape=(4000,), dtype=int64).\n",
      "Memmapping (shape=(107, 4000), dtype=int64) to old file C:\\Users\\amous\\AppData\\Local\\Temp\\joblib_memmapping_folder_6060_7404571132\\6060-1941810183560-0c8713c68a0e4d3b95e62218d1f96c03.pkl\n",
      "Pickling array (shape=(15, 4000), dtype=float64).\n",
      "Pickling array (shape=(107,), dtype=object).\n",
      "Pickling array (shape=(15,), dtype=object).\n",
      "Pickling array (shape=(107,), dtype=int64).\n",
      "Pickling array (shape=(15,), dtype=int64).\n",
      "Pickling array (shape=(4000,), dtype=int64).\n",
      "Pickling array (shape=(4000,), dtype=int64).\n",
      "Pickling array (shape=(2667,), dtype=int32).\n",
      "Pickling array (shape=(1333,), dtype=int32).\n",
      "Pickling array (shape=(122,), dtype=object).\n",
      "Pickling array (shape=(4000,), dtype=int64).\n",
      "Memmapping (shape=(107, 4000), dtype=int64) to old file C:\\Users\\amous\\AppData\\Local\\Temp\\joblib_memmapping_folder_6060_7404571132\\6060-1941810183560-0c8713c68a0e4d3b95e62218d1f96c03.pkl\n",
      "Pickling array (shape=(15, 4000), dtype=float64).\n",
      "Pickling array (shape=(107,), dtype=object).\n",
      "Pickling array (shape=(15,), dtype=object).\n",
      "Pickling array (shape=(107,), dtype=int64).\n",
      "Pickling array (shape=(15,), dtype=int64).\n",
      "Pickling array (shape=(4000,), dtype=int64).\n",
      "Pickling array (shape=(4000,), dtype=int64).\n",
      "Pickling array (shape=(2666,), dtype=int32).\n",
      "Pickling array (shape=(1334,), dtype=int32).\n",
      "[Parallel(n_jobs=-1)]: Done   4 tasks      | elapsed:    7.1s\n",
      "Pickling array (shape=(122,), dtype=object).\n",
      "Pickling array (shape=(4000,), dtype=int64).\n",
      "Memmapping (shape=(107, 4000), dtype=int64) to old file C:\\Users\\amous\\AppData\\Local\\Temp\\joblib_memmapping_folder_6060_7404571132\\6060-1941810183560-0c8713c68a0e4d3b95e62218d1f96c03.pkl\n",
      "Pickling array (shape=(15, 4000), dtype=float64).\n",
      "Pickling array (shape=(107,), dtype=object).\n",
      "Pickling array (shape=(15,), dtype=object).\n",
      "Pickling array (shape=(107,), dtype=int64).\n",
      "Pickling array (shape=(15,), dtype=int64).\n",
      "Pickling array (shape=(4000,), dtype=int64).\n",
      "Pickling array (shape=(4000,), dtype=int64).\n",
      "Pickling array (shape=(2667,), dtype=int32).\n",
      "Pickling array (shape=(1333,), dtype=int32).\n",
      "[Parallel(n_jobs=-1)]: Done   5 tasks      | elapsed:    7.2s\n",
      "Pickling array (shape=(122,), dtype=object).\n",
      "Pickling array (shape=(4000,), dtype=int64).\n",
      "Memmapping (shape=(107, 4000), dtype=int64) to old file C:\\Users\\amous\\AppData\\Local\\Temp\\joblib_memmapping_folder_6060_7404571132\\6060-1941810183560-0c8713c68a0e4d3b95e62218d1f96c03.pkl\n",
      "Pickling array (shape=(15, 4000), dtype=float64).\n",
      "Pickling array (shape=(107,), dtype=object).\n",
      "Pickling array (shape=(15,), dtype=object).\n",
      "Pickling array (shape=(107,), dtype=int64).\n",
      "Pickling array (shape=(15,), dtype=int64).\n",
      "Pickling array (shape=(4000,), dtype=int64).\n",
      "Pickling array (shape=(4000,), dtype=int64).\n",
      "Pickling array (shape=(2667,), dtype=int32).\n",
      "Pickling array (shape=(1333,), dtype=int32).\n",
      "[Parallel(n_jobs=-1)]: Done   6 tasks      | elapsed:    7.2s\n",
      "[Parallel(n_jobs=-1)]: Done   7 tasks      | elapsed:    7.2s\n",
      "[Parallel(n_jobs=-1)]: Done   8 tasks      | elapsed:    7.2s\n",
      "Pickling array (shape=(122,), dtype=object).\n",
      "Pickling array (shape=(4000,), dtype=int64).\n",
      "Memmapping (shape=(107, 4000), dtype=int64) to old file C:\\Users\\amous\\AppData\\Local\\Temp\\joblib_memmapping_folder_6060_7404571132\\6060-1941810183560-0c8713c68a0e4d3b95e62218d1f96c03.pkl\n",
      "Pickling array (shape=(15, 4000), dtype=float64).\n",
      "Pickling array (shape=(107,), dtype=object).\n",
      "Pickling array (shape=(15,), dtype=object).\n",
      "Pickling array (shape=(107,), dtype=int64).\n",
      "Pickling array (shape=(15,), dtype=int64).\n",
      "Pickling array (shape=(4000,), dtype=int64).\n",
      "Pickling array (shape=(4000,), dtype=int64).\n",
      "Pickling array (shape=(2666,), dtype=int32).\n",
      "Pickling array (shape=(1334,), dtype=int32).\n",
      "Pickling array (shape=(122,), dtype=object).\n",
      "Pickling array (shape=(4000,), dtype=int64).\n",
      "Memmapping (shape=(107, 4000), dtype=int64) to old file C:\\Users\\amous\\AppData\\Local\\Temp\\joblib_memmapping_folder_6060_7404571132\\6060-1941810183560-0c8713c68a0e4d3b95e62218d1f96c03.pkl\n",
      "Pickling array (shape=(15, 4000), dtype=float64).\n",
      "Pickling array (shape=(107,), dtype=object).\n",
      "Pickling array (shape=(15,), dtype=object).\n",
      "Pickling array (shape=(107,), dtype=int64).\n",
      "Pickling array (shape=(15,), dtype=int64).\n",
      "Pickling array (shape=(4000,), dtype=int64).\n",
      "Pickling array (shape=(4000,), dtype=int64).\n",
      "Pickling array (shape=(2667,), dtype=int32).\n",
      "Pickling array (shape=(1333,), dtype=int32).\n",
      "Pickling array (shape=(122,), dtype=object).\n",
      "Pickling array (shape=(4000,), dtype=int64).\n",
      "Memmapping (shape=(107, 4000), dtype=int64) to old file C:\\Users\\amous\\AppData\\Local\\Temp\\joblib_memmapping_folder_6060_7404571132\\6060-1941810183560-0c8713c68a0e4d3b95e62218d1f96c03.pkl\n",
      "Pickling array (shape=(15, 4000), dtype=float64).\n",
      "Pickling array (shape=(107,), dtype=object).\n",
      "Pickling array (shape=(15,), dtype=object).\n",
      "Pickling array (shape=(107,), dtype=int64).\n",
      "Pickling array (shape=(15,), dtype=int64).\n",
      "Pickling array (shape=(4000,), dtype=int64).\n",
      "Pickling array (shape=(4000,), dtype=int64).\n",
      "Pickling array (shape=(2667,), dtype=int32).\n",
      "Pickling array (shape=(1333,), dtype=int32).\n",
      "[Parallel(n_jobs=-1)]: Done   9 tasks      | elapsed:    7.3s\n",
      "Pickling array (shape=(122,), dtype=object).\n",
      "Pickling array (shape=(4000,), dtype=int64).\n",
      "Memmapping (shape=(107, 4000), dtype=int64) to old file C:\\Users\\amous\\AppData\\Local\\Temp\\joblib_memmapping_folder_6060_7404571132\\6060-1941810183560-0c8713c68a0e4d3b95e62218d1f96c03.pkl\n",
      "Pickling array (shape=(15, 4000), dtype=float64).\n",
      "Pickling array (shape=(107,), dtype=object).\n",
      "Pickling array (shape=(15,), dtype=object).\n",
      "Pickling array (shape=(107,), dtype=int64).\n",
      "Pickling array (shape=(15,), dtype=int64).\n",
      "Pickling array (shape=(4000,), dtype=int64).\n",
      "Pickling array (shape=(4000,), dtype=int64).\n",
      "Pickling array (shape=(2666,), dtype=int32).\n",
      "Pickling array (shape=(1334,), dtype=int32).\n",
      "[Parallel(n_jobs=-1)]: Done  10 tasks      | elapsed:    9.2s\n",
      "Pickling array (shape=(122,), dtype=object).\n",
      "Pickling array (shape=(4000,), dtype=int64).\n",
      "Memmapping (shape=(107, 4000), dtype=int64) to old file C:\\Users\\amous\\AppData\\Local\\Temp\\joblib_memmapping_folder_6060_7404571132\\6060-1941810183560-0c8713c68a0e4d3b95e62218d1f96c03.pkl\n",
      "Pickling array (shape=(15, 4000), dtype=float64).\n",
      "Pickling array (shape=(107,), dtype=object).\n",
      "Pickling array (shape=(15,), dtype=object).\n",
      "Pickling array (shape=(107,), dtype=int64).\n",
      "Pickling array (shape=(15,), dtype=int64).\n",
      "Pickling array (shape=(4000,), dtype=int64).\n",
      "Pickling array (shape=(4000,), dtype=int64).\n",
      "Pickling array (shape=(2667,), dtype=int32).\n",
      "Pickling array (shape=(1333,), dtype=int32).\n",
      "[Parallel(n_jobs=-1)]: Done  11 tasks      | elapsed:    9.3s\n",
      "Pickling array (shape=(122,), dtype=object).\n",
      "Pickling array (shape=(4000,), dtype=int64).\n",
      "Memmapping (shape=(107, 4000), dtype=int64) to old file C:\\Users\\amous\\AppData\\Local\\Temp\\joblib_memmapping_folder_6060_7404571132\\6060-1941810183560-0c8713c68a0e4d3b95e62218d1f96c03.pkl\n",
      "Pickling array (shape=(15, 4000), dtype=float64).\n",
      "Pickling array (shape=(107,), dtype=object).\n",
      "Pickling array (shape=(15,), dtype=object).\n",
      "Pickling array (shape=(107,), dtype=int64).\n",
      "Pickling array (shape=(15,), dtype=int64).\n",
      "Pickling array (shape=(4000,), dtype=int64).\n",
      "Pickling array (shape=(4000,), dtype=int64).\n",
      "Pickling array (shape=(2667,), dtype=int32).\n",
      "Pickling array (shape=(1333,), dtype=int32).\n"
     ]
    },
    {
     "name": "stdout",
     "output_type": "stream",
     "text": [
      "[Parallel(n_jobs=-1)]: Done  12 tasks      | elapsed:    9.4s\n",
      "Pickling array (shape=(122,), dtype=object).\n",
      "Pickling array (shape=(4000,), dtype=int64).\n",
      "Memmapping (shape=(107, 4000), dtype=int64) to old file C:\\Users\\amous\\AppData\\Local\\Temp\\joblib_memmapping_folder_6060_7404571132\\6060-1941810183560-0c8713c68a0e4d3b95e62218d1f96c03.pkl\n",
      "Pickling array (shape=(15, 4000), dtype=float64).\n",
      "Pickling array (shape=(107,), dtype=object).\n",
      "Pickling array (shape=(15,), dtype=object).\n",
      "Pickling array (shape=(107,), dtype=int64).\n",
      "Pickling array (shape=(15,), dtype=int64).\n",
      "Pickling array (shape=(4000,), dtype=int64).\n",
      "Pickling array (shape=(4000,), dtype=int64).\n",
      "Pickling array (shape=(2666,), dtype=int32).\n",
      "Pickling array (shape=(1334,), dtype=int32).\n",
      "[Parallel(n_jobs=-1)]: Done  13 tasks      | elapsed:   10.9s\n",
      "Pickling array (shape=(122,), dtype=object).\n",
      "Pickling array (shape=(4000,), dtype=int64).\n",
      "Memmapping (shape=(107, 4000), dtype=int64) to old file C:\\Users\\amous\\AppData\\Local\\Temp\\joblib_memmapping_folder_6060_7404571132\\6060-1941810183560-0c8713c68a0e4d3b95e62218d1f96c03.pkl\n",
      "Pickling array (shape=(15, 4000), dtype=float64).\n",
      "Pickling array (shape=(107,), dtype=object).\n",
      "Pickling array (shape=(15,), dtype=object).\n",
      "Pickling array (shape=(107,), dtype=int64).\n",
      "Pickling array (shape=(15,), dtype=int64).\n",
      "Pickling array (shape=(4000,), dtype=int64).\n",
      "Pickling array (shape=(4000,), dtype=int64).\n",
      "Pickling array (shape=(2667,), dtype=int32).\n",
      "Pickling array (shape=(1333,), dtype=int32).\n",
      "[Parallel(n_jobs=-1)]: Done  14 tasks      | elapsed:   10.9s\n",
      "Pickling array (shape=(122,), dtype=object).\n",
      "Pickling array (shape=(4000,), dtype=int64).\n",
      "Memmapping (shape=(107, 4000), dtype=int64) to old file C:\\Users\\amous\\AppData\\Local\\Temp\\joblib_memmapping_folder_6060_7404571132\\6060-1941810183560-0c8713c68a0e4d3b95e62218d1f96c03.pkl\n",
      "Pickling array (shape=(15, 4000), dtype=float64).\n",
      "Pickling array (shape=(107,), dtype=object).\n",
      "Pickling array (shape=(15,), dtype=object).\n",
      "Pickling array (shape=(107,), dtype=int64).\n",
      "Pickling array (shape=(15,), dtype=int64).\n",
      "Pickling array (shape=(4000,), dtype=int64).\n",
      "Pickling array (shape=(4000,), dtype=int64).\n",
      "Pickling array (shape=(2667,), dtype=int32).\n",
      "Pickling array (shape=(1333,), dtype=int32).\n",
      "[Parallel(n_jobs=-1)]: Done  15 tasks      | elapsed:   11.0s\n",
      "Pickling array (shape=(122,), dtype=object).\n",
      "Pickling array (shape=(4000,), dtype=int64).\n",
      "Memmapping (shape=(107, 4000), dtype=int64) to old file C:\\Users\\amous\\AppData\\Local\\Temp\\joblib_memmapping_folder_6060_7404571132\\6060-1941810183560-0c8713c68a0e4d3b95e62218d1f96c03.pkl\n",
      "Pickling array (shape=(15, 4000), dtype=float64).\n",
      "Pickling array (shape=(107,), dtype=object).\n",
      "Pickling array (shape=(15,), dtype=object).\n",
      "Pickling array (shape=(107,), dtype=int64).\n",
      "Pickling array (shape=(15,), dtype=int64).\n",
      "Pickling array (shape=(4000,), dtype=int64).\n",
      "Pickling array (shape=(4000,), dtype=int64).\n",
      "Pickling array (shape=(2666,), dtype=int32).\n",
      "Pickling array (shape=(1334,), dtype=int32).\n",
      "[Parallel(n_jobs=-1)]: Done  16 tasks      | elapsed:   13.2s\n",
      "Pickling array (shape=(122,), dtype=object).\n",
      "Pickling array (shape=(4000,), dtype=int64).\n",
      "Memmapping (shape=(107, 4000), dtype=int64) to old file C:\\Users\\amous\\AppData\\Local\\Temp\\joblib_memmapping_folder_6060_7404571132\\6060-1941810183560-0c8713c68a0e4d3b95e62218d1f96c03.pkl\n",
      "Pickling array (shape=(15, 4000), dtype=float64).\n",
      "Pickling array (shape=(107,), dtype=object).\n",
      "Pickling array (shape=(15,), dtype=object).\n",
      "Pickling array (shape=(107,), dtype=int64).\n",
      "Pickling array (shape=(15,), dtype=int64).\n",
      "Pickling array (shape=(4000,), dtype=int64).\n",
      "Pickling array (shape=(4000,), dtype=int64).\n",
      "Pickling array (shape=(2667,), dtype=int32).\n",
      "Pickling array (shape=(1333,), dtype=int32).\n",
      "[Parallel(n_jobs=-1)]: Done  17 tasks      | elapsed:   13.3s\n",
      "Pickling array (shape=(122,), dtype=object).\n",
      "Pickling array (shape=(4000,), dtype=int64).\n",
      "Memmapping (shape=(107, 4000), dtype=int64) to old file C:\\Users\\amous\\AppData\\Local\\Temp\\joblib_memmapping_folder_6060_7404571132\\6060-1941810183560-0c8713c68a0e4d3b95e62218d1f96c03.pkl\n",
      "Pickling array (shape=(15, 4000), dtype=float64).\n",
      "Pickling array (shape=(107,), dtype=object).\n",
      "Pickling array (shape=(15,), dtype=object).\n",
      "Pickling array (shape=(107,), dtype=int64).\n",
      "Pickling array (shape=(15,), dtype=int64).\n",
      "Pickling array (shape=(4000,), dtype=int64).\n",
      "Pickling array (shape=(4000,), dtype=int64).\n",
      "Pickling array (shape=(2667,), dtype=int32).\n",
      "Pickling array (shape=(1333,), dtype=int32).\n",
      "[Parallel(n_jobs=-1)]: Done  18 tasks      | elapsed:   13.3s\n",
      "Pickling array (shape=(122,), dtype=object).\n",
      "Pickling array (shape=(4000,), dtype=int64).\n",
      "Memmapping (shape=(107, 4000), dtype=int64) to old file C:\\Users\\amous\\AppData\\Local\\Temp\\joblib_memmapping_folder_6060_7404571132\\6060-1941810183560-0c8713c68a0e4d3b95e62218d1f96c03.pkl\n",
      "Pickling array (shape=(15, 4000), dtype=float64).\n",
      "Pickling array (shape=(107,), dtype=object).\n",
      "Pickling array (shape=(15,), dtype=object).\n",
      "Pickling array (shape=(107,), dtype=int64).\n",
      "Pickling array (shape=(15,), dtype=int64).\n",
      "Pickling array (shape=(4000,), dtype=int64).\n",
      "Pickling array (shape=(4000,), dtype=int64).\n",
      "Pickling array (shape=(2666,), dtype=int32).\n",
      "Pickling array (shape=(1334,), dtype=int32).\n",
      "[Parallel(n_jobs=-1)]: Done  19 tasks      | elapsed:   18.6s\n",
      "Pickling array (shape=(122,), dtype=object).\n",
      "Pickling array (shape=(4000,), dtype=int64).\n",
      "Memmapping (shape=(107, 4000), dtype=int64) to old file C:\\Users\\amous\\AppData\\Local\\Temp\\joblib_memmapping_folder_6060_7404571132\\6060-1941810183560-0c8713c68a0e4d3b95e62218d1f96c03.pkl\n",
      "Pickling array (shape=(15, 4000), dtype=float64).\n",
      "Pickling array (shape=(107,), dtype=object).\n",
      "Pickling array (shape=(15,), dtype=object).\n",
      "Pickling array (shape=(107,), dtype=int64).\n",
      "Pickling array (shape=(15,), dtype=int64).\n",
      "Pickling array (shape=(4000,), dtype=int64).\n",
      "Pickling array (shape=(4000,), dtype=int64).\n",
      "Pickling array (shape=(2667,), dtype=int32).\n",
      "Pickling array (shape=(1333,), dtype=int32).\n",
      "[Parallel(n_jobs=-1)]: Done  20 tasks      | elapsed:   18.6s\n",
      "Pickling array (shape=(122,), dtype=object).\n",
      "Pickling array (shape=(4000,), dtype=int64).\n",
      "Memmapping (shape=(107, 4000), dtype=int64) to old file C:\\Users\\amous\\AppData\\Local\\Temp\\joblib_memmapping_folder_6060_7404571132\\6060-1941810183560-0c8713c68a0e4d3b95e62218d1f96c03.pkl\n",
      "Pickling array (shape=(15, 4000), dtype=float64).\n",
      "Pickling array (shape=(107,), dtype=object).\n",
      "Pickling array (shape=(15,), dtype=object).\n",
      "Pickling array (shape=(107,), dtype=int64).\n",
      "Pickling array (shape=(15,), dtype=int64).\n",
      "Pickling array (shape=(4000,), dtype=int64).\n",
      "Pickling array (shape=(4000,), dtype=int64).\n",
      "Pickling array (shape=(2667,), dtype=int32).\n",
      "Pickling array (shape=(1333,), dtype=int32).\n",
      "[Parallel(n_jobs=-1)]: Done  21 tasks      | elapsed:   18.7s\n",
      "Pickling array (shape=(122,), dtype=object).\n",
      "Pickling array (shape=(4000,), dtype=int64).\n",
      "Memmapping (shape=(107, 4000), dtype=int64) to old file C:\\Users\\amous\\AppData\\Local\\Temp\\joblib_memmapping_folder_6060_7404571132\\6060-1941810183560-0c8713c68a0e4d3b95e62218d1f96c03.pkl\n",
      "Pickling array (shape=(15, 4000), dtype=float64).\n",
      "Pickling array (shape=(107,), dtype=object).\n",
      "Pickling array (shape=(15,), dtype=object).\n",
      "Pickling array (shape=(107,), dtype=int64).\n",
      "Pickling array (shape=(15,), dtype=int64).\n",
      "Pickling array (shape=(4000,), dtype=int64).\n",
      "Pickling array (shape=(4000,), dtype=int64).\n",
      "Pickling array (shape=(2666,), dtype=int32).\n",
      "Pickling array (shape=(1334,), dtype=int32).\n",
      "[Parallel(n_jobs=-1)]: Done  22 tasks      | elapsed:   53.8s\n",
      "Pickling array (shape=(122,), dtype=object).\n",
      "Pickling array (shape=(4000,), dtype=int64).\n",
      "Memmapping (shape=(107, 4000), dtype=int64) to old file C:\\Users\\amous\\AppData\\Local\\Temp\\joblib_memmapping_folder_6060_7404571132\\6060-1941810183560-0c8713c68a0e4d3b95e62218d1f96c03.pkl\n",
      "Pickling array (shape=(15, 4000), dtype=float64).\n",
      "Pickling array (shape=(107,), dtype=object).\n",
      "Pickling array (shape=(15,), dtype=object).\n",
      "Pickling array (shape=(107,), dtype=int64).\n",
      "Pickling array (shape=(15,), dtype=int64).\n",
      "Pickling array (shape=(4000,), dtype=int64).\n",
      "Pickling array (shape=(4000,), dtype=int64).\n",
      "Pickling array (shape=(2667,), dtype=int32).\n",
      "Pickling array (shape=(1333,), dtype=int32).\n"
     ]
    },
    {
     "name": "stdout",
     "output_type": "stream",
     "text": [
      "[Parallel(n_jobs=-1)]: Done  23 tasks      | elapsed:   55.7s\n",
      "Pickling array (shape=(122,), dtype=object).\n",
      "Pickling array (shape=(4000,), dtype=int64).\n",
      "Memmapping (shape=(107, 4000), dtype=int64) to old file C:\\Users\\amous\\AppData\\Local\\Temp\\joblib_memmapping_folder_6060_7404571132\\6060-1941810183560-0c8713c68a0e4d3b95e62218d1f96c03.pkl\n",
      "Pickling array (shape=(15, 4000), dtype=float64).\n",
      "Pickling array (shape=(107,), dtype=object).\n",
      "Pickling array (shape=(15,), dtype=object).\n",
      "Pickling array (shape=(107,), dtype=int64).\n",
      "Pickling array (shape=(15,), dtype=int64).\n",
      "Pickling array (shape=(4000,), dtype=int64).\n",
      "Pickling array (shape=(4000,), dtype=int64).\n",
      "Pickling array (shape=(2667,), dtype=int32).\n",
      "Pickling array (shape=(1333,), dtype=int32).\n",
      "[Parallel(n_jobs=-1)]: Done  24 tasks      | elapsed:   57.7s\n",
      "Pickling array (shape=(122,), dtype=object).\n",
      "Pickling array (shape=(4000,), dtype=int64).\n",
      "Memmapping (shape=(107, 4000), dtype=int64) to old file C:\\Users\\amous\\AppData\\Local\\Temp\\joblib_memmapping_folder_6060_7404571132\\6060-1941810183560-0c8713c68a0e4d3b95e62218d1f96c03.pkl\n",
      "Pickling array (shape=(15, 4000), dtype=float64).\n",
      "Pickling array (shape=(107,), dtype=object).\n",
      "Pickling array (shape=(15,), dtype=object).\n",
      "Pickling array (shape=(107,), dtype=int64).\n",
      "Pickling array (shape=(15,), dtype=int64).\n",
      "Pickling array (shape=(4000,), dtype=int64).\n",
      "Pickling array (shape=(4000,), dtype=int64).\n",
      "Pickling array (shape=(2666,), dtype=int32).\n",
      "Pickling array (shape=(1334,), dtype=int32).\n",
      "[Parallel(n_jobs=-1)]: Done  25 tasks      | elapsed:   59.6s\n",
      "Pickling array (shape=(122,), dtype=object).\n",
      "Pickling array (shape=(4000,), dtype=int64).\n",
      "Memmapping (shape=(107, 4000), dtype=int64) to old file C:\\Users\\amous\\AppData\\Local\\Temp\\joblib_memmapping_folder_6060_7404571132\\6060-1941810183560-0c8713c68a0e4d3b95e62218d1f96c03.pkl\n",
      "Pickling array (shape=(15, 4000), dtype=float64).\n",
      "Pickling array (shape=(107,), dtype=object).\n",
      "Pickling array (shape=(15,), dtype=object).\n",
      "Pickling array (shape=(107,), dtype=int64).\n",
      "Pickling array (shape=(15,), dtype=int64).\n",
      "Pickling array (shape=(4000,), dtype=int64).\n",
      "Pickling array (shape=(4000,), dtype=int64).\n",
      "Pickling array (shape=(2667,), dtype=int32).\n",
      "Pickling array (shape=(1333,), dtype=int32).\n",
      "[Parallel(n_jobs=-1)]: Done  26 tasks      | elapsed:  1.1min\n",
      "Pickling array (shape=(122,), dtype=object).\n",
      "Pickling array (shape=(4000,), dtype=int64).\n",
      "Memmapping (shape=(107, 4000), dtype=int64) to old file C:\\Users\\amous\\AppData\\Local\\Temp\\joblib_memmapping_folder_6060_7404571132\\6060-1941810183560-0c8713c68a0e4d3b95e62218d1f96c03.pkl\n",
      "Pickling array (shape=(15, 4000), dtype=float64).\n",
      "Pickling array (shape=(107,), dtype=object).\n",
      "Pickling array (shape=(15,), dtype=object).\n",
      "Pickling array (shape=(107,), dtype=int64).\n",
      "Pickling array (shape=(15,), dtype=int64).\n",
      "Pickling array (shape=(4000,), dtype=int64).\n",
      "Pickling array (shape=(4000,), dtype=int64).\n",
      "Pickling array (shape=(2667,), dtype=int32).\n",
      "Pickling array (shape=(1333,), dtype=int32).\n",
      "[Parallel(n_jobs=-1)]: Done  27 tasks      | elapsed:  1.2min\n",
      "Pickling array (shape=(122,), dtype=object).\n",
      "Pickling array (shape=(4000,), dtype=int64).\n",
      "Memmapping (shape=(107, 4000), dtype=int64) to old file C:\\Users\\amous\\AppData\\Local\\Temp\\joblib_memmapping_folder_6060_7404571132\\6060-1941810183560-0c8713c68a0e4d3b95e62218d1f96c03.pkl\n",
      "Pickling array (shape=(15, 4000), dtype=float64).\n",
      "Pickling array (shape=(107,), dtype=object).\n",
      "Pickling array (shape=(15,), dtype=object).\n",
      "Pickling array (shape=(107,), dtype=int64).\n",
      "Pickling array (shape=(15,), dtype=int64).\n",
      "Pickling array (shape=(4000,), dtype=int64).\n",
      "Pickling array (shape=(4000,), dtype=int64).\n",
      "Pickling array (shape=(2666,), dtype=int32).\n",
      "Pickling array (shape=(1334,), dtype=int32).\n",
      "[Parallel(n_jobs=-1)]: Done  28 tasks      | elapsed:  1.2min\n",
      "Pickling array (shape=(122,), dtype=object).\n",
      "Pickling array (shape=(4000,), dtype=int64).\n",
      "Memmapping (shape=(107, 4000), dtype=int64) to old file C:\\Users\\amous\\AppData\\Local\\Temp\\joblib_memmapping_folder_6060_7404571132\\6060-1941810183560-0c8713c68a0e4d3b95e62218d1f96c03.pkl\n",
      "Pickling array (shape=(15, 4000), dtype=float64).\n",
      "Pickling array (shape=(107,), dtype=object).\n",
      "Pickling array (shape=(15,), dtype=object).\n",
      "Pickling array (shape=(107,), dtype=int64).\n",
      "Pickling array (shape=(15,), dtype=int64).\n",
      "Pickling array (shape=(4000,), dtype=int64).\n",
      "Pickling array (shape=(4000,), dtype=int64).\n",
      "Pickling array (shape=(2667,), dtype=int32).\n",
      "Pickling array (shape=(1333,), dtype=int32).\n",
      "[Parallel(n_jobs=-1)]: Done  29 tasks      | elapsed:  1.2min\n",
      "Pickling array (shape=(122,), dtype=object).\n",
      "Pickling array (shape=(4000,), dtype=int64).\n",
      "Memmapping (shape=(107, 4000), dtype=int64) to old file C:\\Users\\amous\\AppData\\Local\\Temp\\joblib_memmapping_folder_6060_7404571132\\6060-1941810183560-0c8713c68a0e4d3b95e62218d1f96c03.pkl\n",
      "Pickling array (shape=(15, 4000), dtype=float64).\n",
      "Pickling array (shape=(107,), dtype=object).\n",
      "Pickling array (shape=(15,), dtype=object).\n",
      "Pickling array (shape=(107,), dtype=int64).\n",
      "Pickling array (shape=(15,), dtype=int64).\n",
      "Pickling array (shape=(4000,), dtype=int64).\n",
      "Pickling array (shape=(4000,), dtype=int64).\n",
      "Pickling array (shape=(2667,), dtype=int32).\n",
      "Pickling array (shape=(1333,), dtype=int32).\n",
      "[Parallel(n_jobs=-1)]: Done  30 tasks      | elapsed:  6.3min\n",
      "Pickling array (shape=(122,), dtype=object).\n",
      "Pickling array (shape=(4000,), dtype=int64).\n",
      "Memmapping (shape=(107, 4000), dtype=int64) to old file C:\\Users\\amous\\AppData\\Local\\Temp\\joblib_memmapping_folder_6060_7404571132\\6060-1941810183560-0c8713c68a0e4d3b95e62218d1f96c03.pkl\n",
      "Pickling array (shape=(15, 4000), dtype=float64).\n",
      "Pickling array (shape=(107,), dtype=object).\n",
      "Pickling array (shape=(15,), dtype=object).\n",
      "Pickling array (shape=(107,), dtype=int64).\n",
      "Pickling array (shape=(15,), dtype=int64).\n",
      "Pickling array (shape=(4000,), dtype=int64).\n",
      "Pickling array (shape=(4000,), dtype=int64).\n",
      "Pickling array (shape=(2666,), dtype=int32).\n",
      "Pickling array (shape=(1334,), dtype=int32).\n",
      "[Parallel(n_jobs=-1)]: Done  31 tasks      | elapsed:  6.5min\n",
      "Pickling array (shape=(122,), dtype=object).\n",
      "Pickling array (shape=(4000,), dtype=int64).\n",
      "Memmapping (shape=(107, 4000), dtype=int64) to old file C:\\Users\\amous\\AppData\\Local\\Temp\\joblib_memmapping_folder_6060_7404571132\\6060-1941810183560-0c8713c68a0e4d3b95e62218d1f96c03.pkl\n",
      "Pickling array (shape=(15, 4000), dtype=float64).\n",
      "Pickling array (shape=(107,), dtype=object).\n",
      "Pickling array (shape=(15,), dtype=object).\n",
      "Pickling array (shape=(107,), dtype=int64).\n",
      "Pickling array (shape=(15,), dtype=int64).\n",
      "Pickling array (shape=(4000,), dtype=int64).\n",
      "Pickling array (shape=(4000,), dtype=int64).\n",
      "Pickling array (shape=(2667,), dtype=int32).\n",
      "Pickling array (shape=(1333,), dtype=int32).\n",
      "[Parallel(n_jobs=-1)]: Done  32 tasks      | elapsed:  6.6min\n",
      "Pickling array (shape=(122,), dtype=object).\n",
      "Pickling array (shape=(4000,), dtype=int64).\n",
      "Memmapping (shape=(107, 4000), dtype=int64) to old file C:\\Users\\amous\\AppData\\Local\\Temp\\joblib_memmapping_folder_6060_7404571132\\6060-1941810183560-0c8713c68a0e4d3b95e62218d1f96c03.pkl\n",
      "Pickling array (shape=(15, 4000), dtype=float64).\n",
      "Pickling array (shape=(107,), dtype=object).\n",
      "Pickling array (shape=(15,), dtype=object).\n",
      "Pickling array (shape=(107,), dtype=int64).\n",
      "Pickling array (shape=(15,), dtype=int64).\n",
      "Pickling array (shape=(4000,), dtype=int64).\n",
      "Pickling array (shape=(4000,), dtype=int64).\n",
      "Pickling array (shape=(2667,), dtype=int32).\n",
      "Pickling array (shape=(1333,), dtype=int32).\n",
      "[Parallel(n_jobs=-1)]: Done  33 tasks      | elapsed:  6.6min\n",
      "Pickling array (shape=(122,), dtype=object).\n",
      "Pickling array (shape=(4000,), dtype=int64).\n",
      "Memmapping (shape=(107, 4000), dtype=int64) to old file C:\\Users\\amous\\AppData\\Local\\Temp\\joblib_memmapping_folder_6060_7404571132\\6060-1941810183560-0c8713c68a0e4d3b95e62218d1f96c03.pkl\n",
      "Pickling array (shape=(15, 4000), dtype=float64).\n",
      "Pickling array (shape=(107,), dtype=object).\n",
      "Pickling array (shape=(15,), dtype=object).\n",
      "Pickling array (shape=(107,), dtype=int64).\n",
      "Pickling array (shape=(15,), dtype=int64).\n",
      "Pickling array (shape=(4000,), dtype=int64).\n",
      "Pickling array (shape=(4000,), dtype=int64).\n",
      "Pickling array (shape=(2666,), dtype=int32).\n",
      "Pickling array (shape=(1334,), dtype=int32).\n"
     ]
    },
    {
     "name": "stdout",
     "output_type": "stream",
     "text": [
      "[Parallel(n_jobs=-1)]: Done  34 tasks      | elapsed:  6.6min\n",
      "Pickling array (shape=(122,), dtype=object).\n",
      "Pickling array (shape=(4000,), dtype=int64).\n",
      "Memmapping (shape=(107, 4000), dtype=int64) to old file C:\\Users\\amous\\AppData\\Local\\Temp\\joblib_memmapping_folder_6060_7404571132\\6060-1941810183560-0c8713c68a0e4d3b95e62218d1f96c03.pkl\n",
      "Pickling array (shape=(15, 4000), dtype=float64).\n",
      "Pickling array (shape=(107,), dtype=object).\n",
      "Pickling array (shape=(15,), dtype=object).\n",
      "Pickling array (shape=(107,), dtype=int64).\n",
      "Pickling array (shape=(15,), dtype=int64).\n",
      "Pickling array (shape=(4000,), dtype=int64).\n",
      "Pickling array (shape=(4000,), dtype=int64).\n",
      "Pickling array (shape=(2667,), dtype=int32).\n",
      "Pickling array (shape=(1333,), dtype=int32).\n",
      "[Parallel(n_jobs=-1)]: Done  35 tasks      | elapsed:  6.7min\n",
      "Pickling array (shape=(122,), dtype=object).\n",
      "Pickling array (shape=(4000,), dtype=int64).\n",
      "Memmapping (shape=(107, 4000), dtype=int64) to old file C:\\Users\\amous\\AppData\\Local\\Temp\\joblib_memmapping_folder_6060_7404571132\\6060-1941810183560-0c8713c68a0e4d3b95e62218d1f96c03.pkl\n",
      "Pickling array (shape=(15, 4000), dtype=float64).\n",
      "Pickling array (shape=(107,), dtype=object).\n",
      "Pickling array (shape=(15,), dtype=object).\n",
      "Pickling array (shape=(107,), dtype=int64).\n",
      "Pickling array (shape=(15,), dtype=int64).\n",
      "Pickling array (shape=(4000,), dtype=int64).\n",
      "Pickling array (shape=(4000,), dtype=int64).\n",
      "Pickling array (shape=(2667,), dtype=int32).\n",
      "Pickling array (shape=(1333,), dtype=int32).\n",
      "[Parallel(n_jobs=-1)]: Done  36 tasks      | elapsed:  6.8min\n",
      "Pickling array (shape=(122,), dtype=object).\n",
      "Pickling array (shape=(4000,), dtype=int64).\n",
      "Memmapping (shape=(107, 4000), dtype=int64) to old file C:\\Users\\amous\\AppData\\Local\\Temp\\joblib_memmapping_folder_6060_7404571132\\6060-1941810183560-0c8713c68a0e4d3b95e62218d1f96c03.pkl\n",
      "Pickling array (shape=(15, 4000), dtype=float64).\n",
      "Pickling array (shape=(107,), dtype=object).\n",
      "Pickling array (shape=(15,), dtype=object).\n",
      "Pickling array (shape=(107,), dtype=int64).\n",
      "Pickling array (shape=(15,), dtype=int64).\n",
      "Pickling array (shape=(4000,), dtype=int64).\n",
      "Pickling array (shape=(4000,), dtype=int64).\n",
      "Pickling array (shape=(2666,), dtype=int32).\n",
      "Pickling array (shape=(1334,), dtype=int32).\n",
      "[Parallel(n_jobs=-1)]: Done  37 tasks      | elapsed:  6.8min\n",
      "Pickling array (shape=(122,), dtype=object).\n",
      "Pickling array (shape=(4000,), dtype=int64).\n",
      "Memmapping (shape=(107, 4000), dtype=int64) to old file C:\\Users\\amous\\AppData\\Local\\Temp\\joblib_memmapping_folder_6060_7404571132\\6060-1941810183560-0c8713c68a0e4d3b95e62218d1f96c03.pkl\n",
      "Pickling array (shape=(15, 4000), dtype=float64).\n",
      "Pickling array (shape=(107,), dtype=object).\n",
      "Pickling array (shape=(15,), dtype=object).\n",
      "Pickling array (shape=(107,), dtype=int64).\n",
      "Pickling array (shape=(15,), dtype=int64).\n",
      "Pickling array (shape=(4000,), dtype=int64).\n",
      "Pickling array (shape=(4000,), dtype=int64).\n",
      "Pickling array (shape=(2667,), dtype=int32).\n",
      "Pickling array (shape=(1333,), dtype=int32).\n"
     ]
    }
   ],
   "source": [
    "ss2.fit(X, y)"
   ]
  },
  {
   "cell_type": "code",
   "execution_count": null,
   "metadata": {},
   "outputs": [],
   "source": [
    "print(ss2.best_estimator_)"
   ]
  },
  {
   "cell_type": "code",
   "execution_count": null,
   "metadata": {},
   "outputs": [],
   "source": []
  },
  {
   "cell_type": "code",
   "execution_count": null,
   "metadata": {},
   "outputs": [],
   "source": [
    ".to_csv('NSL_MLP_scores.csv')"
   ]
  },
  {
   "cell_type": "markdown",
   "metadata": {},
   "source": [
    "# Adaboost "
   ]
  },
  {
   "cell_type": "code",
   "execution_count": 71,
   "metadata": {},
   "outputs": [],
   "source": [
    "from sklearn.ensemble import AdaBoostClassifier\n",
    "from sklearn.model_selection import GridSearchCV\n",
    "from sklearn.model_selection import RandomizedSearchCV"
   ]
  },
  {
   "cell_type": "code",
   "execution_count": 72,
   "metadata": {},
   "outputs": [],
   "source": [
    "adaModel = AdaBoostClassifier()"
   ]
  },
  {
   "cell_type": "code",
   "execution_count": 73,
   "metadata": {},
   "outputs": [
    {
     "name": "stderr",
     "output_type": "stream",
     "text": [
      "[Parallel(n_jobs=-1)]: Using backend LokyBackend with 12 concurrent workers.\n",
      "[Parallel(n_jobs=-1)]: Done   1 tasks      | elapsed:    1.1s\n",
      "[Parallel(n_jobs=-1)]: Done   3 out of   3 | elapsed:    1.1s remaining:    0.0s\n",
      "[Parallel(n_jobs=-1)]: Done   3 out of   3 | elapsed:    1.1s finished\n"
     ]
    }
   ],
   "source": [
    "adaScore = cross_validate(adaModel, X, y, cv=3, scoring=scoring_metrics, verbose=15 ,n_jobs=-1)"
   ]
  },
  {
   "cell_type": "code",
   "execution_count": 74,
   "metadata": {},
   "outputs": [],
   "source": [
    "ada = pd.DataFrame(adaScore)"
   ]
  },
  {
   "cell_type": "code",
   "execution_count": 75,
   "metadata": {},
   "outputs": [],
   "source": [
    "ada.to_csv('NSL_DOS_ADA_scores.csv')"
   ]
  },
  {
   "cell_type": "code",
   "execution_count": 76,
   "metadata": {},
   "outputs": [
    {
     "name": "stdout",
     "output_type": "stream",
     "text": [
      "   fit_time  score_time  test_accuracy  test_precision  test_recall  \\\n",
      "0  0.504650    0.072880       0.998500        0.998500     0.998500   \n",
      "1  0.515654    0.074803       0.999250        0.999250     0.999250   \n",
      "2  0.505684    0.072836       0.997749        0.997749     0.997749   \n",
      "\n",
      "   test_f1_score  \n",
      "0       0.998500  \n",
      "1       0.999250  \n",
      "2       0.997749  \n"
     ]
    }
   ],
   "source": [
    "print(ada)"
   ]
  },
  {
   "cell_type": "code",
   "execution_count": 77,
   "metadata": {},
   "outputs": [],
   "source": [
    "ada_parameters={'n_estimators':[500,1000,2000],'learning_rate':[.001,0.01,.1]}\n"
   ]
  },
  {
   "cell_type": "code",
   "execution_count": 80,
   "metadata": {},
   "outputs": [],
   "source": [
    "ada_grid=GridSearchCV(estimator=adaModel, param_grid=ada_parameters, scoring='accuracy',n_jobs=1,cv=4)"
   ]
  },
  {
   "cell_type": "code",
   "execution_count": 81,
   "metadata": {},
   "outputs": [
    {
     "data": {
      "text/plain": [
       "GridSearchCV(cv=4, error_score=nan,\n",
       "             estimator=AdaBoostClassifier(algorithm='SAMME.R',\n",
       "                                          base_estimator=None,\n",
       "                                          learning_rate=1.0, n_estimators=50,\n",
       "                                          random_state=None),\n",
       "             iid='deprecated', n_jobs=1,\n",
       "             param_grid={'learning_rate': [0.001, 0.01, 0.1],\n",
       "                         'n_estimators': [500, 1000, 2000]},\n",
       "             pre_dispatch='2*n_jobs', refit=True, return_train_score=False,\n",
       "             scoring='accuracy', verbose=0)"
      ]
     },
     "execution_count": 81,
     "metadata": {},
     "output_type": "execute_result"
    }
   ],
   "source": [
    "ada_grid.fit(X,y)"
   ]
  },
  {
   "cell_type": "code",
   "execution_count": 84,
   "metadata": {},
   "outputs": [],
   "source": [
    "adaGridScores=pd.DataFrame(ada_grid.cv_results_)\n",
    "adaGridScores.head()\n",
    "adaGridScores.to_csv('NSL_DOS_ada_gridsearch.csv')"
   ]
  },
  {
   "cell_type": "code",
   "execution_count": 90,
   "metadata": {},
   "outputs": [
    {
     "name": "stdout",
     "output_type": "stream",
     "text": [
      "{'learning_rate': 0.1, 'n_estimators': 1000}\n"
     ]
    }
   ],
   "source": [
    "\n",
    "print(ada_grid.best_params_)\n"
   ]
  },
  {
   "cell_type": "code",
   "execution_count": 96,
   "metadata": {},
   "outputs": [],
   "source": [
    "temp = pd.DataFrame(ada_grid.best_params_ , index=[0])\n",
    "temp.to_csv('NSL_DOS_ada_bestParams.csv')"
   ]
  },
  {
   "cell_type": "code",
   "execution_count": 97,
   "metadata": {},
   "outputs": [
    {
     "name": "stderr",
     "output_type": "stream",
     "text": [
      "[Parallel(n_jobs=-1)]: Using backend LokyBackend with 12 concurrent workers.\n",
      "[Parallel(n_jobs=-1)]: Done   4 out of   4 | elapsed:   13.3s finished\n"
     ]
    }
   ],
   "source": [
    "adaFinalScore=cross_validate(adaFinalModel, X, y, cv=4, scoring=scoring_metrics, verbose=15, n_jobs=-1)"
   ]
  },
  {
   "cell_type": "code",
   "execution_count": 100,
   "metadata": {},
   "outputs": [
    {
     "name": "stdout",
     "output_type": "stream",
     "text": [
      "    fit_time  score_time  test_accuracy  test_precision  test_recall  \\\n",
      "0  11.500742    0.662872         0.9980          0.9980       0.9980   \n",
      "1  11.444706    0.687911         1.0000          1.0000       1.0000   \n",
      "2  11.490767    0.662810         0.9975          0.9975       0.9975   \n",
      "3  11.691665    0.631032         0.9985          0.9985       0.9985   \n",
      "\n",
      "   test_f1_score  \n",
      "0         0.9980  \n",
      "1         1.0000  \n",
      "2         0.9975  \n",
      "3         0.9985  \n"
     ]
    }
   ],
   "source": [
    "adaFinalScore = pd.DataFrame(adaFinalScore)\n",
    "adaFinalScore.to_csv('NSL_DOS_ada_final.csv')\n",
    "print(adaFinalScore)"
   ]
  },
  {
   "cell_type": "raw",
   "metadata": {},
   "source": []
  },
  {
   "cell_type": "markdown",
   "metadata": {},
   "source": [
    "# Random Forest"
   ]
  },
  {
   "cell_type": "code",
   "execution_count": 101,
   "metadata": {},
   "outputs": [],
   "source": [
    "from sklearn.ensemble import RandomForestClassifier"
   ]
  },
  {
   "cell_type": "code",
   "execution_count": 102,
   "metadata": {},
   "outputs": [],
   "source": [
    "randomForestModel = RandomForestClassifier(max_depth=2, random_state=0, n_estimators=100)"
   ]
  },
  {
   "cell_type": "code",
   "execution_count": 103,
   "metadata": {
    "scrolled": true
   },
   "outputs": [
    {
     "name": "stderr",
     "output_type": "stream",
     "text": [
      "[Parallel(n_jobs=-1)]: Using backend LokyBackend with 12 concurrent workers.\n",
      "[Parallel(n_jobs=-1)]: Done   4 out of   4 | elapsed:    1.2s finished\n"
     ]
    }
   ],
   "source": [
    "randomForestScore = cross_validate(randomForestModel, X, y, cv=4, scoring=scoring_metrics, verbose=3 ,n_jobs=-1)"
   ]
  },
  {
   "cell_type": "code",
   "execution_count": 104,
   "metadata": {
    "scrolled": true
   },
   "outputs": [],
   "source": [
    "randomForestScore = pd.DataFrame(randomForestScore)"
   ]
  },
  {
   "cell_type": "code",
   "execution_count": 105,
   "metadata": {},
   "outputs": [],
   "source": [
    "randomForestScore.to_csv('NSL_DOS_RandomForest_scores.csv')"
   ]
  },
  {
   "cell_type": "code",
   "execution_count": null,
   "metadata": {},
   "outputs": [],
   "source": []
  },
  {
   "cell_type": "code",
   "execution_count": null,
   "metadata": {},
   "outputs": [],
   "source": []
  },
  {
   "cell_type": "code",
   "execution_count": 106,
   "metadata": {},
   "outputs": [],
   "source": [
    "rf_parameters={'n_estimators' : range(80,200,20),'max_depth': range(1,20,3), 'min_samples_split': np.arange(0.1,1,0.1)}"
   ]
  },
  {
   "cell_type": "code",
   "execution_count": 107,
   "metadata": {},
   "outputs": [],
   "source": [
    "rf2 = RandomForestClassifier()"
   ]
  },
  {
   "cell_type": "code",
   "execution_count": 108,
   "metadata": {},
   "outputs": [],
   "source": [
    "dlGrid = GridSearchCV(rf2, rf_parameters, scoring=scoring_metrics, refit='accuracy', verbose=3, n_jobs=-1, cv=3)"
   ]
  },
  {
   "cell_type": "code",
   "execution_count": 109,
   "metadata": {
    "scrolled": true
   },
   "outputs": [
    {
     "name": "stdout",
     "output_type": "stream",
     "text": [
      "Fitting 3 folds for each of 378 candidates, totalling 1134 fits\n"
     ]
    },
    {
     "name": "stderr",
     "output_type": "stream",
     "text": [
      "[Parallel(n_jobs=-1)]: Using backend LokyBackend with 12 concurrent workers.\n",
      "[Parallel(n_jobs=-1)]: Done   8 tasks      | elapsed:    1.2s\n",
      "[Parallel(n_jobs=-1)]: Done 104 tasks      | elapsed:    5.1s\n",
      "[Parallel(n_jobs=-1)]: Done 264 tasks      | elapsed:   12.4s\n",
      "[Parallel(n_jobs=-1)]: Done 488 tasks      | elapsed:   22.9s\n",
      "[Parallel(n_jobs=-1)]: Done 776 tasks      | elapsed:   37.2s\n",
      "[Parallel(n_jobs=-1)]: Done 1134 out of 1134 | elapsed:   53.9s finished\n"
     ]
    },
    {
     "data": {
      "text/plain": [
       "GridSearchCV(cv=3, error_score=nan,\n",
       "             estimator=RandomForestClassifier(bootstrap=True, ccp_alpha=0.0,\n",
       "                                              class_weight=None,\n",
       "                                              criterion='gini', max_depth=None,\n",
       "                                              max_features='auto',\n",
       "                                              max_leaf_nodes=None,\n",
       "                                              max_samples=None,\n",
       "                                              min_impurity_decrease=0.0,\n",
       "                                              min_impurity_split=None,\n",
       "                                              min_samples_leaf=1,\n",
       "                                              min_samples_split=2,\n",
       "                                              min_weight_fraction_leaf=0.0,\n",
       "                                              n_estimators=100, n_jobs=None,...\n",
       "                         'min_samples_split': array([0.1, 0.2, 0.3, 0.4, 0.5, 0.6, 0.7, 0.8, 0.9]),\n",
       "                         'n_estimators': range(80, 200, 20)},\n",
       "             pre_dispatch='2*n_jobs', refit='accuracy',\n",
       "             return_train_score=False,\n",
       "             scoring={'accuracy': make_scorer(accuracy_score),\n",
       "                      'f1_score': make_scorer(f1_score, average=micro),\n",
       "                      'precision': make_scorer(precision_score, average=micro),\n",
       "                      'recall': make_scorer(recall_score, average=micro)},\n",
       "             verbose=3)"
      ]
     },
     "execution_count": 109,
     "metadata": {},
     "output_type": "execute_result"
    }
   ],
   "source": [
    "dlGrid.fit(X, y)"
   ]
  },
  {
   "cell_type": "code",
   "execution_count": 110,
   "metadata": {},
   "outputs": [
    {
     "data": {
      "text/html": [
       "<div>\n",
       "<style scoped>\n",
       "    .dataframe tbody tr th:only-of-type {\n",
       "        vertical-align: middle;\n",
       "    }\n",
       "\n",
       "    .dataframe tbody tr th {\n",
       "        vertical-align: top;\n",
       "    }\n",
       "\n",
       "    .dataframe thead th {\n",
       "        text-align: right;\n",
       "    }\n",
       "</style>\n",
       "<table border=\"1\" class=\"dataframe\">\n",
       "  <thead>\n",
       "    <tr style=\"text-align: right;\">\n",
       "      <th></th>\n",
       "      <th>mean_fit_time</th>\n",
       "      <th>std_fit_time</th>\n",
       "      <th>mean_score_time</th>\n",
       "      <th>std_score_time</th>\n",
       "      <th>param_max_depth</th>\n",
       "      <th>param_min_samples_split</th>\n",
       "      <th>param_n_estimators</th>\n",
       "      <th>params</th>\n",
       "      <th>split0_test_accuracy</th>\n",
       "      <th>split1_test_accuracy</th>\n",
       "      <th>...</th>\n",
       "      <th>split2_test_recall</th>\n",
       "      <th>mean_test_recall</th>\n",
       "      <th>std_test_recall</th>\n",
       "      <th>rank_test_recall</th>\n",
       "      <th>split0_test_f1_score</th>\n",
       "      <th>split1_test_f1_score</th>\n",
       "      <th>split2_test_f1_score</th>\n",
       "      <th>mean_test_f1_score</th>\n",
       "      <th>std_test_f1_score</th>\n",
       "      <th>rank_test_f1_score</th>\n",
       "    </tr>\n",
       "  </thead>\n",
       "  <tbody>\n",
       "    <tr>\n",
       "      <th>0</th>\n",
       "      <td>0.264086</td>\n",
       "      <td>0.007596</td>\n",
       "      <td>0.037351</td>\n",
       "      <td>0.002521</td>\n",
       "      <td>1</td>\n",
       "      <td>0.1</td>\n",
       "      <td>80</td>\n",
       "      <td>{'max_depth': 1, 'min_samples_split': 0.1, 'n_...</td>\n",
       "      <td>0.959880</td>\n",
       "      <td>0.956505</td>\n",
       "      <td>...</td>\n",
       "      <td>0.948987</td>\n",
       "      <td>0.955124</td>\n",
       "      <td>0.004553</td>\n",
       "      <td>239</td>\n",
       "      <td>0.959880</td>\n",
       "      <td>0.956505</td>\n",
       "      <td>0.948987</td>\n",
       "      <td>0.955124</td>\n",
       "      <td>0.004553</td>\n",
       "      <td>239</td>\n",
       "    </tr>\n",
       "    <tr>\n",
       "      <th>1</th>\n",
       "      <td>0.335859</td>\n",
       "      <td>0.009259</td>\n",
       "      <td>0.042348</td>\n",
       "      <td>0.000496</td>\n",
       "      <td>1</td>\n",
       "      <td>0.1</td>\n",
       "      <td>100</td>\n",
       "      <td>{'max_depth': 1, 'min_samples_split': 0.1, 'n_...</td>\n",
       "      <td>0.962130</td>\n",
       "      <td>0.956505</td>\n",
       "      <td>...</td>\n",
       "      <td>0.950113</td>\n",
       "      <td>0.956249</td>\n",
       "      <td>0.004909</td>\n",
       "      <td>164</td>\n",
       "      <td>0.962130</td>\n",
       "      <td>0.956505</td>\n",
       "      <td>0.950113</td>\n",
       "      <td>0.956249</td>\n",
       "      <td>0.004909</td>\n",
       "      <td>164</td>\n",
       "    </tr>\n",
       "    <tr>\n",
       "      <th>2</th>\n",
       "      <td>0.423914</td>\n",
       "      <td>0.019125</td>\n",
       "      <td>0.052947</td>\n",
       "      <td>0.009846</td>\n",
       "      <td>1</td>\n",
       "      <td>0.1</td>\n",
       "      <td>120</td>\n",
       "      <td>{'max_depth': 1, 'min_samples_split': 0.1, 'n_...</td>\n",
       "      <td>0.962130</td>\n",
       "      <td>0.956505</td>\n",
       "      <td>...</td>\n",
       "      <td>0.950488</td>\n",
       "      <td>0.956374</td>\n",
       "      <td>0.004754</td>\n",
       "      <td>146</td>\n",
       "      <td>0.962130</td>\n",
       "      <td>0.956505</td>\n",
       "      <td>0.950488</td>\n",
       "      <td>0.956374</td>\n",
       "      <td>0.004754</td>\n",
       "      <td>146</td>\n",
       "    </tr>\n",
       "    <tr>\n",
       "      <th>3</th>\n",
       "      <td>0.496024</td>\n",
       "      <td>0.022037</td>\n",
       "      <td>0.061170</td>\n",
       "      <td>0.003291</td>\n",
       "      <td>1</td>\n",
       "      <td>0.1</td>\n",
       "      <td>140</td>\n",
       "      <td>{'max_depth': 1, 'min_samples_split': 0.1, 'n_...</td>\n",
       "      <td>0.960630</td>\n",
       "      <td>0.956505</td>\n",
       "      <td>...</td>\n",
       "      <td>0.949737</td>\n",
       "      <td>0.955624</td>\n",
       "      <td>0.004490</td>\n",
       "      <td>228</td>\n",
       "      <td>0.960630</td>\n",
       "      <td>0.956505</td>\n",
       "      <td>0.949737</td>\n",
       "      <td>0.955624</td>\n",
       "      <td>0.004490</td>\n",
       "      <td>228</td>\n",
       "    </tr>\n",
       "    <tr>\n",
       "      <th>4</th>\n",
       "      <td>0.573859</td>\n",
       "      <td>0.028290</td>\n",
       "      <td>0.057694</td>\n",
       "      <td>0.001886</td>\n",
       "      <td>1</td>\n",
       "      <td>0.1</td>\n",
       "      <td>160</td>\n",
       "      <td>{'max_depth': 1, 'min_samples_split': 0.1, 'n_...</td>\n",
       "      <td>0.962505</td>\n",
       "      <td>0.956130</td>\n",
       "      <td>...</td>\n",
       "      <td>0.950863</td>\n",
       "      <td>0.956499</td>\n",
       "      <td>0.004760</td>\n",
       "      <td>128</td>\n",
       "      <td>0.962505</td>\n",
       "      <td>0.956130</td>\n",
       "      <td>0.950863</td>\n",
       "      <td>0.956499</td>\n",
       "      <td>0.004760</td>\n",
       "      <td>128</td>\n",
       "    </tr>\n",
       "  </tbody>\n",
       "</table>\n",
       "<p>5 rows × 32 columns</p>\n",
       "</div>"
      ],
      "text/plain": [
       "   mean_fit_time  std_fit_time  mean_score_time  std_score_time  \\\n",
       "0       0.264086      0.007596         0.037351        0.002521   \n",
       "1       0.335859      0.009259         0.042348        0.000496   \n",
       "2       0.423914      0.019125         0.052947        0.009846   \n",
       "3       0.496024      0.022037         0.061170        0.003291   \n",
       "4       0.573859      0.028290         0.057694        0.001886   \n",
       "\n",
       "  param_max_depth param_min_samples_split param_n_estimators  \\\n",
       "0               1                     0.1                 80   \n",
       "1               1                     0.1                100   \n",
       "2               1                     0.1                120   \n",
       "3               1                     0.1                140   \n",
       "4               1                     0.1                160   \n",
       "\n",
       "                                              params  split0_test_accuracy  \\\n",
       "0  {'max_depth': 1, 'min_samples_split': 0.1, 'n_...              0.959880   \n",
       "1  {'max_depth': 1, 'min_samples_split': 0.1, 'n_...              0.962130   \n",
       "2  {'max_depth': 1, 'min_samples_split': 0.1, 'n_...              0.962130   \n",
       "3  {'max_depth': 1, 'min_samples_split': 0.1, 'n_...              0.960630   \n",
       "4  {'max_depth': 1, 'min_samples_split': 0.1, 'n_...              0.962505   \n",
       "\n",
       "   split1_test_accuracy  ...  split2_test_recall  mean_test_recall  \\\n",
       "0              0.956505  ...            0.948987          0.955124   \n",
       "1              0.956505  ...            0.950113          0.956249   \n",
       "2              0.956505  ...            0.950488          0.956374   \n",
       "3              0.956505  ...            0.949737          0.955624   \n",
       "4              0.956130  ...            0.950863          0.956499   \n",
       "\n",
       "   std_test_recall  rank_test_recall  split0_test_f1_score  \\\n",
       "0         0.004553               239              0.959880   \n",
       "1         0.004909               164              0.962130   \n",
       "2         0.004754               146              0.962130   \n",
       "3         0.004490               228              0.960630   \n",
       "4         0.004760               128              0.962505   \n",
       "\n",
       "   split1_test_f1_score  split2_test_f1_score  mean_test_f1_score  \\\n",
       "0              0.956505              0.948987            0.955124   \n",
       "1              0.956505              0.950113            0.956249   \n",
       "2              0.956505              0.950488            0.956374   \n",
       "3              0.956505              0.949737            0.955624   \n",
       "4              0.956130              0.950863            0.956499   \n",
       "\n",
       "   std_test_f1_score  rank_test_f1_score  \n",
       "0           0.004553                 239  \n",
       "1           0.004909                 164  \n",
       "2           0.004754                 146  \n",
       "3           0.004490                 228  \n",
       "4           0.004760                 128  \n",
       "\n",
       "[5 rows x 32 columns]"
      ]
     },
     "execution_count": 110,
     "metadata": {},
     "output_type": "execute_result"
    }
   ],
   "source": [
    "dtGridScores = pd.DataFrame(dlGrid.cv_results_)\n",
    "dtGridScores.head()"
   ]
  },
  {
   "cell_type": "code",
   "execution_count": 111,
   "metadata": {},
   "outputs": [],
   "source": [
    "dt3=dlGrid.best_estimator_"
   ]
  },
  {
   "cell_type": "code",
   "execution_count": 112,
   "metadata": {},
   "outputs": [],
   "source": [
    "temp = pd.DataFrame(dlGrid.best_params_ , index=[0])\n",
    "temp.to_csv('NSL_DOS_RandomForest_bestParams.csv')"
   ]
  },
  {
   "cell_type": "code",
   "execution_count": 113,
   "metadata": {},
   "outputs": [
    {
     "name": "stderr",
     "output_type": "stream",
     "text": [
      "[Parallel(n_jobs=-1)]: Using backend LokyBackend with 12 concurrent workers.\n",
      "[Parallel(n_jobs=-1)]: Done   4 out of   4 | elapsed:    0.2s finished\n"
     ]
    }
   ],
   "source": [
    "dtFinalScore = cross_validate(dt3, X, y, cv=4, scoring=scoring_metrics, verbose=3, n_jobs=-1)"
   ]
  },
  {
   "cell_type": "code",
   "execution_count": 116,
   "metadata": {
    "scrolled": true
   },
   "outputs": [],
   "source": [
    "dtFinalScore = pd.DataFrame(dtFinalScore)"
   ]
  },
  {
   "cell_type": "code",
   "execution_count": 117,
   "metadata": {},
   "outputs": [],
   "source": [
    "dtFinalScore.to_csv(\"NSL_DOS_RandomForest_final.csv\")"
   ]
  },
  {
   "cell_type": "code",
   "execution_count": null,
   "metadata": {},
   "outputs": [],
   "source": []
  },
  {
   "cell_type": "markdown",
   "metadata": {},
   "source": [
    "# Neural Network"
   ]
  },
  {
   "cell_type": "code",
   "execution_count": null,
   "metadata": {},
   "outputs": [],
   "source": [
    "from sklearn.neural_network import MLPClassifier"
   ]
  },
  {
   "cell_type": "code",
   "execution_count": null,
   "metadata": {},
   "outputs": [],
   "source": [
    "mlpModel = MLPClassifier()"
   ]
  },
  {
   "cell_type": "code",
   "execution_count": null,
   "metadata": {
    "scrolled": true
   },
   "outputs": [],
   "source": [
    "mlpScore=cross_validate(mlpModel, X, y, cv=4, scoring=scoring_metrics, verbose=3, n_jobs=-1)"
   ]
  },
  {
   "cell_type": "code",
   "execution_count": null,
   "metadata": {
    "scrolled": true
   },
   "outputs": [],
   "source": [
    "mlpModel"
   ]
  },
  {
   "cell_type": "code",
   "execution_count": null,
   "metadata": {},
   "outputs": [],
   "source": [
    "mlpScore = pd.DataFrame(mlpScore)"
   ]
  },
  {
   "cell_type": "code",
   "execution_count": null,
   "metadata": {},
   "outputs": [],
   "source": [
    "mlpScore.to_csv('NSL_DOS_MLP_scores.csv')"
   ]
  },
  {
   "cell_type": "code",
   "execution_count": null,
   "metadata": {},
   "outputs": [],
   "source": []
  },
  {
   "cell_type": "code",
   "execution_count": null,
   "metadata": {},
   "outputs": [],
   "source": [
    "nLayers=[\n",
    "    (4),\n",
    "    (7),\n",
    "    (10), #one layer of 10 nodes\n",
    "    (13),\n",
    "    (17),\n",
    "    (20),\n",
    "    (30),\n",
    "    (50),\n",
    "    (80),\n",
    "    (100),\n",
    "    (120),\n",
    "    (140),\n",
    "    (180),\n",
    "    (220),\n",
    "    (10, 10), #two layers, 10 nodes each\n",
    "    (20, 20), #two layers, 20 nodes each\n",
    "    (30, 30),\n",
    "    (50, 50),\n",
    "    (80, 80),\n",
    "    (100, 100),\n",
    "    (150, 150),\n",
    "    (10, 10, 10), #three layers, 10 nodes each\n",
    "    (20, 20, 20),\n",
    "    (30, 30, 30),\n",
    "    (50, 50, 50),\n",
    "    (80, 80, 80),\n",
    "]"
   ]
  },
  {
   "cell_type": "code",
   "execution_count": null,
   "metadata": {},
   "outputs": [],
   "source": [
    "mlp_parameters = {\n",
    "    'hidden_layer_sizes': nLayers,\n",
    "    'solver': ['sgd', 'adam'],\n",
    "    'alpha': [0.001, 0.01, 0.05],\n",
    "    'learning_rate': ['constant','adaptive'],\n",
    "}"
   ]
  },
  {
   "cell_type": "code",
   "execution_count": null,
   "metadata": {},
   "outputs": [],
   "source": [
    "X_sample=X.sample(frac=0.2, random_state=1)\n",
    "y_sample=y.sample(frac=0.2, random_state=1)"
   ]
  },
  {
   "cell_type": "code",
   "execution_count": null,
   "metadata": {},
   "outputs": [],
   "source": [
    "from sklearn.model_selection import GridSearchCV\n",
    "from sklearn.model_selection import RandomizedSearchCV"
   ]
  },
  {
   "cell_type": "code",
   "execution_count": null,
   "metadata": {},
   "outputs": [],
   "source": [
    "from sklearn.neural_network import MLPClassifier\n",
    "mlpModel2 = MLPClassifier()"
   ]
  },
  {
   "cell_type": "code",
   "execution_count": null,
   "metadata": {},
   "outputs": [],
   "source": [
    "mlp_grid = GridSearchCV(mlpModel2, mlp_parameters, scoring=scoring_metrics, refit='accuracy', verbose=3, n_jobs=-1, cv=3)\n"
   ]
  },
  {
   "cell_type": "code",
   "execution_count": null,
   "metadata": {
    "scrolled": true
   },
   "outputs": [],
   "source": [
    "mlp_grid.fit(X_sample, y_sample)"
   ]
  },
  {
   "cell_type": "code",
   "execution_count": null,
   "metadata": {},
   "outputs": [],
   "source": [
    "mlpGridScores=pd.DataFrame(mlp_grid.cv_results_)\n",
    "mlpGridScores.head()\n",
    "mlpGridScores.to_csv('NSL_DOS_MLP_GridSearch.csv')"
   ]
  },
  {
   "cell_type": "code",
   "execution_count": null,
   "metadata": {},
   "outputs": [],
   "source": [
    "mlpFinalModel = mlp_grid.best_estimator_\n",
    "mlp_grid.best_params_"
   ]
  },
  {
   "cell_type": "code",
   "execution_count": null,
   "metadata": {},
   "outputs": [],
   "source": [
    "temp = pd.DataFrame(mlpFinalModel.best_params_ , index=[0])\n",
    "temp.to_csv('NSL_DOS_MLP_bestParams.csv')"
   ]
  },
  {
   "cell_type": "code",
   "execution_count": null,
   "metadata": {},
   "outputs": [],
   "source": [
    "mlpFinalScore=cross_validate(mlpFinalModel, X, y, cv=4, scoring=scoring_metrics, verbose=3, n_jobs=-1)"
   ]
  },
  {
   "cell_type": "code",
   "execution_count": null,
   "metadata": {},
   "outputs": [],
   "source": [
    "mlpFinalScore = pd.DataFrame(mlpFinalScore)\n",
    "mlpFinalScore.to_csv('NSL_DOS_MLP_Final.csv')"
   ]
  },
  {
   "cell_type": "code",
   "execution_count": null,
   "metadata": {},
   "outputs": [],
   "source": [
    "mlpFinalScore['test_accuracy'].mean()"
   ]
  },
  {
   "cell_type": "markdown",
   "metadata": {},
   "source": [
    "# Decision Trees"
   ]
  },
  {
   "cell_type": "code",
   "execution_count": null,
   "metadata": {},
   "outputs": [],
   "source": [
    "from sklearn.tree import tree"
   ]
  },
  {
   "cell_type": "code",
   "execution_count": null,
   "metadata": {},
   "outputs": [],
   "source": [
    "dt=tree.DecisionTreeClassifier()"
   ]
  },
  {
   "cell_type": "code",
   "execution_count": null,
   "metadata": {},
   "outputs": [],
   "source": [
    "dtScore = cross_validate(dt, X, y, cv=4, scoring=scoring_metrics, verbose=3, n_jobs=-1)"
   ]
  },
  {
   "cell_type": "code",
   "execution_count": null,
   "metadata": {},
   "outputs": [],
   "source": [
    "dtScore = pd.DataFrame(dtScore)\n"
   ]
  },
  {
   "cell_type": "code",
   "execution_count": null,
   "metadata": {},
   "outputs": [],
   "source": [
    "dtScore.to_csv('NSL_dtScore_scores.csv')"
   ]
  },
  {
   "cell_type": "code",
   "execution_count": null,
   "metadata": {},
   "outputs": [],
   "source": []
  },
  {
   "cell_type": "code",
   "execution_count": null,
   "metadata": {},
   "outputs": [],
   "source": [
    "dt_parameters={'min_samples_split' : range(10,500,20),'max_depth': range(1,20,2)}"
   ]
  },
  {
   "cell_type": "code",
   "execution_count": null,
   "metadata": {},
   "outputs": [],
   "source": [
    "dt2 = DecisionTreeClassifier()"
   ]
  },
  {
   "cell_type": "code",
   "execution_count": null,
   "metadata": {},
   "outputs": [],
   "source": [
    "dlGrid = GridSearchCV(dt2, dt_parameters, scoring=scoring_metrics, refit='accuracy', verbose=3, n_jobs=-1, cv=4)"
   ]
  },
  {
   "cell_type": "code",
   "execution_count": null,
   "metadata": {
    "scrolled": true
   },
   "outputs": [],
   "source": [
    "dlGrid.fit(X, y)"
   ]
  },
  {
   "cell_type": "code",
   "execution_count": null,
   "metadata": {},
   "outputs": [],
   "source": [
    "dtGridScores = pd.DataFrame(dlGrid.cv_results_)\n",
    "dtGridScores.head()\n",
    "dtGridScores.to_csv('NSL_DT_GridSearch.csv')"
   ]
  },
  {
   "cell_type": "code",
   "execution_count": null,
   "metadata": {},
   "outputs": [],
   "source": [
    "dt3=dlGrid.best_estimator_\n",
    "dlGrid.best_params_"
   ]
  },
  {
   "cell_type": "code",
   "execution_count": null,
   "metadata": {},
   "outputs": [],
   "source": [
    "temp = pd.DataFrame(dlGrid.best_params_ , index=[0])\n",
    "temp.to_csv('NSL_DOS_DT_bestParams.csv')"
   ]
  },
  {
   "cell_type": "code",
   "execution_count": null,
   "metadata": {},
   "outputs": [],
   "source": [
    "dtFinalScore = cross_validate(dt3, X, y, cv=4, scoring=scoring_metrics, verbose=3, n_jobs=-1)"
   ]
  },
  {
   "cell_type": "code",
   "execution_count": null,
   "metadata": {},
   "outputs": [],
   "source": [
    "dtFinalScore = pd.DataFrame(dtFinalScore)\n",
    "dtFinalScore.to_csv('NSL_DOS_DT_Scores.csv')"
   ]
  },
  {
   "cell_type": "code",
   "execution_count": null,
   "metadata": {},
   "outputs": [],
   "source": []
  },
  {
   "cell_type": "markdown",
   "metadata": {},
   "source": [
    "# KNN"
   ]
  },
  {
   "cell_type": "code",
   "execution_count": 175,
   "metadata": {},
   "outputs": [],
   "source": [
    "from sklearn.neighbors import KNeighborsClassifier"
   ]
  },
  {
   "cell_type": "code",
   "execution_count": 176,
   "metadata": {},
   "outputs": [],
   "source": [
    "knn = KNeighborsClassifier()"
   ]
  },
  {
   "cell_type": "code",
   "execution_count": 177,
   "metadata": {},
   "outputs": [],
   "source": [
    "k_range = list(range(1, 101, 5))"
   ]
  },
  {
   "cell_type": "code",
   "execution_count": 178,
   "metadata": {},
   "outputs": [],
   "source": [
    "param_dict = dict(n_neighbors=k_range)"
   ]
  },
  {
   "cell_type": "code",
   "execution_count": 179,
   "metadata": {},
   "outputs": [],
   "source": [
    "grid = GridSearchCV(knn, param_dict, cv=4, scoring=scoring_metrics, refit='accuracy', verbose=3, n_jobs=-1)"
   ]
  },
  {
   "cell_type": "code",
   "execution_count": 180,
   "metadata": {
    "scrolled": true
   },
   "outputs": [
    {
     "name": "stdout",
     "output_type": "stream",
     "text": [
      "Fitting 4 folds for each of 20 candidates, totalling 80 fits\n"
     ]
    },
    {
     "name": "stderr",
     "output_type": "stream",
     "text": [
      "C:\\Users\\lenovo\\Anaconda3\\lib\\site-packages\\sklearn\\model_selection\\_split.py:652: Warning: The least populated class in y has only 3 members, which is too few. The minimum number of members in any class cannot be less than n_splits=4.\n",
      "  % (min_groups, self.n_splits)), Warning)\n",
      "[Parallel(n_jobs=-1)]: Using backend LokyBackend with 8 concurrent workers.\n",
      "[Parallel(n_jobs=-1)]: Done  16 tasks      | elapsed:   11.3s\n",
      "[Parallel(n_jobs=-1)]: Done  80 out of  80 | elapsed:  1.2min finished\n"
     ]
    },
    {
     "data": {
      "text/plain": [
       "GridSearchCV(cv=4, error_score='raise-deprecating',\n",
       "       estimator=KNeighborsClassifier(algorithm='auto', leaf_size=30, metric='minkowski',\n",
       "           metric_params=None, n_jobs=None, n_neighbors=5, p=2,\n",
       "           weights='uniform'),\n",
       "       fit_params=None, iid='warn', n_jobs=-1,\n",
       "       param_grid={'n_neighbors': [1, 6, 11, 16, 21, 26, 31, 36, 41, 46, 51, 56, 61, 66, 71, 76, 81, 86, 91, 96]},\n",
       "       pre_dispatch='2*n_jobs', refit='accuracy',\n",
       "       return_train_score='warn',\n",
       "       scoring={'accuracy': make_scorer(accuracy_score), 'precision': make_scorer(precision_score, average=micro), 'recall': make_scorer(recall_score, average=micro), 'f1_score': make_scorer(f1_score, average=micro)},\n",
       "       verbose=3)"
      ]
     },
     "execution_count": 180,
     "metadata": {},
     "output_type": "execute_result"
    }
   ],
   "source": [
    "grid.fit(X, y)"
   ]
  },
  {
   "cell_type": "code",
   "execution_count": 186,
   "metadata": {},
   "outputs": [
    {
     "name": "stderr",
     "output_type": "stream",
     "text": [
      "C:\\Users\\lenovo\\Anaconda3\\lib\\site-packages\\sklearn\\utils\\deprecation.py:125: FutureWarning: You are accessing a training score ('split0_train_accuracy'), which will not be available by default any more in 0.21. If you need training scores, please set return_train_score=True\n",
      "  warnings.warn(*warn_args, **warn_kwargs)\n",
      "C:\\Users\\lenovo\\Anaconda3\\lib\\site-packages\\sklearn\\utils\\deprecation.py:125: FutureWarning: You are accessing a training score ('split1_train_accuracy'), which will not be available by default any more in 0.21. If you need training scores, please set return_train_score=True\n",
      "  warnings.warn(*warn_args, **warn_kwargs)\n",
      "C:\\Users\\lenovo\\Anaconda3\\lib\\site-packages\\sklearn\\utils\\deprecation.py:125: FutureWarning: You are accessing a training score ('split2_train_accuracy'), which will not be available by default any more in 0.21. If you need training scores, please set return_train_score=True\n",
      "  warnings.warn(*warn_args, **warn_kwargs)\n",
      "C:\\Users\\lenovo\\Anaconda3\\lib\\site-packages\\sklearn\\utils\\deprecation.py:125: FutureWarning: You are accessing a training score ('split3_train_accuracy'), which will not be available by default any more in 0.21. If you need training scores, please set return_train_score=True\n",
      "  warnings.warn(*warn_args, **warn_kwargs)\n",
      "C:\\Users\\lenovo\\Anaconda3\\lib\\site-packages\\sklearn\\utils\\deprecation.py:125: FutureWarning: You are accessing a training score ('mean_train_accuracy'), which will not be available by default any more in 0.21. If you need training scores, please set return_train_score=True\n",
      "  warnings.warn(*warn_args, **warn_kwargs)\n",
      "C:\\Users\\lenovo\\Anaconda3\\lib\\site-packages\\sklearn\\utils\\deprecation.py:125: FutureWarning: You are accessing a training score ('std_train_accuracy'), which will not be available by default any more in 0.21. If you need training scores, please set return_train_score=True\n",
      "  warnings.warn(*warn_args, **warn_kwargs)\n",
      "C:\\Users\\lenovo\\Anaconda3\\lib\\site-packages\\sklearn\\utils\\deprecation.py:125: FutureWarning: You are accessing a training score ('split0_train_precision'), which will not be available by default any more in 0.21. If you need training scores, please set return_train_score=True\n",
      "  warnings.warn(*warn_args, **warn_kwargs)\n",
      "C:\\Users\\lenovo\\Anaconda3\\lib\\site-packages\\sklearn\\utils\\deprecation.py:125: FutureWarning: You are accessing a training score ('split1_train_precision'), which will not be available by default any more in 0.21. If you need training scores, please set return_train_score=True\n",
      "  warnings.warn(*warn_args, **warn_kwargs)\n",
      "C:\\Users\\lenovo\\Anaconda3\\lib\\site-packages\\sklearn\\utils\\deprecation.py:125: FutureWarning: You are accessing a training score ('split2_train_precision'), which will not be available by default any more in 0.21. If you need training scores, please set return_train_score=True\n",
      "  warnings.warn(*warn_args, **warn_kwargs)\n",
      "C:\\Users\\lenovo\\Anaconda3\\lib\\site-packages\\sklearn\\utils\\deprecation.py:125: FutureWarning: You are accessing a training score ('split3_train_precision'), which will not be available by default any more in 0.21. If you need training scores, please set return_train_score=True\n",
      "  warnings.warn(*warn_args, **warn_kwargs)\n",
      "C:\\Users\\lenovo\\Anaconda3\\lib\\site-packages\\sklearn\\utils\\deprecation.py:125: FutureWarning: You are accessing a training score ('mean_train_precision'), which will not be available by default any more in 0.21. If you need training scores, please set return_train_score=True\n",
      "  warnings.warn(*warn_args, **warn_kwargs)\n",
      "C:\\Users\\lenovo\\Anaconda3\\lib\\site-packages\\sklearn\\utils\\deprecation.py:125: FutureWarning: You are accessing a training score ('std_train_precision'), which will not be available by default any more in 0.21. If you need training scores, please set return_train_score=True\n",
      "  warnings.warn(*warn_args, **warn_kwargs)\n",
      "C:\\Users\\lenovo\\Anaconda3\\lib\\site-packages\\sklearn\\utils\\deprecation.py:125: FutureWarning: You are accessing a training score ('split0_train_recall'), which will not be available by default any more in 0.21. If you need training scores, please set return_train_score=True\n",
      "  warnings.warn(*warn_args, **warn_kwargs)\n",
      "C:\\Users\\lenovo\\Anaconda3\\lib\\site-packages\\sklearn\\utils\\deprecation.py:125: FutureWarning: You are accessing a training score ('split1_train_recall'), which will not be available by default any more in 0.21. If you need training scores, please set return_train_score=True\n",
      "  warnings.warn(*warn_args, **warn_kwargs)\n",
      "C:\\Users\\lenovo\\Anaconda3\\lib\\site-packages\\sklearn\\utils\\deprecation.py:125: FutureWarning: You are accessing a training score ('split2_train_recall'), which will not be available by default any more in 0.21. If you need training scores, please set return_train_score=True\n",
      "  warnings.warn(*warn_args, **warn_kwargs)\n",
      "C:\\Users\\lenovo\\Anaconda3\\lib\\site-packages\\sklearn\\utils\\deprecation.py:125: FutureWarning: You are accessing a training score ('split3_train_recall'), which will not be available by default any more in 0.21. If you need training scores, please set return_train_score=True\n",
      "  warnings.warn(*warn_args, **warn_kwargs)\n",
      "C:\\Users\\lenovo\\Anaconda3\\lib\\site-packages\\sklearn\\utils\\deprecation.py:125: FutureWarning: You are accessing a training score ('mean_train_recall'), which will not be available by default any more in 0.21. If you need training scores, please set return_train_score=True\n",
      "  warnings.warn(*warn_args, **warn_kwargs)\n",
      "C:\\Users\\lenovo\\Anaconda3\\lib\\site-packages\\sklearn\\utils\\deprecation.py:125: FutureWarning: You are accessing a training score ('std_train_recall'), which will not be available by default any more in 0.21. If you need training scores, please set return_train_score=True\n",
      "  warnings.warn(*warn_args, **warn_kwargs)\n",
      "C:\\Users\\lenovo\\Anaconda3\\lib\\site-packages\\sklearn\\utils\\deprecation.py:125: FutureWarning: You are accessing a training score ('split0_train_f1_score'), which will not be available by default any more in 0.21. If you need training scores, please set return_train_score=True\n",
      "  warnings.warn(*warn_args, **warn_kwargs)\n",
      "C:\\Users\\lenovo\\Anaconda3\\lib\\site-packages\\sklearn\\utils\\deprecation.py:125: FutureWarning: You are accessing a training score ('split1_train_f1_score'), which will not be available by default any more in 0.21. If you need training scores, please set return_train_score=True\n",
      "  warnings.warn(*warn_args, **warn_kwargs)\n",
      "C:\\Users\\lenovo\\Anaconda3\\lib\\site-packages\\sklearn\\utils\\deprecation.py:125: FutureWarning: You are accessing a training score ('split2_train_f1_score'), which will not be available by default any more in 0.21. If you need training scores, please set return_train_score=True\n",
      "  warnings.warn(*warn_args, **warn_kwargs)\n",
      "C:\\Users\\lenovo\\Anaconda3\\lib\\site-packages\\sklearn\\utils\\deprecation.py:125: FutureWarning: You are accessing a training score ('split3_train_f1_score'), which will not be available by default any more in 0.21. If you need training scores, please set return_train_score=True\n",
      "  warnings.warn(*warn_args, **warn_kwargs)\n",
      "C:\\Users\\lenovo\\Anaconda3\\lib\\site-packages\\sklearn\\utils\\deprecation.py:125: FutureWarning: You are accessing a training score ('mean_train_f1_score'), which will not be available by default any more in 0.21. If you need training scores, please set return_train_score=True\n",
      "  warnings.warn(*warn_args, **warn_kwargs)\n",
      "C:\\Users\\lenovo\\Anaconda3\\lib\\site-packages\\sklearn\\utils\\deprecation.py:125: FutureWarning: You are accessing a training score ('std_train_f1_score'), which will not be available by default any more in 0.21. If you need training scores, please set return_train_score=True\n",
      "  warnings.warn(*warn_args, **warn_kwargs)\n"
     ]
    }
   ],
   "source": [
    "knnScore = pd.DataFrame(grid.cv_results_)\n",
    "knnScore.to_csv('NSL_DOS_KNN_GridSearch.csv')"
   ]
  },
  {
   "cell_type": "code",
   "execution_count": 182,
   "metadata": {},
   "outputs": [
    {
     "data": {
      "text/plain": [
       "{'n_neighbors': 1}"
      ]
     },
     "execution_count": 182,
     "metadata": {},
     "output_type": "execute_result"
    }
   ],
   "source": [
    "knn2=grid.best_estimator_\n",
    "grid.best_params_"
   ]
  },
  {
   "cell_type": "code",
   "execution_count": 183,
   "metadata": {},
   "outputs": [
    {
     "name": "stderr",
     "output_type": "stream",
     "text": [
      "[Parallel(n_jobs=-1)]: Using backend LokyBackend with 8 concurrent workers.\n",
      "C:\\Users\\lenovo\\Anaconda3\\lib\\site-packages\\sklearn\\model_selection\\_split.py:652: Warning: The least populated class in y has only 3 members, which is too few. The minimum number of members in any class cannot be less than n_splits=4.\n",
      "  % (min_groups, self.n_splits)), Warning)\n",
      "[Parallel(n_jobs=-1)]: Done   4 out of   4 | elapsed:    2.6s finished\n"
     ]
    }
   ],
   "source": [
    "knnFinalScore = cross_validate(knn2, X, y, cv=4, scoring=scoring_metrics, verbose=3, n_jobs=-1)"
   ]
  },
  {
   "cell_type": "code",
   "execution_count": 184,
   "metadata": {},
   "outputs": [
    {
     "name": "stderr",
     "output_type": "stream",
     "text": [
      "C:\\Users\\lenovo\\Anaconda3\\lib\\site-packages\\sklearn\\utils\\deprecation.py:125: FutureWarning: You are accessing a training score ('train_accuracy'), which will not be available by default any more in 0.21. If you need training scores, please set return_train_score=True\n",
      "  warnings.warn(*warn_args, **warn_kwargs)\n",
      "C:\\Users\\lenovo\\Anaconda3\\lib\\site-packages\\sklearn\\utils\\deprecation.py:125: FutureWarning: You are accessing a training score ('train_precision'), which will not be available by default any more in 0.21. If you need training scores, please set return_train_score=True\n",
      "  warnings.warn(*warn_args, **warn_kwargs)\n",
      "C:\\Users\\lenovo\\Anaconda3\\lib\\site-packages\\sklearn\\utils\\deprecation.py:125: FutureWarning: You are accessing a training score ('train_recall'), which will not be available by default any more in 0.21. If you need training scores, please set return_train_score=True\n",
      "  warnings.warn(*warn_args, **warn_kwargs)\n",
      "C:\\Users\\lenovo\\Anaconda3\\lib\\site-packages\\sklearn\\utils\\deprecation.py:125: FutureWarning: You are accessing a training score ('train_f1_score'), which will not be available by default any more in 0.21. If you need training scores, please set return_train_score=True\n",
      "  warnings.warn(*warn_args, **warn_kwargs)\n"
     ]
    },
    {
     "data": {
      "text/html": [
       "<div>\n",
       "<style scoped>\n",
       "    .dataframe tbody tr th:only-of-type {\n",
       "        vertical-align: middle;\n",
       "    }\n",
       "\n",
       "    .dataframe tbody tr th {\n",
       "        vertical-align: top;\n",
       "    }\n",
       "\n",
       "    .dataframe thead th {\n",
       "        text-align: right;\n",
       "    }\n",
       "</style>\n",
       "<table border=\"1\" class=\"dataframe\">\n",
       "  <thead>\n",
       "    <tr style=\"text-align: right;\">\n",
       "      <th></th>\n",
       "      <th>fit_time</th>\n",
       "      <th>score_time</th>\n",
       "      <th>test_accuracy</th>\n",
       "      <th>train_accuracy</th>\n",
       "      <th>test_precision</th>\n",
       "      <th>train_precision</th>\n",
       "      <th>test_recall</th>\n",
       "      <th>train_recall</th>\n",
       "      <th>test_f1_score</th>\n",
       "      <th>train_f1_score</th>\n",
       "    </tr>\n",
       "  </thead>\n",
       "  <tbody>\n",
       "    <tr>\n",
       "      <th>0</th>\n",
       "      <td>0.062963</td>\n",
       "      <td>0.632724</td>\n",
       "      <td>0.964036</td>\n",
       "      <td>1.0</td>\n",
       "      <td>0.964036</td>\n",
       "      <td>1.0</td>\n",
       "      <td>0.964036</td>\n",
       "      <td>1.0</td>\n",
       "      <td>0.964036</td>\n",
       "      <td>1.0</td>\n",
       "    </tr>\n",
       "    <tr>\n",
       "      <th>1</th>\n",
       "      <td>0.068960</td>\n",
       "      <td>0.808621</td>\n",
       "      <td>0.964000</td>\n",
       "      <td>1.0</td>\n",
       "      <td>0.964000</td>\n",
       "      <td>1.0</td>\n",
       "      <td>0.964000</td>\n",
       "      <td>1.0</td>\n",
       "      <td>0.964000</td>\n",
       "      <td>1.0</td>\n",
       "    </tr>\n",
       "    <tr>\n",
       "      <th>2</th>\n",
       "      <td>0.049972</td>\n",
       "      <td>0.834605</td>\n",
       "      <td>0.950000</td>\n",
       "      <td>1.0</td>\n",
       "      <td>0.950000</td>\n",
       "      <td>1.0</td>\n",
       "      <td>0.950000</td>\n",
       "      <td>1.0</td>\n",
       "      <td>0.950000</td>\n",
       "      <td>1.0</td>\n",
       "    </tr>\n",
       "    <tr>\n",
       "      <th>3</th>\n",
       "      <td>0.052970</td>\n",
       "      <td>0.821613</td>\n",
       "      <td>0.962963</td>\n",
       "      <td>1.0</td>\n",
       "      <td>0.962963</td>\n",
       "      <td>1.0</td>\n",
       "      <td>0.962963</td>\n",
       "      <td>1.0</td>\n",
       "      <td>0.962963</td>\n",
       "      <td>1.0</td>\n",
       "    </tr>\n",
       "  </tbody>\n",
       "</table>\n",
       "</div>"
      ],
      "text/plain": [
       "   fit_time  score_time  test_accuracy  train_accuracy  test_precision  \\\n",
       "0  0.062963    0.632724       0.964036             1.0        0.964036   \n",
       "1  0.068960    0.808621       0.964000             1.0        0.964000   \n",
       "2  0.049972    0.834605       0.950000             1.0        0.950000   \n",
       "3  0.052970    0.821613       0.962963             1.0        0.962963   \n",
       "\n",
       "   train_precision  test_recall  train_recall  test_f1_score  train_f1_score  \n",
       "0              1.0     0.964036           1.0       0.964036             1.0  \n",
       "1              1.0     0.964000           1.0       0.964000             1.0  \n",
       "2              1.0     0.950000           1.0       0.950000             1.0  \n",
       "3              1.0     0.962963           1.0       0.962963             1.0  "
      ]
     },
     "execution_count": 184,
     "metadata": {},
     "output_type": "execute_result"
    }
   ],
   "source": [
    "pd.DataFrame(knnFinalScore)"
   ]
  },
  {
   "cell_type": "code",
   "execution_count": 185,
   "metadata": {},
   "outputs": [
    {
     "ename": "AttributeError",
     "evalue": "'DeprecationDict' object has no attribute 'to_csv'",
     "output_type": "error",
     "traceback": [
      "\u001b[1;31m---------------------------------------------------------------------------\u001b[0m",
      "\u001b[1;31mAttributeError\u001b[0m                            Traceback (most recent call last)",
      "\u001b[1;32m<ipython-input-185-f037facd42c3>\u001b[0m in \u001b[0;36m<module>\u001b[1;34m\u001b[0m\n\u001b[1;32m----> 1\u001b[1;33m \u001b[0mknnFinalScore\u001b[0m\u001b[1;33m.\u001b[0m\u001b[0mto_csv\u001b[0m\u001b[1;33m(\u001b[0m\u001b[1;34m'NSL_KNN_scores'\u001b[0m\u001b[1;33m)\u001b[0m\u001b[1;33m\u001b[0m\u001b[1;33m\u001b[0m\u001b[0m\n\u001b[0m",
      "\u001b[1;31mAttributeError\u001b[0m: 'DeprecationDict' object has no attribute 'to_csv'"
     ]
    }
   ],
   "source": [
    "knnFinalScore.to_csv('NSL_KNN_scores')"
   ]
  },
  {
   "cell_type": "code",
   "execution_count": 61,
   "metadata": {},
   "outputs": [
    {
     "data": {
      "text/plain": [
       "fit_time                            0.475388\n",
       "score_time                          0.014059\n",
       "test_r2                          -141.704346\n",
       "test_neg_mean_squared_error    -45841.923804\n",
       "test_neg_mean_absolute_error      -26.534008\n",
       "dtype: float64"
      ]
     },
     "execution_count": 61,
     "metadata": {},
     "output_type": "execute_result"
    }
   ],
   "source": [
    "pd.DataFrame(linearScore).mean()"
   ]
  },
  {
   "cell_type": "code",
   "execution_count": 181,
   "metadata": {},
   "outputs": [
    {
     "data": {
      "text/plain": [
       "fit_time         220.265742\n",
       "score_time         0.240229\n",
       "test_accuracy      0.979567\n",
       "dtype: float64"
      ]
     },
     "execution_count": 181,
     "metadata": {},
     "output_type": "execute_result"
    }
   ],
   "source": [
    "pd.DataFrame(mlpScore).mean()"
   ]
  },
  {
   "cell_type": "code",
   "execution_count": 199,
   "metadata": {},
   "outputs": [],
   "source": [
    "knnFinalScore = pd.DataFrame(knnFinalScore)\n",
    "knnFinalScore.to_csv('NSL_KNN_Scores')"
   ]
  },
  {
   "cell_type": "code",
   "execution_count": null,
   "metadata": {},
   "outputs": [],
   "source": []
  },
  {
   "cell_type": "markdown",
   "metadata": {},
   "source": [
    "# All Results"
   ]
  },
  {
   "cell_type": "code",
   "execution_count": 186,
   "metadata": {},
   "outputs": [
    {
     "data": {
      "text/html": [
       "<div>\n",
       "<style scoped>\n",
       "    .dataframe tbody tr th:only-of-type {\n",
       "        vertical-align: middle;\n",
       "    }\n",
       "\n",
       "    .dataframe tbody tr th {\n",
       "        vertical-align: top;\n",
       "    }\n",
       "\n",
       "    .dataframe thead th {\n",
       "        text-align: right;\n",
       "    }\n",
       "</style>\n",
       "<table border=\"1\" class=\"dataframe\">\n",
       "  <thead>\n",
       "    <tr style=\"text-align: right;\">\n",
       "      <th></th>\n",
       "      <th>0</th>\n",
       "      <th>1</th>\n",
       "      <th>2</th>\n",
       "      <th>3</th>\n",
       "    </tr>\n",
       "  </thead>\n",
       "  <tbody>\n",
       "    <tr>\n",
       "      <th>fit_time</th>\n",
       "      <td>220.265742</td>\n",
       "      <td>1.370960</td>\n",
       "      <td>12.276757</td>\n",
       "      <td>3467.701033</td>\n",
       "    </tr>\n",
       "    <tr>\n",
       "      <th>score_time</th>\n",
       "      <td>0.240229</td>\n",
       "      <td>0.022051</td>\n",
       "      <td>16.329237</td>\n",
       "      <td>505.462763</td>\n",
       "    </tr>\n",
       "    <tr>\n",
       "      <th>test_accuracy</th>\n",
       "      <td>0.979567</td>\n",
       "      <td>0.997555</td>\n",
       "      <td>0.995197</td>\n",
       "      <td>0.535075</td>\n",
       "    </tr>\n",
       "  </tbody>\n",
       "</table>\n",
       "</div>"
      ],
      "text/plain": [
       "                        0         1          2            3\n",
       "fit_time       220.265742  1.370960  12.276757  3467.701033\n",
       "score_time       0.240229  0.022051  16.329237   505.462763\n",
       "test_accuracy    0.979567  0.997555   0.995197     0.535075"
      ]
     },
     "execution_count": 186,
     "metadata": {},
     "output_type": "execute_result"
    }
   ],
   "source": [
    "allResults=pd.concat([\n",
    "    pd.DataFrame(mlpScore).mean(),\n",
    "    pd.DataFrame(dtFinalScore).mean(),\n",
    "    pd.DataFrame(knnFinalScore).mean(),\n",
    "    pd.DataFrame(ss).mean()\n",
    "], axis=1)\n",
    "allResults"
   ]
  },
  {
   "cell_type": "code",
   "execution_count": 187,
   "metadata": {},
   "outputs": [
    {
     "data": {
      "text/html": [
       "<div>\n",
       "<style scoped>\n",
       "    .dataframe tbody tr th:only-of-type {\n",
       "        vertical-align: middle;\n",
       "    }\n",
       "\n",
       "    .dataframe tbody tr th {\n",
       "        vertical-align: top;\n",
       "    }\n",
       "\n",
       "    .dataframe thead th {\n",
       "        text-align: right;\n",
       "    }\n",
       "</style>\n",
       "<table border=\"1\" class=\"dataframe\">\n",
       "  <thead>\n",
       "    <tr style=\"text-align: right;\">\n",
       "      <th></th>\n",
       "      <th>Multi-level Perceptron</th>\n",
       "      <th>Decision Tree</th>\n",
       "      <th>KNN</th>\n",
       "      <th>SVM</th>\n",
       "    </tr>\n",
       "  </thead>\n",
       "  <tbody>\n",
       "    <tr>\n",
       "      <th>fit_time</th>\n",
       "      <td>220.265742</td>\n",
       "      <td>1.370960</td>\n",
       "      <td>12.276757</td>\n",
       "      <td>3467.701033</td>\n",
       "    </tr>\n",
       "    <tr>\n",
       "      <th>score_time</th>\n",
       "      <td>0.240229</td>\n",
       "      <td>0.022051</td>\n",
       "      <td>16.329237</td>\n",
       "      <td>505.462763</td>\n",
       "    </tr>\n",
       "    <tr>\n",
       "      <th>test_accuracy</th>\n",
       "      <td>0.979567</td>\n",
       "      <td>0.997555</td>\n",
       "      <td>0.995197</td>\n",
       "      <td>0.535075</td>\n",
       "    </tr>\n",
       "  </tbody>\n",
       "</table>\n",
       "</div>"
      ],
      "text/plain": [
       "               Multi-level Perceptron  Decision Tree        KNN          SVM\n",
       "fit_time                   220.265742       1.370960  12.276757  3467.701033\n",
       "score_time                   0.240229       0.022051  16.329237   505.462763\n",
       "test_accuracy                0.979567       0.997555   0.995197     0.535075"
      ]
     },
     "execution_count": 187,
     "metadata": {},
     "output_type": "execute_result"
    }
   ],
   "source": [
    "allResults.rename(columns={0:'Multi-level Perceptron', 1:'Decision Tree', 2:'KNN' , 3:'SVM' },  inplace=True)\n",
    "allResults"
   ]
  },
  {
   "cell_type": "markdown",
   "metadata": {},
   "source": [
    "# All Results"
   ]
  },
  {
   "cell_type": "code",
   "execution_count": null,
   "metadata": {},
   "outputs": [],
   "source": []
  },
  {
   "cell_type": "code",
   "execution_count": 184,
   "metadata": {},
   "outputs": [],
   "source": []
  },
  {
   "cell_type": "code",
   "execution_count": null,
   "metadata": {},
   "outputs": [],
   "source": []
  }
 ],
 "metadata": {
  "kernelspec": {
   "display_name": "Python 3",
   "language": "python",
   "name": "python3"
  },
  "language_info": {
   "codemirror_mode": {
    "name": "ipython",
    "version": 3
   },
   "file_extension": ".py",
   "mimetype": "text/x-python",
   "name": "python",
   "nbconvert_exporter": "python",
   "pygments_lexer": "ipython3",
   "version": "3.7.6"
  }
 },
 "nbformat": 4,
 "nbformat_minor": 2
}
