{
 "cells": [
  {
   "cell_type": "code",
   "execution_count": 1,
   "metadata": {},
   "outputs": [],
   "source": [
    "import pandas as pd\n",
    "import numpy as np"
   ]
  },
  {
   "cell_type": "code",
   "execution_count": 2,
   "metadata": {},
   "outputs": [],
   "source": [
    "from sklearn.model_selection import cross_val_score\n",
    "from sklearn.model_selection import cross_validate\n",
    "from sklearn.feature_selection import SelectKBest\n",
    "from sklearn.feature_selection import f_classif\n",
    "from sklearn.metrics import fbeta_score, make_scorer\n",
    "from sklearn.metrics import make_scorer, accuracy_score, precision_score, recall_score, f1_score\n"
   ]
  },
  {
   "cell_type": "markdown",
   "metadata": {},
   "source": [
    "# Reading Data"
   ]
  },
  {
   "cell_type": "code",
   "execution_count": 3,
   "metadata": {
    "scrolled": true
   },
   "outputs": [],
   "source": [
    "df = pd.read_csv('../Dataset/NSL_new.csv')"
   ]
  },
  {
   "cell_type": "code",
   "execution_count": 4,
   "metadata": {},
   "outputs": [],
   "source": [
    "df = df.sample(n=4000)"
   ]
  },
  {
   "cell_type": "code",
   "execution_count": 5,
   "metadata": {},
   "outputs": [],
   "source": [
    "X = df.drop(['label'], axis=1)\n",
    "y = df['label']"
   ]
  },
  {
   "cell_type": "code",
   "execution_count": 6,
   "metadata": {},
   "outputs": [],
   "source": [
    "scoring_metrics = {'accuracy' : make_scorer(accuracy_score), \n",
    "           'precision' : make_scorer(precision_score, average=\"micro\"),\n",
    "           'recall' : make_scorer(recall_score, average=\"micro\"), \n",
    "           'f1_score' : make_scorer(f1_score, average=\"micro\")}"
   ]
  },
  {
   "cell_type": "code",
   "execution_count": 7,
   "metadata": {
    "scrolled": true
   },
   "outputs": [
    {
     "data": {
      "text/html": [
       "<div>\n",
       "<style scoped>\n",
       "    .dataframe tbody tr th:only-of-type {\n",
       "        vertical-align: middle;\n",
       "    }\n",
       "\n",
       "    .dataframe tbody tr th {\n",
       "        vertical-align: top;\n",
       "    }\n",
       "\n",
       "    .dataframe thead th {\n",
       "        text-align: right;\n",
       "    }\n",
       "</style>\n",
       "<table border=\"1\" class=\"dataframe\">\n",
       "  <thead>\n",
       "    <tr style=\"text-align: right;\">\n",
       "      <th></th>\n",
       "      <th>duration</th>\n",
       "      <th>src_bytes</th>\n",
       "      <th>dst_bytes</th>\n",
       "      <th>land</th>\n",
       "      <th>wrong_fragment</th>\n",
       "      <th>urgent</th>\n",
       "      <th>hot</th>\n",
       "      <th>num_failed_logins</th>\n",
       "      <th>logged_in</th>\n",
       "      <th>num_compromised</th>\n",
       "      <th>...</th>\n",
       "      <th>flag_RSTO</th>\n",
       "      <th>flag_RSTOS0</th>\n",
       "      <th>flag_RSTR</th>\n",
       "      <th>flag_S0</th>\n",
       "      <th>flag_S1</th>\n",
       "      <th>flag_S2</th>\n",
       "      <th>flag_S3</th>\n",
       "      <th>flag_SF</th>\n",
       "      <th>flag_SH</th>\n",
       "      <th>label</th>\n",
       "    </tr>\n",
       "  </thead>\n",
       "  <tbody>\n",
       "    <tr>\n",
       "      <td>10046</td>\n",
       "      <td>0</td>\n",
       "      <td>0</td>\n",
       "      <td>0</td>\n",
       "      <td>0</td>\n",
       "      <td>0</td>\n",
       "      <td>0</td>\n",
       "      <td>0</td>\n",
       "      <td>0</td>\n",
       "      <td>0</td>\n",
       "      <td>0</td>\n",
       "      <td>...</td>\n",
       "      <td>0</td>\n",
       "      <td>0</td>\n",
       "      <td>0</td>\n",
       "      <td>1</td>\n",
       "      <td>0</td>\n",
       "      <td>0</td>\n",
       "      <td>0</td>\n",
       "      <td>0</td>\n",
       "      <td>0</td>\n",
       "      <td>neptune</td>\n",
       "    </tr>\n",
       "    <tr>\n",
       "      <td>37748</td>\n",
       "      <td>0</td>\n",
       "      <td>45</td>\n",
       "      <td>72</td>\n",
       "      <td>0</td>\n",
       "      <td>0</td>\n",
       "      <td>0</td>\n",
       "      <td>0</td>\n",
       "      <td>0</td>\n",
       "      <td>0</td>\n",
       "      <td>0</td>\n",
       "      <td>...</td>\n",
       "      <td>0</td>\n",
       "      <td>0</td>\n",
       "      <td>0</td>\n",
       "      <td>0</td>\n",
       "      <td>0</td>\n",
       "      <td>0</td>\n",
       "      <td>0</td>\n",
       "      <td>1</td>\n",
       "      <td>0</td>\n",
       "      <td>normal</td>\n",
       "    </tr>\n",
       "    <tr>\n",
       "      <td>29825</td>\n",
       "      <td>1</td>\n",
       "      <td>817</td>\n",
       "      <td>330</td>\n",
       "      <td>0</td>\n",
       "      <td>0</td>\n",
       "      <td>0</td>\n",
       "      <td>0</td>\n",
       "      <td>0</td>\n",
       "      <td>1</td>\n",
       "      <td>0</td>\n",
       "      <td>...</td>\n",
       "      <td>0</td>\n",
       "      <td>0</td>\n",
       "      <td>0</td>\n",
       "      <td>0</td>\n",
       "      <td>0</td>\n",
       "      <td>0</td>\n",
       "      <td>0</td>\n",
       "      <td>1</td>\n",
       "      <td>0</td>\n",
       "      <td>normal</td>\n",
       "    </tr>\n",
       "    <tr>\n",
       "      <td>77183</td>\n",
       "      <td>0</td>\n",
       "      <td>0</td>\n",
       "      <td>0</td>\n",
       "      <td>0</td>\n",
       "      <td>0</td>\n",
       "      <td>0</td>\n",
       "      <td>0</td>\n",
       "      <td>0</td>\n",
       "      <td>0</td>\n",
       "      <td>0</td>\n",
       "      <td>...</td>\n",
       "      <td>0</td>\n",
       "      <td>0</td>\n",
       "      <td>0</td>\n",
       "      <td>1</td>\n",
       "      <td>0</td>\n",
       "      <td>0</td>\n",
       "      <td>0</td>\n",
       "      <td>0</td>\n",
       "      <td>0</td>\n",
       "      <td>neptune</td>\n",
       "    </tr>\n",
       "    <tr>\n",
       "      <td>287</td>\n",
       "      <td>0</td>\n",
       "      <td>0</td>\n",
       "      <td>0</td>\n",
       "      <td>0</td>\n",
       "      <td>0</td>\n",
       "      <td>0</td>\n",
       "      <td>0</td>\n",
       "      <td>0</td>\n",
       "      <td>0</td>\n",
       "      <td>0</td>\n",
       "      <td>...</td>\n",
       "      <td>0</td>\n",
       "      <td>0</td>\n",
       "      <td>0</td>\n",
       "      <td>1</td>\n",
       "      <td>0</td>\n",
       "      <td>0</td>\n",
       "      <td>0</td>\n",
       "      <td>0</td>\n",
       "      <td>0</td>\n",
       "      <td>neptune</td>\n",
       "    </tr>\n",
       "  </tbody>\n",
       "</table>\n",
       "<p>5 rows × 123 columns</p>\n",
       "</div>"
      ],
      "text/plain": [
       "       duration  src_bytes  dst_bytes  land  wrong_fragment  urgent  hot  \\\n",
       "10046         0          0          0     0               0       0    0   \n",
       "37748         0         45         72     0               0       0    0   \n",
       "29825         1        817        330     0               0       0    0   \n",
       "77183         0          0          0     0               0       0    0   \n",
       "287           0          0          0     0               0       0    0   \n",
       "\n",
       "       num_failed_logins  logged_in  num_compromised  ...  flag_RSTO  \\\n",
       "10046                  0          0                0  ...          0   \n",
       "37748                  0          0                0  ...          0   \n",
       "29825                  0          1                0  ...          0   \n",
       "77183                  0          0                0  ...          0   \n",
       "287                    0          0                0  ...          0   \n",
       "\n",
       "       flag_RSTOS0  flag_RSTR  flag_S0  flag_S1  flag_S2  flag_S3  flag_SF  \\\n",
       "10046            0          0        1        0        0        0        0   \n",
       "37748            0          0        0        0        0        0        1   \n",
       "29825            0          0        0        0        0        0        1   \n",
       "77183            0          0        1        0        0        0        0   \n",
       "287              0          0        1        0        0        0        0   \n",
       "\n",
       "       flag_SH    label  \n",
       "10046        0  neptune  \n",
       "37748        0   normal  \n",
       "29825        0   normal  \n",
       "77183        0  neptune  \n",
       "287          0  neptune  \n",
       "\n",
       "[5 rows x 123 columns]"
      ]
     },
     "execution_count": 7,
     "metadata": {},
     "output_type": "execute_result"
    }
   ],
   "source": [
    "df.head()"
   ]
  },
  {
   "cell_type": "code",
   "execution_count": 8,
   "metadata": {
    "scrolled": true
   },
   "outputs": [
    {
     "data": {
      "text/html": [
       "<div>\n",
       "<style scoped>\n",
       "    .dataframe tbody tr th:only-of-type {\n",
       "        vertical-align: middle;\n",
       "    }\n",
       "\n",
       "    .dataframe tbody tr th {\n",
       "        vertical-align: top;\n",
       "    }\n",
       "\n",
       "    .dataframe thead th {\n",
       "        text-align: right;\n",
       "    }\n",
       "</style>\n",
       "<table border=\"1\" class=\"dataframe\">\n",
       "  <thead>\n",
       "    <tr style=\"text-align: right;\">\n",
       "      <th></th>\n",
       "      <th>duration</th>\n",
       "      <th>src_bytes</th>\n",
       "      <th>dst_bytes</th>\n",
       "      <th>land</th>\n",
       "      <th>wrong_fragment</th>\n",
       "      <th>urgent</th>\n",
       "      <th>hot</th>\n",
       "      <th>num_failed_logins</th>\n",
       "      <th>logged_in</th>\n",
       "      <th>num_compromised</th>\n",
       "      <th>...</th>\n",
       "      <th>flag_REJ</th>\n",
       "      <th>flag_RSTO</th>\n",
       "      <th>flag_RSTOS0</th>\n",
       "      <th>flag_RSTR</th>\n",
       "      <th>flag_S0</th>\n",
       "      <th>flag_S1</th>\n",
       "      <th>flag_S2</th>\n",
       "      <th>flag_S3</th>\n",
       "      <th>flag_SF</th>\n",
       "      <th>flag_SH</th>\n",
       "    </tr>\n",
       "  </thead>\n",
       "  <tbody>\n",
       "    <tr>\n",
       "      <td>10046</td>\n",
       "      <td>0</td>\n",
       "      <td>0</td>\n",
       "      <td>0</td>\n",
       "      <td>0</td>\n",
       "      <td>0</td>\n",
       "      <td>0</td>\n",
       "      <td>0</td>\n",
       "      <td>0</td>\n",
       "      <td>0</td>\n",
       "      <td>0</td>\n",
       "      <td>...</td>\n",
       "      <td>0</td>\n",
       "      <td>0</td>\n",
       "      <td>0</td>\n",
       "      <td>0</td>\n",
       "      <td>1</td>\n",
       "      <td>0</td>\n",
       "      <td>0</td>\n",
       "      <td>0</td>\n",
       "      <td>0</td>\n",
       "      <td>0</td>\n",
       "    </tr>\n",
       "    <tr>\n",
       "      <td>37748</td>\n",
       "      <td>0</td>\n",
       "      <td>45</td>\n",
       "      <td>72</td>\n",
       "      <td>0</td>\n",
       "      <td>0</td>\n",
       "      <td>0</td>\n",
       "      <td>0</td>\n",
       "      <td>0</td>\n",
       "      <td>0</td>\n",
       "      <td>0</td>\n",
       "      <td>...</td>\n",
       "      <td>0</td>\n",
       "      <td>0</td>\n",
       "      <td>0</td>\n",
       "      <td>0</td>\n",
       "      <td>0</td>\n",
       "      <td>0</td>\n",
       "      <td>0</td>\n",
       "      <td>0</td>\n",
       "      <td>1</td>\n",
       "      <td>0</td>\n",
       "    </tr>\n",
       "    <tr>\n",
       "      <td>29825</td>\n",
       "      <td>1</td>\n",
       "      <td>817</td>\n",
       "      <td>330</td>\n",
       "      <td>0</td>\n",
       "      <td>0</td>\n",
       "      <td>0</td>\n",
       "      <td>0</td>\n",
       "      <td>0</td>\n",
       "      <td>1</td>\n",
       "      <td>0</td>\n",
       "      <td>...</td>\n",
       "      <td>0</td>\n",
       "      <td>0</td>\n",
       "      <td>0</td>\n",
       "      <td>0</td>\n",
       "      <td>0</td>\n",
       "      <td>0</td>\n",
       "      <td>0</td>\n",
       "      <td>0</td>\n",
       "      <td>1</td>\n",
       "      <td>0</td>\n",
       "    </tr>\n",
       "    <tr>\n",
       "      <td>77183</td>\n",
       "      <td>0</td>\n",
       "      <td>0</td>\n",
       "      <td>0</td>\n",
       "      <td>0</td>\n",
       "      <td>0</td>\n",
       "      <td>0</td>\n",
       "      <td>0</td>\n",
       "      <td>0</td>\n",
       "      <td>0</td>\n",
       "      <td>0</td>\n",
       "      <td>...</td>\n",
       "      <td>0</td>\n",
       "      <td>0</td>\n",
       "      <td>0</td>\n",
       "      <td>0</td>\n",
       "      <td>1</td>\n",
       "      <td>0</td>\n",
       "      <td>0</td>\n",
       "      <td>0</td>\n",
       "      <td>0</td>\n",
       "      <td>0</td>\n",
       "    </tr>\n",
       "    <tr>\n",
       "      <td>287</td>\n",
       "      <td>0</td>\n",
       "      <td>0</td>\n",
       "      <td>0</td>\n",
       "      <td>0</td>\n",
       "      <td>0</td>\n",
       "      <td>0</td>\n",
       "      <td>0</td>\n",
       "      <td>0</td>\n",
       "      <td>0</td>\n",
       "      <td>0</td>\n",
       "      <td>...</td>\n",
       "      <td>0</td>\n",
       "      <td>0</td>\n",
       "      <td>0</td>\n",
       "      <td>0</td>\n",
       "      <td>1</td>\n",
       "      <td>0</td>\n",
       "      <td>0</td>\n",
       "      <td>0</td>\n",
       "      <td>0</td>\n",
       "      <td>0</td>\n",
       "    </tr>\n",
       "  </tbody>\n",
       "</table>\n",
       "<p>5 rows × 122 columns</p>\n",
       "</div>"
      ],
      "text/plain": [
       "       duration  src_bytes  dst_bytes  land  wrong_fragment  urgent  hot  \\\n",
       "10046         0          0          0     0               0       0    0   \n",
       "37748         0         45         72     0               0       0    0   \n",
       "29825         1        817        330     0               0       0    0   \n",
       "77183         0          0          0     0               0       0    0   \n",
       "287           0          0          0     0               0       0    0   \n",
       "\n",
       "       num_failed_logins  logged_in  num_compromised  ...  flag_REJ  \\\n",
       "10046                  0          0                0  ...         0   \n",
       "37748                  0          0                0  ...         0   \n",
       "29825                  0          1                0  ...         0   \n",
       "77183                  0          0                0  ...         0   \n",
       "287                    0          0                0  ...         0   \n",
       "\n",
       "       flag_RSTO  flag_RSTOS0  flag_RSTR  flag_S0  flag_S1  flag_S2  flag_S3  \\\n",
       "10046          0            0          0        1        0        0        0   \n",
       "37748          0            0          0        0        0        0        0   \n",
       "29825          0            0          0        0        0        0        0   \n",
       "77183          0            0          0        1        0        0        0   \n",
       "287            0            0          0        1        0        0        0   \n",
       "\n",
       "       flag_SF  flag_SH  \n",
       "10046        0        0  \n",
       "37748        1        0  \n",
       "29825        1        0  \n",
       "77183        0        0  \n",
       "287          0        0  \n",
       "\n",
       "[5 rows x 122 columns]"
      ]
     },
     "execution_count": 8,
     "metadata": {},
     "output_type": "execute_result"
    }
   ],
   "source": [
    "X.head()"
   ]
  },
  {
   "cell_type": "code",
   "execution_count": 9,
   "metadata": {},
   "outputs": [
    {
     "data": {
      "text/plain": [
       "10046    neptune\n",
       "37748     normal\n",
       "29825     normal\n",
       "77183    neptune\n",
       "287      neptune\n",
       "Name: label, dtype: object"
      ]
     },
     "execution_count": 9,
     "metadata": {},
     "output_type": "execute_result"
    }
   ],
   "source": [
    "y.head()"
   ]
  },
  {
   "cell_type": "code",
   "execution_count": 10,
   "metadata": {},
   "outputs": [],
   "source": [
    "y = y.replace( to_replace =  'normal' , value = 0 )\n",
    "\n",
    "y = y.replace( to_replace =  'neptune' , value = 1 )\n",
    "y = y.replace( to_replace =  'back' , value = 1 )\n",
    "y = y.replace( to_replace =  'land' , value = 1 )\n",
    "y = y.replace( to_replace =  'pod' , value = 1 )\n",
    "y = y.replace( to_replace =  'smurf' , value = 1 )\n",
    "y = y.replace( to_replace =  'teardrop' , value = 1 )\n",
    "y = y.replace( to_replace =  'mailbomb' , value = 1 )\n",
    "y = y.replace( to_replace =  'apache2' , value = 1 )\n",
    "y = y.replace( to_replace =  'processtable' , value = 1 )\n",
    "y = y.replace( to_replace =  'udpstorm' , value = 1 )\n",
    "y = y.replace( to_replace =  'worm' , value = 1 )\n",
    "\n",
    "y = y.replace( to_replace =  'ipsweep' , value = 2 )\n",
    "y = y.replace( to_replace =  'nmap' , value = 2 )\n",
    "y = y.replace( to_replace =  'portsweep' , value = 2 )\n",
    "y = y.replace( to_replace =  'satan' , value = 2 )\n",
    "y = y.replace( to_replace =  'mscan' , value = 2 )\n",
    "y = y.replace( to_replace =  'saint' , value = 2 )\n",
    "\n",
    "y = y.replace( to_replace =  'ftp_write' , value = 3 )\n",
    "y = y.replace( to_replace =  'guess_passwd' , value = 3 )\n",
    "y = y.replace( to_replace =  'imap' , value = 3)\n",
    "y = y.replace( to_replace =  'multihop' , value = 3 )\n",
    "y = y.replace( to_replace =  'phf' , value = 3 )\n",
    "y = y.replace( to_replace =  'spy' , value = 3 )\n",
    "y = y.replace( to_replace =  'warezclient' , value = 3 )\n",
    "y = y.replace( to_replace =  'warezmaster' , value = 3 )\n",
    "y = y.replace( to_replace =  'sendmail' , value = 3 )\n",
    "y = y.replace( to_replace =  'snmpgetattack' , value = 3 )\n",
    "y = y.replace( to_replace =  'snmpguess' , value = 3 )\n",
    "y = y.replace( to_replace =  'xlock' , value = 3 )\n",
    "y = y.replace( to_replace =  'xsnoop' , value = 3 )\n",
    "y = y.replace( to_replace =  'httptunnel' , value = 3 )\n",
    "\n",
    "y = y.replace( to_replace =  'buffer_overflow' , value = 4 )\n",
    "y = y.replace( to_replace =  'loadmodule' , value = 4 )\n",
    "y = y.replace( to_replace =  'perl' , value = 4 )\n",
    "y = y.replace( to_replace =  'rootkit' , value = 4 )\n",
    "y = y.replace( to_replace =  'ps' , value = 4 )\n",
    "y = y.replace( to_replace =  'sqlattack' , value = 4  )\n",
    "y = y.replace( to_replace =  'xterm' , value = 4 )\n",
    "\n",
    "y = y.replace( to_replace =  'unknown' , value = 5 )"
   ]
  },
  {
   "cell_type": "code",
   "execution_count": 11,
   "metadata": {
    "scrolled": true
   },
   "outputs": [
    {
     "data": {
      "text/plain": [
       "10046    1\n",
       "37748    0\n",
       "29825    0\n",
       "77183    1\n",
       "287      1\n",
       "Name: label, dtype: int64"
      ]
     },
     "execution_count": 11,
     "metadata": {},
     "output_type": "execute_result"
    }
   ],
   "source": [
    "y.head()"
   ]
  },
  {
   "cell_type": "markdown",
   "metadata": {},
   "source": [
    "# ChiSquared"
   ]
  },
  {
   "cell_type": "code",
   "execution_count": 12,
   "metadata": {},
   "outputs": [],
   "source": [
    "import matplotlib.pyplot as plt\n",
    "\n",
    "from sklearn.datasets import load_iris\n",
    "from sklearn.model_selection import train_test_split\n",
    "from sklearn.preprocessing import MinMaxScaler\n",
    "from sklearn.svm import LinearSVC\n",
    "from sklearn.pipeline import make_pipeline\n",
    "from sklearn.feature_selection import SelectKBest, chi2"
   ]
  },
  {
   "cell_type": "code",
   "execution_count": 13,
   "metadata": {},
   "outputs": [
    {
     "name": "stdout",
     "output_type": "stream",
     "text": [
      "before transform:         duration  src_bytes  dst_bytes  land  wrong_fragment  urgent  hot  \\\n",
      "10046          0          0          0     0               0       0    0   \n",
      "37748          0         45         72     0               0       0    0   \n",
      "29825          1        817        330     0               0       0    0   \n",
      "77183          0          0          0     0               0       0    0   \n",
      "287            0          0          0     0               0       0    0   \n",
      "...          ...        ...        ...   ...             ...     ...  ...   \n",
      "101713         0        319       6902     0               0       0    0   \n",
      "11423          0        245          0     0               0       0    0   \n",
      "10315          0        236       2507     0               0       0    0   \n",
      "16445          0          0          0     0               0       0    0   \n",
      "108396         0      54540       7300     0               0       0    1   \n",
      "\n",
      "        num_failed_logins  logged_in  num_compromised  ...  flag_REJ  \\\n",
      "10046                   0          0                0  ...         0   \n",
      "37748                   0          0                0  ...         0   \n",
      "29825                   0          1                0  ...         0   \n",
      "77183                   0          0                0  ...         0   \n",
      "287                     0          0                0  ...         0   \n",
      "...                   ...        ...              ...  ...       ...   \n",
      "101713                  0          1                0  ...         0   \n",
      "11423                   0          1                0  ...         0   \n",
      "10315                   0          1                0  ...         0   \n",
      "16445                   0          0                0  ...         0   \n",
      "108396                  0          1                0  ...         0   \n",
      "\n",
      "        flag_RSTO  flag_RSTOS0  flag_RSTR  flag_S0  flag_S1  flag_S2  flag_S3  \\\n",
      "10046           0            0          0        1        0        0        0   \n",
      "37748           0            0          0        0        0        0        0   \n",
      "29825           0            0          0        0        0        0        0   \n",
      "77183           0            0          0        1        0        0        0   \n",
      "287             0            0          0        1        0        0        0   \n",
      "...           ...          ...        ...      ...      ...      ...      ...   \n",
      "101713          0            0          0        0        0        0        0   \n",
      "11423           0            0          0        0        0        0        0   \n",
      "10315           0            0          0        0        0        0        0   \n",
      "16445           0            0          0        1        0        0        0   \n",
      "108396          0            0          1        0        0        0        0   \n",
      "\n",
      "        flag_SF  flag_SH  \n",
      "10046         0        0  \n",
      "37748         1        0  \n",
      "29825         1        0  \n",
      "77183         0        0  \n",
      "287           0        0  \n",
      "...         ...      ...  \n",
      "101713        1        0  \n",
      "11423         1        0  \n",
      "10315         1        0  \n",
      "16445         0        0  \n",
      "108396        0        0  \n",
      "\n",
      "[4000 rows x 122 columns]\n",
      "scores_: [5.98630203e+06 4.60625891e+08 6.51544432e+06            nan\n",
      " 1.84292822e+02            nan 9.91362469e+03 5.95168074e+01\n",
      " 1.18396075e+03 6.09454053e+03 5.00098361e+02 1.64298725e+00\n",
      " 6.25320947e+03 6.07905282e+01 3.28597450e+00 1.31438980e+01\n",
      "            nan            nan 3.11079186e+02 2.52970622e+05\n",
      " 5.86670710e+03 1.75999068e+03 1.77991065e+03 4.57318413e+02\n",
      " 4.68149524e+02 7.49042561e+02 2.67535290e+02 3.05218103e+02\n",
      " 5.22383203e+04 2.10237820e+05 7.51908950e+02 4.95013379e+02\n",
      " 7.60680794e+02 3.84364030e+02 1.78149032e+03 1.83272484e+03\n",
      " 3.60572913e+02 4.55725334e+02 5.95679976e+02 6.70472998e+01\n",
      " 1.84494597e+02 4.10746812e+00 2.46448087e+00 6.81883440e+01\n",
      "            nan 1.90280905e+01 5.16019900e+01 3.50156361e+01\n",
      " 2.11074709e+01 1.83986113e+01 3.50156361e+01 2.94868515e+01\n",
      " 3.31727079e+01 2.29196721e+02 2.21151386e+01 1.16707438e+03\n",
      " 1.20641131e+02 2.58009950e+01 3.00609719e+01 3.07533617e+01\n",
      " 2.42468829e+02 2.39124791e+02 2.11074709e+01            nan\n",
      " 2.64611381e+01 7.76744742e+02            nan 2.64611381e+01\n",
      "            nan 2.39580668e+01 3.54900485e+01 2.94868515e+01\n",
      " 1.47434257e+01 1.47434257e+01 1.99769176e+01 1.65863539e+01\n",
      " 2.46692858e+01 1.07941508e+01 2.82586655e+01 2.32269261e+01\n",
      " 2.21151386e+01 1.53743097e+01 4.79161336e+01 2.39580668e+01\n",
      " 7.39344262e+00 1.14354378e+02            nan 1.84292822e+00\n",
      " 3.04682440e+00 3.68585643e+00 7.44709754e+02            nan\n",
      "            nan 3.68585643e+00 1.84292822e+00 1.89518402e+02\n",
      " 1.29004975e+01 1.07941508e+01 1.93408759e+01 2.58009950e+01\n",
      " 1.93408759e+01 4.00859727e+01            nan            nan\n",
      " 2.28887384e+01            nan 1.39653916e+01 3.18673405e+01\n",
      " 3.36771910e+01 3.13297797e+01 3.36771910e+01            nan\n",
      " 2.25581013e+02 6.47331244e+01 2.00994475e+01 5.37348262e+02\n",
      " 1.89326223e+03 1.06794171e+01 4.10746812e+00 8.21493625e-01\n",
      " 9.94982996e+02 9.95698390e+01]\n",
      "pvalues_: [0.00000000e+000 0.00000000e+000 0.00000000e+000             nan\n",
      " 8.92253758e-039             nan 0.00000000e+000 3.66482526e-012\n",
      " 4.77782068e-255 0.00000000e+000 6.37939637e-107 8.01046095e-001\n",
      " 0.00000000e+000 1.97864854e-012 5.11157540e-001 1.05936713e-002\n",
      "             nan             nan 4.41201735e-066 0.00000000e+000\n",
      " 0.00000000e+000 0.00000000e+000 0.00000000e+000 1.13671650e-097\n",
      " 5.17402465e-100 8.35812911e-161 1.08401547e-056 8.11237108e-065\n",
      " 0.00000000e+000 0.00000000e+000 2.00140443e-161 8.02691198e-106\n",
      " 2.52102481e-163 6.64320987e-082 0.00000000e+000 0.00000000e+000\n",
      " 9.14012696e-077 2.51232679e-097 1.33406044e-127 9.52753459e-014\n",
      " 8.07502076e-039 3.91656955e-001 6.51007136e-001 5.47424508e-014\n",
      "             nan 7.76019223e-004 1.67078725e-010 4.61112028e-007\n",
      " 3.01504192e-004 1.03124754e-003 4.61112028e-007 6.22459073e-006\n",
      " 1.10106718e-006 1.96569443e-048 1.90115899e-004 2.18691341e-251\n",
      " 3.89688424e-025 3.47068709e-005 4.75652280e-006 3.43730641e-006\n",
      " 2.72744671e-051 1.43193513e-050 3.01504192e-004             nan\n",
      " 2.55422495e-005 8.36348810e-167             nan 2.55422495e-005\n",
      "             nan 8.14355894e-005 3.68400230e-007 6.22459073e-006\n",
      " 5.26405121e-003 5.26405121e-003 5.04666237e-004 2.32532259e-003\n",
      " 5.86292107e-005 2.89775328e-002 1.10542310e-005 1.14069995e-004\n",
      " 1.90115899e-004 3.98463574e-003 9.82550160e-010 8.14355894e-005\n",
      " 1.16500858e-001 8.57067474e-024             nan 7.64619728e-001\n",
      " 5.50020260e-001 4.50186367e-001 7.25192693e-160             nan\n",
      "             nan 4.50186367e-001 7.64619728e-001 6.72639717e-040\n",
      " 1.17723545e-002 2.89775328e-002 6.73541567e-004 3.47068709e-005\n",
      " 6.73541567e-004 4.15478919e-008             nan             nan\n",
      " 1.33274324e-004             nan 7.40633447e-003 2.03632004e-006\n",
      " 8.67863767e-007 2.62196706e-006 8.67863767e-007             nan\n",
      " 1.17980831e-047 2.92881608e-013 4.77322436e-004 5.58658831e-115\n",
      " 0.00000000e+000 3.04132849e-002 3.91656955e-001 9.35543538e-001\n",
      " 4.36360530e-214 1.21455992e-020]\n",
      "selected index: [  0   1   2   6   9  12  19  20  28  29  35 116]\n",
      "after transform: [[0.000e+00 0.000e+00 0.000e+00 ... 9.000e+00 1.000e+00 1.000e+00]\n",
      " [0.000e+00 4.500e+01 7.200e+01 ... 2.550e+02 0.000e+00 0.000e+00]\n",
      " [1.000e+00 8.170e+02 3.300e+02 ... 2.140e+02 0.000e+00 0.000e+00]\n",
      " ...\n",
      " [0.000e+00 2.360e+02 2.507e+03 ... 2.410e+02 0.000e+00 0.000e+00]\n",
      " [0.000e+00 0.000e+00 0.000e+00 ... 1.200e+01 1.000e+00 1.000e+00]\n",
      " [0.000e+00 5.454e+04 7.300e+03 ... 2.550e+02 1.000e-02 0.000e+00]]\n"
     ]
    }
   ],
   "source": [
    "print(\"before transform:\",X)\n",
    "selector=SelectKBest(score_func=chi2,k=12)\n",
    "fit = selector.fit(X,y)\n",
    "features = fit.transform(X)\n",
    "print(\"scores_:\",fit.scores_)\n",
    "print(\"pvalues_:\",fit.pvalues_)\n",
    "print(\"selected index:\",fit.get_support(True))\n",
    "print(\"after transform:\",fit.transform(X)) \n",
    "X = fit.transform(X)"
   ]
  },
  {
   "cell_type": "markdown",
   "metadata": {},
   "source": [
    "# SVM"
   ]
  },
  {
   "cell_type": "code",
   "execution_count": 14,
   "metadata": {},
   "outputs": [],
   "source": [
    "from sklearn import svm"
   ]
  },
  {
   "cell_type": "code",
   "execution_count": 15,
   "metadata": {},
   "outputs": [],
   "source": [
    "svmModel = svm.SVC(gamma='scale')"
   ]
  },
  {
   "cell_type": "code",
   "execution_count": 16,
   "metadata": {},
   "outputs": [
    {
     "name": "stderr",
     "output_type": "stream",
     "text": [
      "[Parallel(n_jobs=-1)]: Using backend LokyBackend with 8 concurrent workers.\n",
      "C:\\Users\\nayer\\Anaconda3\\lib\\site-packages\\sklearn\\model_selection\\_split.py:657: Warning: The least populated class in y has only 2 members, which is too few. The minimum number of members in any class cannot be less than n_splits=10.\n",
      "  % (min_groups, self.n_splits)), Warning)\n",
      "[Parallel(n_jobs=-1)]: Done   1 tasks      | elapsed:    5.7s\n",
      "[Parallel(n_jobs=-1)]: Done   2 out of  10 | elapsed:    5.7s remaining:   23.2s\n",
      "[Parallel(n_jobs=-1)]: Done   3 out of  10 | elapsed:    5.7s remaining:   13.5s\n",
      "[Parallel(n_jobs=-1)]: Done   4 out of  10 | elapsed:    5.8s remaining:    8.7s\n",
      "[Parallel(n_jobs=-1)]: Done   5 out of  10 | elapsed:    5.9s remaining:    5.9s\n",
      "[Parallel(n_jobs=-1)]: Done   6 out of  10 | elapsed:    5.9s remaining:    3.9s\n",
      "[Parallel(n_jobs=-1)]: Done   7 out of  10 | elapsed:    5.9s remaining:    2.5s\n",
      "[Parallel(n_jobs=-1)]: Done   8 out of  10 | elapsed:    5.9s remaining:    1.4s\n",
      "[Parallel(n_jobs=-1)]: Done  10 out of  10 | elapsed:    7.1s remaining:    0.0s\n",
      "[Parallel(n_jobs=-1)]: Done  10 out of  10 | elapsed:    7.1s finished\n"
     ]
    }
   ],
   "source": [
    "svmScore = cross_validate(svmModel, X, y, cv=10, scoring=scoring_metrics, verbose=15 ,n_jobs=-1)"
   ]
  },
  {
   "cell_type": "code",
   "execution_count": 17,
   "metadata": {},
   "outputs": [],
   "source": [
    "ss = pd.DataFrame(svmScore)"
   ]
  },
  {
   "cell_type": "code",
   "execution_count": 18,
   "metadata": {},
   "outputs": [
    {
     "data": {
      "text/html": [
       "<div>\n",
       "<style scoped>\n",
       "    .dataframe tbody tr th:only-of-type {\n",
       "        vertical-align: middle;\n",
       "    }\n",
       "\n",
       "    .dataframe tbody tr th {\n",
       "        vertical-align: top;\n",
       "    }\n",
       "\n",
       "    .dataframe thead th {\n",
       "        text-align: right;\n",
       "    }\n",
       "</style>\n",
       "<table border=\"1\" class=\"dataframe\">\n",
       "  <thead>\n",
       "    <tr style=\"text-align: right;\">\n",
       "      <th></th>\n",
       "      <th>fit_time</th>\n",
       "      <th>score_time</th>\n",
       "      <th>test_accuracy</th>\n",
       "      <th>test_precision</th>\n",
       "      <th>test_recall</th>\n",
       "      <th>test_f1_score</th>\n",
       "    </tr>\n",
       "  </thead>\n",
       "  <tbody>\n",
       "    <tr>\n",
       "      <td>0</td>\n",
       "      <td>1.280850</td>\n",
       "      <td>0.392971</td>\n",
       "      <td>0.545906</td>\n",
       "      <td>0.545906</td>\n",
       "      <td>0.545906</td>\n",
       "      <td>0.545906</td>\n",
       "    </tr>\n",
       "    <tr>\n",
       "      <td>1</td>\n",
       "      <td>1.076914</td>\n",
       "      <td>0.423999</td>\n",
       "      <td>0.545906</td>\n",
       "      <td>0.545906</td>\n",
       "      <td>0.545906</td>\n",
       "      <td>0.545906</td>\n",
       "    </tr>\n",
       "    <tr>\n",
       "      <td>2</td>\n",
       "      <td>1.219366</td>\n",
       "      <td>0.402811</td>\n",
       "      <td>0.548628</td>\n",
       "      <td>0.548628</td>\n",
       "      <td>0.548628</td>\n",
       "      <td>0.548628</td>\n",
       "    </tr>\n",
       "    <tr>\n",
       "      <td>3</td>\n",
       "      <td>1.083895</td>\n",
       "      <td>0.432604</td>\n",
       "      <td>0.550000</td>\n",
       "      <td>0.550000</td>\n",
       "      <td>0.550000</td>\n",
       "      <td>0.550000</td>\n",
       "    </tr>\n",
       "    <tr>\n",
       "      <td>4</td>\n",
       "      <td>1.110726</td>\n",
       "      <td>0.431455</td>\n",
       "      <td>0.552500</td>\n",
       "      <td>0.552500</td>\n",
       "      <td>0.552500</td>\n",
       "      <td>0.552500</td>\n",
       "    </tr>\n",
       "  </tbody>\n",
       "</table>\n",
       "</div>"
      ],
      "text/plain": [
       "   fit_time  score_time  test_accuracy  test_precision  test_recall  \\\n",
       "0  1.280850    0.392971       0.545906        0.545906     0.545906   \n",
       "1  1.076914    0.423999       0.545906        0.545906     0.545906   \n",
       "2  1.219366    0.402811       0.548628        0.548628     0.548628   \n",
       "3  1.083895    0.432604       0.550000        0.550000     0.550000   \n",
       "4  1.110726    0.431455       0.552500        0.552500     0.552500   \n",
       "\n",
       "   test_f1_score  \n",
       "0       0.545906  \n",
       "1       0.545906  \n",
       "2       0.548628  \n",
       "3       0.550000  \n",
       "4       0.552500  "
      ]
     },
     "execution_count": 18,
     "metadata": {},
     "output_type": "execute_result"
    }
   ],
   "source": [
    "ss.head()"
   ]
  },
  {
   "cell_type": "code",
   "execution_count": 19,
   "metadata": {},
   "outputs": [
    {
     "data": {
      "text/plain": [
       "0.5497584621093321"
      ]
     },
     "execution_count": 19,
     "metadata": {},
     "output_type": "execute_result"
    }
   ],
   "source": [
    "ss['test_accuracy'].mean()"
   ]
  },
  {
   "cell_type": "code",
   "execution_count": 20,
   "metadata": {},
   "outputs": [],
   "source": [
    "ss.to_csv('NSL_SVM_ChiSquared_bestEstimator.csv')"
   ]
  },
  {
   "cell_type": "code",
   "execution_count": null,
   "metadata": {},
   "outputs": [],
   "source": []
  },
  {
   "cell_type": "markdown",
   "metadata": {},
   "source": [
    "# Random Forest"
   ]
  },
  {
   "cell_type": "code",
   "execution_count": 21,
   "metadata": {},
   "outputs": [],
   "source": [
    "from sklearn.ensemble import RandomForestClassifier"
   ]
  },
  {
   "cell_type": "code",
   "execution_count": 22,
   "metadata": {},
   "outputs": [],
   "source": [
    "randomForestModel = RandomForestClassifier(max_depth=2, random_state=0, n_estimators=100)"
   ]
  },
  {
   "cell_type": "code",
   "execution_count": 23,
   "metadata": {
    "scrolled": true
   },
   "outputs": [
    {
     "name": "stderr",
     "output_type": "stream",
     "text": [
      "[Parallel(n_jobs=-1)]: Using backend LokyBackend with 8 concurrent workers.\n",
      "C:\\Users\\nayer\\Anaconda3\\lib\\site-packages\\sklearn\\model_selection\\_split.py:657: Warning: The least populated class in y has only 2 members, which is too few. The minimum number of members in any class cannot be less than n_splits=4.\n",
      "  % (min_groups, self.n_splits)), Warning)\n",
      "[Parallel(n_jobs=-1)]: Done   4 out of   4 | elapsed:    0.4s finished\n"
     ]
    }
   ],
   "source": [
    "randomForestScore = cross_validate(randomForestModel, X, y, cv=4, scoring=scoring_metrics, verbose=3 ,n_jobs=-1)"
   ]
  },
  {
   "cell_type": "code",
   "execution_count": null,
   "metadata": {
    "scrolled": true
   },
   "outputs": [],
   "source": []
  },
  {
   "cell_type": "code",
   "execution_count": 24,
   "metadata": {
    "scrolled": true
   },
   "outputs": [],
   "source": [
    "randomForestScore = pd.DataFrame(randomForestScore)"
   ]
  },
  {
   "cell_type": "code",
   "execution_count": 25,
   "metadata": {},
   "outputs": [],
   "source": [
    "randomForestScore.to_csv('NSL_RandomForest_ChiSquared_scores.csv')"
   ]
  },
  {
   "cell_type": "code",
   "execution_count": 26,
   "metadata": {},
   "outputs": [
    {
     "data": {
      "text/html": [
       "<div>\n",
       "<style scoped>\n",
       "    .dataframe tbody tr th:only-of-type {\n",
       "        vertical-align: middle;\n",
       "    }\n",
       "\n",
       "    .dataframe tbody tr th {\n",
       "        vertical-align: top;\n",
       "    }\n",
       "\n",
       "    .dataframe thead th {\n",
       "        text-align: right;\n",
       "    }\n",
       "</style>\n",
       "<table border=\"1\" class=\"dataframe\">\n",
       "  <thead>\n",
       "    <tr style=\"text-align: right;\">\n",
       "      <th></th>\n",
       "      <th>fit_time</th>\n",
       "      <th>score_time</th>\n",
       "      <th>test_accuracy</th>\n",
       "      <th>test_precision</th>\n",
       "      <th>test_recall</th>\n",
       "      <th>test_f1_score</th>\n",
       "    </tr>\n",
       "  </thead>\n",
       "  <tbody>\n",
       "    <tr>\n",
       "      <td>0</td>\n",
       "      <td>0.307660</td>\n",
       "      <td>0.131240</td>\n",
       "      <td>0.869261</td>\n",
       "      <td>0.869261</td>\n",
       "      <td>0.869261</td>\n",
       "      <td>0.869261</td>\n",
       "    </tr>\n",
       "    <tr>\n",
       "      <td>1</td>\n",
       "      <td>0.267118</td>\n",
       "      <td>0.119079</td>\n",
       "      <td>0.874126</td>\n",
       "      <td>0.874126</td>\n",
       "      <td>0.874126</td>\n",
       "      <td>0.874126</td>\n",
       "    </tr>\n",
       "    <tr>\n",
       "      <td>2</td>\n",
       "      <td>0.293518</td>\n",
       "      <td>0.141381</td>\n",
       "      <td>0.867868</td>\n",
       "      <td>0.867868</td>\n",
       "      <td>0.867868</td>\n",
       "      <td>0.867868</td>\n",
       "    </tr>\n",
       "    <tr>\n",
       "      <td>3</td>\n",
       "      <td>0.296502</td>\n",
       "      <td>0.131240</td>\n",
       "      <td>0.875752</td>\n",
       "      <td>0.875752</td>\n",
       "      <td>0.875752</td>\n",
       "      <td>0.875752</td>\n",
       "    </tr>\n",
       "  </tbody>\n",
       "</table>\n",
       "</div>"
      ],
      "text/plain": [
       "   fit_time  score_time  test_accuracy  test_precision  test_recall  \\\n",
       "0  0.307660    0.131240       0.869261        0.869261     0.869261   \n",
       "1  0.267118    0.119079       0.874126        0.874126     0.874126   \n",
       "2  0.293518    0.141381       0.867868        0.867868     0.867868   \n",
       "3  0.296502    0.131240       0.875752        0.875752     0.875752   \n",
       "\n",
       "   test_f1_score  \n",
       "0       0.869261  \n",
       "1       0.874126  \n",
       "2       0.867868  \n",
       "3       0.875752  "
      ]
     },
     "execution_count": 26,
     "metadata": {},
     "output_type": "execute_result"
    }
   ],
   "source": [
    "randomForestScore"
   ]
  },
  {
   "cell_type": "code",
   "execution_count": 27,
   "metadata": {},
   "outputs": [],
   "source": [
    "from sklearn.model_selection import GridSearchCV\n",
    "import numpy as np"
   ]
  },
  {
   "cell_type": "code",
   "execution_count": 28,
   "metadata": {},
   "outputs": [],
   "source": [
    "rf_parameters={'n_estimators' : range(80,200,20),'max_depth': range(1,20,3), 'min_samples_split': np.arange(0.1,1,0.1)}"
   ]
  },
  {
   "cell_type": "code",
   "execution_count": 29,
   "metadata": {},
   "outputs": [],
   "source": [
    "rf2 = RandomForestClassifier()"
   ]
  },
  {
   "cell_type": "code",
   "execution_count": 30,
   "metadata": {},
   "outputs": [],
   "source": [
    "dlGrid = GridSearchCV(rf2, rf_parameters, scoring=scoring_metrics, refit='accuracy', verbose=3, n_jobs=-1, cv=3)"
   ]
  },
  {
   "cell_type": "code",
   "execution_count": 31,
   "metadata": {
    "scrolled": true
   },
   "outputs": [
    {
     "name": "stderr",
     "output_type": "stream",
     "text": [
      "C:\\Users\\nayer\\Anaconda3\\lib\\site-packages\\sklearn\\model_selection\\_split.py:657: Warning: The least populated class in y has only 2 members, which is too few. The minimum number of members in any class cannot be less than n_splits=3.\n",
      "  % (min_groups, self.n_splits)), Warning)\n",
      "[Parallel(n_jobs=-1)]: Using backend LokyBackend with 8 concurrent workers.\n"
     ]
    },
    {
     "name": "stdout",
     "output_type": "stream",
     "text": [
      "Fitting 3 folds for each of 378 candidates, totalling 1134 fits\n"
     ]
    },
    {
     "name": "stderr",
     "output_type": "stream",
     "text": [
      "[Parallel(n_jobs=-1)]: Done  16 tasks      | elapsed:    1.6s\n",
      "[Parallel(n_jobs=-1)]: Done 112 tasks      | elapsed:    8.9s\n",
      "[Parallel(n_jobs=-1)]: Done 272 tasks      | elapsed:   23.6s\n",
      "[Parallel(n_jobs=-1)]: Done 496 tasks      | elapsed:   44.6s\n",
      "[Parallel(n_jobs=-1)]: Done 784 tasks      | elapsed:  1.2min\n",
      "[Parallel(n_jobs=-1)]: Done 1134 out of 1134 | elapsed:  1.7min finished\n"
     ]
    },
    {
     "data": {
      "text/plain": [
       "GridSearchCV(cv=3, error_score='raise-deprecating',\n",
       "             estimator=RandomForestClassifier(bootstrap=True, class_weight=None,\n",
       "                                              criterion='gini', max_depth=None,\n",
       "                                              max_features='auto',\n",
       "                                              max_leaf_nodes=None,\n",
       "                                              min_impurity_decrease=0.0,\n",
       "                                              min_impurity_split=None,\n",
       "                                              min_samples_leaf=1,\n",
       "                                              min_samples_split=2,\n",
       "                                              min_weight_fraction_leaf=0.0,\n",
       "                                              n_estimators='warn', n_jobs=None,\n",
       "                                              oob_score=Fa...\n",
       "                         'min_samples_split': array([0.1, 0.2, 0.3, 0.4, 0.5, 0.6, 0.7, 0.8, 0.9]),\n",
       "                         'n_estimators': range(80, 200, 20)},\n",
       "             pre_dispatch='2*n_jobs', refit='accuracy',\n",
       "             return_train_score=False,\n",
       "             scoring={'accuracy': make_scorer(accuracy_score),\n",
       "                      'f1_score': make_scorer(f1_score, average=micro),\n",
       "                      'precision': make_scorer(precision_score, average=micro),\n",
       "                      'recall': make_scorer(recall_score, average=micro)},\n",
       "             verbose=3)"
      ]
     },
     "execution_count": 31,
     "metadata": {},
     "output_type": "execute_result"
    }
   ],
   "source": [
    "dlGrid.fit(X, y)"
   ]
  },
  {
   "cell_type": "code",
   "execution_count": 32,
   "metadata": {},
   "outputs": [
    {
     "data": {
      "text/html": [
       "<div>\n",
       "<style scoped>\n",
       "    .dataframe tbody tr th:only-of-type {\n",
       "        vertical-align: middle;\n",
       "    }\n",
       "\n",
       "    .dataframe tbody tr th {\n",
       "        vertical-align: top;\n",
       "    }\n",
       "\n",
       "    .dataframe thead th {\n",
       "        text-align: right;\n",
       "    }\n",
       "</style>\n",
       "<table border=\"1\" class=\"dataframe\">\n",
       "  <thead>\n",
       "    <tr style=\"text-align: right;\">\n",
       "      <th></th>\n",
       "      <th>mean_fit_time</th>\n",
       "      <th>std_fit_time</th>\n",
       "      <th>mean_score_time</th>\n",
       "      <th>std_score_time</th>\n",
       "      <th>param_max_depth</th>\n",
       "      <th>param_min_samples_split</th>\n",
       "      <th>param_n_estimators</th>\n",
       "      <th>params</th>\n",
       "      <th>split0_test_accuracy</th>\n",
       "      <th>split1_test_accuracy</th>\n",
       "      <th>...</th>\n",
       "      <th>split2_test_recall</th>\n",
       "      <th>mean_test_recall</th>\n",
       "      <th>std_test_recall</th>\n",
       "      <th>rank_test_recall</th>\n",
       "      <th>split0_test_f1_score</th>\n",
       "      <th>split1_test_f1_score</th>\n",
       "      <th>split2_test_f1_score</th>\n",
       "      <th>mean_test_f1_score</th>\n",
       "      <th>std_test_f1_score</th>\n",
       "      <th>rank_test_f1_score</th>\n",
       "    </tr>\n",
       "  </thead>\n",
       "  <tbody>\n",
       "    <tr>\n",
       "      <td>0</td>\n",
       "      <td>0.205125</td>\n",
       "      <td>0.038861</td>\n",
       "      <td>0.166572</td>\n",
       "      <td>0.016919</td>\n",
       "      <td>1</td>\n",
       "      <td>0.1</td>\n",
       "      <td>80</td>\n",
       "      <td>{'max_depth': 1, 'min_samples_split': 0.1, 'n_...</td>\n",
       "      <td>0.860570</td>\n",
       "      <td>0.862069</td>\n",
       "      <td>...</td>\n",
       "      <td>0.867117</td>\n",
       "      <td>0.86325</td>\n",
       "      <td>0.002800</td>\n",
       "      <td>116</td>\n",
       "      <td>0.860570</td>\n",
       "      <td>0.862069</td>\n",
       "      <td>0.867117</td>\n",
       "      <td>0.86325</td>\n",
       "      <td>0.002800</td>\n",
       "      <td>116</td>\n",
       "    </tr>\n",
       "    <tr>\n",
       "      <td>1</td>\n",
       "      <td>0.239166</td>\n",
       "      <td>0.037012</td>\n",
       "      <td>0.183937</td>\n",
       "      <td>0.033075</td>\n",
       "      <td>1</td>\n",
       "      <td>0.1</td>\n",
       "      <td>100</td>\n",
       "      <td>{'max_depth': 1, 'min_samples_split': 0.1, 'n_...</td>\n",
       "      <td>0.858321</td>\n",
       "      <td>0.856822</td>\n",
       "      <td>...</td>\n",
       "      <td>0.866366</td>\n",
       "      <td>0.86050</td>\n",
       "      <td>0.004190</td>\n",
       "      <td>189</td>\n",
       "      <td>0.858321</td>\n",
       "      <td>0.856822</td>\n",
       "      <td>0.866366</td>\n",
       "      <td>0.86050</td>\n",
       "      <td>0.004190</td>\n",
       "      <td>189</td>\n",
       "    </tr>\n",
       "    <tr>\n",
       "      <td>2</td>\n",
       "      <td>0.344107</td>\n",
       "      <td>0.072560</td>\n",
       "      <td>0.244597</td>\n",
       "      <td>0.006393</td>\n",
       "      <td>1</td>\n",
       "      <td>0.1</td>\n",
       "      <td>120</td>\n",
       "      <td>{'max_depth': 1, 'min_samples_split': 0.1, 'n_...</td>\n",
       "      <td>0.858321</td>\n",
       "      <td>0.859070</td>\n",
       "      <td>...</td>\n",
       "      <td>0.864865</td>\n",
       "      <td>0.86075</td>\n",
       "      <td>0.002924</td>\n",
       "      <td>184</td>\n",
       "      <td>0.858321</td>\n",
       "      <td>0.859070</td>\n",
       "      <td>0.864865</td>\n",
       "      <td>0.86075</td>\n",
       "      <td>0.002924</td>\n",
       "      <td>184</td>\n",
       "    </tr>\n",
       "    <tr>\n",
       "      <td>3</td>\n",
       "      <td>0.485345</td>\n",
       "      <td>0.003734</td>\n",
       "      <td>0.280817</td>\n",
       "      <td>0.003505</td>\n",
       "      <td>1</td>\n",
       "      <td>0.1</td>\n",
       "      <td>140</td>\n",
       "      <td>{'max_depth': 1, 'min_samples_split': 0.1, 'n_...</td>\n",
       "      <td>0.861319</td>\n",
       "      <td>0.862819</td>\n",
       "      <td>...</td>\n",
       "      <td>0.864865</td>\n",
       "      <td>0.86300</td>\n",
       "      <td>0.001453</td>\n",
       "      <td>123</td>\n",
       "      <td>0.861319</td>\n",
       "      <td>0.862819</td>\n",
       "      <td>0.864865</td>\n",
       "      <td>0.86300</td>\n",
       "      <td>0.001453</td>\n",
       "      <td>123</td>\n",
       "    </tr>\n",
       "    <tr>\n",
       "      <td>4</td>\n",
       "      <td>0.551861</td>\n",
       "      <td>0.007098</td>\n",
       "      <td>0.311794</td>\n",
       "      <td>0.006121</td>\n",
       "      <td>1</td>\n",
       "      <td>0.1</td>\n",
       "      <td>160</td>\n",
       "      <td>{'max_depth': 1, 'min_samples_split': 0.1, 'n_...</td>\n",
       "      <td>0.860570</td>\n",
       "      <td>0.862069</td>\n",
       "      <td>...</td>\n",
       "      <td>0.863363</td>\n",
       "      <td>0.86200</td>\n",
       "      <td>0.001141</td>\n",
       "      <td>159</td>\n",
       "      <td>0.860570</td>\n",
       "      <td>0.862069</td>\n",
       "      <td>0.863363</td>\n",
       "      <td>0.86200</td>\n",
       "      <td>0.001141</td>\n",
       "      <td>159</td>\n",
       "    </tr>\n",
       "  </tbody>\n",
       "</table>\n",
       "<p>5 rows × 32 columns</p>\n",
       "</div>"
      ],
      "text/plain": [
       "   mean_fit_time  std_fit_time  mean_score_time  std_score_time  \\\n",
       "0       0.205125      0.038861         0.166572        0.016919   \n",
       "1       0.239166      0.037012         0.183937        0.033075   \n",
       "2       0.344107      0.072560         0.244597        0.006393   \n",
       "3       0.485345      0.003734         0.280817        0.003505   \n",
       "4       0.551861      0.007098         0.311794        0.006121   \n",
       "\n",
       "  param_max_depth param_min_samples_split param_n_estimators  \\\n",
       "0               1                     0.1                 80   \n",
       "1               1                     0.1                100   \n",
       "2               1                     0.1                120   \n",
       "3               1                     0.1                140   \n",
       "4               1                     0.1                160   \n",
       "\n",
       "                                              params  split0_test_accuracy  \\\n",
       "0  {'max_depth': 1, 'min_samples_split': 0.1, 'n_...              0.860570   \n",
       "1  {'max_depth': 1, 'min_samples_split': 0.1, 'n_...              0.858321   \n",
       "2  {'max_depth': 1, 'min_samples_split': 0.1, 'n_...              0.858321   \n",
       "3  {'max_depth': 1, 'min_samples_split': 0.1, 'n_...              0.861319   \n",
       "4  {'max_depth': 1, 'min_samples_split': 0.1, 'n_...              0.860570   \n",
       "\n",
       "   split1_test_accuracy  ...  split2_test_recall  mean_test_recall  \\\n",
       "0              0.862069  ...            0.867117           0.86325   \n",
       "1              0.856822  ...            0.866366           0.86050   \n",
       "2              0.859070  ...            0.864865           0.86075   \n",
       "3              0.862819  ...            0.864865           0.86300   \n",
       "4              0.862069  ...            0.863363           0.86200   \n",
       "\n",
       "   std_test_recall  rank_test_recall  split0_test_f1_score  \\\n",
       "0         0.002800               116              0.860570   \n",
       "1         0.004190               189              0.858321   \n",
       "2         0.002924               184              0.858321   \n",
       "3         0.001453               123              0.861319   \n",
       "4         0.001141               159              0.860570   \n",
       "\n",
       "   split1_test_f1_score  split2_test_f1_score  mean_test_f1_score  \\\n",
       "0              0.862069              0.867117             0.86325   \n",
       "1              0.856822              0.866366             0.86050   \n",
       "2              0.859070              0.864865             0.86075   \n",
       "3              0.862819              0.864865             0.86300   \n",
       "4              0.862069              0.863363             0.86200   \n",
       "\n",
       "   std_test_f1_score  rank_test_f1_score  \n",
       "0           0.002800                 116  \n",
       "1           0.004190                 189  \n",
       "2           0.002924                 184  \n",
       "3           0.001453                 123  \n",
       "4           0.001141                 159  \n",
       "\n",
       "[5 rows x 32 columns]"
      ]
     },
     "execution_count": 32,
     "metadata": {},
     "output_type": "execute_result"
    }
   ],
   "source": [
    "dtGridScores = pd.DataFrame(dlGrid.cv_results_)\n",
    "dtGridScores.head()"
   ]
  },
  {
   "cell_type": "code",
   "execution_count": 33,
   "metadata": {},
   "outputs": [],
   "source": [
    "dt3=dlGrid.best_estimator_"
   ]
  },
  {
   "cell_type": "code",
   "execution_count": 34,
   "metadata": {},
   "outputs": [
    {
     "name": "stderr",
     "output_type": "stream",
     "text": [
      "[Parallel(n_jobs=-1)]: Using backend LokyBackend with 8 concurrent workers.\n",
      "C:\\Users\\nayer\\Anaconda3\\lib\\site-packages\\sklearn\\model_selection\\_split.py:657: Warning: The least populated class in y has only 2 members, which is too few. The minimum number of members in any class cannot be less than n_splits=4.\n",
      "  % (min_groups, self.n_splits)), Warning)\n",
      "[Parallel(n_jobs=-1)]: Done   4 out of   4 | elapsed:    0.7s finished\n"
     ]
    }
   ],
   "source": [
    "dtFinalScore = cross_validate(dt3, X, y, cv=4, scoring=scoring_metrics, verbose=3, n_jobs=-1)"
   ]
  },
  {
   "cell_type": "code",
   "execution_count": 35,
   "metadata": {
    "scrolled": true
   },
   "outputs": [],
   "source": [
    "dtFinalScore = pd.DataFrame(dtFinalScore)"
   ]
  },
  {
   "cell_type": "code",
   "execution_count": 36,
   "metadata": {},
   "outputs": [
    {
     "data": {
      "text/plain": [
       "0.9450073595130175"
      ]
     },
     "execution_count": 36,
     "metadata": {},
     "output_type": "execute_result"
    }
   ],
   "source": [
    "dtFinalScore['test_accuracy'].mean()"
   ]
  },
  {
   "cell_type": "code",
   "execution_count": 37,
   "metadata": {},
   "outputs": [],
   "source": [
    "randomForestScore.to_csv('NSL_RandomForest_ChiSquared_bestEstimator.csv')"
   ]
  },
  {
   "cell_type": "markdown",
   "metadata": {},
   "source": [
    "# Neural Network"
   ]
  },
  {
   "cell_type": "code",
   "execution_count": 38,
   "metadata": {},
   "outputs": [],
   "source": [
    "from sklearn.neural_network import MLPClassifier"
   ]
  },
  {
   "cell_type": "code",
   "execution_count": 39,
   "metadata": {},
   "outputs": [],
   "source": [
    "mlpModel = MLPClassifier()"
   ]
  },
  {
   "cell_type": "code",
   "execution_count": 40,
   "metadata": {
    "scrolled": true
   },
   "outputs": [
    {
     "name": "stderr",
     "output_type": "stream",
     "text": [
      "[Parallel(n_jobs=-1)]: Using backend LokyBackend with 8 concurrent workers.\n",
      "C:\\Users\\nayer\\Anaconda3\\lib\\site-packages\\sklearn\\model_selection\\_split.py:657: Warning: The least populated class in y has only 2 members, which is too few. The minimum number of members in any class cannot be less than n_splits=4.\n",
      "  % (min_groups, self.n_splits)), Warning)\n",
      "[Parallel(n_jobs=-1)]: Done   4 out of   4 | elapsed:    4.8s finished\n"
     ]
    }
   ],
   "source": [
    "mlpScore=cross_validate(mlpModel, X, y, cv=4, scoring=scoring_metrics, verbose=3, n_jobs=-1)"
   ]
  },
  {
   "cell_type": "code",
   "execution_count": 41,
   "metadata": {
    "scrolled": true
   },
   "outputs": [
    {
     "data": {
      "text/plain": [
       "MLPClassifier(activation='relu', alpha=0.0001, batch_size='auto', beta_1=0.9,\n",
       "              beta_2=0.999, early_stopping=False, epsilon=1e-08,\n",
       "              hidden_layer_sizes=(100,), learning_rate='constant',\n",
       "              learning_rate_init=0.001, max_iter=200, momentum=0.9,\n",
       "              n_iter_no_change=10, nesterovs_momentum=True, power_t=0.5,\n",
       "              random_state=None, shuffle=True, solver='adam', tol=0.0001,\n",
       "              validation_fraction=0.1, verbose=False, warm_start=False)"
      ]
     },
     "execution_count": 41,
     "metadata": {},
     "output_type": "execute_result"
    }
   ],
   "source": [
    "mlpModel"
   ]
  },
  {
   "cell_type": "code",
   "execution_count": 42,
   "metadata": {},
   "outputs": [],
   "source": [
    "mlpScore = pd.DataFrame(mlpScore)"
   ]
  },
  {
   "cell_type": "code",
   "execution_count": 43,
   "metadata": {},
   "outputs": [],
   "source": [
    "mlpScore.to_csv('NSL_MLP_ChiSquared_scores.csv')"
   ]
  },
  {
   "cell_type": "code",
   "execution_count": 44,
   "metadata": {},
   "outputs": [],
   "source": [
    "nLayers=[\n",
    "    (4),\n",
    "    (7),\n",
    "    (10), #one layer of 10 nodes\n",
    "    (13),\n",
    "    (17),\n",
    "    (20),\n",
    "    (30),\n",
    "    (50),\n",
    "    (80),\n",
    "    (100),\n",
    "    (120),\n",
    "    (140),\n",
    "    (180),\n",
    "    (220),\n",
    "    (10, 10), #two layers, 10 nodes each\n",
    "    (20, 20), #two layers, 20 nodes each\n",
    "    (30, 30),\n",
    "    (50, 50),\n",
    "    (80, 80),\n",
    "    (100, 100),\n",
    "    (150, 150),\n",
    "    (10, 10, 10), #three layers, 10 nodes each\n",
    "    (20, 20, 20),\n",
    "    (30, 30, 30),\n",
    "    (50, 50, 50),\n",
    "    (80, 80, 80),\n",
    "]"
   ]
  },
  {
   "cell_type": "code",
   "execution_count": 45,
   "metadata": {},
   "outputs": [],
   "source": [
    "mlp_parameters = {\n",
    "    'hidden_layer_sizes': nLayers,\n",
    "    'solver': ['sgd', 'adam'],\n",
    "    'alpha': [0.001, 0.01, 0.05],\n",
    "    'learning_rate': ['constant','adaptive'],\n",
    "}"
   ]
  },
  {
   "cell_type": "code",
   "execution_count": 46,
   "metadata": {},
   "outputs": [],
   "source": [
    "from sklearn.model_selection import GridSearchCV\n",
    "from sklearn.model_selection import RandomizedSearchCV"
   ]
  },
  {
   "cell_type": "code",
   "execution_count": 47,
   "metadata": {},
   "outputs": [],
   "source": [
    "from sklearn.neural_network import MLPClassifier\n",
    "mlpModel2 = MLPClassifier()"
   ]
  },
  {
   "cell_type": "code",
   "execution_count": 48,
   "metadata": {},
   "outputs": [],
   "source": [
    "mlp_grid = GridSearchCV(mlpModel2, mlp_parameters, scoring=scoring_metrics, refit='accuracy', verbose=3, n_jobs=-1, cv=3)\n"
   ]
  },
  {
   "cell_type": "code",
   "execution_count": 49,
   "metadata": {
    "scrolled": false
   },
   "outputs": [
    {
     "name": "stderr",
     "output_type": "stream",
     "text": [
      "C:\\Users\\nayer\\Anaconda3\\lib\\site-packages\\sklearn\\model_selection\\_split.py:657: Warning: The least populated class in y has only 2 members, which is too few. The minimum number of members in any class cannot be less than n_splits=3.\n",
      "  % (min_groups, self.n_splits)), Warning)\n",
      "[Parallel(n_jobs=-1)]: Using backend LokyBackend with 8 concurrent workers.\n"
     ]
    },
    {
     "name": "stdout",
     "output_type": "stream",
     "text": [
      "Fitting 3 folds for each of 312 candidates, totalling 936 fits\n"
     ]
    },
    {
     "name": "stderr",
     "output_type": "stream",
     "text": [
      "[Parallel(n_jobs=-1)]: Done  16 tasks      | elapsed:    4.2s\n",
      "[Parallel(n_jobs=-1)]: Done 112 tasks      | elapsed:   34.7s\n",
      "[Parallel(n_jobs=-1)]: Done 272 tasks      | elapsed:  2.3min\n",
      "[Parallel(n_jobs=-1)]: Done 496 tasks      | elapsed:  4.0min\n",
      "[Parallel(n_jobs=-1)]: Done 784 tasks      | elapsed:  6.5min\n",
      "[Parallel(n_jobs=-1)]: Done 936 out of 936 | elapsed:  8.3min finished\n",
      "C:\\Users\\nayer\\Anaconda3\\lib\\site-packages\\sklearn\\model_selection\\_search.py:814: DeprecationWarning: The default of the `iid` parameter will change from True to False in version 0.22 and will be removed in 0.24. This will change numeric results when test-set sizes are unequal.\n",
      "  DeprecationWarning)\n",
      "C:\\Users\\nayer\\Anaconda3\\lib\\site-packages\\sklearn\\neural_network\\multilayer_perceptron.py:566: ConvergenceWarning: Stochastic Optimizer: Maximum iterations (200) reached and the optimization hasn't converged yet.\n",
      "  % self.max_iter, ConvergenceWarning)\n"
     ]
    },
    {
     "data": {
      "text/plain": [
       "GridSearchCV(cv=3, error_score='raise-deprecating',\n",
       "             estimator=MLPClassifier(activation='relu', alpha=0.0001,\n",
       "                                     batch_size='auto', beta_1=0.9,\n",
       "                                     beta_2=0.999, early_stopping=False,\n",
       "                                     epsilon=1e-08, hidden_layer_sizes=(100,),\n",
       "                                     learning_rate='constant',\n",
       "                                     learning_rate_init=0.001, max_iter=200,\n",
       "                                     momentum=0.9, n_iter_no_change=10,\n",
       "                                     nesterovs_momentum=True, power_t=0.5,\n",
       "                                     random_sta...\n",
       "                                                (50, 50, 50), (80, 80, 80)],\n",
       "                         'learning_rate': ['constant', 'adaptive'],\n",
       "                         'solver': ['sgd', 'adam']},\n",
       "             pre_dispatch='2*n_jobs', refit='accuracy',\n",
       "             return_train_score=False,\n",
       "             scoring={'accuracy': make_scorer(accuracy_score),\n",
       "                      'f1_score': make_scorer(f1_score, average=micro),\n",
       "                      'precision': make_scorer(precision_score, average=micro),\n",
       "                      'recall': make_scorer(recall_score, average=micro)},\n",
       "             verbose=3)"
      ]
     },
     "execution_count": 49,
     "metadata": {},
     "output_type": "execute_result"
    }
   ],
   "source": [
    "mlp_grid.fit(X, y)"
   ]
  },
  {
   "cell_type": "code",
   "execution_count": 50,
   "metadata": {},
   "outputs": [
    {
     "data": {
      "text/html": [
       "<div>\n",
       "<style scoped>\n",
       "    .dataframe tbody tr th:only-of-type {\n",
       "        vertical-align: middle;\n",
       "    }\n",
       "\n",
       "    .dataframe tbody tr th {\n",
       "        vertical-align: top;\n",
       "    }\n",
       "\n",
       "    .dataframe thead th {\n",
       "        text-align: right;\n",
       "    }\n",
       "</style>\n",
       "<table border=\"1\" class=\"dataframe\">\n",
       "  <thead>\n",
       "    <tr style=\"text-align: right;\">\n",
       "      <th></th>\n",
       "      <th>mean_fit_time</th>\n",
       "      <th>std_fit_time</th>\n",
       "      <th>mean_score_time</th>\n",
       "      <th>std_score_time</th>\n",
       "      <th>param_alpha</th>\n",
       "      <th>param_hidden_layer_sizes</th>\n",
       "      <th>param_learning_rate</th>\n",
       "      <th>param_solver</th>\n",
       "      <th>params</th>\n",
       "      <th>split0_test_accuracy</th>\n",
       "      <th>...</th>\n",
       "      <th>split2_test_recall</th>\n",
       "      <th>mean_test_recall</th>\n",
       "      <th>std_test_recall</th>\n",
       "      <th>rank_test_recall</th>\n",
       "      <th>split0_test_f1_score</th>\n",
       "      <th>split1_test_f1_score</th>\n",
       "      <th>split2_test_f1_score</th>\n",
       "      <th>mean_test_f1_score</th>\n",
       "      <th>std_test_f1_score</th>\n",
       "      <th>rank_test_f1_score</th>\n",
       "    </tr>\n",
       "  </thead>\n",
       "  <tbody>\n",
       "    <tr>\n",
       "      <td>0</td>\n",
       "      <td>1.128676</td>\n",
       "      <td>0.714481</td>\n",
       "      <td>0.012407</td>\n",
       "      <td>0.000288</td>\n",
       "      <td>0.001</td>\n",
       "      <td>4</td>\n",
       "      <td>constant</td>\n",
       "      <td>sgd</td>\n",
       "      <td>{'alpha': 0.001, 'hidden_layer_sizes': 4, 'lea...</td>\n",
       "      <td>0.858321</td>\n",
       "      <td>...</td>\n",
       "      <td>0.352102</td>\n",
       "      <td>0.65150</td>\n",
       "      <td>0.216670</td>\n",
       "      <td>237</td>\n",
       "      <td>0.858321</td>\n",
       "      <td>0.743628</td>\n",
       "      <td>0.352102</td>\n",
       "      <td>0.65150</td>\n",
       "      <td>0.216670</td>\n",
       "      <td>237</td>\n",
       "    </tr>\n",
       "    <tr>\n",
       "      <td>1</td>\n",
       "      <td>1.826513</td>\n",
       "      <td>0.504070</td>\n",
       "      <td>0.012265</td>\n",
       "      <td>0.000470</td>\n",
       "      <td>0.001</td>\n",
       "      <td>4</td>\n",
       "      <td>constant</td>\n",
       "      <td>adam</td>\n",
       "      <td>{'alpha': 0.001, 'hidden_layer_sizes': 4, 'lea...</td>\n",
       "      <td>0.362069</td>\n",
       "      <td>...</td>\n",
       "      <td>0.774775</td>\n",
       "      <td>0.56175</td>\n",
       "      <td>0.168717</td>\n",
       "      <td>251</td>\n",
       "      <td>0.362069</td>\n",
       "      <td>0.548726</td>\n",
       "      <td>0.774775</td>\n",
       "      <td>0.56175</td>\n",
       "      <td>0.168717</td>\n",
       "      <td>251</td>\n",
       "    </tr>\n",
       "    <tr>\n",
       "      <td>2</td>\n",
       "      <td>2.233154</td>\n",
       "      <td>0.257163</td>\n",
       "      <td>0.010776</td>\n",
       "      <td>0.000729</td>\n",
       "      <td>0.001</td>\n",
       "      <td>4</td>\n",
       "      <td>adaptive</td>\n",
       "      <td>sgd</td>\n",
       "      <td>{'alpha': 0.001, 'hidden_layer_sizes': 4, 'lea...</td>\n",
       "      <td>0.584708</td>\n",
       "      <td>...</td>\n",
       "      <td>0.569820</td>\n",
       "      <td>0.56775</td>\n",
       "      <td>0.014766</td>\n",
       "      <td>249</td>\n",
       "      <td>0.584708</td>\n",
       "      <td>0.548726</td>\n",
       "      <td>0.569820</td>\n",
       "      <td>0.56775</td>\n",
       "      <td>0.014766</td>\n",
       "      <td>249</td>\n",
       "    </tr>\n",
       "    <tr>\n",
       "      <td>3</td>\n",
       "      <td>2.332059</td>\n",
       "      <td>0.199981</td>\n",
       "      <td>0.015741</td>\n",
       "      <td>0.003668</td>\n",
       "      <td>0.001</td>\n",
       "      <td>4</td>\n",
       "      <td>adaptive</td>\n",
       "      <td>adam</td>\n",
       "      <td>{'alpha': 0.001, 'hidden_layer_sizes': 4, 'lea...</td>\n",
       "      <td>0.706147</td>\n",
       "      <td>...</td>\n",
       "      <td>0.742492</td>\n",
       "      <td>0.66825</td>\n",
       "      <td>0.080622</td>\n",
       "      <td>230</td>\n",
       "      <td>0.706147</td>\n",
       "      <td>0.556222</td>\n",
       "      <td>0.742492</td>\n",
       "      <td>0.66825</td>\n",
       "      <td>0.080622</td>\n",
       "      <td>230</td>\n",
       "    </tr>\n",
       "    <tr>\n",
       "      <td>4</td>\n",
       "      <td>1.755259</td>\n",
       "      <td>0.359454</td>\n",
       "      <td>0.010974</td>\n",
       "      <td>0.001304</td>\n",
       "      <td>0.001</td>\n",
       "      <td>7</td>\n",
       "      <td>constant</td>\n",
       "      <td>sgd</td>\n",
       "      <td>{'alpha': 0.001, 'hidden_layer_sizes': 7, 'lea...</td>\n",
       "      <td>0.856822</td>\n",
       "      <td>...</td>\n",
       "      <td>0.549550</td>\n",
       "      <td>0.75650</td>\n",
       "      <td>0.146247</td>\n",
       "      <td>218</td>\n",
       "      <td>0.856822</td>\n",
       "      <td>0.862819</td>\n",
       "      <td>0.549550</td>\n",
       "      <td>0.75650</td>\n",
       "      <td>0.146247</td>\n",
       "      <td>218</td>\n",
       "    </tr>\n",
       "  </tbody>\n",
       "</table>\n",
       "<p>5 rows × 33 columns</p>\n",
       "</div>"
      ],
      "text/plain": [
       "   mean_fit_time  std_fit_time  mean_score_time  std_score_time param_alpha  \\\n",
       "0       1.128676      0.714481         0.012407        0.000288       0.001   \n",
       "1       1.826513      0.504070         0.012265        0.000470       0.001   \n",
       "2       2.233154      0.257163         0.010776        0.000729       0.001   \n",
       "3       2.332059      0.199981         0.015741        0.003668       0.001   \n",
       "4       1.755259      0.359454         0.010974        0.001304       0.001   \n",
       "\n",
       "  param_hidden_layer_sizes param_learning_rate param_solver  \\\n",
       "0                        4            constant          sgd   \n",
       "1                        4            constant         adam   \n",
       "2                        4            adaptive          sgd   \n",
       "3                        4            adaptive         adam   \n",
       "4                        7            constant          sgd   \n",
       "\n",
       "                                              params  split0_test_accuracy  \\\n",
       "0  {'alpha': 0.001, 'hidden_layer_sizes': 4, 'lea...              0.858321   \n",
       "1  {'alpha': 0.001, 'hidden_layer_sizes': 4, 'lea...              0.362069   \n",
       "2  {'alpha': 0.001, 'hidden_layer_sizes': 4, 'lea...              0.584708   \n",
       "3  {'alpha': 0.001, 'hidden_layer_sizes': 4, 'lea...              0.706147   \n",
       "4  {'alpha': 0.001, 'hidden_layer_sizes': 7, 'lea...              0.856822   \n",
       "\n",
       "   ...  split2_test_recall  mean_test_recall  std_test_recall  \\\n",
       "0  ...            0.352102           0.65150         0.216670   \n",
       "1  ...            0.774775           0.56175         0.168717   \n",
       "2  ...            0.569820           0.56775         0.014766   \n",
       "3  ...            0.742492           0.66825         0.080622   \n",
       "4  ...            0.549550           0.75650         0.146247   \n",
       "\n",
       "   rank_test_recall  split0_test_f1_score  split1_test_f1_score  \\\n",
       "0               237              0.858321              0.743628   \n",
       "1               251              0.362069              0.548726   \n",
       "2               249              0.584708              0.548726   \n",
       "3               230              0.706147              0.556222   \n",
       "4               218              0.856822              0.862819   \n",
       "\n",
       "   split2_test_f1_score  mean_test_f1_score  std_test_f1_score  \\\n",
       "0              0.352102             0.65150           0.216670   \n",
       "1              0.774775             0.56175           0.168717   \n",
       "2              0.569820             0.56775           0.014766   \n",
       "3              0.742492             0.66825           0.080622   \n",
       "4              0.549550             0.75650           0.146247   \n",
       "\n",
       "   rank_test_f1_score  \n",
       "0                 237  \n",
       "1                 251  \n",
       "2                 249  \n",
       "3                 230  \n",
       "4                 218  \n",
       "\n",
       "[5 rows x 33 columns]"
      ]
     },
     "execution_count": 50,
     "metadata": {},
     "output_type": "execute_result"
    }
   ],
   "source": [
    "mlpGridScores=pd.DataFrame(mlp_grid.cv_results_)\n",
    "mlpGridScores.head()\n"
   ]
  },
  {
   "cell_type": "code",
   "execution_count": 51,
   "metadata": {},
   "outputs": [
    {
     "data": {
      "text/plain": [
       "{'alpha': 0.01,\n",
       " 'hidden_layer_sizes': (150, 150),\n",
       " 'learning_rate': 'adaptive',\n",
       " 'solver': 'adam'}"
      ]
     },
     "execution_count": 51,
     "metadata": {},
     "output_type": "execute_result"
    }
   ],
   "source": [
    "mlpFinalModel = mlp_grid.best_estimator_\n",
    "mlp_grid.best_params_"
   ]
  },
  {
   "cell_type": "code",
   "execution_count": 52,
   "metadata": {},
   "outputs": [
    {
     "name": "stderr",
     "output_type": "stream",
     "text": [
      "[Parallel(n_jobs=-1)]: Using backend LokyBackend with 8 concurrent workers.\n",
      "C:\\Users\\nayer\\Anaconda3\\lib\\site-packages\\sklearn\\model_selection\\_split.py:657: Warning: The least populated class in y has only 2 members, which is too few. The minimum number of members in any class cannot be less than n_splits=4.\n",
      "  % (min_groups, self.n_splits)), Warning)\n",
      "[Parallel(n_jobs=-1)]: Done   4 out of   4 | elapsed:   18.6s finished\n"
     ]
    }
   ],
   "source": [
    "mlpFinalScore=cross_validate(mlpFinalModel, X, y, cv=4, scoring=scoring_metrics, verbose=3, n_jobs=-1)"
   ]
  },
  {
   "cell_type": "code",
   "execution_count": 53,
   "metadata": {},
   "outputs": [],
   "source": [
    "mlpFinalScore = pd.DataFrame(mlpFinalScore)\n",
    "mlpFinalScore.to_csv('NSL_ANN_ChiSquared_bestEstimator.csv')"
   ]
  },
  {
   "cell_type": "code",
   "execution_count": 54,
   "metadata": {},
   "outputs": [
    {
     "data": {
      "text/plain": [
       "0.9517316206772964"
      ]
     },
     "execution_count": 54,
     "metadata": {},
     "output_type": "execute_result"
    }
   ],
   "source": [
    "mlpFinalScore['test_accuracy'].mean()"
   ]
  },
  {
   "cell_type": "markdown",
   "metadata": {},
   "source": [
    "# Decision Trees"
   ]
  },
  {
   "cell_type": "code",
   "execution_count": 55,
   "metadata": {},
   "outputs": [],
   "source": [
    "from sklearn.tree import tree"
   ]
  },
  {
   "cell_type": "code",
   "execution_count": 56,
   "metadata": {},
   "outputs": [],
   "source": [
    "dt=tree.DecisionTreeClassifier()"
   ]
  },
  {
   "cell_type": "code",
   "execution_count": 57,
   "metadata": {},
   "outputs": [
    {
     "name": "stderr",
     "output_type": "stream",
     "text": [
      "[Parallel(n_jobs=-1)]: Using backend LokyBackend with 8 concurrent workers.\n",
      "C:\\Users\\nayer\\Anaconda3\\lib\\site-packages\\sklearn\\model_selection\\_split.py:657: Warning: The least populated class in y has only 2 members, which is too few. The minimum number of members in any class cannot be less than n_splits=4.\n",
      "  % (min_groups, self.n_splits)), Warning)\n",
      "[Parallel(n_jobs=-1)]: Done   4 out of   4 | elapsed:    0.0s finished\n"
     ]
    }
   ],
   "source": [
    "dtScore = cross_validate(dt, X, y, cv=4, scoring=scoring_metrics, verbose=3, n_jobs=-1)"
   ]
  },
  {
   "cell_type": "code",
   "execution_count": 58,
   "metadata": {},
   "outputs": [
    {
     "data": {
      "text/html": [
       "<div>\n",
       "<style scoped>\n",
       "    .dataframe tbody tr th:only-of-type {\n",
       "        vertical-align: middle;\n",
       "    }\n",
       "\n",
       "    .dataframe tbody tr th {\n",
       "        vertical-align: top;\n",
       "    }\n",
       "\n",
       "    .dataframe thead th {\n",
       "        text-align: right;\n",
       "    }\n",
       "</style>\n",
       "<table border=\"1\" class=\"dataframe\">\n",
       "  <thead>\n",
       "    <tr style=\"text-align: right;\">\n",
       "      <th></th>\n",
       "      <th>fit_time</th>\n",
       "      <th>score_time</th>\n",
       "      <th>test_accuracy</th>\n",
       "      <th>test_precision</th>\n",
       "      <th>test_recall</th>\n",
       "      <th>test_f1_score</th>\n",
       "    </tr>\n",
       "  </thead>\n",
       "  <tbody>\n",
       "    <tr>\n",
       "      <td>0</td>\n",
       "      <td>0.017162</td>\n",
       "      <td>0.010268</td>\n",
       "      <td>0.981038</td>\n",
       "      <td>0.981038</td>\n",
       "      <td>0.981038</td>\n",
       "      <td>0.981038</td>\n",
       "    </tr>\n",
       "    <tr>\n",
       "      <td>1</td>\n",
       "      <td>0.017733</td>\n",
       "      <td>0.005053</td>\n",
       "      <td>0.987013</td>\n",
       "      <td>0.987013</td>\n",
       "      <td>0.987013</td>\n",
       "      <td>0.987013</td>\n",
       "    </tr>\n",
       "    <tr>\n",
       "      <td>2</td>\n",
       "      <td>0.011063</td>\n",
       "      <td>0.003046</td>\n",
       "      <td>0.979980</td>\n",
       "      <td>0.979980</td>\n",
       "      <td>0.979980</td>\n",
       "      <td>0.979980</td>\n",
       "    </tr>\n",
       "    <tr>\n",
       "      <td>3</td>\n",
       "      <td>0.013278</td>\n",
       "      <td>0.003995</td>\n",
       "      <td>0.980962</td>\n",
       "      <td>0.980962</td>\n",
       "      <td>0.980962</td>\n",
       "      <td>0.980962</td>\n",
       "    </tr>\n",
       "  </tbody>\n",
       "</table>\n",
       "</div>"
      ],
      "text/plain": [
       "   fit_time  score_time  test_accuracy  test_precision  test_recall  \\\n",
       "0  0.017162    0.010268       0.981038        0.981038     0.981038   \n",
       "1  0.017733    0.005053       0.987013        0.987013     0.987013   \n",
       "2  0.011063    0.003046       0.979980        0.979980     0.979980   \n",
       "3  0.013278    0.003995       0.980962        0.980962     0.980962   \n",
       "\n",
       "   test_f1_score  \n",
       "0       0.981038  \n",
       "1       0.987013  \n",
       "2       0.979980  \n",
       "3       0.980962  "
      ]
     },
     "execution_count": 58,
     "metadata": {},
     "output_type": "execute_result"
    }
   ],
   "source": [
    "dtScore = pd.DataFrame(dtScore)\n",
    "dtScore.head()"
   ]
  },
  {
   "cell_type": "code",
   "execution_count": 59,
   "metadata": {},
   "outputs": [],
   "source": [
    "dtScore.to_csv('NSL_dtScore_ChiSquared_scores.csv')"
   ]
  },
  {
   "cell_type": "code",
   "execution_count": null,
   "metadata": {},
   "outputs": [],
   "source": []
  },
  {
   "cell_type": "code",
   "execution_count": 60,
   "metadata": {},
   "outputs": [],
   "source": [
    "dt_parameters={'min_samples_split' : range(10,500,20),'max_depth': range(1,20,2)}"
   ]
  },
  {
   "cell_type": "code",
   "execution_count": 61,
   "metadata": {},
   "outputs": [],
   "source": [
    "dt2 = tree.DecisionTreeClassifier()"
   ]
  },
  {
   "cell_type": "code",
   "execution_count": 62,
   "metadata": {},
   "outputs": [],
   "source": [
    "dlGrid = GridSearchCV(dt2, dt_parameters, scoring=scoring_metrics, refit='accuracy', verbose=3, n_jobs=-1, cv=4)"
   ]
  },
  {
   "cell_type": "code",
   "execution_count": 63,
   "metadata": {
    "scrolled": true
   },
   "outputs": [
    {
     "name": "stderr",
     "output_type": "stream",
     "text": [
      "C:\\Users\\nayer\\Anaconda3\\lib\\site-packages\\sklearn\\model_selection\\_split.py:657: Warning: The least populated class in y has only 2 members, which is too few. The minimum number of members in any class cannot be less than n_splits=4.\n",
      "  % (min_groups, self.n_splits)), Warning)\n",
      "[Parallel(n_jobs=-1)]: Using backend LokyBackend with 8 concurrent workers.\n"
     ]
    },
    {
     "name": "stdout",
     "output_type": "stream",
     "text": [
      "Fitting 4 folds for each of 250 candidates, totalling 1000 fits\n"
     ]
    },
    {
     "name": "stderr",
     "output_type": "stream",
     "text": [
      "[Parallel(n_jobs=-1)]: Done  16 tasks      | elapsed:    0.2s\n",
      "[Parallel(n_jobs=-1)]: Done 1000 out of 1000 | elapsed:    4.4s finished\n"
     ]
    },
    {
     "data": {
      "text/plain": [
       "GridSearchCV(cv=4, error_score='raise-deprecating',\n",
       "             estimator=DecisionTreeClassifier(class_weight=None,\n",
       "                                              criterion='gini', max_depth=None,\n",
       "                                              max_features=None,\n",
       "                                              max_leaf_nodes=None,\n",
       "                                              min_impurity_decrease=0.0,\n",
       "                                              min_impurity_split=None,\n",
       "                                              min_samples_leaf=1,\n",
       "                                              min_samples_split=2,\n",
       "                                              min_weight_fraction_leaf=0.0,\n",
       "                                              presort=False, random_state=None,\n",
       "                                              splitter='best'),\n",
       "             iid='warn', n...\n",
       "             param_grid={'max_depth': range(1, 20, 2),\n",
       "                         'min_samples_split': range(10, 500, 20)},\n",
       "             pre_dispatch='2*n_jobs', refit='accuracy',\n",
       "             return_train_score=False,\n",
       "             scoring={'accuracy': make_scorer(accuracy_score),\n",
       "                      'f1_score': make_scorer(f1_score, average=micro),\n",
       "                      'precision': make_scorer(precision_score, average=micro),\n",
       "                      'recall': make_scorer(recall_score, average=micro)},\n",
       "             verbose=3)"
      ]
     },
     "execution_count": 63,
     "metadata": {},
     "output_type": "execute_result"
    }
   ],
   "source": [
    "dlGrid.fit(X, y)"
   ]
  },
  {
   "cell_type": "code",
   "execution_count": 64,
   "metadata": {},
   "outputs": [],
   "source": [
    "dtGridScores = pd.DataFrame(dlGrid.cv_results_)\n",
    "dtGridScores.head()\n",
    "dtGridScores.to_csv('NSL_DT_ChiSquared_GridSearch.csv')"
   ]
  },
  {
   "cell_type": "code",
   "execution_count": 65,
   "metadata": {},
   "outputs": [
    {
     "data": {
      "text/plain": [
       "{'max_depth': 11, 'min_samples_split': 10}"
      ]
     },
     "execution_count": 65,
     "metadata": {},
     "output_type": "execute_result"
    }
   ],
   "source": [
    "dt3=dlGrid.best_estimator_\n",
    "dlGrid.best_params_"
   ]
  },
  {
   "cell_type": "code",
   "execution_count": 66,
   "metadata": {},
   "outputs": [
    {
     "name": "stderr",
     "output_type": "stream",
     "text": [
      "[Parallel(n_jobs=-1)]: Using backend LokyBackend with 8 concurrent workers.\n",
      "C:\\Users\\nayer\\Anaconda3\\lib\\site-packages\\sklearn\\model_selection\\_split.py:657: Warning: The least populated class in y has only 2 members, which is too few. The minimum number of members in any class cannot be less than n_splits=4.\n",
      "  % (min_groups, self.n_splits)), Warning)\n",
      "[Parallel(n_jobs=-1)]: Done   4 out of   4 | elapsed:    0.0s finished\n"
     ]
    }
   ],
   "source": [
    "dtFinalScore = cross_validate(dt3, X, y, cv=4, scoring=scoring_metrics, verbose=3, n_jobs=-1)"
   ]
  },
  {
   "cell_type": "code",
   "execution_count": 67,
   "metadata": {},
   "outputs": [
    {
     "data": {
      "text/plain": [
       "0.9822501992530672"
      ]
     },
     "execution_count": 67,
     "metadata": {},
     "output_type": "execute_result"
    }
   ],
   "source": [
    "dtFinalScore = pd.DataFrame(dtFinalScore)\n",
    "dtFinalScore.to_csv('NSL_DT_ChiSquared_bestEstimator.csv')\n",
    "dtFinalScore['test_precision'].mean()"
   ]
  },
  {
   "cell_type": "markdown",
   "metadata": {},
   "source": [
    "# KNN"
   ]
  },
  {
   "cell_type": "code",
   "execution_count": 68,
   "metadata": {},
   "outputs": [],
   "source": [
    "from sklearn.neighbors import KNeighborsClassifier"
   ]
  },
  {
   "cell_type": "code",
   "execution_count": 69,
   "metadata": {},
   "outputs": [],
   "source": [
    "knn = KNeighborsClassifier()"
   ]
  },
  {
   "cell_type": "code",
   "execution_count": 70,
   "metadata": {},
   "outputs": [],
   "source": [
    "k_range = list(range(1, 101, 5))"
   ]
  },
  {
   "cell_type": "code",
   "execution_count": 71,
   "metadata": {},
   "outputs": [],
   "source": [
    "param_dict = dict(n_neighbors=k_range)"
   ]
  },
  {
   "cell_type": "code",
   "execution_count": 72,
   "metadata": {},
   "outputs": [],
   "source": [
    "grid = GridSearchCV(knn, param_dict, cv=4, scoring=scoring_metrics, refit='accuracy', verbose=3, n_jobs=-1)"
   ]
  },
  {
   "cell_type": "code",
   "execution_count": 73,
   "metadata": {
    "scrolled": true
   },
   "outputs": [
    {
     "name": "stderr",
     "output_type": "stream",
     "text": [
      "C:\\Users\\nayer\\Anaconda3\\lib\\site-packages\\sklearn\\model_selection\\_split.py:657: Warning: The least populated class in y has only 2 members, which is too few. The minimum number of members in any class cannot be less than n_splits=4.\n",
      "  % (min_groups, self.n_splits)), Warning)\n",
      "[Parallel(n_jobs=-1)]: Using backend LokyBackend with 8 concurrent workers.\n"
     ]
    },
    {
     "name": "stdout",
     "output_type": "stream",
     "text": [
      "Fitting 4 folds for each of 20 candidates, totalling 80 fits\n"
     ]
    },
    {
     "name": "stderr",
     "output_type": "stream",
     "text": [
      "[Parallel(n_jobs=-1)]: Done  16 tasks      | elapsed:    1.3s\n",
      "[Parallel(n_jobs=-1)]: Done  80 out of  80 | elapsed:    7.4s finished\n"
     ]
    },
    {
     "data": {
      "text/plain": [
       "GridSearchCV(cv=4, error_score='raise-deprecating',\n",
       "             estimator=KNeighborsClassifier(algorithm='auto', leaf_size=30,\n",
       "                                            metric='minkowski',\n",
       "                                            metric_params=None, n_jobs=None,\n",
       "                                            n_neighbors=5, p=2,\n",
       "                                            weights='uniform'),\n",
       "             iid='warn', n_jobs=-1,\n",
       "             param_grid={'n_neighbors': [1, 6, 11, 16, 21, 26, 31, 36, 41, 46,\n",
       "                                         51, 56, 61, 66, 71, 76, 81, 86, 91,\n",
       "                                         96]},\n",
       "             pre_dispatch='2*n_jobs', refit='accuracy',\n",
       "             return_train_score=False,\n",
       "             scoring={'accuracy': make_scorer(accuracy_score),\n",
       "                      'f1_score': make_scorer(f1_score, average=micro),\n",
       "                      'precision': make_scorer(precision_score, average=micro),\n",
       "                      'recall': make_scorer(recall_score, average=micro)},\n",
       "             verbose=3)"
      ]
     },
     "execution_count": 73,
     "metadata": {},
     "output_type": "execute_result"
    }
   ],
   "source": [
    "grid.fit(X, y)"
   ]
  },
  {
   "cell_type": "code",
   "execution_count": 74,
   "metadata": {},
   "outputs": [],
   "source": [
    "knnScore = pd.DataFrame(grid.cv_results_)\n",
    "knnScore.to_csv('NSL_KNN_ChiSquared_GridSearch.csv')"
   ]
  },
  {
   "cell_type": "code",
   "execution_count": 75,
   "metadata": {},
   "outputs": [
    {
     "data": {
      "text/plain": [
       "{'n_neighbors': 1}"
      ]
     },
     "execution_count": 75,
     "metadata": {},
     "output_type": "execute_result"
    }
   ],
   "source": [
    "knn2=grid.best_estimator_\n",
    "grid.best_params_"
   ]
  },
  {
   "cell_type": "code",
   "execution_count": 76,
   "metadata": {},
   "outputs": [
    {
     "name": "stderr",
     "output_type": "stream",
     "text": [
      "[Parallel(n_jobs=-1)]: Using backend LokyBackend with 8 concurrent workers.\n",
      "C:\\Users\\nayer\\Anaconda3\\lib\\site-packages\\sklearn\\model_selection\\_split.py:657: Warning: The least populated class in y has only 2 members, which is too few. The minimum number of members in any class cannot be less than n_splits=4.\n",
      "  % (min_groups, self.n_splits)), Warning)\n",
      "[Parallel(n_jobs=-1)]: Done   4 out of   4 | elapsed:    0.2s finished\n"
     ]
    }
   ],
   "source": [
    "knnFinalScore = cross_validate(knn2, X, y, cv=4, scoring=scoring_metrics, verbose=3, n_jobs=-1)"
   ]
  },
  {
   "cell_type": "code",
   "execution_count": 77,
   "metadata": {},
   "outputs": [],
   "source": [
    "knnFinalScore = pd.DataFrame(knnFinalScore)"
   ]
  },
  {
   "cell_type": "code",
   "execution_count": 78,
   "metadata": {},
   "outputs": [],
   "source": [
    "knnFinalScore.to_csv('NSL_KNN_PCA_bestEstimator.csv')"
   ]
  },
  {
   "cell_type": "code",
   "execution_count": 79,
   "metadata": {},
   "outputs": [
    {
     "data": {
      "text/plain": [
       "fit_time          4.607745\n",
       "score_time        0.016519\n",
       "test_accuracy     0.949004\n",
       "test_precision    0.949004\n",
       "test_recall       0.949004\n",
       "test_f1_score     0.949004\n",
       "dtype: float64"
      ]
     },
     "execution_count": 79,
     "metadata": {},
     "output_type": "execute_result"
    }
   ],
   "source": [
    "pd.DataFrame(mlpScore).mean()"
   ]
  },
  {
   "cell_type": "code",
   "execution_count": null,
   "metadata": {},
   "outputs": [],
   "source": []
  },
  {
   "cell_type": "markdown",
   "metadata": {},
   "source": [
    "# All Results"
   ]
  },
  {
   "cell_type": "code",
   "execution_count": 80,
   "metadata": {},
   "outputs": [
    {
     "data": {
      "text/html": [
       "<div>\n",
       "<style scoped>\n",
       "    .dataframe tbody tr th:only-of-type {\n",
       "        vertical-align: middle;\n",
       "    }\n",
       "\n",
       "    .dataframe tbody tr th {\n",
       "        vertical-align: top;\n",
       "    }\n",
       "\n",
       "    .dataframe thead th {\n",
       "        text-align: right;\n",
       "    }\n",
       "</style>\n",
       "<table border=\"1\" class=\"dataframe\">\n",
       "  <thead>\n",
       "    <tr style=\"text-align: right;\">\n",
       "      <th></th>\n",
       "      <th>0</th>\n",
       "      <th>1</th>\n",
       "      <th>2</th>\n",
       "      <th>3</th>\n",
       "    </tr>\n",
       "  </thead>\n",
       "  <tbody>\n",
       "    <tr>\n",
       "      <td>fit_time</td>\n",
       "      <td>4.607745</td>\n",
       "      <td>0.021506</td>\n",
       "      <td>0.011485</td>\n",
       "      <td>0.291200</td>\n",
       "    </tr>\n",
       "    <tr>\n",
       "      <td>score_time</td>\n",
       "      <td>0.016519</td>\n",
       "      <td>0.009725</td>\n",
       "      <td>0.273168</td>\n",
       "      <td>0.130735</td>\n",
       "    </tr>\n",
       "    <tr>\n",
       "      <td>test_accuracy</td>\n",
       "      <td>0.949004</td>\n",
       "      <td>0.982250</td>\n",
       "      <td>0.960993</td>\n",
       "      <td>0.871752</td>\n",
       "    </tr>\n",
       "    <tr>\n",
       "      <td>test_precision</td>\n",
       "      <td>0.949004</td>\n",
       "      <td>0.982250</td>\n",
       "      <td>0.960993</td>\n",
       "      <td>0.871752</td>\n",
       "    </tr>\n",
       "    <tr>\n",
       "      <td>test_recall</td>\n",
       "      <td>0.949004</td>\n",
       "      <td>0.982250</td>\n",
       "      <td>0.960993</td>\n",
       "      <td>0.871752</td>\n",
       "    </tr>\n",
       "    <tr>\n",
       "      <td>test_f1_score</td>\n",
       "      <td>0.949004</td>\n",
       "      <td>0.982250</td>\n",
       "      <td>0.960993</td>\n",
       "      <td>0.871752</td>\n",
       "    </tr>\n",
       "  </tbody>\n",
       "</table>\n",
       "</div>"
      ],
      "text/plain": [
       "                       0         1         2         3\n",
       "fit_time        4.607745  0.021506  0.011485  0.291200\n",
       "score_time      0.016519  0.009725  0.273168  0.130735\n",
       "test_accuracy   0.949004  0.982250  0.960993  0.871752\n",
       "test_precision  0.949004  0.982250  0.960993  0.871752\n",
       "test_recall     0.949004  0.982250  0.960993  0.871752\n",
       "test_f1_score   0.949004  0.982250  0.960993  0.871752"
      ]
     },
     "execution_count": 80,
     "metadata": {},
     "output_type": "execute_result"
    }
   ],
   "source": [
    "allResults=pd.concat([\n",
    "    mlpScore.mean(),\n",
    "    dtFinalScore.mean(),\n",
    "    knnFinalScore.mean(),\n",
    "    randomForestScore.mean()\n",
    "], axis=1)\n",
    "allResults"
   ]
  },
  {
   "cell_type": "code",
   "execution_count": 81,
   "metadata": {
    "scrolled": true
   },
   "outputs": [
    {
     "data": {
      "text/html": [
       "<div>\n",
       "<style scoped>\n",
       "    .dataframe tbody tr th:only-of-type {\n",
       "        vertical-align: middle;\n",
       "    }\n",
       "\n",
       "    .dataframe tbody tr th {\n",
       "        vertical-align: top;\n",
       "    }\n",
       "\n",
       "    .dataframe thead th {\n",
       "        text-align: right;\n",
       "    }\n",
       "</style>\n",
       "<table border=\"1\" class=\"dataframe\">\n",
       "  <thead>\n",
       "    <tr style=\"text-align: right;\">\n",
       "      <th></th>\n",
       "      <th>Multi-level Perceptron</th>\n",
       "      <th>Decision Tree</th>\n",
       "      <th>KNN</th>\n",
       "      <th>Random Forest</th>\n",
       "    </tr>\n",
       "  </thead>\n",
       "  <tbody>\n",
       "    <tr>\n",
       "      <td>fit_time</td>\n",
       "      <td>4.607745</td>\n",
       "      <td>0.021506</td>\n",
       "      <td>0.011485</td>\n",
       "      <td>0.291200</td>\n",
       "    </tr>\n",
       "    <tr>\n",
       "      <td>score_time</td>\n",
       "      <td>0.016519</td>\n",
       "      <td>0.009725</td>\n",
       "      <td>0.273168</td>\n",
       "      <td>0.130735</td>\n",
       "    </tr>\n",
       "    <tr>\n",
       "      <td>test_accuracy</td>\n",
       "      <td>0.949004</td>\n",
       "      <td>0.982250</td>\n",
       "      <td>0.960993</td>\n",
       "      <td>0.871752</td>\n",
       "    </tr>\n",
       "    <tr>\n",
       "      <td>test_precision</td>\n",
       "      <td>0.949004</td>\n",
       "      <td>0.982250</td>\n",
       "      <td>0.960993</td>\n",
       "      <td>0.871752</td>\n",
       "    </tr>\n",
       "    <tr>\n",
       "      <td>test_recall</td>\n",
       "      <td>0.949004</td>\n",
       "      <td>0.982250</td>\n",
       "      <td>0.960993</td>\n",
       "      <td>0.871752</td>\n",
       "    </tr>\n",
       "    <tr>\n",
       "      <td>test_f1_score</td>\n",
       "      <td>0.949004</td>\n",
       "      <td>0.982250</td>\n",
       "      <td>0.960993</td>\n",
       "      <td>0.871752</td>\n",
       "    </tr>\n",
       "  </tbody>\n",
       "</table>\n",
       "</div>"
      ],
      "text/plain": [
       "                Multi-level Perceptron  Decision Tree       KNN  Random Forest\n",
       "fit_time                      4.607745       0.021506  0.011485       0.291200\n",
       "score_time                    0.016519       0.009725  0.273168       0.130735\n",
       "test_accuracy                 0.949004       0.982250  0.960993       0.871752\n",
       "test_precision                0.949004       0.982250  0.960993       0.871752\n",
       "test_recall                   0.949004       0.982250  0.960993       0.871752\n",
       "test_f1_score                 0.949004       0.982250  0.960993       0.871752"
      ]
     },
     "execution_count": 81,
     "metadata": {},
     "output_type": "execute_result"
    }
   ],
   "source": [
    "allResults.rename(columns={0:'Multi-level Perceptron', 1:'Decision Tree', 2:'KNN' , 3:'Random Forest' },  inplace=True)\n",
    "allResults"
   ]
  },
  {
   "cell_type": "markdown",
   "metadata": {},
   "source": [
    "# All Results"
   ]
  },
  {
   "cell_type": "code",
   "execution_count": 82,
   "metadata": {},
   "outputs": [],
   "source": [
    "allResults.to_csv('NSL_ChiSquared_Final.csv')"
   ]
  },
  {
   "cell_type": "code",
   "execution_count": null,
   "metadata": {},
   "outputs": [],
   "source": []
  },
  {
   "cell_type": "code",
   "execution_count": null,
   "metadata": {},
   "outputs": [],
   "source": []
  },
  {
   "cell_type": "code",
   "execution_count": null,
   "metadata": {},
   "outputs": [],
   "source": []
  },
  {
   "cell_type": "code",
   "execution_count": null,
   "metadata": {},
   "outputs": [],
   "source": []
  },
  {
   "cell_type": "code",
   "execution_count": null,
   "metadata": {},
   "outputs": [],
   "source": []
  },
  {
   "cell_type": "code",
   "execution_count": null,
   "metadata": {},
   "outputs": [],
   "source": []
  },
  {
   "cell_type": "code",
   "execution_count": null,
   "metadata": {},
   "outputs": [],
   "source": []
  },
  {
   "cell_type": "code",
   "execution_count": null,
   "metadata": {},
   "outputs": [],
   "source": []
  },
  {
   "cell_type": "code",
   "execution_count": null,
   "metadata": {},
   "outputs": [],
   "source": []
  },
  {
   "cell_type": "code",
   "execution_count": null,
   "metadata": {},
   "outputs": [],
   "source": []
  },
  {
   "cell_type": "code",
   "execution_count": null,
   "metadata": {},
   "outputs": [],
   "source": []
  }
 ],
 "metadata": {
  "kernelspec": {
   "display_name": "Python 3",
   "language": "python",
   "name": "python3"
  },
  "language_info": {
   "codemirror_mode": {
    "name": "ipython",
    "version": 3
   },
   "file_extension": ".py",
   "mimetype": "text/x-python",
   "name": "python",
   "nbconvert_exporter": "python",
   "pygments_lexer": "ipython3",
   "version": "3.7.4"
  }
 },
 "nbformat": 4,
 "nbformat_minor": 2
}
