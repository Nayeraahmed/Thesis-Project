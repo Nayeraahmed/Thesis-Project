{
 "cells": [
  {
   "cell_type": "code",
   "execution_count": 6,
   "metadata": {},
   "outputs": [],
   "source": [
    "import pandas as pd\n",
    "import numpy as np"
   ]
  },
  {
   "cell_type": "code",
   "execution_count": 42,
   "metadata": {},
   "outputs": [],
   "source": [
    "from sklearn.model_selection import cross_val_score\n",
    "from sklearn.model_selection import cross_validate\n",
    "from sklearn.feature_selection import SelectKBest\n",
    "from sklearn.feature_selection import f_classif\n",
    "from sklearn.metrics import fbeta_score, make_scorer\n",
    "from sklearn.metrics import make_scorer, accuracy_score, precision_score, recall_score, f1_score\n",
    "from mlxtend.classifier import StackingCVClassifier\n",
    "from sklearn import model_selection"
   ]
  },
  {
   "cell_type": "markdown",
   "metadata": {},
   "source": [
    "# Reading Data"
   ]
  },
  {
   "cell_type": "code",
   "execution_count": 10,
   "metadata": {},
   "outputs": [],
   "source": [
    "df = pd.read_csv('../../Dataset/NSL_new.csv')"
   ]
  },
  {
   "cell_type": "code",
   "execution_count": 11,
   "metadata": {},
   "outputs": [
    {
     "name": "stdout",
     "output_type": "stream",
     "text": [
      "(113270, 123)\n"
     ]
    }
   ],
   "source": [
    "df = df.drop( df[ (df.label != \"normal\") & (df.label != \"neptune\") & (df.label != \"back\") & (df.label != \"land\") & (df.label != \"pod\") & (df.label != \"smurf\") & (df.label != \"teardrop\") & (df.label != \"teardrop\") & (df.label != \"mailbomb\") & (df.label != \"apache2\") & (df.label != \"processtable\") & (df.label != \"udpstorm\") & (df.label != \"worm\")].index )\n",
    "print(df.shape)"
   ]
  },
  {
   "cell_type": "code",
   "execution_count": 12,
   "metadata": {},
   "outputs": [],
   "source": [
    "df = df.sample(n=20000)"
   ]
  },
  {
   "cell_type": "code",
   "execution_count": 13,
   "metadata": {},
   "outputs": [
    {
     "data": {
      "text/html": [
       "<div>\n",
       "<style scoped>\n",
       "    .dataframe tbody tr th:only-of-type {\n",
       "        vertical-align: middle;\n",
       "    }\n",
       "\n",
       "    .dataframe tbody tr th {\n",
       "        vertical-align: top;\n",
       "    }\n",
       "\n",
       "    .dataframe thead th {\n",
       "        text-align: right;\n",
       "    }\n",
       "</style>\n",
       "<table border=\"1\" class=\"dataframe\">\n",
       "  <thead>\n",
       "    <tr style=\"text-align: right;\">\n",
       "      <th></th>\n",
       "      <th>duration</th>\n",
       "      <th>src_bytes</th>\n",
       "      <th>dst_bytes</th>\n",
       "      <th>land</th>\n",
       "      <th>wrong_fragment</th>\n",
       "      <th>urgent</th>\n",
       "      <th>hot</th>\n",
       "      <th>num_failed_logins</th>\n",
       "      <th>logged_in</th>\n",
       "      <th>num_compromised</th>\n",
       "      <th>...</th>\n",
       "      <th>flag_RSTO</th>\n",
       "      <th>flag_RSTOS0</th>\n",
       "      <th>flag_RSTR</th>\n",
       "      <th>flag_S0</th>\n",
       "      <th>flag_S1</th>\n",
       "      <th>flag_S2</th>\n",
       "      <th>flag_S3</th>\n",
       "      <th>flag_SF</th>\n",
       "      <th>flag_SH</th>\n",
       "      <th>label</th>\n",
       "    </tr>\n",
       "  </thead>\n",
       "  <tbody>\n",
       "    <tr>\n",
       "      <th>47126</th>\n",
       "      <td>0</td>\n",
       "      <td>64</td>\n",
       "      <td>0</td>\n",
       "      <td>0</td>\n",
       "      <td>0</td>\n",
       "      <td>0</td>\n",
       "      <td>0</td>\n",
       "      <td>0</td>\n",
       "      <td>0</td>\n",
       "      <td>0</td>\n",
       "      <td>...</td>\n",
       "      <td>0</td>\n",
       "      <td>0</td>\n",
       "      <td>0</td>\n",
       "      <td>0</td>\n",
       "      <td>0</td>\n",
       "      <td>0</td>\n",
       "      <td>0</td>\n",
       "      <td>1</td>\n",
       "      <td>0</td>\n",
       "      <td>normal</td>\n",
       "    </tr>\n",
       "    <tr>\n",
       "      <th>49484</th>\n",
       "      <td>0</td>\n",
       "      <td>292</td>\n",
       "      <td>937</td>\n",
       "      <td>0</td>\n",
       "      <td>0</td>\n",
       "      <td>0</td>\n",
       "      <td>0</td>\n",
       "      <td>0</td>\n",
       "      <td>1</td>\n",
       "      <td>0</td>\n",
       "      <td>...</td>\n",
       "      <td>0</td>\n",
       "      <td>0</td>\n",
       "      <td>0</td>\n",
       "      <td>0</td>\n",
       "      <td>0</td>\n",
       "      <td>0</td>\n",
       "      <td>0</td>\n",
       "      <td>1</td>\n",
       "      <td>0</td>\n",
       "      <td>normal</td>\n",
       "    </tr>\n",
       "    <tr>\n",
       "      <th>100198</th>\n",
       "      <td>15</td>\n",
       "      <td>192</td>\n",
       "      <td>1462</td>\n",
       "      <td>0</td>\n",
       "      <td>0</td>\n",
       "      <td>0</td>\n",
       "      <td>0</td>\n",
       "      <td>0</td>\n",
       "      <td>1</td>\n",
       "      <td>1</td>\n",
       "      <td>...</td>\n",
       "      <td>0</td>\n",
       "      <td>0</td>\n",
       "      <td>0</td>\n",
       "      <td>0</td>\n",
       "      <td>0</td>\n",
       "      <td>0</td>\n",
       "      <td>0</td>\n",
       "      <td>1</td>\n",
       "      <td>0</td>\n",
       "      <td>normal</td>\n",
       "    </tr>\n",
       "    <tr>\n",
       "      <th>71954</th>\n",
       "      <td>0</td>\n",
       "      <td>44</td>\n",
       "      <td>121</td>\n",
       "      <td>0</td>\n",
       "      <td>0</td>\n",
       "      <td>0</td>\n",
       "      <td>0</td>\n",
       "      <td>0</td>\n",
       "      <td>0</td>\n",
       "      <td>0</td>\n",
       "      <td>...</td>\n",
       "      <td>0</td>\n",
       "      <td>0</td>\n",
       "      <td>0</td>\n",
       "      <td>0</td>\n",
       "      <td>0</td>\n",
       "      <td>0</td>\n",
       "      <td>0</td>\n",
       "      <td>1</td>\n",
       "      <td>0</td>\n",
       "      <td>normal</td>\n",
       "    </tr>\n",
       "    <tr>\n",
       "      <th>100843</th>\n",
       "      <td>0</td>\n",
       "      <td>212</td>\n",
       "      <td>1160</td>\n",
       "      <td>0</td>\n",
       "      <td>0</td>\n",
       "      <td>0</td>\n",
       "      <td>0</td>\n",
       "      <td>0</td>\n",
       "      <td>1</td>\n",
       "      <td>0</td>\n",
       "      <td>...</td>\n",
       "      <td>0</td>\n",
       "      <td>0</td>\n",
       "      <td>0</td>\n",
       "      <td>0</td>\n",
       "      <td>0</td>\n",
       "      <td>0</td>\n",
       "      <td>0</td>\n",
       "      <td>1</td>\n",
       "      <td>0</td>\n",
       "      <td>normal</td>\n",
       "    </tr>\n",
       "  </tbody>\n",
       "</table>\n",
       "<p>5 rows × 123 columns</p>\n",
       "</div>"
      ],
      "text/plain": [
       "        duration  src_bytes  dst_bytes  land  wrong_fragment  urgent  hot  \\\n",
       "47126          0         64          0     0               0       0    0   \n",
       "49484          0        292        937     0               0       0    0   \n",
       "100198        15        192       1462     0               0       0    0   \n",
       "71954          0         44        121     0               0       0    0   \n",
       "100843         0        212       1160     0               0       0    0   \n",
       "\n",
       "        num_failed_logins  logged_in  num_compromised  ...  flag_RSTO  \\\n",
       "47126                   0          0                0  ...          0   \n",
       "49484                   0          1                0  ...          0   \n",
       "100198                  0          1                1  ...          0   \n",
       "71954                   0          0                0  ...          0   \n",
       "100843                  0          1                0  ...          0   \n",
       "\n",
       "        flag_RSTOS0  flag_RSTR  flag_S0  flag_S1  flag_S2  flag_S3  flag_SF  \\\n",
       "47126             0          0        0        0        0        0        1   \n",
       "49484             0          0        0        0        0        0        1   \n",
       "100198            0          0        0        0        0        0        1   \n",
       "71954             0          0        0        0        0        0        1   \n",
       "100843            0          0        0        0        0        0        1   \n",
       "\n",
       "        flag_SH   label  \n",
       "47126         0  normal  \n",
       "49484         0  normal  \n",
       "100198        0  normal  \n",
       "71954         0  normal  \n",
       "100843        0  normal  \n",
       "\n",
       "[5 rows x 123 columns]"
      ]
     },
     "execution_count": 13,
     "metadata": {},
     "output_type": "execute_result"
    }
   ],
   "source": [
    "df.head()"
   ]
  },
  {
   "cell_type": "code",
   "execution_count": 14,
   "metadata": {},
   "outputs": [],
   "source": [
    "X = df.drop(['label'], axis=1)\n",
    "y = df['label']"
   ]
  },
  {
   "cell_type": "code",
   "execution_count": 15,
   "metadata": {},
   "outputs": [],
   "source": [
    "scoring_metrics = {'accuracy' : make_scorer(accuracy_score), \n",
    "           'precision' : make_scorer(precision_score, average=\"micro\"),\n",
    "           'recall' : make_scorer(recall_score, average=\"micro\"), \n",
    "           'f1_score' : make_scorer(f1_score, average=\"micro\")}"
   ]
  },
  {
   "cell_type": "code",
   "execution_count": 16,
   "metadata": {},
   "outputs": [],
   "source": [
    "y = y.replace( to_replace =  'normal' , value = 0 )\n",
    "\n",
    "y = y.replace( to_replace =  'neptune' , value = 1 )\n",
    "y = y.replace( to_replace =  'back' , value = 1 )\n",
    "y = y.replace( to_replace =  'land' , value = 1 )\n",
    "y = y.replace( to_replace =  'pod' , value = 1 )\n",
    "y = y.replace( to_replace =  'smurf' , value = 1 )\n",
    "y = y.replace( to_replace =  'teardrop' , value = 1 )\n",
    "y = y.replace( to_replace =  'mailbomb' , value = 1 )\n",
    "y = y.replace( to_replace =  'apache2' , value = 1 )\n",
    "y = y.replace( to_replace =  'processtable' , value = 1 )\n",
    "y = y.replace( to_replace =  'udpstorm' , value = 1 )\n",
    "y = y.replace( to_replace =  'worm' , value = 1 )"
   ]
  },
  {
   "cell_type": "markdown",
   "metadata": {},
   "source": [
    "# adaboost , Random Forest - mlp"
   ]
  },
  {
   "cell_type": "code",
   "execution_count": 75,
   "metadata": {},
   "outputs": [],
   "source": [
    "\n",
    "from sklearn.datasets import load_iris\n",
    "from sklearn.ensemble import RandomForestClassifier, StackingClassifier\n",
    "from sklearn.linear_model import LogisticRegression\n",
    "from sklearn.model_selection import train_test_split\n",
    "from sklearn.neighbors import KNeighborsClassifier\n",
    "from sklearn.ensemble import AdaBoostClassifier\n",
    "from sklearn.neural_network import MLPClassifier\n",
    "from vecstack import stacking\n",
    "from sklearn.metrics import accuracy_score\n"
   ]
  },
  {
   "cell_type": "code",
   "execution_count": null,
   "metadata": {},
   "outputs": [],
   "source": []
  },
  {
   "cell_type": "code",
   "execution_count": 76,
   "metadata": {},
   "outputs": [],
   "source": [
    "X_train, X_test, y_train, y_test = train_test_split(X, y, test_size=0.2, random_state=0)"
   ]
  },
  {
   "cell_type": "code",
   "execution_count": 77,
   "metadata": {},
   "outputs": [],
   "source": [
    "# Create Base Learners\n",
    "base_learners = [  RandomForestClassifier(n_estimators=90, min_samples_split=0.1 , max_depth=19 ) ,\n",
    "                    AdaBoostClassifier(learning_rate=0.1 , n_estimators=1000)      \n",
    "                ]\n",
    "meta_learner = MLPClassifier(alpha=0.01 , hidden_layer_sizes=20 , learning_rate='constant' , solver='adam')"
   ]
  },
  {
   "cell_type": "code",
   "execution_count": 78,
   "metadata": {},
   "outputs": [
    {
     "ename": "AttributeError",
     "evalue": "'dict' object has no attribute '__name__'",
     "output_type": "error",
     "traceback": [
      "\u001b[1;31m---------------------------------------------------------------------------\u001b[0m",
      "\u001b[1;31mAttributeError\u001b[0m                            Traceback (most recent call last)",
      "\u001b[1;32m<ipython-input-78-a0c244477f65>\u001b[0m in \u001b[0;36m<module>\u001b[1;34m\u001b[0m\n\u001b[0;32m     20\u001b[0m                            \u001b[0mrandom_state\u001b[0m\u001b[1;33m=\u001b[0m\u001b[1;36m0\u001b[0m\u001b[1;33m,\u001b[0m\u001b[1;33m\u001b[0m\u001b[1;33m\u001b[0m\u001b[0m\n\u001b[0;32m     21\u001b[0m \u001b[1;33m\u001b[0m\u001b[0m\n\u001b[1;32m---> 22\u001b[1;33m                            verbose=2)\n\u001b[0m",
      "\u001b[1;32m~\\anaconda3\\lib\\site-packages\\vecstack\\core.py\u001b[0m in \u001b[0;36mstacking\u001b[1;34m(models, X_train, y_train, X_test, sample_weight, regression, transform_target, transform_pred, mode, needs_proba, save_dir, metric, n_folds, stratified, shuffle, random_state, verbose)\u001b[0m\n\u001b[0;32m    479\u001b[0m             \u001b[0mtask_str\u001b[0m \u001b[1;33m=\u001b[0m \u001b[1;34m'task:         [classification]'\u001b[0m\u001b[1;33m\u001b[0m\u001b[1;33m\u001b[0m\u001b[0m\n\u001b[0;32m    480\u001b[0m             \u001b[0mn_classes_str\u001b[0m \u001b[1;33m=\u001b[0m \u001b[1;34m'n_classes:    [%d]'\u001b[0m \u001b[1;33m%\u001b[0m \u001b[0mlen\u001b[0m\u001b[1;33m(\u001b[0m\u001b[0mnp\u001b[0m\u001b[1;33m.\u001b[0m\u001b[0munique\u001b[0m\u001b[1;33m(\u001b[0m\u001b[0my_train\u001b[0m\u001b[1;33m)\u001b[0m\u001b[1;33m)\u001b[0m\u001b[1;33m\u001b[0m\u001b[1;33m\u001b[0m\u001b[0m\n\u001b[1;32m--> 481\u001b[1;33m         \u001b[0mmetric_str\u001b[0m \u001b[1;33m=\u001b[0m \u001b[1;34m'metric:       [%s]'\u001b[0m \u001b[1;33m%\u001b[0m \u001b[0mmetric\u001b[0m\u001b[1;33m.\u001b[0m\u001b[0m__name__\u001b[0m\u001b[1;33m\u001b[0m\u001b[1;33m\u001b[0m\u001b[0m\n\u001b[0m\u001b[0;32m    482\u001b[0m         \u001b[0mmode_str\u001b[0m \u001b[1;33m=\u001b[0m \u001b[1;34m'mode:         [%s]'\u001b[0m \u001b[1;33m%\u001b[0m \u001b[0mmode\u001b[0m\u001b[1;33m\u001b[0m\u001b[1;33m\u001b[0m\u001b[0m\n\u001b[0;32m    483\u001b[0m         \u001b[0mn_models_str\u001b[0m \u001b[1;33m=\u001b[0m \u001b[1;34m'n_models:     [%d]'\u001b[0m \u001b[1;33m%\u001b[0m \u001b[0mlen\u001b[0m\u001b[1;33m(\u001b[0m\u001b[0mmodels\u001b[0m\u001b[1;33m)\u001b[0m\u001b[1;33m\u001b[0m\u001b[1;33m\u001b[0m\u001b[0m\n",
      "\u001b[1;31mAttributeError\u001b[0m: 'dict' object has no attribute '__name__'"
     ]
    }
   ],
   "source": [
    "# Initialize Stacking Classifier with the Meta Learner\n",
    "S_train, S_test = stacking(base_learners,                   \n",
    "                           X_train, y_train, X_test,   \n",
    "                           regression=False, \n",
    "     \n",
    "#                            mode='oof_pred_bag', \n",
    "       \n",
    "                           needs_proba=False,\n",
    "         \n",
    "                           save_dir=None, \n",
    "            \n",
    "                           metric=scoring_metrics, \n",
    "    \n",
    "                           n_folds=4, \n",
    "                 \n",
    "                           stratified=True,\n",
    "            \n",
    "                           shuffle=True,  \n",
    "            \n",
    "                           random_state=0,    \n",
    "         \n",
    "                           verbose=2)"
   ]
  },
  {
   "cell_type": "code",
   "execution_count": null,
   "metadata": {},
   "outputs": [],
   "source": [
    "model = model.fit(S_train, y_train)\n"
   ]
  },
  {
   "cell_type": "code",
   "execution_count": 62,
   "metadata": {},
   "outputs": [
    {
     "data": {
      "text/plain": [
       "0.9964"
      ]
     },
     "execution_count": 62,
     "metadata": {},
     "output_type": "execute_result"
    }
   ],
   "source": [
    "y_pred = model.predict(S_test)\n"
   ]
  },
  {
   "cell_type": "code",
   "execution_count": 63,
   "metadata": {},
   "outputs": [
    {
     "name": "stdout",
     "output_type": "stream",
     "text": [
      "StackingClassifier(cv=None,\n",
      "                   estimators=[('rf_1',\n",
      "                                RandomForestClassifier(bootstrap=True,\n",
      "                                                       ccp_alpha=0.0,\n",
      "                                                       class_weight=None,\n",
      "                                                       criterion='gini',\n",
      "                                                       max_depth=19,\n",
      "                                                       max_features='auto',\n",
      "                                                       max_leaf_nodes=None,\n",
      "                                                       max_samples=None,\n",
      "                                                       min_impurity_decrease=0.0,\n",
      "                                                       min_impurity_split=None,\n",
      "                                                       min_samples_leaf=1,\n",
      "                                                       min_samples_split=0.1,\n",
      "                                                       min_weight_fraction_leaf=0.0,\n",
      "                                                       n_estimators=90,\n",
      "                                                       n_jobs=Non...\n",
      "                                                 epsilon=1e-08,\n",
      "                                                 hidden_layer_sizes=(100,),\n",
      "                                                 learning_rate='constant',\n",
      "                                                 learning_rate_init=0.001,\n",
      "                                                 max_fun=15000, max_iter=200,\n",
      "                                                 momentum=0.9,\n",
      "                                                 n_iter_no_change=10,\n",
      "                                                 nesterovs_momentum=True,\n",
      "                                                 power_t=0.5, random_state=None,\n",
      "                                                 shuffle=True, solver='adam',\n",
      "                                                 tol=0.0001,\n",
      "                                                 validation_fraction=0.1,\n",
      "                                                 verbose=False,\n",
      "                                                 warm_start=False),\n",
      "                   n_jobs=None, passthrough=False, stack_method='auto',\n",
      "                   verbose=0)\n"
     ]
    }
   ],
   "source": [
    "print(clf)"
   ]
  },
  {
   "cell_type": "code",
   "execution_count": 52,
   "metadata": {},
   "outputs": [],
   "source": [
    "stacking1_Score = pd.DataFrame(scores)\n"
   ]
  },
  {
   "cell_type": "code",
   "execution_count": 53,
   "metadata": {},
   "outputs": [
    {
     "name": "stdout",
     "output_type": "stream",
     "text": [
      "    fit_time  score_time  test_accuracy  test_precision  test_recall  \\\n",
      "0  57.624427    2.140501         0.9994          0.9994       0.9994   \n",
      "1  57.881318    2.301370         0.9992          0.9992       0.9992   \n",
      "2  58.685955    2.197496         0.9996          0.9996       0.9996   \n",
      "3  59.181476    2.167427         0.9994          0.9994       0.9994   \n",
      "\n",
      "   test_f1_score  \n",
      "0         0.9994  \n",
      "1         0.9992  \n",
      "2         0.9996  \n",
      "3         0.9994  \n"
     ]
    }
   ],
   "source": [
    "print(stacking1_Score)"
   ]
  },
  {
   "cell_type": "code",
   "execution_count": 54,
   "metadata": {},
   "outputs": [],
   "source": [
    "stacking1_Score.to_csv('NSL_DOS_Stacking_adaboost-randomForest-mlp.csv')"
   ]
  },
  {
   "cell_type": "markdown",
   "metadata": {},
   "source": [
    "# adaboost , KNN - mlp"
   ]
  },
  {
   "cell_type": "code",
   "execution_count": null,
   "metadata": {},
   "outputs": [],
   "source": [
    "# Create Base Learners\n",
    "base_learners = [\n",
    "                 ('rf_1', KNeighborsClassifier(n_neighbors: 1)),\n",
    "                 ('rf_2', AdaBoostClassifier(learning_rate=0.1 , n_estimators=1000))             \n",
    "                ]\n",
    "meta_learner = MLPClassifier()"
   ]
  },
  {
   "cell_type": "code",
   "execution_count": null,
   "metadata": {},
   "outputs": [],
   "source": [
    "\n",
    "clf2 = StackingClassifier(estimators=base_learners,\n",
    "                         final_estimator=meta_learner,  \n",
    "                         verbose=15\n",
    "                         cv=5)\n",
    "\n",
    "# Initialize Stacking Classifier with the Meta Learner\n",
    "# clf2 = StackingClassifier(estimators=base_learners, final_estimator= MLPClassifier() , verbose=15 , cv=6)"
   ]
  },
  {
   "cell_type": "code",
   "execution_count": null,
   "metadata": {},
   "outputs": [],
   "source": [
    "clf2.fit(X,y)"
   ]
  },
  {
   "cell_type": "code",
   "execution_count": null,
   "metadata": {},
   "outputs": [],
   "source": [
    "clf1_Score = pd.DataFrame(clf1)\n",
    "print(clf1_Score)"
   ]
  },
  {
   "cell_type": "code",
   "execution_count": null,
   "metadata": {},
   "outputs": [],
   "source": [
    "clf1_Score.to_csv('NSL_DOS_Stacking_adaboos-randomForest-mlp.csv')"
   ]
  },
  {
   "cell_type": "markdown",
   "metadata": {},
   "source": [
    "# adaboost , Descision Tree - mlp"
   ]
  },
  {
   "cell_type": "code",
   "execution_count": null,
   "metadata": {},
   "outputs": [],
   "source": []
  },
  {
   "cell_type": "code",
   "execution_count": null,
   "metadata": {},
   "outputs": [],
   "source": []
  },
  {
   "cell_type": "code",
   "execution_count": null,
   "metadata": {},
   "outputs": [],
   "source": []
  },
  {
   "cell_type": "code",
   "execution_count": null,
   "metadata": {},
   "outputs": [],
   "source": []
  },
  {
   "cell_type": "code",
   "execution_count": null,
   "metadata": {},
   "outputs": [],
   "source": []
  },
  {
   "cell_type": "markdown",
   "metadata": {},
   "source": [
    "# adaboost , SVM - mlp"
   ]
  },
  {
   "cell_type": "code",
   "execution_count": 2,
   "metadata": {},
   "outputs": [],
   "source": []
  },
  {
   "cell_type": "code",
   "execution_count": null,
   "metadata": {},
   "outputs": [],
   "source": []
  },
  {
   "cell_type": "code",
   "execution_count": null,
   "metadata": {},
   "outputs": [],
   "source": []
  },
  {
   "cell_type": "code",
   "execution_count": null,
   "metadata": {},
   "outputs": [],
   "source": []
  },
  {
   "cell_type": "code",
   "execution_count": null,
   "metadata": {},
   "outputs": [],
   "source": []
  },
  {
   "cell_type": "code",
   "execution_count": null,
   "metadata": {},
   "outputs": [],
   "source": []
  }
 ],
 "metadata": {
  "kernelspec": {
   "display_name": "Python 3",
   "language": "python",
   "name": "python3"
  },
  "language_info": {
   "codemirror_mode": {
    "name": "ipython",
    "version": 3
   },
   "file_extension": ".py",
   "mimetype": "text/x-python",
   "name": "python",
   "nbconvert_exporter": "python",
   "pygments_lexer": "ipython3",
   "version": "3.7.6"
  }
 },
 "nbformat": 4,
 "nbformat_minor": 4
}
