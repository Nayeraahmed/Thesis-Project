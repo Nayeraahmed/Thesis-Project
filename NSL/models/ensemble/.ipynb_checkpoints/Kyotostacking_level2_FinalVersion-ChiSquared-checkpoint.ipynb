{
 "cells": [
  {
   "cell_type": "code",
   "execution_count": 1,
   "metadata": {},
   "outputs": [],
   "source": [
    "import pandas as pd\n",
    "import numpy as np"
   ]
  },
  {
   "cell_type": "code",
   "execution_count": 2,
   "metadata": {},
   "outputs": [],
   "source": [
    "from sklearn.model_selection import cross_val_score\n",
    "from sklearn.model_selection import cross_validate\n",
    "from sklearn.feature_selection import SelectKBest\n",
    "from sklearn.feature_selection import f_classif\n",
    "from sklearn.metrics import fbeta_score, make_scorer\n",
    "from sklearn.metrics import make_scorer, accuracy_score, precision_score, recall_score, f1_score"
   ]
  },
  {
   "cell_type": "markdown",
   "metadata": {},
   "source": [
    "# Reading Data"
   ]
  },
  {
   "cell_type": "code",
   "execution_count": 3,
   "metadata": {},
   "outputs": [],
   "source": [
    "df = pd.read_csv('../../Dataset/NSL_new.csv')"
   ]
  },
  {
   "cell_type": "code",
   "execution_count": 4,
   "metadata": {},
   "outputs": [
    {
     "name": "stdout",
     "output_type": "stream",
     "text": [
      "(113270, 123)\n"
     ]
    }
   ],
   "source": [
    "df = df.drop( df[ (df.label != \"normal\") & (df.label != \"neptune\") & (df.label != \"back\") & (df.label != \"land\") & (df.label != \"pod\") & (df.label != \"smurf\") & (df.label != \"teardrop\") & (df.label != \"teardrop\") & (df.label != \"mailbomb\") & (df.label != \"apache2\") & (df.label != \"processtable\") & (df.label != \"udpstorm\") & (df.label != \"worm\")].index )\n",
    "print(df.shape)"
   ]
  },
  {
   "cell_type": "code",
   "execution_count": 5,
   "metadata": {},
   "outputs": [],
   "source": [
    "df = df.sample(n=20000)"
   ]
  },
  {
   "cell_type": "code",
   "execution_count": 6,
   "metadata": {},
   "outputs": [
    {
     "data": {
      "text/html": [
       "<div>\n",
       "<style scoped>\n",
       "    .dataframe tbody tr th:only-of-type {\n",
       "        vertical-align: middle;\n",
       "    }\n",
       "\n",
       "    .dataframe tbody tr th {\n",
       "        vertical-align: top;\n",
       "    }\n",
       "\n",
       "    .dataframe thead th {\n",
       "        text-align: right;\n",
       "    }\n",
       "</style>\n",
       "<table border=\"1\" class=\"dataframe\">\n",
       "  <thead>\n",
       "    <tr style=\"text-align: right;\">\n",
       "      <th></th>\n",
       "      <th>duration</th>\n",
       "      <th>src_bytes</th>\n",
       "      <th>dst_bytes</th>\n",
       "      <th>land</th>\n",
       "      <th>wrong_fragment</th>\n",
       "      <th>urgent</th>\n",
       "      <th>hot</th>\n",
       "      <th>num_failed_logins</th>\n",
       "      <th>logged_in</th>\n",
       "      <th>num_compromised</th>\n",
       "      <th>...</th>\n",
       "      <th>flag_RSTO</th>\n",
       "      <th>flag_RSTOS0</th>\n",
       "      <th>flag_RSTR</th>\n",
       "      <th>flag_S0</th>\n",
       "      <th>flag_S1</th>\n",
       "      <th>flag_S2</th>\n",
       "      <th>flag_S3</th>\n",
       "      <th>flag_SF</th>\n",
       "      <th>flag_SH</th>\n",
       "      <th>label</th>\n",
       "    </tr>\n",
       "  </thead>\n",
       "  <tbody>\n",
       "    <tr>\n",
       "      <td>77069</td>\n",
       "      <td>0</td>\n",
       "      <td>520</td>\n",
       "      <td>0</td>\n",
       "      <td>0</td>\n",
       "      <td>0</td>\n",
       "      <td>0</td>\n",
       "      <td>0</td>\n",
       "      <td>0</td>\n",
       "      <td>0</td>\n",
       "      <td>0</td>\n",
       "      <td>...</td>\n",
       "      <td>0</td>\n",
       "      <td>0</td>\n",
       "      <td>0</td>\n",
       "      <td>0</td>\n",
       "      <td>0</td>\n",
       "      <td>0</td>\n",
       "      <td>0</td>\n",
       "      <td>1</td>\n",
       "      <td>0</td>\n",
       "      <td>smurf</td>\n",
       "    </tr>\n",
       "    <tr>\n",
       "      <td>88431</td>\n",
       "      <td>0</td>\n",
       "      <td>45</td>\n",
       "      <td>134</td>\n",
       "      <td>0</td>\n",
       "      <td>0</td>\n",
       "      <td>0</td>\n",
       "      <td>0</td>\n",
       "      <td>0</td>\n",
       "      <td>0</td>\n",
       "      <td>0</td>\n",
       "      <td>...</td>\n",
       "      <td>0</td>\n",
       "      <td>0</td>\n",
       "      <td>0</td>\n",
       "      <td>0</td>\n",
       "      <td>0</td>\n",
       "      <td>0</td>\n",
       "      <td>0</td>\n",
       "      <td>1</td>\n",
       "      <td>0</td>\n",
       "      <td>normal</td>\n",
       "    </tr>\n",
       "    <tr>\n",
       "      <td>67099</td>\n",
       "      <td>0</td>\n",
       "      <td>0</td>\n",
       "      <td>0</td>\n",
       "      <td>0</td>\n",
       "      <td>0</td>\n",
       "      <td>0</td>\n",
       "      <td>0</td>\n",
       "      <td>0</td>\n",
       "      <td>0</td>\n",
       "      <td>0</td>\n",
       "      <td>...</td>\n",
       "      <td>0</td>\n",
       "      <td>0</td>\n",
       "      <td>0</td>\n",
       "      <td>1</td>\n",
       "      <td>0</td>\n",
       "      <td>0</td>\n",
       "      <td>0</td>\n",
       "      <td>0</td>\n",
       "      <td>0</td>\n",
       "      <td>neptune</td>\n",
       "    </tr>\n",
       "    <tr>\n",
       "      <td>83839</td>\n",
       "      <td>0</td>\n",
       "      <td>9</td>\n",
       "      <td>366</td>\n",
       "      <td>0</td>\n",
       "      <td>0</td>\n",
       "      <td>0</td>\n",
       "      <td>0</td>\n",
       "      <td>0</td>\n",
       "      <td>0</td>\n",
       "      <td>0</td>\n",
       "      <td>...</td>\n",
       "      <td>0</td>\n",
       "      <td>0</td>\n",
       "      <td>0</td>\n",
       "      <td>0</td>\n",
       "      <td>0</td>\n",
       "      <td>0</td>\n",
       "      <td>0</td>\n",
       "      <td>1</td>\n",
       "      <td>0</td>\n",
       "      <td>normal</td>\n",
       "    </tr>\n",
       "    <tr>\n",
       "      <td>77401</td>\n",
       "      <td>0</td>\n",
       "      <td>0</td>\n",
       "      <td>0</td>\n",
       "      <td>0</td>\n",
       "      <td>0</td>\n",
       "      <td>0</td>\n",
       "      <td>0</td>\n",
       "      <td>0</td>\n",
       "      <td>0</td>\n",
       "      <td>0</td>\n",
       "      <td>...</td>\n",
       "      <td>0</td>\n",
       "      <td>0</td>\n",
       "      <td>0</td>\n",
       "      <td>1</td>\n",
       "      <td>0</td>\n",
       "      <td>0</td>\n",
       "      <td>0</td>\n",
       "      <td>0</td>\n",
       "      <td>0</td>\n",
       "      <td>neptune</td>\n",
       "    </tr>\n",
       "  </tbody>\n",
       "</table>\n",
       "<p>5 rows × 123 columns</p>\n",
       "</div>"
      ],
      "text/plain": [
       "       duration  src_bytes  dst_bytes  land  wrong_fragment  urgent  hot  \\\n",
       "77069         0        520          0     0               0       0    0   \n",
       "88431         0         45        134     0               0       0    0   \n",
       "67099         0          0          0     0               0       0    0   \n",
       "83839         0          9        366     0               0       0    0   \n",
       "77401         0          0          0     0               0       0    0   \n",
       "\n",
       "       num_failed_logins  logged_in  num_compromised  ...  flag_RSTO  \\\n",
       "77069                  0          0                0  ...          0   \n",
       "88431                  0          0                0  ...          0   \n",
       "67099                  0          0                0  ...          0   \n",
       "83839                  0          0                0  ...          0   \n",
       "77401                  0          0                0  ...          0   \n",
       "\n",
       "       flag_RSTOS0  flag_RSTR  flag_S0  flag_S1  flag_S2  flag_S3  flag_SF  \\\n",
       "77069            0          0        0        0        0        0        1   \n",
       "88431            0          0        0        0        0        0        1   \n",
       "67099            0          0        1        0        0        0        0   \n",
       "83839            0          0        0        0        0        0        1   \n",
       "77401            0          0        1        0        0        0        0   \n",
       "\n",
       "       flag_SH    label  \n",
       "77069        0    smurf  \n",
       "88431        0   normal  \n",
       "67099        0  neptune  \n",
       "83839        0   normal  \n",
       "77401        0  neptune  \n",
       "\n",
       "[5 rows x 123 columns]"
      ]
     },
     "execution_count": 6,
     "metadata": {},
     "output_type": "execute_result"
    }
   ],
   "source": [
    "df.head()"
   ]
  },
  {
   "cell_type": "code",
   "execution_count": 7,
   "metadata": {},
   "outputs": [],
   "source": [
    "X = df.drop(['label'], axis=1)\n",
    "y = df['label']"
   ]
  },
  {
   "cell_type": "code",
   "execution_count": 8,
   "metadata": {},
   "outputs": [],
   "source": [
    "scoring_metrics = {'accuracy' : make_scorer(accuracy_score), \n",
    "           'precision' : make_scorer(precision_score, average=\"micro\"),\n",
    "           'recall' : make_scorer(recall_score, average=\"micro\"), \n",
    "           'f1_score' : make_scorer(f1_score, average=\"micro\")}"
   ]
  },
  {
   "cell_type": "code",
   "execution_count": 9,
   "metadata": {},
   "outputs": [],
   "source": [
    "y = y.replace( to_replace =  'normal' , value = 0 )\n",
    "\n",
    "y = y.replace( to_replace =  'neptune' , value = 1 )\n",
    "y = y.replace( to_replace =  'back' , value = 1 )\n",
    "y = y.replace( to_replace =  'land' , value = 1 )\n",
    "y = y.replace( to_replace =  'pod' , value = 1 )\n",
    "y = y.replace( to_replace =  'smurf' , value = 1 )\n",
    "y = y.replace( to_replace =  'teardrop' , value = 1 )\n",
    "y = y.replace( to_replace =  'mailbomb' , value = 1 )\n",
    "y = y.replace( to_replace =  'apache2' , value = 1 )\n",
    "y = y.replace( to_replace =  'processtable' , value = 1 )\n",
    "y = y.replace( to_replace =  'udpstorm' , value = 1 )\n",
    "y = y.replace( to_replace =  'worm' , value = 1 )"
   ]
  },
  {
   "cell_type": "code",
   "execution_count": 10,
   "metadata": {},
   "outputs": [
    {
     "data": {
      "text/plain": [
       "77069     1\n",
       "88431     0\n",
       "67099     1\n",
       "83839     0\n",
       "77401     1\n",
       "         ..\n",
       "115794    0\n",
       "24610     0\n",
       "72319     1\n",
       "23943     1\n",
       "58302     0\n",
       "Name: label, Length: 20000, dtype: int64"
      ]
     },
     "execution_count": 10,
     "metadata": {},
     "output_type": "execute_result"
    }
   ],
   "source": [
    "y"
   ]
  },
  {
   "cell_type": "code",
   "execution_count": 11,
   "metadata": {},
   "outputs": [],
   "source": [
    "from sklearn.datasets import load_iris\n",
    "from sklearn.ensemble import RandomForestClassifier, StackingClassifier\n",
    "from sklearn.linear_model import LogisticRegression\n",
    "from sklearn.model_selection import train_test_split\n",
    "from sklearn.neighbors import KNeighborsClassifier\n",
    "from sklearn.tree import DecisionTreeClassifier\n",
    "from sklearn.ensemble import AdaBoostClassifier\n",
    "from sklearn.neural_network import MLPClassifier"
   ]
  },
  {
   "cell_type": "markdown",
   "metadata": {},
   "source": [
    "# Chi Squared"
   ]
  },
  {
   "cell_type": "code",
   "execution_count": 12,
   "metadata": {},
   "outputs": [],
   "source": [
    "import matplotlib.pyplot as plt\n",
    "from sklearn.datasets import load_iris\n",
    "from sklearn.model_selection import train_test_split\n",
    "from sklearn.preprocessing import MinMaxScaler\n",
    "from sklearn.svm import LinearSVC\n",
    "from sklearn.pipeline import make_pipeline\n",
    "from sklearn.feature_selection import SelectKBest, chi2"
   ]
  },
  {
   "cell_type": "code",
   "execution_count": 13,
   "metadata": {},
   "outputs": [
    {
     "name": "stdout",
     "output_type": "stream",
     "text": [
      "before transform:         duration  src_bytes  dst_bytes  land  wrong_fragment  urgent  hot  \\\n",
      "77069          0        520          0     0               0       0    0   \n",
      "88431          0         45        134     0               0       0    0   \n",
      "67099          0          0          0     0               0       0    0   \n",
      "83839          0          9        366     0               0       0    0   \n",
      "77401          0          0          0     0               0       0    0   \n",
      "...          ...        ...        ...   ...             ...     ...  ...   \n",
      "115794         0        216        718     0               0       0    0   \n",
      "24610          0        235        466     0               0       0    0   \n",
      "72319          0          0          0     0               0       0    0   \n",
      "23943          0          0          0     0               0       0    0   \n",
      "58302          0        164       4007     0               0       0    0   \n",
      "\n",
      "        num_failed_logins  logged_in  num_compromised  ...  flag_REJ  \\\n",
      "77069                   0          0                0  ...         0   \n",
      "88431                   0          0                0  ...         0   \n",
      "67099                   0          0                0  ...         0   \n",
      "83839                   0          0                0  ...         0   \n",
      "77401                   0          0                0  ...         0   \n",
      "...                   ...        ...              ...  ...       ...   \n",
      "115794                  0          1                0  ...         0   \n",
      "24610                   0          1                0  ...         0   \n",
      "72319                   0          0                0  ...         0   \n",
      "23943                   0          0                0  ...         0   \n",
      "58302                   0          1                0  ...         0   \n",
      "\n",
      "        flag_RSTO  flag_RSTOS0  flag_RSTR  flag_S0  flag_S1  flag_S2  flag_S3  \\\n",
      "77069           0            0          0        0        0        0        0   \n",
      "88431           0            0          0        0        0        0        0   \n",
      "67099           0            0          0        1        0        0        0   \n",
      "83839           0            0          0        0        0        0        0   \n",
      "77401           0            0          0        1        0        0        0   \n",
      "...           ...          ...        ...      ...      ...      ...      ...   \n",
      "115794          0            0          0        0        0        0        0   \n",
      "24610           0            0          0        0        0        0        0   \n",
      "72319           0            0          0        1        0        0        0   \n",
      "23943           0            0          0        1        0        0        0   \n",
      "58302           0            0          0        0        0        0        0   \n",
      "\n",
      "        flag_SF  flag_SH  \n",
      "77069         1        0  \n",
      "88431         1        0  \n",
      "67099         0        0  \n",
      "83839         1        0  \n",
      "77401         0        0  \n",
      "...         ...      ...  \n",
      "115794        1        0  \n",
      "24610         1        0  \n",
      "72319         0        0  \n",
      "23943         0        0  \n",
      "58302         1        0  \n",
      "\n",
      "[20000 rows x 122 columns]\n",
      "scores_: [1.24369386e+06 6.21323805e+07 2.55358281e+07 8.69493662e-01\n",
      " 6.89270042e+02            nan 1.41767300e+03 8.52496068e+00\n",
      " 5.22073704e+03 1.77848106e+03 1.31153241e+01 1.18037917e+01\n",
      " 2.57191506e+03 2.15091316e+02 4.59036344e+00 4.98382316e+01\n",
      "            nan 6.55766206e-01 1.12791787e+02 1.36927394e+06\n",
      " 2.56608024e+03 8.63139524e+03 8.67464793e+03 6.03972529e+02\n",
      " 5.99946557e+02 4.40593128e+03 1.48809818e+02 8.96561080e+02\n",
      " 2.33875898e+05 1.02788589e+06 4.20238855e+03 6.32014650e+01\n",
      " 2.72295711e+02 1.79534256e+02 8.58933555e+03 8.88871890e+03\n",
      " 6.07264683e+02 5.87434710e+02 2.03093692e+02 9.60528541e+01\n",
      " 1.14013381e+03 2.03287524e+01 9.83649309e+00 2.28740058e+02\n",
      "            nan 9.13519745e+01 1.92141649e+02 1.87566848e+02\n",
      " 1.58593107e+02 1.31144300e+02 1.11320162e+02 1.37244035e+02\n",
      " 1.04171122e+02 1.07021045e+03 1.06745360e+02 5.63958937e+01\n",
      " 6.20331848e+02 1.47918571e+02 1.06745360e+02 1.14704359e+02\n",
      " 4.97983951e+00 1.88449287e+02 1.26569499e+02            nan\n",
      " 1.34194167e+02 3.55125452e+03            nan 1.15894963e+02\n",
      "            nan 1.81467113e+02 1.73842444e+02 1.09795228e+02\n",
      " 7.92965535e+01 8.38713546e+01 1.18944830e+02 7.47217523e+01\n",
      " 1.32669234e+02 1.14370029e+02 8.99710895e+01 1.08270294e+02\n",
      " 9.91206918e+01 8.53962883e+01 1.79942179e+02 6.40472163e+01\n",
      " 2.36075834e+01 2.83596264e+02            nan 1.82992046e+01\n",
      " 1.16201451e+00 1.52493372e+01 3.60382176e+03 1.31153241e+00\n",
      " 1.98241384e+01 9.14960232e+00 1.52493372e+01 7.04769452e+02\n",
      " 5.48976139e+01 7.01469511e+01 1.03695493e+02 1.55543239e+02\n",
      " 1.38768969e+02 6.44844814e+01            nan 1.31153241e+00\n",
      " 1.41810738e+02 6.55766206e-01 7.93477109e+01 1.98241384e+02\n",
      " 1.61642974e+02 1.46393637e+02 1.81467113e+02 6.55766206e-01\n",
      " 4.44522617e+02 1.83978261e+02            nan 1.72593013e-02\n",
      " 8.97445331e+03 4.39363358e+01 1.31153241e+01 5.90189585e+00\n",
      " 5.67938053e+03            nan]\n",
      "pvalues_: [0.00000000e+000 0.00000000e+000 0.00000000e+000 3.51095523e-001\n",
      " 6.44213369e-152             nan 3.03434443e-310 3.50308320e-003\n",
      " 0.00000000e+000 0.00000000e+000 2.92890133e-004 5.91102120e-004\n",
      " 0.00000000e+000 1.06450263e-048 3.21521958e-002 1.66958790e-012\n",
      "             nan 4.18058623e-001 2.39666485e-026 0.00000000e+000\n",
      " 0.00000000e+000 0.00000000e+000 0.00000000e+000 2.28953445e-133\n",
      " 1.71958366e-132 0.00000000e+000 3.15581790e-034 5.48784863e-197\n",
      " 0.00000000e+000 0.00000000e+000 0.00000000e+000 1.86609541e-015\n",
      " 3.58572315e-061 6.12508076e-041 0.00000000e+000 0.00000000e+000\n",
      " 4.40238854e-134 9.05519030e-130 4.41310577e-046 1.11857035e-022\n",
      " 6.25420175e-250 6.52132239e-006 1.71083355e-003 1.12232367e-051\n",
      "             nan 1.20260047e-021 1.08359951e-043 1.08007331e-042\n",
      " 2.29639063e-036 2.30245816e-030 5.03465652e-026 1.06640235e-031\n",
      " 1.85575788e-024 9.85268534e-235 5.06206479e-025 5.92539851e-014\n",
      " 6.33259175e-137 4.94232342e-034 5.06206479e-025 9.13498893e-027\n",
      " 2.56443620e-002 6.93146989e-043 2.30776763e-029             nan\n",
      " 4.95452369e-031 0.00000000e+000             nan 5.01148757e-027\n",
      "             nan 2.31791288e-041 1.07149904e-039 1.08654644e-025\n",
      " 5.34528741e-019 5.28041243e-020 1.07683232e-027 5.41956897e-018\n",
      " 1.06802862e-030 1.08125978e-026 2.41665680e-021 2.34513151e-025\n",
      " 2.37572981e-023 2.44178521e-020 4.98936176e-041 1.21472809e-015\n",
      " 1.18121087e-006 1.23573496e-063             nan 1.88785972e-005\n",
      " 2.81048141e-001 9.42098108e-005 0.00000000e+000 2.52117391e-001\n",
      " 8.49036808e-006 2.48772127e-003 9.42098108e-005 2.74511510e-155\n",
      " 1.26975067e-013 5.50470546e-017 2.35927313e-024 1.06532125e-035\n",
      " 4.94789050e-032 9.72956543e-016             nan 2.52117391e-001\n",
      " 1.06970683e-032 4.18058623e-001 5.20865565e-019 5.05370194e-045\n",
      " 4.95095898e-037 1.06484640e-033 2.31791288e-041 4.18058623e-001\n",
      " 1.12243626e-098 6.55927369e-042             nan 8.95478933e-001\n",
      " 0.00000000e+000 3.39232346e-011 2.92890133e-004 1.51245964e-002\n",
      " 0.00000000e+000             nan]\n",
      "selected index: [ 0  1  2 19]\n",
      "after transform: [[0.000e+00 5.200e+02 0.000e+00 3.660e+02]\n",
      " [0.000e+00 4.500e+01 1.340e+02 7.900e+01]\n",
      " [0.000e+00 0.000e+00 0.000e+00 2.700e+02]\n",
      " ...\n",
      " [0.000e+00 0.000e+00 0.000e+00 2.240e+02]\n",
      " [0.000e+00 0.000e+00 0.000e+00 1.730e+02]\n",
      " [0.000e+00 1.640e+02 4.007e+03 3.000e+00]]\n"
     ]
    }
   ],
   "source": [
    "print(\"before transform:\",X)\n",
    "selector=SelectKBest(score_func=chi2,k=4)\n",
    "fit = selector.fit(X,y)\n",
    "features = fit.transform(X)\n",
    "print(\"scores_:\",fit.scores_)\n",
    "print(\"pvalues_:\",fit.pvalues_)\n",
    "print(\"selected index:\",fit.get_support(True))\n",
    "print(\"after transform:\",fit.transform(X)) \n",
    "X = fit.transform(X)"
   ]
  },
  {
   "cell_type": "markdown",
   "metadata": {},
   "source": [
    "# (KNN-RF-ADA)_(DT-MLP)_MLP"
   ]
  },
  {
   "cell_type": "code",
   "execution_count": 14,
   "metadata": {},
   "outputs": [],
   "source": [
    "# Create Learners per layer\n",
    "layer_one_estimators = [\n",
    "                        ('knn_1', KNeighborsClassifier(n_neighbors=5, n_jobs=-1)),\n",
    "                        ('rn_1', RandomForestClassifier(random_state=0, n_jobs=-1, n_estimators=90, max_depth=19, \n",
    "                                                        min_samples_split=0.1)),\n",
    "                        ('ada_1', AdaBoostClassifier(random_state=0, learning_rate=0.1, n_estimators=1000))\n",
    "                       ]\n",
    "\n",
    "layer_two_estimators = [\n",
    "                        ('dt_2', DecisionTreeClassifier(max_depth=13, min_samples_split=10)),\n",
    "                        ('mlp_2', MLPClassifier(solver='adam', alpha=0.001, hidden_layer_sizes=20)),\n",
    "                       ]"
   ]
  },
  {
   "cell_type": "code",
   "execution_count": 15,
   "metadata": {},
   "outputs": [],
   "source": [
    "layer_two = StackingClassifier(estimators=layer_two_estimators, final_estimator=MLPClassifier())"
   ]
  },
  {
   "cell_type": "code",
   "execution_count": 16,
   "metadata": {},
   "outputs": [
    {
     "name": "stdout",
     "output_type": "stream",
     "text": [
      "  Accuracy Precision    Recall\n",
      "0   0.9942  0.994425  0.990909\n"
     ]
    }
   ],
   "source": [
    "# Create Final model by \n",
    "clf = StackingClassifier(estimators=layer_one_estimators, final_estimator=layer_two)\n",
    "\n",
    "X_train, X_test, y_train, y_test = train_test_split(X, y, stratify=y, random_state=42)\n",
    "\n",
    "clf.fit(X_train, y_train)\n",
    "\n",
    "y_pred = clf.predict(X_test)\n",
    "\n",
    "acurcy = accuracy_score(y_test, y_pred)\n",
    "prec = precision_score(y_test, y_pred)\n",
    "recal = recall_score(y_test, y_pred)\n",
    "\n",
    "clf_Score = pd.DataFrame(columns=['Accuracy', 'Precision', 'Recall'])\n",
    "clf_Score.at[0, 'Accuracy'] = acurcy\n",
    "clf_Score.at[0, 'Precision'] = prec\n",
    "clf_Score.at[0, 'Recall'] = recal\n",
    "print(clf_Score)"
   ]
  },
  {
   "cell_type": "code",
   "execution_count": 17,
   "metadata": {},
   "outputs": [],
   "source": [
    "clf_Score.to_csv('NSL_DOS_Stacking_level2_(KNN-RF-ADA)_(DT-MLP)_MLP_ChiSquared.csv')"
   ]
  },
  {
   "cell_type": "markdown",
   "metadata": {},
   "source": [
    "# (KNN-RF)_(DT-MLP)_MLP"
   ]
  },
  {
   "cell_type": "code",
   "execution_count": 18,
   "metadata": {},
   "outputs": [],
   "source": [
    "# Create Learners per layer\n",
    "layer_one_estimators = [\n",
    "                        ('knn_1', KNeighborsClassifier(n_neighbors=5, n_jobs=-1)),\n",
    "                        ('rn_1', RandomForestClassifier(random_state=0, n_jobs=-1, n_estimators=90, max_depth=19, \n",
    "                                                        min_samples_split=0.1))\n",
    "                       ]\n",
    "\n",
    "layer_two_estimators = [\n",
    "                        ('dt_2', DecisionTreeClassifier(max_depth=13, min_samples_split=10)),\n",
    "                        ('mlp_2', MLPClassifier(solver='adam', alpha=0.001, hidden_layer_sizes=20)),\n",
    "                       ]\n",
    "layer_two = StackingClassifier(estimators=layer_two_estimators, final_estimator=MLPClassifier())"
   ]
  },
  {
   "cell_type": "code",
   "execution_count": 19,
   "metadata": {},
   "outputs": [
    {
     "name": "stdout",
     "output_type": "stream",
     "text": [
      "  Accuracy Precision    Recall\n",
      "0    0.994  0.994422  0.990404\n"
     ]
    }
   ],
   "source": [
    "# Create Final model by \n",
    "clf = StackingClassifier(estimators=layer_one_estimators, final_estimator=layer_two)\n",
    "\n",
    "X_train, X_test, y_train, y_test = train_test_split(X, y, stratify=y, random_state=42)\n",
    "\n",
    "clf.fit(X_train, y_train)\n",
    "\n",
    "y_pred = clf.predict(X_test)\n",
    "\n",
    "acurcy = accuracy_score(y_test, y_pred)\n",
    "prec = precision_score(y_test, y_pred)\n",
    "recal = recall_score(y_test, y_pred)\n",
    "\n",
    "clf_Score = pd.DataFrame(columns=['Accuracy', 'Precision', 'Recall'])\n",
    "clf_Score.at[0, 'Accuracy'] = acurcy\n",
    "clf_Score.at[0, 'Precision'] = prec\n",
    "clf_Score.at[0, 'Recall'] = recal\n",
    "print(clf_Score)"
   ]
  },
  {
   "cell_type": "code",
   "execution_count": 20,
   "metadata": {},
   "outputs": [],
   "source": [
    "clf_Score.to_csv('NSL_DOS_Stacking_level2_(KNN-RF)_(DT-MLP)_MLP_ChiSquared.csv')"
   ]
  },
  {
   "cell_type": "markdown",
   "metadata": {},
   "source": [
    "# (RF-MLP)_(DT-KNN)_MLP"
   ]
  },
  {
   "cell_type": "code",
   "execution_count": 21,
   "metadata": {},
   "outputs": [],
   "source": [
    "# Create Learners per layer\n",
    "layer_one_estimators = [\n",
    "                        ('rn_1', RandomForestClassifier(random_state=0, n_jobs=-1, n_estimators=90, max_depth=19, min_samples_split=0.1)),\n",
    "                        ('mlp_2', MLPClassifier(solver='adam', alpha=0.001, hidden_layer_sizes=20))\n",
    "                       ]\n",
    "\n",
    "layer_two_estimators = [\n",
    "                        ('dt_2', DecisionTreeClassifier(max_depth=13, min_samples_split=10)),\n",
    "                        ('knn_1', KNeighborsClassifier(n_neighbors=5, n_jobs=-1))\n",
    "                       ]\n",
    "layer_two = StackingClassifier(estimators=layer_two_estimators, final_estimator=MLPClassifier())"
   ]
  },
  {
   "cell_type": "code",
   "execution_count": 22,
   "metadata": {},
   "outputs": [
    {
     "name": "stderr",
     "output_type": "stream",
     "text": [
      "C:\\Users\\nayer\\Anaconda3\\lib\\site-packages\\sklearn\\neural_network\\_multilayer_perceptron.py:571: ConvergenceWarning: Stochastic Optimizer: Maximum iterations (200) reached and the optimization hasn't converged yet.\n",
      "  % self.max_iter, ConvergenceWarning)\n"
     ]
    },
    {
     "name": "stdout",
     "output_type": "stream",
     "text": [
      "  Accuracy Precision    Recall\n",
      "0   0.9832  0.991701  0.965657\n"
     ]
    }
   ],
   "source": [
    "# Create Final model by \n",
    "clf = StackingClassifier(estimators=layer_one_estimators, final_estimator=layer_two)\n",
    "\n",
    "X_train, X_test, y_train, y_test = train_test_split(X, y, stratify=y, random_state=42)\n",
    "\n",
    "clf.fit(X_train, y_train)\n",
    "\n",
    "y_pred = clf.predict(X_test)\n",
    "\n",
    "acurcy = accuracy_score(y_test, y_pred)\n",
    "prec = precision_score(y_test, y_pred)\n",
    "recal = recall_score(y_test, y_pred)\n",
    "\n",
    "clf_Score = pd.DataFrame(columns=['Accuracy', 'Precision', 'Recall'])\n",
    "clf_Score.at[0, 'Accuracy'] = acurcy\n",
    "clf_Score.at[0, 'Precision'] = prec\n",
    "clf_Score.at[0, 'Recall'] = recal\n",
    "print(clf_Score)"
   ]
  },
  {
   "cell_type": "code",
   "execution_count": 23,
   "metadata": {},
   "outputs": [],
   "source": [
    "clf_Score.to_csv('NSL_DOS_Stacking_level2_(RF-MLP)_(DT-KNN)_MLP_ChiSquared.csv')"
   ]
  },
  {
   "cell_type": "markdown",
   "metadata": {},
   "source": [
    "# (KNN-RF)_(DT-MLP)_DT"
   ]
  },
  {
   "cell_type": "code",
   "execution_count": 24,
   "metadata": {},
   "outputs": [],
   "source": [
    "# Create Learners per layer\n",
    "layer_one_estimators = [\n",
    "                        ('knn_1', KNeighborsClassifier(n_neighbors=5, n_jobs=-1)),\n",
    "                        ('rn_1', RandomForestClassifier(random_state=0, n_jobs=-1, n_estimators=90, max_depth=19, \n",
    "                                                        min_samples_split=0.1))\n",
    "                       ]\n",
    "\n",
    "layer_two_estimators = [\n",
    "                        ('dt_2', DecisionTreeClassifier(max_depth=13, min_samples_split=10)),\n",
    "                        ('mlp_2', MLPClassifier(solver='adam', alpha=0.001, hidden_layer_sizes=20)),\n",
    "                       ]"
   ]
  },
  {
   "cell_type": "code",
   "execution_count": 25,
   "metadata": {},
   "outputs": [],
   "source": [
    "layer_two = StackingClassifier(estimators=layer_two_estimators, final_estimator=DecisionTreeClassifier())"
   ]
  },
  {
   "cell_type": "code",
   "execution_count": 26,
   "metadata": {},
   "outputs": [
    {
     "name": "stdout",
     "output_type": "stream",
     "text": [
      "  Accuracy Precision    Recall\n",
      "0   0.9836  0.993243  0.965152\n"
     ]
    }
   ],
   "source": [
    "# Create Final model by \n",
    "clf = StackingClassifier(estimators=layer_one_estimators, final_estimator=layer_two)\n",
    "\n",
    "X_train, X_test, y_train, y_test = train_test_split(X, y, stratify=y, random_state=42)\n",
    "\n",
    "clf.fit(X_train, y_train)\n",
    "\n",
    "y_pred = clf.predict(X_test)\n",
    "\n",
    "acurcy = accuracy_score(y_test, y_pred)\n",
    "prec = precision_score(y_test, y_pred)\n",
    "recal = recall_score(y_test, y_pred)\n",
    "\n",
    "clf_Score = pd.DataFrame(columns=['Accuracy', 'Precision', 'Recall'])\n",
    "clf_Score.at[0, 'Accuracy'] = acurcy\n",
    "clf_Score.at[0, 'Precision'] = prec\n",
    "clf_Score.at[0, 'Recall'] = recal\n",
    "print(clf_Score)"
   ]
  },
  {
   "cell_type": "code",
   "execution_count": 27,
   "metadata": {},
   "outputs": [],
   "source": [
    "clf_Score.to_csv('NSL_DOS_Stacking_level2_(KNN-RF)_(DT-MLP)_DT_ChiSquared.csv')"
   ]
  },
  {
   "cell_type": "markdown",
   "metadata": {},
   "source": [
    "# (ADA-MLP)_(DT-RF)_MLP"
   ]
  },
  {
   "cell_type": "code",
   "execution_count": 28,
   "metadata": {},
   "outputs": [],
   "source": [
    "# Create Learners per layer\n",
    "layer_one_estimators = [\n",
    "                        ('ada_1', AdaBoostClassifier(random_state=0, learning_rate=0.1, n_estimators=1000)),\n",
    "                        ('mlp_2', MLPClassifier(solver='adam', alpha=0.001, hidden_layer_sizes=20))\n",
    "                       ]\n",
    "\n",
    "layer_two_estimators = [\n",
    "                        ('dt_2', DecisionTreeClassifier(max_depth=13, min_samples_split=10)),\n",
    "                        ('rn_1', RandomForestClassifier(random_state=0, n_jobs=-1, n_estimators=90, max_depth=19, \n",
    "                                                        min_samples_split=0.1))\n",
    "                       ]\n",
    "layer_two = StackingClassifier(estimators=layer_two_estimators, final_estimator=MLPClassifier())"
   ]
  },
  {
   "cell_type": "code",
   "execution_count": 29,
   "metadata": {},
   "outputs": [
    {
     "name": "stdout",
     "output_type": "stream",
     "text": [
      "  Accuracy Precision    Recall\n",
      "0    0.994  0.991431  0.993434\n"
     ]
    }
   ],
   "source": [
    "# Create Final model by \n",
    "clf = StackingClassifier(estimators=layer_one_estimators, final_estimator=layer_two)\n",
    "\n",
    "X_train, X_test, y_train, y_test = train_test_split(X, y, stratify=y, random_state=42)\n",
    "\n",
    "clf.fit(X_train, y_train)\n",
    "\n",
    "y_pred = clf.predict(X_test)\n",
    "\n",
    "acurcy = accuracy_score(y_test, y_pred)\n",
    "prec = precision_score(y_test, y_pred)\n",
    "recal = recall_score(y_test, y_pred)\n",
    "\n",
    "clf_Score = pd.DataFrame(columns=['Accuracy', 'Precision', 'Recall'])\n",
    "clf_Score.at[0, 'Accuracy'] = acurcy\n",
    "clf_Score.at[0, 'Precision'] = prec\n",
    "clf_Score.at[0, 'Recall'] = recal\n",
    "print(clf_Score)"
   ]
  },
  {
   "cell_type": "code",
   "execution_count": 30,
   "metadata": {},
   "outputs": [],
   "source": [
    "clf_Score.to_csv('NSL_DOS_Stacking_level2_(ADA-MLP)_(DT-RF)_MLP_ChiSquared.csv')"
   ]
  },
  {
   "cell_type": "markdown",
   "metadata": {},
   "source": [
    "# (MLP-RF)_(DT-KNN)_DT"
   ]
  },
  {
   "cell_type": "code",
   "execution_count": 31,
   "metadata": {},
   "outputs": [],
   "source": [
    "# Create Learners per layer\n",
    "layer_one_estimators = [\n",
    "                        ('rn_1', RandomForestClassifier(random_state=0, n_jobs=-1, n_estimators=90, max_depth=19, \n",
    "                                                        min_samples_split=0.1)),\n",
    "                        ('mlp_2', MLPClassifier(solver='adam', alpha=0.001, hidden_layer_sizes=20))\n",
    "                       ]\n",
    "\n",
    "layer_two_estimators = [\n",
    "                        ('knn_1', KNeighborsClassifier(n_neighbors=5, n_jobs=-1)),\n",
    "                        ('dt_2', DecisionTreeClassifier(max_depth=13, min_samples_split=10))\n",
    "                       ]"
   ]
  },
  {
   "cell_type": "code",
   "execution_count": 32,
   "metadata": {},
   "outputs": [],
   "source": [
    "layer_two = StackingClassifier(estimators=layer_two_estimators, final_estimator=DecisionTreeClassifier())"
   ]
  },
  {
   "cell_type": "code",
   "execution_count": 33,
   "metadata": {},
   "outputs": [
    {
     "name": "stderr",
     "output_type": "stream",
     "text": [
      "C:\\Users\\nayer\\Anaconda3\\lib\\site-packages\\sklearn\\neural_network\\_multilayer_perceptron.py:571: ConvergenceWarning: Stochastic Optimizer: Maximum iterations (200) reached and the optimization hasn't converged yet.\n",
      "  % self.max_iter, ConvergenceWarning)\n"
     ]
    },
    {
     "name": "stdout",
     "output_type": "stream",
     "text": [
      "  Accuracy Precision    Recall\n",
      "0    0.991  0.992868  0.984343\n"
     ]
    }
   ],
   "source": [
    "# Create Final model by \n",
    "clf = StackingClassifier(estimators=layer_one_estimators, final_estimator=layer_two)\n",
    "\n",
    "X_train, X_test, y_train, y_test = train_test_split(X, y, stratify=y, random_state=42)\n",
    "\n",
    "clf.fit(X_train, y_train)\n",
    "\n",
    "y_pred = clf.predict(X_test)\n",
    "\n",
    "acurcy = accuracy_score(y_test, y_pred)\n",
    "prec = precision_score(y_test, y_pred)\n",
    "recal = recall_score(y_test, y_pred)\n",
    "\n",
    "clf_Score = pd.DataFrame(columns=['Accuracy', 'Precision', 'Recall'])\n",
    "clf_Score.at[0, 'Accuracy'] = acurcy\n",
    "clf_Score.at[0, 'Precision'] = prec\n",
    "clf_Score.at[0, 'Recall'] = recal\n",
    "print(clf_Score)"
   ]
  },
  {
   "cell_type": "code",
   "execution_count": 34,
   "metadata": {},
   "outputs": [],
   "source": [
    "clf_Score.to_csv('NSL_DOS_Stacking_level2_(MLP-RF)_(DT-KNN)_DT_ChiSquaredT.csv')"
   ]
  },
  {
   "cell_type": "markdown",
   "metadata": {},
   "source": [
    "# (KNN-RF)_(DT-MLP)_KNN"
   ]
  },
  {
   "cell_type": "code",
   "execution_count": 35,
   "metadata": {},
   "outputs": [],
   "source": [
    "# Create Learners per layer\n",
    "layer_one_estimators = [\n",
    "                        ('knn_1', KNeighborsClassifier(n_neighbors=5, n_jobs=-1)),\n",
    "                        ('rn_1', RandomForestClassifier(random_state=0, n_jobs=-1, n_estimators=90, max_depth=19, \n",
    "                                                        min_samples_split=0.1))\n",
    "                       ]\n",
    "\n",
    "layer_two_estimators = [\n",
    "                        ('dt_2', DecisionTreeClassifier(max_depth=13, min_samples_split=10)),\n",
    "                        ('mlp_2', MLPClassifier(solver='adam', alpha=0.001, hidden_layer_sizes=20)),\n",
    "                       ]"
   ]
  },
  {
   "cell_type": "code",
   "execution_count": 36,
   "metadata": {},
   "outputs": [],
   "source": [
    "layer_two = StackingClassifier(estimators=layer_two_estimators, final_estimator=KNeighborsClassifier())"
   ]
  },
  {
   "cell_type": "code",
   "execution_count": 37,
   "metadata": {},
   "outputs": [
    {
     "name": "stdout",
     "output_type": "stream",
     "text": [
      "  Accuracy Precision    Recall\n",
      "0   0.9938  0.993918  0.990404\n"
     ]
    }
   ],
   "source": [
    "# Create Final model by \n",
    "clf = StackingClassifier(estimators=layer_one_estimators, final_estimator=layer_two)\n",
    "\n",
    "X_train, X_test, y_train, y_test = train_test_split(X, y, stratify=y, random_state=42)\n",
    "\n",
    "clf.fit(X_train, y_train)\n",
    "\n",
    "y_pred = clf.predict(X_test)\n",
    "\n",
    "acurcy = accuracy_score(y_test, y_pred)\n",
    "prec = precision_score(y_test, y_pred)\n",
    "recal = recall_score(y_test, y_pred)\n",
    "\n",
    "clf_Score = pd.DataFrame(columns=['Accuracy', 'Precision', 'Recall'])\n",
    "clf_Score.at[0, 'Accuracy'] = acurcy\n",
    "clf_Score.at[0, 'Precision'] = prec\n",
    "clf_Score.at[0, 'Recall'] = recal\n",
    "print(clf_Score)"
   ]
  },
  {
   "cell_type": "code",
   "execution_count": 38,
   "metadata": {},
   "outputs": [],
   "source": [
    "clf_Score.to_csv('NSL_DOS_Stacking_level2_(KNN-RF)_(DT-MLP)_KNN_ChiSquared.csv')"
   ]
  },
  {
   "cell_type": "markdown",
   "metadata": {},
   "source": [
    "# (MLP-RF)_(DT-KNN)_KNN"
   ]
  },
  {
   "cell_type": "code",
   "execution_count": 39,
   "metadata": {},
   "outputs": [],
   "source": [
    "# Create Learners per layer\n",
    "layer_one_estimators = [\n",
    "                        ('mlp_2', MLPClassifier(solver='adam', alpha=0.001, hidden_layer_sizes=20)),\n",
    "                        ('rn_1', RandomForestClassifier(random_state=0, n_jobs=-1, n_estimators=90, max_depth=19, \n",
    "                                                        min_samples_split=0.1))\n",
    "                       ]\n",
    "\n",
    "layer_two_estimators = [\n",
    "                        ('dt_2', DecisionTreeClassifier(max_depth=13, min_samples_split=10)),\n",
    "                        ('knn_1', KNeighborsClassifier(n_neighbors=5, n_jobs=-1))\n",
    "                       ]"
   ]
  },
  {
   "cell_type": "code",
   "execution_count": 40,
   "metadata": {},
   "outputs": [],
   "source": [
    "layer_two = StackingClassifier(estimators=layer_two_estimators, final_estimator=KNeighborsClassifier())"
   ]
  },
  {
   "cell_type": "code",
   "execution_count": 41,
   "metadata": {},
   "outputs": [
    {
     "name": "stderr",
     "output_type": "stream",
     "text": [
      "C:\\Users\\nayer\\Anaconda3\\lib\\site-packages\\sklearn\\neural_network\\_multilayer_perceptron.py:571: ConvergenceWarning: Stochastic Optimizer: Maximum iterations (200) reached and the optimization hasn't converged yet.\n",
      "  % self.max_iter, ConvergenceWarning)\n"
     ]
    },
    {
     "name": "stdout",
     "output_type": "stream",
     "text": [
      "  Accuracy Precision    Recall\n",
      "0   0.9906  0.991858  0.984343\n"
     ]
    }
   ],
   "source": [
    "# Create Final model by \n",
    "clf = StackingClassifier(estimators=layer_one_estimators, final_estimator=layer_two)\n",
    "\n",
    "X_train, X_test, y_train, y_test = train_test_split(X, y, stratify=y, random_state=42)\n",
    "\n",
    "clf.fit(X_train, y_train)\n",
    "\n",
    "y_pred = clf.predict(X_test)\n",
    "\n",
    "acurcy = accuracy_score(y_test, y_pred)\n",
    "prec = precision_score(y_test, y_pred)\n",
    "recal = recall_score(y_test, y_pred)\n",
    "\n",
    "clf_Score = pd.DataFrame(columns=['Accuracy', 'Precision', 'Recall'])\n",
    "clf_Score.at[0, 'Accuracy'] = acurcy\n",
    "clf_Score.at[0, 'Precision'] = prec\n",
    "clf_Score.at[0, 'Recall'] = recal\n",
    "print(clf_Score)"
   ]
  },
  {
   "cell_type": "code",
   "execution_count": 42,
   "metadata": {},
   "outputs": [],
   "source": [
    "clf_Score.to_csv('NSL_DOS_Stacking_level2_(MLP-RF)_(DT-KNN)_KNN_ChiSquared.csv')"
   ]
  },
  {
   "cell_type": "markdown",
   "metadata": {},
   "source": [
    "# (KNN-MLP)_(DT-RF)_KNN"
   ]
  },
  {
   "cell_type": "code",
   "execution_count": 43,
   "metadata": {},
   "outputs": [],
   "source": [
    "# Create Learners per layer\n",
    "layer_one_estimators = [\n",
    "                        ('knn_1', KNeighborsClassifier(n_neighbors=5, n_jobs=-1)),\n",
    "                        ('mlp_2', MLPClassifier(solver='adam', alpha=0.001, hidden_layer_sizes=20))\n",
    "                       ]\n",
    "\n",
    "layer_two_estimators = [\n",
    "                        ('dt_2', DecisionTreeClassifier(max_depth=13, min_samples_split=10)),\n",
    "                        ('rn_1', RandomForestClassifier(random_state=0, n_jobs=-1, n_estimators=90, max_depth=19, \n",
    "                                                        min_samples_split=0.1))\n",
    "                       ]"
   ]
  },
  {
   "cell_type": "code",
   "execution_count": 44,
   "metadata": {},
   "outputs": [],
   "source": [
    "layer_two = StackingClassifier(estimators=layer_two_estimators, final_estimator=KNeighborsClassifier())"
   ]
  },
  {
   "cell_type": "code",
   "execution_count": 45,
   "metadata": {},
   "outputs": [
    {
     "name": "stderr",
     "output_type": "stream",
     "text": [
      "C:\\Users\\nayer\\Anaconda3\\lib\\site-packages\\sklearn\\neural_network\\_multilayer_perceptron.py:571: ConvergenceWarning: Stochastic Optimizer: Maximum iterations (200) reached and the optimization hasn't converged yet.\n",
      "  % self.max_iter, ConvergenceWarning)\n",
      "C:\\Users\\nayer\\Anaconda3\\lib\\site-packages\\sklearn\\neural_network\\_multilayer_perceptron.py:571: ConvergenceWarning: Stochastic Optimizer: Maximum iterations (200) reached and the optimization hasn't converged yet.\n",
      "  % self.max_iter, ConvergenceWarning)\n",
      "C:\\Users\\nayer\\Anaconda3\\lib\\site-packages\\sklearn\\neural_network\\_multilayer_perceptron.py:571: ConvergenceWarning: Stochastic Optimizer: Maximum iterations (200) reached and the optimization hasn't converged yet.\n",
      "  % self.max_iter, ConvergenceWarning)\n"
     ]
    },
    {
     "name": "stdout",
     "output_type": "stream",
     "text": [
      "  Accuracy Precision    Recall\n",
      "0    0.987  0.976131  0.991414\n"
     ]
    }
   ],
   "source": [
    "# Create Final model by \n",
    "clf = StackingClassifier(estimators=layer_one_estimators, final_estimator=layer_two)\n",
    "\n",
    "X_train, X_test, y_train, y_test = train_test_split(X, y, stratify=y, random_state=42)\n",
    "\n",
    "clf.fit(X_train, y_train)\n",
    "\n",
    "y_pred = clf.predict(X_test)\n",
    "\n",
    "acurcy = accuracy_score(y_test, y_pred)\n",
    "prec = precision_score(y_test, y_pred)\n",
    "recal = recall_score(y_test, y_pred)\n",
    "\n",
    "clf_Score = pd.DataFrame(columns=['Accuracy', 'Precision', 'Recall'])\n",
    "clf_Score.at[0, 'Accuracy'] = acurcy\n",
    "clf_Score.at[0, 'Precision'] = prec\n",
    "clf_Score.at[0, 'Recall'] = recal\n",
    "print(clf_Score)"
   ]
  },
  {
   "cell_type": "code",
   "execution_count": 46,
   "metadata": {},
   "outputs": [],
   "source": [
    "clf_Score.to_csv('NSL_DOS_Stacking_level2_(KNN-MLP)_(DT-RF)_KNN_ChiSquared.csv')"
   ]
  },
  {
   "cell_type": "markdown",
   "metadata": {},
   "source": [
    "# (KNN-RF)_(DT-MLP)_RF"
   ]
  },
  {
   "cell_type": "code",
   "execution_count": 47,
   "metadata": {},
   "outputs": [],
   "source": [
    "# Create Learners per layer\n",
    "layer_one_estimators = [\n",
    "                        ('knn_1', KNeighborsClassifier(n_neighbors=5, n_jobs=-1)),\n",
    "                        ('rn_1', RandomForestClassifier(random_state=0, n_jobs=-1, n_estimators=90, max_depth=19, \n",
    "                                                        min_samples_split=0.1))\n",
    "                       ]\n",
    "\n",
    "layer_two_estimators = [\n",
    "                        ('dt_2', DecisionTreeClassifier(max_depth=13, min_samples_split=10)),\n",
    "                        ('mlp_2', MLPClassifier(solver='adam', alpha=0.001, hidden_layer_sizes=20)),\n",
    "                       ]"
   ]
  },
  {
   "cell_type": "code",
   "execution_count": 48,
   "metadata": {},
   "outputs": [],
   "source": [
    "layer_two = StackingClassifier(estimators=layer_two_estimators, final_estimator=RandomForestClassifier())"
   ]
  },
  {
   "cell_type": "code",
   "execution_count": 49,
   "metadata": {},
   "outputs": [
    {
     "name": "stdout",
     "output_type": "stream",
     "text": [
      "  Accuracy Precision    Recall\n",
      "0    0.993  0.993404  0.988889\n"
     ]
    }
   ],
   "source": [
    "# Create Final model by \n",
    "clf = StackingClassifier(estimators=layer_one_estimators, final_estimator=layer_two)\n",
    "\n",
    "X_train, X_test, y_train, y_test = train_test_split(X, y, stratify=y, random_state=42)\n",
    "\n",
    "clf.fit(X_train, y_train)\n",
    "\n",
    "y_pred = clf.predict(X_test)\n",
    "\n",
    "acurcy = accuracy_score(y_test, y_pred)\n",
    "prec = precision_score(y_test, y_pred)\n",
    "recal = recall_score(y_test, y_pred)\n",
    "\n",
    "clf_Score = pd.DataFrame(columns=['Accuracy', 'Precision', 'Recall'])\n",
    "clf_Score.at[0, 'Accuracy'] = acurcy\n",
    "clf_Score.at[0, 'Precision'] = prec\n",
    "clf_Score.at[0, 'Recall'] = recal\n",
    "print(clf_Score)"
   ]
  },
  {
   "cell_type": "code",
   "execution_count": 50,
   "metadata": {},
   "outputs": [],
   "source": [
    "clf_Score.to_csv('NSL_DOS_Stacking_level2_(KNN-RF)_(DT-MLP)_RF_ChiSquared.csv')"
   ]
  },
  {
   "cell_type": "markdown",
   "metadata": {},
   "source": [
    "# (MLP-RF)_(DT-KNN)_RF"
   ]
  },
  {
   "cell_type": "code",
   "execution_count": 51,
   "metadata": {},
   "outputs": [],
   "source": [
    "# Create Learners per layer\n",
    "layer_one_estimators = [\n",
    "                        ('mlp_2', MLPClassifier(solver='adam', alpha=0.001, hidden_layer_sizes=20)),\n",
    "                        ('rn_1', RandomForestClassifier(random_state=0, n_jobs=-1, n_estimators=90, max_depth=19, \n",
    "                                                        min_samples_split=0.1))\n",
    "                       ]\n",
    "\n",
    "layer_two_estimators = [\n",
    "                        ('dt_2', DecisionTreeClassifier(max_depth=13, min_samples_split=10)),\n",
    "                        ('knn_1', KNeighborsClassifier(n_neighbors=5, n_jobs=-1))\n",
    "                       ]"
   ]
  },
  {
   "cell_type": "code",
   "execution_count": 52,
   "metadata": {},
   "outputs": [],
   "source": [
    "layer_two = StackingClassifier(estimators=layer_two_estimators, final_estimator=RandomForestClassifier())"
   ]
  },
  {
   "cell_type": "code",
   "execution_count": 53,
   "metadata": {},
   "outputs": [
    {
     "name": "stderr",
     "output_type": "stream",
     "text": [
      "C:\\Users\\nayer\\Anaconda3\\lib\\site-packages\\sklearn\\neural_network\\_multilayer_perceptron.py:571: ConvergenceWarning: Stochastic Optimizer: Maximum iterations (200) reached and the optimization hasn't converged yet.\n",
      "  % self.max_iter, ConvergenceWarning)\n"
     ]
    },
    {
     "name": "stdout",
     "output_type": "stream",
     "text": [
      "  Accuracy Precision    Recall\n",
      "0   0.9776  0.989518  0.953535\n"
     ]
    }
   ],
   "source": [
    "# Create Final model by \n",
    "clf = StackingClassifier(estimators=layer_one_estimators, final_estimator=layer_two)\n",
    "\n",
    "X_train, X_test, y_train, y_test = train_test_split(X, y, stratify=y, random_state=42)\n",
    "\n",
    "clf.fit(X_train, y_train)\n",
    "\n",
    "y_pred = clf.predict(X_test)\n",
    "\n",
    "acurcy = accuracy_score(y_test, y_pred)\n",
    "prec = precision_score(y_test, y_pred)\n",
    "recal = recall_score(y_test, y_pred)\n",
    "\n",
    "clf_Score = pd.DataFrame(columns=['Accuracy', 'Precision', 'Recall'])\n",
    "clf_Score.at[0, 'Accuracy'] = acurcy\n",
    "clf_Score.at[0, 'Precision'] = prec\n",
    "clf_Score.at[0, 'Recall'] = recal\n",
    "print(clf_Score)"
   ]
  },
  {
   "cell_type": "code",
   "execution_count": 54,
   "metadata": {},
   "outputs": [],
   "source": [
    "clf_Score.to_csv('NSL_DOS_Stacking_level2_(MLP-RF)_(DT-KNN)_RF_ChiSquared.csv')"
   ]
  },
  {
   "cell_type": "markdown",
   "metadata": {},
   "source": [
    "# (KNN-MLP)_(DT-RF)_RF"
   ]
  },
  {
   "cell_type": "code",
   "execution_count": 55,
   "metadata": {},
   "outputs": [],
   "source": [
    "# Create Learners per layer\n",
    "layer_one_estimators = [\n",
    "                        ('knn_1', KNeighborsClassifier(n_neighbors=5, n_jobs=-1)),\n",
    "                        ('mlp_2', MLPClassifier(solver='adam', alpha=0.001, hidden_layer_sizes=20))\n",
    "                       ]\n",
    "\n",
    "layer_two_estimators = [\n",
    "                        ('dt_2', DecisionTreeClassifier(max_depth=13, min_samples_split=10)),\n",
    "                        ('rn_1', RandomForestClassifier(random_state=0, n_jobs=-1, n_estimators=90, max_depth=19, \n",
    "                                                        min_samples_split=0.1))\n",
    "                       ]"
   ]
  },
  {
   "cell_type": "code",
   "execution_count": 56,
   "metadata": {},
   "outputs": [],
   "source": [
    "layer_two = StackingClassifier(estimators=layer_two_estimators, final_estimator=RandomForestClassifier())"
   ]
  },
  {
   "cell_type": "code",
   "execution_count": 57,
   "metadata": {},
   "outputs": [
    {
     "name": "stderr",
     "output_type": "stream",
     "text": [
      "C:\\Users\\nayer\\Anaconda3\\lib\\site-packages\\sklearn\\neural_network\\_multilayer_perceptron.py:571: ConvergenceWarning: Stochastic Optimizer: Maximum iterations (200) reached and the optimization hasn't converged yet.\n",
      "  % self.max_iter, ConvergenceWarning)\n"
     ]
    },
    {
     "name": "stdout",
     "output_type": "stream",
     "text": [
      "  Accuracy Precision    Recall\n",
      "0   0.9906  0.987885  0.988384\n"
     ]
    }
   ],
   "source": [
    "# Create Final model by \n",
    "clf = StackingClassifier(estimators=layer_one_estimators, final_estimator=layer_two)\n",
    "\n",
    "X_train, X_test, y_train, y_test = train_test_split(X, y, stratify=y, random_state=42)\n",
    "\n",
    "clf.fit(X_train, y_train)\n",
    "\n",
    "y_pred = clf.predict(X_test)\n",
    "\n",
    "acurcy = accuracy_score(y_test, y_pred)\n",
    "prec = precision_score(y_test, y_pred)\n",
    "recal = recall_score(y_test, y_pred)\n",
    "\n",
    "clf_Score = pd.DataFrame(columns=['Accuracy', 'Precision', 'Recall'])\n",
    "clf_Score.at[0, 'Accuracy'] = acurcy\n",
    "clf_Score.at[0, 'Precision'] = prec\n",
    "clf_Score.at[0, 'Recall'] = recal\n",
    "print(clf_Score)"
   ]
  },
  {
   "cell_type": "code",
   "execution_count": 58,
   "metadata": {},
   "outputs": [],
   "source": [
    "clf_Score.to_csv('NSL_DOS_Stacking_level2_(KNN-MLP)_(DT-RF)_RF_ChiSquared.csv')"
   ]
  },
  {
   "cell_type": "markdown",
   "metadata": {},
   "source": [
    "# (KNN-RF)_(DT-MLP)_ADA"
   ]
  },
  {
   "cell_type": "code",
   "execution_count": 59,
   "metadata": {},
   "outputs": [],
   "source": [
    "# Create Learners per layer\n",
    "layer_one_estimators = [\n",
    "                        ('knn_1', KNeighborsClassifier(n_neighbors=5, n_jobs=-1)),\n",
    "                        ('rn_1', RandomForestClassifier(random_state=0, n_jobs=-1, n_estimators=90, max_depth=19, \n",
    "                                                        min_samples_split=0.1))\n",
    "                       ]\n",
    "\n",
    "layer_two_estimators = [\n",
    "                        ('dt_2', DecisionTreeClassifier(max_depth=13, min_samples_split=10)),\n",
    "                        ('mlp_2', MLPClassifier(solver='adam', alpha=0.001, hidden_layer_sizes=20)),\n",
    "                       ]"
   ]
  },
  {
   "cell_type": "code",
   "execution_count": 60,
   "metadata": {},
   "outputs": [],
   "source": [
    "layer_two = StackingClassifier(estimators=layer_two_estimators, final_estimator=AdaBoostClassifier())"
   ]
  },
  {
   "cell_type": "code",
   "execution_count": 61,
   "metadata": {},
   "outputs": [
    {
     "name": "stdout",
     "output_type": "stream",
     "text": [
      "  Accuracy Precision    Recall\n",
      "0   0.9942  0.994926  0.990404\n"
     ]
    }
   ],
   "source": [
    "# Create Final model by \n",
    "clf = StackingClassifier(estimators=layer_one_estimators, final_estimator=layer_two)\n",
    "\n",
    "X_train, X_test, y_train, y_test = train_test_split(X, y, stratify=y, random_state=42)\n",
    "\n",
    "clf.fit(X_train, y_train)\n",
    "\n",
    "y_pred = clf.predict(X_test)\n",
    "\n",
    "acurcy = accuracy_score(y_test, y_pred)\n",
    "prec = precision_score(y_test, y_pred)\n",
    "recal = recall_score(y_test, y_pred)\n",
    "\n",
    "clf_Score = pd.DataFrame(columns=['Accuracy', 'Precision', 'Recall'])\n",
    "clf_Score.at[0, 'Accuracy'] = acurcy\n",
    "clf_Score.at[0, 'Precision'] = prec\n",
    "clf_Score.at[0, 'Recall'] = recal\n",
    "print(clf_Score)"
   ]
  },
  {
   "cell_type": "code",
   "execution_count": 62,
   "metadata": {},
   "outputs": [],
   "source": [
    "clf_Score.to_csv('NSL_DOS_Stacking_level2_(KNN-RF)_(DT-MLP)_ADA_ChiSquared.csv')"
   ]
  },
  {
   "cell_type": "markdown",
   "metadata": {},
   "source": [
    "# (MLP-RF)_(DT-KNN)_ADA"
   ]
  },
  {
   "cell_type": "code",
   "execution_count": 63,
   "metadata": {},
   "outputs": [],
   "source": [
    "# Create Learners per layer\n",
    "layer_one_estimators = [\n",
    "                        ('mlp_2', MLPClassifier(solver='adam', alpha=0.001, hidden_layer_sizes=20)),\n",
    "                        ('rn_1', RandomForestClassifier(random_state=0, n_jobs=-1, n_estimators=90, max_depth=19, \n",
    "                                                        min_samples_split=0.1))\n",
    "                       ]\n",
    "\n",
    "layer_two_estimators = [\n",
    "                        ('dt_2', DecisionTreeClassifier(max_depth=13, min_samples_split=10)),\n",
    "                        ('knn_1', KNeighborsClassifier(n_neighbors=5, n_jobs=-1))\n",
    "                       ]"
   ]
  },
  {
   "cell_type": "code",
   "execution_count": 64,
   "metadata": {},
   "outputs": [],
   "source": [
    "layer_two = StackingClassifier(estimators=layer_two_estimators, final_estimator=AdaBoostClassifier())"
   ]
  },
  {
   "cell_type": "code",
   "execution_count": 65,
   "metadata": {
    "scrolled": true
   },
   "outputs": [
    {
     "name": "stderr",
     "output_type": "stream",
     "text": [
      "C:\\Users\\nayer\\Anaconda3\\lib\\site-packages\\sklearn\\neural_network\\_multilayer_perceptron.py:571: ConvergenceWarning: Stochastic Optimizer: Maximum iterations (200) reached and the optimization hasn't converged yet.\n",
      "  % self.max_iter, ConvergenceWarning)\n"
     ]
    },
    {
     "name": "stdout",
     "output_type": "stream",
     "text": [
      "  Accuracy Precision    Recall\n",
      "0    0.982  0.991164  0.963131\n"
     ]
    }
   ],
   "source": [
    "# Create Final model by \n",
    "clf = StackingClassifier(estimators=layer_one_estimators, final_estimator=layer_two)\n",
    "\n",
    "X_train, X_test, y_train, y_test = train_test_split(X, y, stratify=y, random_state=42)\n",
    "\n",
    "clf.fit(X_train, y_train)\n",
    "\n",
    "y_pred = clf.predict(X_test)\n",
    "\n",
    "acurcy = accuracy_score(y_test, y_pred)\n",
    "prec = precision_score(y_test, y_pred)\n",
    "recal = recall_score(y_test, y_pred)\n",
    "\n",
    "clf_Score = pd.DataFrame(columns=['Accuracy', 'Precision', 'Recall'])\n",
    "clf_Score.at[0, 'Accuracy'] = acurcy\n",
    "clf_Score.at[0, 'Precision'] = prec\n",
    "clf_Score.at[0, 'Recall'] = recal\n",
    "print(clf_Score)"
   ]
  },
  {
   "cell_type": "code",
   "execution_count": 66,
   "metadata": {},
   "outputs": [],
   "source": [
    "clf_Score.to_csv('NSL_DOS_Stacking_level2_(MLP-RF)_(DT-KNN)_ADA_ChiSquared.csv')"
   ]
  },
  {
   "cell_type": "code",
   "execution_count": null,
   "metadata": {},
   "outputs": [],
   "source": []
  },
  {
   "cell_type": "code",
   "execution_count": null,
   "metadata": {},
   "outputs": [],
   "source": []
  },
  {
   "cell_type": "code",
   "execution_count": null,
   "metadata": {},
   "outputs": [],
   "source": []
  },
  {
   "cell_type": "code",
   "execution_count": null,
   "metadata": {},
   "outputs": [],
   "source": []
  },
  {
   "cell_type": "code",
   "execution_count": null,
   "metadata": {},
   "outputs": [],
   "source": []
  },
  {
   "cell_type": "code",
   "execution_count": null,
   "metadata": {},
   "outputs": [],
   "source": []
  }
 ],
 "metadata": {
  "kernelspec": {
   "display_name": "Python 3",
   "language": "python",
   "name": "python3"
  },
  "language_info": {
   "codemirror_mode": {
    "name": "ipython",
    "version": 3
   },
   "file_extension": ".py",
   "mimetype": "text/x-python",
   "name": "python",
   "nbconvert_exporter": "python",
   "pygments_lexer": "ipython3",
   "version": "3.7.4"
  }
 },
 "nbformat": 4,
 "nbformat_minor": 4
}
