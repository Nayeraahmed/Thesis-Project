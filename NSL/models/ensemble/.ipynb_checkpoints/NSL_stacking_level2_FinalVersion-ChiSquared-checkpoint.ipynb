{
 "cells": [
  {
   "cell_type": "code",
   "execution_count": 1,
   "metadata": {},
   "outputs": [],
   "source": [
    "import pandas as pd\n",
    "import numpy as np"
   ]
  },
  {
   "cell_type": "code",
   "execution_count": 2,
   "metadata": {},
   "outputs": [],
   "source": [
    "from sklearn.model_selection import cross_val_score\n",
    "from sklearn.model_selection import cross_validate\n",
    "from sklearn.feature_selection import SelectKBest\n",
    "from sklearn.feature_selection import f_classif\n",
    "from sklearn.metrics import fbeta_score, make_scorer\n",
    "from sklearn.metrics import make_scorer, accuracy_score, precision_score, recall_score, f1_score"
   ]
  },
  {
   "cell_type": "markdown",
   "metadata": {},
   "source": [
    "# Reading Data"
   ]
  },
  {
   "cell_type": "code",
   "execution_count": 3,
   "metadata": {},
   "outputs": [],
   "source": [
    "df = pd.read_csv('../../Dataset/NSL_new.csv')"
   ]
  },
  {
   "cell_type": "code",
   "execution_count": 4,
   "metadata": {},
   "outputs": [
    {
     "name": "stdout",
     "output_type": "stream",
     "text": [
      "(113270, 123)\n"
     ]
    }
   ],
   "source": [
    "df = df.drop( df[ (df.label != \"normal\") & (df.label != \"neptune\") & (df.label != \"back\") & (df.label != \"land\") & (df.label != \"pod\") & (df.label != \"smurf\") & (df.label != \"teardrop\") & (df.label != \"teardrop\") & (df.label != \"mailbomb\") & (df.label != \"apache2\") & (df.label != \"processtable\") & (df.label != \"udpstorm\") & (df.label != \"worm\")].index )\n",
    "print(df.shape)"
   ]
  },
  {
   "cell_type": "code",
   "execution_count": 5,
   "metadata": {},
   "outputs": [],
   "source": [
    "df = df.sample(n=20000)"
   ]
  },
  {
   "cell_type": "code",
   "execution_count": 6,
   "metadata": {},
   "outputs": [
    {
     "data": {
      "text/html": [
       "<div>\n",
       "<style scoped>\n",
       "    .dataframe tbody tr th:only-of-type {\n",
       "        vertical-align: middle;\n",
       "    }\n",
       "\n",
       "    .dataframe tbody tr th {\n",
       "        vertical-align: top;\n",
       "    }\n",
       "\n",
       "    .dataframe thead th {\n",
       "        text-align: right;\n",
       "    }\n",
       "</style>\n",
       "<table border=\"1\" class=\"dataframe\">\n",
       "  <thead>\n",
       "    <tr style=\"text-align: right;\">\n",
       "      <th></th>\n",
       "      <th>duration</th>\n",
       "      <th>src_bytes</th>\n",
       "      <th>dst_bytes</th>\n",
       "      <th>land</th>\n",
       "      <th>wrong_fragment</th>\n",
       "      <th>urgent</th>\n",
       "      <th>hot</th>\n",
       "      <th>num_failed_logins</th>\n",
       "      <th>logged_in</th>\n",
       "      <th>num_compromised</th>\n",
       "      <th>...</th>\n",
       "      <th>flag_RSTO</th>\n",
       "      <th>flag_RSTOS0</th>\n",
       "      <th>flag_RSTR</th>\n",
       "      <th>flag_S0</th>\n",
       "      <th>flag_S1</th>\n",
       "      <th>flag_S2</th>\n",
       "      <th>flag_S3</th>\n",
       "      <th>flag_SF</th>\n",
       "      <th>flag_SH</th>\n",
       "      <th>label</th>\n",
       "    </tr>\n",
       "  </thead>\n",
       "  <tbody>\n",
       "    <tr>\n",
       "      <td>106339</td>\n",
       "      <td>0</td>\n",
       "      <td>245</td>\n",
       "      <td>263</td>\n",
       "      <td>0</td>\n",
       "      <td>0</td>\n",
       "      <td>0</td>\n",
       "      <td>0</td>\n",
       "      <td>0</td>\n",
       "      <td>1</td>\n",
       "      <td>0</td>\n",
       "      <td>...</td>\n",
       "      <td>0</td>\n",
       "      <td>0</td>\n",
       "      <td>0</td>\n",
       "      <td>0</td>\n",
       "      <td>0</td>\n",
       "      <td>0</td>\n",
       "      <td>0</td>\n",
       "      <td>1</td>\n",
       "      <td>0</td>\n",
       "      <td>normal</td>\n",
       "    </tr>\n",
       "    <tr>\n",
       "      <td>32202</td>\n",
       "      <td>0</td>\n",
       "      <td>0</td>\n",
       "      <td>0</td>\n",
       "      <td>0</td>\n",
       "      <td>0</td>\n",
       "      <td>0</td>\n",
       "      <td>0</td>\n",
       "      <td>0</td>\n",
       "      <td>0</td>\n",
       "      <td>0</td>\n",
       "      <td>...</td>\n",
       "      <td>0</td>\n",
       "      <td>0</td>\n",
       "      <td>0</td>\n",
       "      <td>1</td>\n",
       "      <td>0</td>\n",
       "      <td>0</td>\n",
       "      <td>0</td>\n",
       "      <td>0</td>\n",
       "      <td>0</td>\n",
       "      <td>neptune</td>\n",
       "    </tr>\n",
       "    <tr>\n",
       "      <td>47557</td>\n",
       "      <td>0</td>\n",
       "      <td>0</td>\n",
       "      <td>0</td>\n",
       "      <td>0</td>\n",
       "      <td>0</td>\n",
       "      <td>0</td>\n",
       "      <td>0</td>\n",
       "      <td>0</td>\n",
       "      <td>0</td>\n",
       "      <td>0</td>\n",
       "      <td>...</td>\n",
       "      <td>0</td>\n",
       "      <td>0</td>\n",
       "      <td>0</td>\n",
       "      <td>1</td>\n",
       "      <td>0</td>\n",
       "      <td>0</td>\n",
       "      <td>0</td>\n",
       "      <td>0</td>\n",
       "      <td>0</td>\n",
       "      <td>neptune</td>\n",
       "    </tr>\n",
       "    <tr>\n",
       "      <td>120131</td>\n",
       "      <td>0</td>\n",
       "      <td>0</td>\n",
       "      <td>0</td>\n",
       "      <td>0</td>\n",
       "      <td>0</td>\n",
       "      <td>0</td>\n",
       "      <td>0</td>\n",
       "      <td>0</td>\n",
       "      <td>0</td>\n",
       "      <td>0</td>\n",
       "      <td>...</td>\n",
       "      <td>0</td>\n",
       "      <td>0</td>\n",
       "      <td>0</td>\n",
       "      <td>0</td>\n",
       "      <td>0</td>\n",
       "      <td>0</td>\n",
       "      <td>0</td>\n",
       "      <td>0</td>\n",
       "      <td>0</td>\n",
       "      <td>neptune</td>\n",
       "    </tr>\n",
       "    <tr>\n",
       "      <td>94799</td>\n",
       "      <td>0</td>\n",
       "      <td>22</td>\n",
       "      <td>75</td>\n",
       "      <td>0</td>\n",
       "      <td>0</td>\n",
       "      <td>0</td>\n",
       "      <td>0</td>\n",
       "      <td>0</td>\n",
       "      <td>0</td>\n",
       "      <td>0</td>\n",
       "      <td>...</td>\n",
       "      <td>0</td>\n",
       "      <td>0</td>\n",
       "      <td>0</td>\n",
       "      <td>0</td>\n",
       "      <td>0</td>\n",
       "      <td>0</td>\n",
       "      <td>0</td>\n",
       "      <td>1</td>\n",
       "      <td>0</td>\n",
       "      <td>normal</td>\n",
       "    </tr>\n",
       "  </tbody>\n",
       "</table>\n",
       "<p>5 rows × 123 columns</p>\n",
       "</div>"
      ],
      "text/plain": [
       "        duration  src_bytes  dst_bytes  land  wrong_fragment  urgent  hot  \\\n",
       "106339         0        245        263     0               0       0    0   \n",
       "32202          0          0          0     0               0       0    0   \n",
       "47557          0          0          0     0               0       0    0   \n",
       "120131         0          0          0     0               0       0    0   \n",
       "94799          0         22         75     0               0       0    0   \n",
       "\n",
       "        num_failed_logins  logged_in  num_compromised  ...  flag_RSTO  \\\n",
       "106339                  0          1                0  ...          0   \n",
       "32202                   0          0                0  ...          0   \n",
       "47557                   0          0                0  ...          0   \n",
       "120131                  0          0                0  ...          0   \n",
       "94799                   0          0                0  ...          0   \n",
       "\n",
       "        flag_RSTOS0  flag_RSTR  flag_S0  flag_S1  flag_S2  flag_S3  flag_SF  \\\n",
       "106339            0          0        0        0        0        0        1   \n",
       "32202             0          0        1        0        0        0        0   \n",
       "47557             0          0        1        0        0        0        0   \n",
       "120131            0          0        0        0        0        0        0   \n",
       "94799             0          0        0        0        0        0        1   \n",
       "\n",
       "        flag_SH    label  \n",
       "106339        0   normal  \n",
       "32202         0  neptune  \n",
       "47557         0  neptune  \n",
       "120131        0  neptune  \n",
       "94799         0   normal  \n",
       "\n",
       "[5 rows x 123 columns]"
      ]
     },
     "execution_count": 6,
     "metadata": {},
     "output_type": "execute_result"
    }
   ],
   "source": [
    "df.head()"
   ]
  },
  {
   "cell_type": "code",
   "execution_count": 7,
   "metadata": {},
   "outputs": [],
   "source": [
    "X = df.drop(['label'], axis=1)\n",
    "y = df['label']"
   ]
  },
  {
   "cell_type": "code",
   "execution_count": 8,
   "metadata": {},
   "outputs": [],
   "source": [
    "scoring_metrics = {'accuracy' : make_scorer(accuracy_score), \n",
    "           'precision' : make_scorer(precision_score, average=\"micro\"),\n",
    "           'recall' : make_scorer(recall_score, average=\"micro\"), \n",
    "           'f1_score' : make_scorer(f1_score, average=\"micro\")}"
   ]
  },
  {
   "cell_type": "code",
   "execution_count": 9,
   "metadata": {},
   "outputs": [],
   "source": [
    "y = y.replace( to_replace =  'normal' , value = 0 )\n",
    "\n",
    "y = y.replace( to_replace =  'neptune' , value = 1 )\n",
    "y = y.replace( to_replace =  'back' , value = 1 )\n",
    "y = y.replace( to_replace =  'land' , value = 1 )\n",
    "y = y.replace( to_replace =  'pod' , value = 1 )\n",
    "y = y.replace( to_replace =  'smurf' , value = 1 )\n",
    "y = y.replace( to_replace =  'teardrop' , value = 1 )\n",
    "y = y.replace( to_replace =  'mailbomb' , value = 1 )\n",
    "y = y.replace( to_replace =  'apache2' , value = 1 )\n",
    "y = y.replace( to_replace =  'processtable' , value = 1 )\n",
    "y = y.replace( to_replace =  'udpstorm' , value = 1 )\n",
    "y = y.replace( to_replace =  'worm' , value = 1 )"
   ]
  },
  {
   "cell_type": "code",
   "execution_count": 10,
   "metadata": {},
   "outputs": [
    {
     "data": {
      "text/plain": [
       "106339    0\n",
       "32202     1\n",
       "47557     1\n",
       "120131    1\n",
       "94799     0\n",
       "         ..\n",
       "16366     0\n",
       "15148     0\n",
       "93359     0\n",
       "3112      0\n",
       "18317     0\n",
       "Name: label, Length: 20000, dtype: int64"
      ]
     },
     "execution_count": 10,
     "metadata": {},
     "output_type": "execute_result"
    }
   ],
   "source": [
    "y"
   ]
  },
  {
   "cell_type": "code",
   "execution_count": 11,
   "metadata": {},
   "outputs": [],
   "source": [
    "from sklearn.datasets import load_iris\n",
    "from sklearn.ensemble import RandomForestClassifier, StackingClassifier\n",
    "from sklearn.linear_model import LogisticRegression\n",
    "from sklearn.model_selection import train_test_split\n",
    "from sklearn.neighbors import KNeighborsClassifier\n",
    "from sklearn.tree import DecisionTreeClassifier\n",
    "from sklearn.ensemble import AdaBoostClassifier\n",
    "from sklearn.neural_network import MLPClassifier"
   ]
  },
  {
   "cell_type": "markdown",
   "metadata": {},
   "source": [
    "# Chi Squared"
   ]
  },
  {
   "cell_type": "code",
   "execution_count": 12,
   "metadata": {},
   "outputs": [],
   "source": [
    "import matplotlib.pyplot as plt\n",
    "from sklearn.datasets import load_iris\n",
    "from sklearn.model_selection import train_test_split\n",
    "from sklearn.preprocessing import MinMaxScaler\n",
    "from sklearn.svm import LinearSVC\n",
    "from sklearn.pipeline import make_pipeline\n",
    "from sklearn.feature_selection import SelectKBest, chi2"
   ]
  },
  {
   "cell_type": "code",
   "execution_count": 13,
   "metadata": {},
   "outputs": [
    {
     "name": "stdout",
     "output_type": "stream",
     "text": [
      "before transform:         duration  src_bytes  dst_bytes  land  wrong_fragment  urgent  hot  \\\n",
      "106339         0        245        263     0               0       0    0   \n",
      "32202          0          0          0     0               0       0    0   \n",
      "47557          0          0          0     0               0       0    0   \n",
      "120131         0          0          0     0               0       0    0   \n",
      "94799          0         22         75     0               0       0    0   \n",
      "...          ...        ...        ...   ...             ...     ...  ...   \n",
      "16366          0          0          0     0               0       0    0   \n",
      "15148          0         46        157     0               0       0    0   \n",
      "93359          0        231      12212     0               0       0    0   \n",
      "3112           0        200       3119     0               0       0    0   \n",
      "18317          0        215      52248     0               0       0    0   \n",
      "\n",
      "        num_failed_logins  logged_in  num_compromised  ...  flag_REJ  \\\n",
      "106339                  0          1                0  ...         0   \n",
      "32202                   0          0                0  ...         0   \n",
      "47557                   0          0                0  ...         0   \n",
      "120131                  0          0                0  ...         1   \n",
      "94799                   0          0                0  ...         0   \n",
      "...                   ...        ...              ...  ...       ...   \n",
      "16366                   0          0                0  ...         1   \n",
      "15148                   0          0                0  ...         0   \n",
      "93359                   0          1                0  ...         0   \n",
      "3112                    0          1                0  ...         0   \n",
      "18317                   0          1                0  ...         0   \n",
      "\n",
      "        flag_RSTO  flag_RSTOS0  flag_RSTR  flag_S0  flag_S1  flag_S2  flag_S3  \\\n",
      "106339          0            0          0        0        0        0        0   \n",
      "32202           0            0          0        1        0        0        0   \n",
      "47557           0            0          0        1        0        0        0   \n",
      "120131          0            0          0        0        0        0        0   \n",
      "94799           0            0          0        0        0        0        0   \n",
      "...           ...          ...        ...      ...      ...      ...      ...   \n",
      "16366           0            0          0        0        0        0        0   \n",
      "15148           0            0          0        0        0        0        0   \n",
      "93359           0            0          0        0        0        0        0   \n",
      "3112            0            0          0        0        0        0        0   \n",
      "18317           0            0          0        0        0        0        0   \n",
      "\n",
      "        flag_SF  flag_SH  \n",
      "106339        1        0  \n",
      "32202         0        0  \n",
      "47557         0        0  \n",
      "120131        0        0  \n",
      "94799         1        0  \n",
      "...         ...      ...  \n",
      "16366         0        0  \n",
      "15148         1        0  \n",
      "93359         1        0  \n",
      "3112          1        0  \n",
      "18317         1        0  \n",
      "\n",
      "[20000 rows x 122 columns]\n",
      "scores_: [1.37626141e+06 4.28457623e+07 2.86157527e+07 5.87776269e+00\n",
      " 7.09739844e+02 4.08318629e+00 1.08928358e+03 1.49716831e+01\n",
      " 5.27332639e+03 3.47267750e+03 1.63327451e+01 2.04159314e+01\n",
      " 4.41732703e+03 2.00076128e+02 3.40265524e+00 6.46504495e+01\n",
      "            nan            nan 1.05482312e+02 1.33831155e+06\n",
      " 2.28553065e+03 8.34584748e+03 8.38821918e+03 6.51179789e+02\n",
      " 6.47676290e+02 4.48682880e+03 1.72020684e+02 9.29189831e+02\n",
      " 2.46051028e+05 1.05504791e+06 4.31717183e+03 6.92917733e+01\n",
      " 2.91854514e+02 1.86938537e+02 8.31101393e+03 8.61633113e+03\n",
      " 6.63013118e+02 6.60183604e+02 2.23449412e+02 9.12464591e+01\n",
      " 1.14345073e+03 1.49716831e+01 2.04159314e+00 2.02782813e+02\n",
      "            nan 5.94826584e+01 1.92496728e+02 1.76332881e+02\n",
      " 1.46944067e+02 1.24902457e+02 1.16085813e+02 1.30780220e+02\n",
      " 1.02881583e+02 1.13172313e+03 1.23433016e+02 6.80531048e+01\n",
      " 6.14237198e+02 1.08738610e+02 1.30780220e+02 9.32604361e+01\n",
      " 1.13776148e+01 1.94672357e+02 1.26371898e+02            nan\n",
      " 1.05799728e+02 3.59712272e+03            nan 1.55760711e+02\n",
      "            nan 1.66593450e+02 1.99843931e+02 1.23433016e+02\n",
      " 8.22886776e+01 1.10208050e+02 1.21963576e+02 1.01391406e+02\n",
      " 1.04330288e+02 1.07269169e+02 1.17555254e+02 8.96358810e+01\n",
      " 1.01391406e+02 6.75942709e+01 1.83680084e+02 5.58387455e+01\n",
      " 1.56522141e+01 2.80286593e+02            nan 2.05721694e+01\n",
      " 3.58699523e+00 8.81664403e+00 3.69569648e+03 2.72212419e+00\n",
      " 1.91027287e+01 1.32249660e+01 1.32249660e+01 7.41157367e+02\n",
      " 4.99609828e+01 7.59558096e+01 8.96358810e+01 1.29310779e+02\n",
      " 1.07269169e+02 4.98913270e+01            nan 1.46944067e+00\n",
      " 1.07804588e+02 6.80531048e-01 6.46504495e+01 1.92496728e+02\n",
      " 1.89557847e+02 1.61638474e+02 1.67516237e+02 6.80531048e-01\n",
      " 4.67738096e+02 2.05545943e+02            nan 9.47440389e-01\n",
      " 8.67648346e+03 4.69566423e+01 1.42911520e+01 9.52743467e+00\n",
      " 5.70098083e+03            nan]\n",
      "pvalues_: [0.00000000e+000 0.00000000e+000 0.00000000e+000 1.53332935e-002\n",
      " 2.27893371e-156 4.33119115e-002 7.04769017e-239 1.09136673e-004\n",
      " 0.00000000e+000 0.00000000e+000 5.31377714e-005 6.23089210e-006\n",
      " 0.00000000e+000 2.01010650e-045 6.50915613e-002 8.94358899e-016\n",
      "             nan             nan 9.57487709e-025 0.00000000e+000\n",
      " 0.00000000e+000 0.00000000e+000 0.00000000e+000 1.23745877e-143\n",
      " 7.15275984e-143 0.00000000e+000 2.67820486e-039 4.43010093e-204\n",
      " 0.00000000e+000 0.00000000e+000 0.00000000e+000 8.49230765e-017\n",
      " 1.96100552e-065 1.48118779e-042 0.00000000e+000 0.00000000e+000\n",
      " 3.30413075e-146 1.36271251e-145 1.59957592e-050 1.26846795e-021\n",
      " 1.18927263e-250 1.09136673e-004 1.53049280e-001 5.15917562e-046\n",
      "             nan 1.23376542e-014 9.06499300e-044 3.06299264e-040\n",
      " 8.07157779e-034 5.34589653e-029 4.55168980e-027 2.76595777e-030\n",
      " 3.55791781e-024 4.20853862e-248 1.12107724e-028 1.59151036e-016\n",
      " 1.34015464e-135 1.85162515e-025 2.76595777e-030 4.58465695e-022\n",
      " 7.43345100e-004 3.03752464e-044 2.54938079e-029             nan\n",
      " 8.15767802e-025 0.00000000e+000             nan 9.54899344e-036\n",
      "             nan 4.10425280e-038 2.25886167e-045 1.12107724e-028\n",
      " 1.17593821e-019 8.82275630e-026 2.35115013e-028 7.54905876e-024\n",
      " 1.71251104e-024 3.88633426e-025 2.16970706e-027 2.86284616e-021\n",
      " 7.54905876e-024 2.00850343e-016 7.61995697e-042 7.86657889e-014\n",
      " 7.61234070e-005 6.50343395e-063             nan 5.74248920e-006\n",
      " 5.82334473e-002 2.98495146e-003 0.00000000e+000 9.89662312e-002\n",
      " 1.23867660e-005 2.76244728e-004 2.76244728e-004 3.35833129e-163\n",
      " 1.56833763e-012 2.90084377e-018 2.86284616e-021 5.79892962e-030\n",
      " 3.88633426e-025 1.62501366e-012             nan 2.25433964e-001\n",
      " 2.96628902e-025 4.09403920e-001 8.94358899e-016 9.06499300e-044\n",
      " 3.97049034e-043 4.96218064e-037 2.58028732e-038 4.09403920e-001\n",
      " 9.95355150e-104 1.28725184e-046             nan 3.30371681e-001\n",
      " 0.00000000e+000 7.25746062e-012 1.56599240e-004 2.02422869e-003\n",
      " 0.00000000e+000             nan]\n",
      "selected index: [ 0  1  2 19]\n",
      "after transform: [[0.0000e+00 2.4500e+02 2.6300e+02 1.2000e+01]\n",
      " [0.0000e+00 0.0000e+00 0.0000e+00 1.1300e+02]\n",
      " [0.0000e+00 0.0000e+00 0.0000e+00 2.6100e+02]\n",
      " ...\n",
      " [0.0000e+00 2.3100e+02 1.2212e+04 3.0000e+00]\n",
      " [0.0000e+00 2.0000e+02 3.1190e+03 1.0000e+00]\n",
      " [0.0000e+00 2.1500e+02 5.2248e+04 1.7000e+01]]\n"
     ]
    }
   ],
   "source": [
    "print(\"before transform:\",X)\n",
    "selector=SelectKBest(score_func=chi2,k=4)\n",
    "fit = selector.fit(X,y)\n",
    "features = fit.transform(X)\n",
    "print(\"scores_:\",fit.scores_)\n",
    "print(\"pvalues_:\",fit.pvalues_)\n",
    "print(\"selected index:\",fit.get_support(True))\n",
    "print(\"after transform:\",fit.transform(X)) \n",
    "X = fit.transform(X)"
   ]
  },
  {
   "cell_type": "markdown",
   "metadata": {},
   "source": [
    "# (KNN-RF-ADA)_(DT-MLP)_MLP"
   ]
  },
  {
   "cell_type": "code",
   "execution_count": 14,
   "metadata": {},
   "outputs": [],
   "source": [
    "# Create Learners per layer\n",
    "layer_one_estimators = [\n",
    "                        ('knn_1', KNeighborsClassifier(n_neighbors=5, n_jobs=-1)),\n",
    "                        ('rn_1', RandomForestClassifier(random_state=0, n_jobs=-1, n_estimators=90, max_depth=19, \n",
    "                                                        min_samples_split=0.1)),\n",
    "                        ('ada_1', AdaBoostClassifier(random_state=0, learning_rate=0.1, n_estimators=1000))\n",
    "                       ]\n",
    "\n",
    "layer_two_estimators = [\n",
    "                        ('dt_2', DecisionTreeClassifier(max_depth=13, min_samples_split=10)),\n",
    "                        ('mlp_2', MLPClassifier(solver='adam', alpha=0.001, hidden_layer_sizes=20)),\n",
    "                       ]"
   ]
  },
  {
   "cell_type": "code",
   "execution_count": 15,
   "metadata": {},
   "outputs": [],
   "source": [
    "layer_two = StackingClassifier(estimators=layer_two_estimators, final_estimator=MLPClassifier())"
   ]
  },
  {
   "cell_type": "code",
   "execution_count": 16,
   "metadata": {},
   "outputs": [],
   "source": [
    "# Create Final model by \n",
    "clf = StackingClassifier(estimators=layer_one_estimators, final_estimator=layer_two)\n",
    "\n",
    "X_train, X_test, y_train, y_test = train_test_split(X, y, stratify=y, random_state=42)\n",
    "\n",
    "clf.fit(X_train, y_train)\n",
    "\n",
    "y_pred = clf.predict(X_test)\n",
    "\n",
    "acurcy = accuracy_score(y_test, y_pred)\n",
    "prec = precision_score(y_test, y_pred)\n",
    "recal = recall_score(y_test, y_pred)\n",
    "\n",
    "clf_Score = pd.DataFrame(columns=['Accuracy', 'Precision', 'Recall'])\n",
    "clf_Score.at[0, 'Accuracy'] = acurcy\n",
    "clf_Score.at[0, 'Precision'] = prec\n",
    "clf_Score.at[0, 'Recall'] = recal\n",
    "print(clf_Score)"
   ]
  },
  {
   "cell_type": "code",
   "execution_count": 17,
   "metadata": {},
   "outputs": [],
   "source": [
    "clf_Score.to_csv('NSL_DOS_Stacking_level2_(KNN-RF-ADA)_(DT-MLP)_MLP_ChiSquared.csv')"
   ]
  },
  {
   "cell_type": "markdown",
   "metadata": {},
   "source": [
    "# (KNN-RF)_(DT-MLP)_MLP"
   ]
  },
  {
   "cell_type": "code",
   "execution_count": 18,
   "metadata": {},
   "outputs": [],
   "source": [
    "# Create Learners per layer\n",
    "layer_one_estimators = [\n",
    "                        ('knn_1', KNeighborsClassifier(n_neighbors=5, n_jobs=-1)),\n",
    "                        ('rn_1', RandomForestClassifier(random_state=0, n_jobs=-1, n_estimators=90, max_depth=19, \n",
    "                                                        min_samples_split=0.1))\n",
    "                       ]\n",
    "\n",
    "layer_two_estimators = [\n",
    "                        ('dt_2', DecisionTreeClassifier(max_depth=13, min_samples_split=10)),\n",
    "                        ('mlp_2', MLPClassifier(solver='adam', alpha=0.001, hidden_layer_sizes=20)),\n",
    "                       ]\n",
    "layer_two = StackingClassifier(estimators=layer_two_estimators, final_estimator=MLPClassifier())"
   ]
  },
  {
   "cell_type": "code",
   "execution_count": 19,
   "metadata": {},
   "outputs": [],
   "source": [
    "# Create Final model by \n",
    "clf = StackingClassifier(estimators=layer_one_estimators, final_estimator=layer_two)\n",
    "\n",
    "X_train, X_test, y_train, y_test = train_test_split(X, y, stratify=y, random_state=42)\n",
    "\n",
    "clf.fit(X_train, y_train)\n",
    "\n",
    "y_pred = clf.predict(X_test)\n",
    "\n",
    "acurcy = accuracy_score(y_test, y_pred)\n",
    "prec = precision_score(y_test, y_pred)\n",
    "recal = recall_score(y_test, y_pred)\n",
    "\n",
    "clf_Score = pd.DataFrame(columns=['Accuracy', 'Precision', 'Recall'])\n",
    "clf_Score.at[0, 'Accuracy'] = acurcy\n",
    "clf_Score.at[0, 'Precision'] = prec\n",
    "clf_Score.at[0, 'Recall'] = recal\n",
    "print(clf_Score)"
   ]
  },
  {
   "cell_type": "code",
   "execution_count": 20,
   "metadata": {},
   "outputs": [],
   "source": [
    "clf_Score.to_csv('NSL_DOS_Stacking_level2_(KNN-RF)_(DT-MLP)_MLP_ChiSquared.csv')"
   ]
  },
  {
   "cell_type": "markdown",
   "metadata": {},
   "source": [
    "# (RF-MLP)_(DT-KNN)_MLP"
   ]
  },
  {
   "cell_type": "code",
   "execution_count": 21,
   "metadata": {},
   "outputs": [],
   "source": [
    "# Create Learners per layer\n",
    "layer_one_estimators = [\n",
    "                        ('rn_1', RandomForestClassifier(random_state=0, n_jobs=-1, n_estimators=90, max_depth=19, min_samples_split=0.1)),\n",
    "                        ('mlp_2', MLPClassifier(solver='adam', alpha=0.001, hidden_layer_sizes=20))\n",
    "                       ]\n",
    "\n",
    "layer_two_estimators = [\n",
    "                        ('dt_2', DecisionTreeClassifier(max_depth=13, min_samples_split=10)),\n",
    "                        ('knn_1', KNeighborsClassifier(n_neighbors=5, n_jobs=-1))\n",
    "                       ]\n",
    "layer_two = StackingClassifier(estimators=layer_two_estimators, final_estimator=MLPClassifier())"
   ]
  },
  {
   "cell_type": "code",
   "execution_count": 22,
   "metadata": {},
   "outputs": [],
   "source": [
    "# Create Final model by \n",
    "clf = StackingClassifier(estimators=layer_one_estimators, final_estimator=layer_two)\n",
    "\n",
    "X_train, X_test, y_train, y_test = train_test_split(X, y, stratify=y, random_state=42)\n",
    "\n",
    "clf.fit(X_train, y_train)\n",
    "\n",
    "y_pred = clf.predict(X_test)\n",
    "\n",
    "acurcy = accuracy_score(y_test, y_pred)\n",
    "prec = precision_score(y_test, y_pred)\n",
    "recal = recall_score(y_test, y_pred)\n",
    "\n",
    "clf_Score = pd.DataFrame(columns=['Accuracy', 'Precision', 'Recall'])\n",
    "clf_Score.at[0, 'Accuracy'] = acurcy\n",
    "clf_Score.at[0, 'Precision'] = prec\n",
    "clf_Score.at[0, 'Recall'] = recal\n",
    "print(clf_Score)"
   ]
  },
  {
   "cell_type": "code",
   "execution_count": 23,
   "metadata": {},
   "outputs": [],
   "source": [
    "clf_Score.to_csv('NSL_DOS_Stacking_level2_(RF-MLP)_(DT-KNN)_MLP_ChiSquared.csv')"
   ]
  },
  {
   "cell_type": "markdown",
   "metadata": {},
   "source": [
    "# (KNN-RF)_(DT-MLP)_DT"
   ]
  },
  {
   "cell_type": "code",
   "execution_count": 24,
   "metadata": {},
   "outputs": [],
   "source": [
    "# Create Learners per layer\n",
    "layer_one_estimators = [\n",
    "                        ('knn_1', KNeighborsClassifier(n_neighbors=5, n_jobs=-1)),\n",
    "                        ('rn_1', RandomForestClassifier(random_state=0, n_jobs=-1, n_estimators=90, max_depth=19, \n",
    "                                                        min_samples_split=0.1))\n",
    "                       ]\n",
    "\n",
    "layer_two_estimators = [\n",
    "                        ('dt_2', DecisionTreeClassifier(max_depth=13, min_samples_split=10)),\n",
    "                        ('mlp_2', MLPClassifier(solver='adam', alpha=0.001, hidden_layer_sizes=20)),\n",
    "                       ]"
   ]
  },
  {
   "cell_type": "code",
   "execution_count": 25,
   "metadata": {},
   "outputs": [],
   "source": [
    "layer_two = StackingClassifier(estimators=layer_two_estimators, final_estimator=DecisionTreeClassifier())"
   ]
  },
  {
   "cell_type": "code",
   "execution_count": 26,
   "metadata": {},
   "outputs": [],
   "source": [
    "# Create Final model by \n",
    "clf = StackingClassifier(estimators=layer_one_estimators, final_estimator=layer_two)\n",
    "\n",
    "X_train, X_test, y_train, y_test = train_test_split(X, y, stratify=y, random_state=42)\n",
    "\n",
    "clf.fit(X_train, y_train)\n",
    "\n",
    "y_pred = clf.predict(X_test)\n",
    "\n",
    "acurcy = accuracy_score(y_test, y_pred)\n",
    "prec = precision_score(y_test, y_pred)\n",
    "recal = recall_score(y_test, y_pred)\n",
    "\n",
    "clf_Score = pd.DataFrame(columns=['Accuracy', 'Precision', 'Recall'])\n",
    "clf_Score.at[0, 'Accuracy'] = acurcy\n",
    "clf_Score.at[0, 'Precision'] = prec\n",
    "clf_Score.at[0, 'Recall'] = recal\n",
    "print(clf_Score)"
   ]
  },
  {
   "cell_type": "code",
   "execution_count": 27,
   "metadata": {},
   "outputs": [],
   "source": [
    "clf_Score.to_csv('NSL_DOS_Stacking_level2_(KNN-RF)_(DT-MLP)_DT_ChiSquared.csv')"
   ]
  },
  {
   "cell_type": "markdown",
   "metadata": {},
   "source": [
    "# (ADA-MLP)_(DT-RF)_MLP"
   ]
  },
  {
   "cell_type": "code",
   "execution_count": 28,
   "metadata": {},
   "outputs": [],
   "source": [
    "# Create Learners per layer\n",
    "layer_one_estimators = [\n",
    "                        ('ada_1', AdaBoostClassifier(random_state=0, learning_rate=0.1, n_estimators=1000)),\n",
    "                        ('mlp_2', MLPClassifier(solver='adam', alpha=0.001, hidden_layer_sizes=20))\n",
    "                       ]\n",
    "\n",
    "layer_two_estimators = [\n",
    "                        ('dt_2', DecisionTreeClassifier(max_depth=13, min_samples_split=10)),\n",
    "                        ('rn_1', RandomForestClassifier(random_state=0, n_jobs=-1, n_estimators=90, max_depth=19, \n",
    "                                                        min_samples_split=0.1))\n",
    "                       ]\n",
    "layer_two = StackingClassifier(estimators=layer_two_estimators, final_estimator=MLPClassifier())"
   ]
  },
  {
   "cell_type": "code",
   "execution_count": 29,
   "metadata": {},
   "outputs": [],
   "source": [
    "# Create Final model by \n",
    "clf = StackingClassifier(estimators=layer_one_estimators, final_estimator=layer_two)\n",
    "\n",
    "X_train, X_test, y_train, y_test = train_test_split(X, y, stratify=y, random_state=42)\n",
    "\n",
    "clf.fit(X_train, y_train)\n",
    "\n",
    "y_pred = clf.predict(X_test)\n",
    "\n",
    "acurcy = accuracy_score(y_test, y_pred)\n",
    "prec = precision_score(y_test, y_pred)\n",
    "recal = recall_score(y_test, y_pred)\n",
    "\n",
    "clf_Score = pd.DataFrame(columns=['Accuracy', 'Precision', 'Recall'])\n",
    "clf_Score.at[0, 'Accuracy'] = acurcy\n",
    "clf_Score.at[0, 'Precision'] = prec\n",
    "clf_Score.at[0, 'Recall'] = recal\n",
    "print(clf_Score)"
   ]
  },
  {
   "cell_type": "code",
   "execution_count": 30,
   "metadata": {},
   "outputs": [],
   "source": [
    "clf_Score.to_csv('NSL_DOS_Stacking_level2_(ADA-MLP)_(DT-RF)_MLP_ChiSquared.csv')"
   ]
  },
  {
   "cell_type": "markdown",
   "metadata": {},
   "source": [
    "# (MLP-RF)_(DT-KNN)_DT"
   ]
  },
  {
   "cell_type": "code",
   "execution_count": 31,
   "metadata": {},
   "outputs": [],
   "source": [
    "# Create Learners per layer\n",
    "layer_one_estimators = [\n",
    "                        ('rn_1', RandomForestClassifier(random_state=0, n_jobs=-1, n_estimators=90, max_depth=19, \n",
    "                                                        min_samples_split=0.1)),\n",
    "                        ('mlp_2', MLPClassifier(solver='adam', alpha=0.001, hidden_layer_sizes=20))\n",
    "                       ]\n",
    "\n",
    "layer_two_estimators = [\n",
    "                        ('knn_1', KNeighborsClassifier(n_neighbors=5, n_jobs=-1)),\n",
    "                        ('dt_2', DecisionTreeClassifier(max_depth=13, min_samples_split=10))\n",
    "                       ]"
   ]
  },
  {
   "cell_type": "code",
   "execution_count": 32,
   "metadata": {},
   "outputs": [],
   "source": [
    "layer_two = StackingClassifier(estimators=layer_two_estimators, final_estimator=DecisionTreeClassifier())"
   ]
  },
  {
   "cell_type": "code",
   "execution_count": 33,
   "metadata": {},
   "outputs": [],
   "source": [
    "# Create Final model by \n",
    "clf = StackingClassifier(estimators=layer_one_estimators, final_estimator=layer_two)\n",
    "\n",
    "X_train, X_test, y_train, y_test = train_test_split(X, y, stratify=y, random_state=42)\n",
    "\n",
    "clf.fit(X_train, y_train)\n",
    "\n",
    "y_pred = clf.predict(X_test)\n",
    "\n",
    "acurcy = accuracy_score(y_test, y_pred)\n",
    "prec = precision_score(y_test, y_pred)\n",
    "recal = recall_score(y_test, y_pred)\n",
    "\n",
    "clf_Score = pd.DataFrame(columns=['Accuracy', 'Precision', 'Recall'])\n",
    "clf_Score.at[0, 'Accuracy'] = acurcy\n",
    "clf_Score.at[0, 'Precision'] = prec\n",
    "clf_Score.at[0, 'Recall'] = recal\n",
    "print(clf_Score)"
   ]
  },
  {
   "cell_type": "code",
   "execution_count": 34,
   "metadata": {},
   "outputs": [],
   "source": [
    "clf_Score.to_csv('NSL_DOS_Stacking_level2_(MLP-RF)_(DT-KNN)_DT_ChiSquaredT.csv')"
   ]
  },
  {
   "cell_type": "markdown",
   "metadata": {},
   "source": [
    "# (KNN-RF)_(DT-MLP)_KNN"
   ]
  },
  {
   "cell_type": "code",
   "execution_count": 35,
   "metadata": {},
   "outputs": [],
   "source": [
    "# Create Learners per layer\n",
    "layer_one_estimators = [\n",
    "                        ('knn_1', KNeighborsClassifier(n_neighbors=5, n_jobs=-1)),\n",
    "                        ('rn_1', RandomForestClassifier(random_state=0, n_jobs=-1, n_estimators=90, max_depth=19, \n",
    "                                                        min_samples_split=0.1))\n",
    "                       ]\n",
    "\n",
    "layer_two_estimators = [\n",
    "                        ('dt_2', DecisionTreeClassifier(max_depth=13, min_samples_split=10)),\n",
    "                        ('mlp_2', MLPClassifier(solver='adam', alpha=0.001, hidden_layer_sizes=20)),\n",
    "                       ]"
   ]
  },
  {
   "cell_type": "code",
   "execution_count": 36,
   "metadata": {},
   "outputs": [],
   "source": [
    "layer_two = StackingClassifier(estimators=layer_two_estimators, final_estimator=KNeighborsClassifier())"
   ]
  },
  {
   "cell_type": "code",
   "execution_count": 37,
   "metadata": {},
   "outputs": [],
   "source": [
    "# Create Final model by \n",
    "clf = StackingClassifier(estimators=layer_one_estimators, final_estimator=layer_two)\n",
    "\n",
    "X_train, X_test, y_train, y_test = train_test_split(X, y, stratify=y, random_state=42)\n",
    "\n",
    "clf.fit(X_train, y_train)\n",
    "\n",
    "y_pred = clf.predict(X_test)\n",
    "\n",
    "acurcy = accuracy_score(y_test, y_pred)\n",
    "prec = precision_score(y_test, y_pred)\n",
    "recal = recall_score(y_test, y_pred)\n",
    "\n",
    "clf_Score = pd.DataFrame(columns=['Accuracy', 'Precision', 'Recall'])\n",
    "clf_Score.at[0, 'Accuracy'] = acurcy\n",
    "clf_Score.at[0, 'Precision'] = prec\n",
    "clf_Score.at[0, 'Recall'] = recal\n",
    "print(clf_Score)"
   ]
  },
  {
   "cell_type": "code",
   "execution_count": 38,
   "metadata": {},
   "outputs": [],
   "source": [
    "clf_Score.to_csv('NSL_DOS_Stacking_level2_(KNN-RF)_(DT-MLP)_KNN_ChiSquared.csv')"
   ]
  },
  {
   "cell_type": "markdown",
   "metadata": {},
   "source": [
    "# (MLP-RF)_(DT-KNN)_KNN"
   ]
  },
  {
   "cell_type": "code",
   "execution_count": 39,
   "metadata": {},
   "outputs": [],
   "source": [
    "# Create Learners per layer\n",
    "layer_one_estimators = [\n",
    "                        ('mlp_2', MLPClassifier(solver='adam', alpha=0.001, hidden_layer_sizes=20)),\n",
    "                        ('rn_1', RandomForestClassifier(random_state=0, n_jobs=-1, n_estimators=90, max_depth=19, \n",
    "                                                        min_samples_split=0.1))\n",
    "                       ]\n",
    "\n",
    "layer_two_estimators = [\n",
    "                        ('dt_2', DecisionTreeClassifier(max_depth=13, min_samples_split=10)),\n",
    "                        ('knn_1', KNeighborsClassifier(n_neighbors=5, n_jobs=-1))\n",
    "                       ]"
   ]
  },
  {
   "cell_type": "code",
   "execution_count": 40,
   "metadata": {},
   "outputs": [],
   "source": [
    "layer_two = StackingClassifier(estimators=layer_two_estimators, final_estimator=KNeighborsClassifier())"
   ]
  },
  {
   "cell_type": "code",
   "execution_count": 41,
   "metadata": {},
   "outputs": [],
   "source": [
    "# Create Final model by \n",
    "clf = StackingClassifier(estimators=layer_one_estimators, final_estimator=layer_two)\n",
    "\n",
    "X_train, X_test, y_train, y_test = train_test_split(X, y, stratify=y, random_state=42)\n",
    "\n",
    "clf.fit(X_train, y_train)\n",
    "\n",
    "y_pred = clf.predict(X_test)\n",
    "\n",
    "acurcy = accuracy_score(y_test, y_pred)\n",
    "prec = precision_score(y_test, y_pred)\n",
    "recal = recall_score(y_test, y_pred)\n",
    "\n",
    "clf_Score = pd.DataFrame(columns=['Accuracy', 'Precision', 'Recall'])\n",
    "clf_Score.at[0, 'Accuracy'] = acurcy\n",
    "clf_Score.at[0, 'Precision'] = prec\n",
    "clf_Score.at[0, 'Recall'] = recal\n",
    "print(clf_Score)"
   ]
  },
  {
   "cell_type": "code",
   "execution_count": 42,
   "metadata": {},
   "outputs": [],
   "source": [
    "clf_Score.to_csv('NSL_DOS_Stacking_level2_(MLP-RF)_(DT-KNN)_KNN_ChiSquared.csv')"
   ]
  },
  {
   "cell_type": "markdown",
   "metadata": {},
   "source": [
    "# (KNN-MLP)_(DT-RF)_KNN"
   ]
  },
  {
   "cell_type": "code",
   "execution_count": 43,
   "metadata": {},
   "outputs": [],
   "source": [
    "# Create Learners per layer\n",
    "layer_one_estimators = [\n",
    "                        ('knn_1', KNeighborsClassifier(n_neighbors=5, n_jobs=-1)),\n",
    "                        ('mlp_2', MLPClassifier(solver='adam', alpha=0.001, hidden_layer_sizes=20))\n",
    "                       ]\n",
    "\n",
    "layer_two_estimators = [\n",
    "                        ('dt_2', DecisionTreeClassifier(max_depth=13, min_samples_split=10)),\n",
    "                        ('rn_1', RandomForestClassifier(random_state=0, n_jobs=-1, n_estimators=90, max_depth=19, \n",
    "                                                        min_samples_split=0.1))\n",
    "                       ]"
   ]
  },
  {
   "cell_type": "code",
   "execution_count": 44,
   "metadata": {},
   "outputs": [],
   "source": [
    "layer_two = StackingClassifier(estimators=layer_two_estimators, final_estimator=KNeighborsClassifier())"
   ]
  },
  {
   "cell_type": "code",
   "execution_count": 45,
   "metadata": {},
   "outputs": [],
   "source": [
    "# Create Final model by \n",
    "clf = StackingClassifier(estimators=layer_one_estimators, final_estimator=layer_two)\n",
    "\n",
    "X_train, X_test, y_train, y_test = train_test_split(X, y, stratify=y, random_state=42)\n",
    "\n",
    "clf.fit(X_train, y_train)\n",
    "\n",
    "y_pred = clf.predict(X_test)\n",
    "\n",
    "acurcy = accuracy_score(y_test, y_pred)\n",
    "prec = precision_score(y_test, y_pred)\n",
    "recal = recall_score(y_test, y_pred)\n",
    "\n",
    "clf_Score = pd.DataFrame(columns=['Accuracy', 'Precision', 'Recall'])\n",
    "clf_Score.at[0, 'Accuracy'] = acurcy\n",
    "clf_Score.at[0, 'Precision'] = prec\n",
    "clf_Score.at[0, 'Recall'] = recal\n",
    "print(clf_Score)"
   ]
  },
  {
   "cell_type": "code",
   "execution_count": 46,
   "metadata": {},
   "outputs": [],
   "source": [
    "clf_Score.to_csv('NSL_DOS_Stacking_level2_(KNN-MLP)_(DT-RF)_KNN_ChiSquared.csv')"
   ]
  },
  {
   "cell_type": "markdown",
   "metadata": {},
   "source": [
    "# (KNN-RF)_(DT-MLP)_RF"
   ]
  },
  {
   "cell_type": "code",
   "execution_count": 47,
   "metadata": {},
   "outputs": [],
   "source": [
    "# Create Learners per layer\n",
    "layer_one_estimators = [\n",
    "                        ('knn_1', KNeighborsClassifier(n_neighbors=5, n_jobs=-1)),\n",
    "                        ('rn_1', RandomForestClassifier(random_state=0, n_jobs=-1, n_estimators=90, max_depth=19, \n",
    "                                                        min_samples_split=0.1))\n",
    "                       ]\n",
    "\n",
    "layer_two_estimators = [\n",
    "                        ('dt_2', DecisionTreeClassifier(max_depth=13, min_samples_split=10)),\n",
    "                        ('mlp_2', MLPClassifier(solver='adam', alpha=0.001, hidden_layer_sizes=20)),\n",
    "                       ]"
   ]
  },
  {
   "cell_type": "code",
   "execution_count": 48,
   "metadata": {},
   "outputs": [],
   "source": [
    "layer_two = StackingClassifier(estimators=layer_two_estimators, final_estimator=RandomForestClassifier())"
   ]
  },
  {
   "cell_type": "code",
   "execution_count": 49,
   "metadata": {},
   "outputs": [
    {
     "name": "stdout",
     "output_type": "stream",
     "text": [
      "  Accuracy Precision    Recall\n",
      "0   0.9936   0.98872  0.995556\n"
     ]
    }
   ],
   "source": [
    "# Create Final model by \n",
    "clf = StackingClassifier(estimators=layer_one_estimators, final_estimator=layer_two)\n",
    "\n",
    "X_train, X_test, y_train, y_test = train_test_split(X, y, stratify=y, random_state=42)\n",
    "\n",
    "clf.fit(X_train, y_train)\n",
    "\n",
    "y_pred = clf.predict(X_test)\n",
    "\n",
    "acurcy = accuracy_score(y_test, y_pred)\n",
    "prec = precision_score(y_test, y_pred)\n",
    "recal = recall_score(y_test, y_pred)\n",
    "\n",
    "clf_Score = pd.DataFrame(columns=['Accuracy', 'Precision', 'Recall'])\n",
    "clf_Score.at[0, 'Accuracy'] = acurcy\n",
    "clf_Score.at[0, 'Precision'] = prec\n",
    "clf_Score.at[0, 'Recall'] = recal\n",
    "print(clf_Score)"
   ]
  },
  {
   "cell_type": "code",
   "execution_count": 50,
   "metadata": {},
   "outputs": [],
   "source": [
    "clf_Score.to_csv('NSL_DOS_Stacking_level2_(KNN-RF)_(DT-MLP)_RF_ChiSquared.csv')"
   ]
  },
  {
   "cell_type": "markdown",
   "metadata": {},
   "source": [
    "# (MLP-RF)_(DT-KNN)_RF"
   ]
  },
  {
   "cell_type": "code",
   "execution_count": 51,
   "metadata": {},
   "outputs": [],
   "source": [
    "# Create Learners per layer\n",
    "layer_one_estimators = [\n",
    "                        ('mlp_2', MLPClassifier(solver='adam', alpha=0.001, hidden_layer_sizes=20)),\n",
    "                        ('rn_1', RandomForestClassifier(random_state=0, n_jobs=-1, n_estimators=90, max_depth=19, \n",
    "                                                        min_samples_split=0.1))\n",
    "                       ]\n",
    "\n",
    "layer_two_estimators = [\n",
    "                        ('dt_2', DecisionTreeClassifier(max_depth=13, min_samples_split=10)),\n",
    "                        ('knn_1', KNeighborsClassifier(n_neighbors=5, n_jobs=-1))\n",
    "                       ]"
   ]
  },
  {
   "cell_type": "code",
   "execution_count": 52,
   "metadata": {},
   "outputs": [],
   "source": [
    "layer_two = StackingClassifier(estimators=layer_two_estimators, final_estimator=RandomForestClassifier())"
   ]
  },
  {
   "cell_type": "code",
   "execution_count": 53,
   "metadata": {},
   "outputs": [
    {
     "name": "stdout",
     "output_type": "stream",
     "text": [
      "  Accuracy Precision   Recall\n",
      "0   0.9906  0.993513  0.98321\n"
     ]
    }
   ],
   "source": [
    "# Create Final model by \n",
    "clf = StackingClassifier(estimators=layer_one_estimators, final_estimator=layer_two)\n",
    "\n",
    "X_train, X_test, y_train, y_test = train_test_split(X, y, stratify=y, random_state=42)\n",
    "\n",
    "clf.fit(X_train, y_train)\n",
    "\n",
    "y_pred = clf.predict(X_test)\n",
    "\n",
    "acurcy = accuracy_score(y_test, y_pred)\n",
    "prec = precision_score(y_test, y_pred)\n",
    "recal = recall_score(y_test, y_pred)\n",
    "\n",
    "clf_Score = pd.DataFrame(columns=['Accuracy', 'Precision', 'Recall'])\n",
    "clf_Score.at[0, 'Accuracy'] = acurcy\n",
    "clf_Score.at[0, 'Precision'] = prec\n",
    "clf_Score.at[0, 'Recall'] = recal\n",
    "print(clf_Score)"
   ]
  },
  {
   "cell_type": "code",
   "execution_count": 54,
   "metadata": {},
   "outputs": [],
   "source": [
    "clf_Score.to_csv('NSL_DOS_Stacking_level2_(MLP-RF)_(DT-KNN)_RF_ChiSquared.csv')"
   ]
  },
  {
   "cell_type": "markdown",
   "metadata": {},
   "source": [
    "# (KNN-MLP)_(DT-RF)_RF"
   ]
  },
  {
   "cell_type": "code",
   "execution_count": 55,
   "metadata": {},
   "outputs": [],
   "source": [
    "# Create Learners per layer\n",
    "layer_one_estimators = [\n",
    "                        ('knn_1', KNeighborsClassifier(n_neighbors=5, n_jobs=-1)),\n",
    "                        ('mlp_2', MLPClassifier(solver='adam', alpha=0.001, hidden_layer_sizes=20))\n",
    "                       ]\n",
    "\n",
    "layer_two_estimators = [\n",
    "                        ('dt_2', DecisionTreeClassifier(max_depth=13, min_samples_split=10)),\n",
    "                        ('rn_1', RandomForestClassifier(random_state=0, n_jobs=-1, n_estimators=90, max_depth=19, \n",
    "                                                        min_samples_split=0.1))\n",
    "                       ]"
   ]
  },
  {
   "cell_type": "code",
   "execution_count": 56,
   "metadata": {},
   "outputs": [],
   "source": [
    "layer_two = StackingClassifier(estimators=layer_two_estimators, final_estimator=RandomForestClassifier())"
   ]
  },
  {
   "cell_type": "code",
   "execution_count": 57,
   "metadata": {},
   "outputs": [
    {
     "name": "stdout",
     "output_type": "stream",
     "text": [
      "  Accuracy Precision    Recall\n",
      "0   0.9884  0.979055  0.992593\n"
     ]
    }
   ],
   "source": [
    "# Create Final model by \n",
    "clf = StackingClassifier(estimators=layer_one_estimators, final_estimator=layer_two)\n",
    "\n",
    "X_train, X_test, y_train, y_test = train_test_split(X, y, stratify=y, random_state=42)\n",
    "\n",
    "clf.fit(X_train, y_train)\n",
    "\n",
    "y_pred = clf.predict(X_test)\n",
    "\n",
    "acurcy = accuracy_score(y_test, y_pred)\n",
    "prec = precision_score(y_test, y_pred)\n",
    "recal = recall_score(y_test, y_pred)\n",
    "\n",
    "clf_Score = pd.DataFrame(columns=['Accuracy', 'Precision', 'Recall'])\n",
    "clf_Score.at[0, 'Accuracy'] = acurcy\n",
    "clf_Score.at[0, 'Precision'] = prec\n",
    "clf_Score.at[0, 'Recall'] = recal\n",
    "print(clf_Score)"
   ]
  },
  {
   "cell_type": "code",
   "execution_count": 58,
   "metadata": {},
   "outputs": [],
   "source": [
    "clf_Score.to_csv('NSL_DOS_Stacking_level2_(KNN-MLP)_(DT-RF)_RF_ChiSquared.csv')"
   ]
  },
  {
   "cell_type": "markdown",
   "metadata": {},
   "source": [
    "# (KNN-RF)_(DT-MLP)_ADA"
   ]
  },
  {
   "cell_type": "code",
   "execution_count": 59,
   "metadata": {},
   "outputs": [],
   "source": [
    "# Create Learners per layer\n",
    "layer_one_estimators = [\n",
    "                        ('knn_1', KNeighborsClassifier(n_neighbors=5, n_jobs=-1)),\n",
    "                        ('rn_1', RandomForestClassifier(random_state=0, n_jobs=-1, n_estimators=90, max_depth=19, \n",
    "                                                        min_samples_split=0.1))\n",
    "                       ]\n",
    "\n",
    "layer_two_estimators = [\n",
    "                        ('dt_2', DecisionTreeClassifier(max_depth=13, min_samples_split=10)),\n",
    "                        ('mlp_2', MLPClassifier(solver='adam', alpha=0.001, hidden_layer_sizes=20)),\n",
    "                       ]"
   ]
  },
  {
   "cell_type": "code",
   "execution_count": 60,
   "metadata": {},
   "outputs": [],
   "source": [
    "layer_two = StackingClassifier(estimators=layer_two_estimators, final_estimator=AdaBoostClassifier())"
   ]
  },
  {
   "cell_type": "code",
   "execution_count": 61,
   "metadata": {},
   "outputs": [
    {
     "name": "stdout",
     "output_type": "stream",
     "text": [
      "  Accuracy Precision    Recall\n",
      "0   0.9954  0.992134  0.996543\n"
     ]
    }
   ],
   "source": [
    "# Create Final model by \n",
    "clf = StackingClassifier(estimators=layer_one_estimators, final_estimator=layer_two)\n",
    "\n",
    "X_train, X_test, y_train, y_test = train_test_split(X, y, stratify=y, random_state=42)\n",
    "\n",
    "clf.fit(X_train, y_train)\n",
    "\n",
    "y_pred = clf.predict(X_test)\n",
    "\n",
    "acurcy = accuracy_score(y_test, y_pred)\n",
    "prec = precision_score(y_test, y_pred)\n",
    "recal = recall_score(y_test, y_pred)\n",
    "\n",
    "clf_Score = pd.DataFrame(columns=['Accuracy', 'Precision', 'Recall'])\n",
    "clf_Score.at[0, 'Accuracy'] = acurcy\n",
    "clf_Score.at[0, 'Precision'] = prec\n",
    "clf_Score.at[0, 'Recall'] = recal\n",
    "print(clf_Score)"
   ]
  },
  {
   "cell_type": "code",
   "execution_count": 62,
   "metadata": {},
   "outputs": [],
   "source": [
    "clf_Score.to_csv('NSL_DOS_Stacking_level2_(KNN-RF)_(DT-MLP)_ADA_ChiSquared.csv')"
   ]
  },
  {
   "cell_type": "markdown",
   "metadata": {},
   "source": [
    "# (MLP-RF)_(DT-KNN)_ADA"
   ]
  },
  {
   "cell_type": "code",
   "execution_count": 63,
   "metadata": {},
   "outputs": [],
   "source": [
    "# Create Learners per layer\n",
    "layer_one_estimators = [\n",
    "                        ('mlp_2', MLPClassifier(solver='adam', alpha=0.001, hidden_layer_sizes=20)),\n",
    "                        ('rn_1', RandomForestClassifier(random_state=0, n_jobs=-1, n_estimators=90, max_depth=19, \n",
    "                                                        min_samples_split=0.1))\n",
    "                       ]\n",
    "\n",
    "layer_two_estimators = [\n",
    "                        ('dt_2', DecisionTreeClassifier(max_depth=13, min_samples_split=10)),\n",
    "                        ('knn_1', KNeighborsClassifier(n_neighbors=5, n_jobs=-1))\n",
    "                       ]"
   ]
  },
  {
   "cell_type": "code",
   "execution_count": 64,
   "metadata": {},
   "outputs": [],
   "source": [
    "layer_two = StackingClassifier(estimators=layer_two_estimators, final_estimator=AdaBoostClassifier())"
   ]
  },
  {
   "cell_type": "code",
   "execution_count": 65,
   "metadata": {
    "scrolled": true
   },
   "outputs": [
    {
     "name": "stdout",
     "output_type": "stream",
     "text": [
      "  Accuracy Precision    Recall\n",
      "0   0.9922  0.995015  0.985679\n"
     ]
    }
   ],
   "source": [
    "# Create Final model by \n",
    "clf = StackingClassifier(estimators=layer_one_estimators, final_estimator=layer_two)\n",
    "\n",
    "X_train, X_test, y_train, y_test = train_test_split(X, y, stratify=y, random_state=42)\n",
    "\n",
    "clf.fit(X_train, y_train)\n",
    "\n",
    "y_pred = clf.predict(X_test)\n",
    "\n",
    "acurcy = accuracy_score(y_test, y_pred)\n",
    "prec = precision_score(y_test, y_pred)\n",
    "recal = recall_score(y_test, y_pred)\n",
    "\n",
    "clf_Score = pd.DataFrame(columns=['Accuracy', 'Precision', 'Recall'])\n",
    "clf_Score.at[0, 'Accuracy'] = acurcy\n",
    "clf_Score.at[0, 'Precision'] = prec\n",
    "clf_Score.at[0, 'Recall'] = recal\n",
    "print(clf_Score)"
   ]
  },
  {
   "cell_type": "code",
   "execution_count": 66,
   "metadata": {},
   "outputs": [],
   "source": [
    "clf_Score.to_csv('NSL_DOS_Stacking_level2_(MLP-RF)_(DT-KNN)_ADA_ChiSquared.csv')"
   ]
  },
  {
   "cell_type": "code",
   "execution_count": null,
   "metadata": {},
   "outputs": [],
   "source": []
  },
  {
   "cell_type": "code",
   "execution_count": null,
   "metadata": {},
   "outputs": [],
   "source": []
  },
  {
   "cell_type": "code",
   "execution_count": null,
   "metadata": {},
   "outputs": [],
   "source": []
  },
  {
   "cell_type": "code",
   "execution_count": null,
   "metadata": {},
   "outputs": [],
   "source": []
  },
  {
   "cell_type": "code",
   "execution_count": null,
   "metadata": {},
   "outputs": [],
   "source": []
  },
  {
   "cell_type": "code",
   "execution_count": null,
   "metadata": {},
   "outputs": [],
   "source": []
  }
 ],
 "metadata": {
  "kernelspec": {
   "display_name": "Python 3",
   "language": "python",
   "name": "python3"
  },
  "language_info": {
   "codemirror_mode": {
    "name": "ipython",
    "version": 3
   },
   "file_extension": ".py",
   "mimetype": "text/x-python",
   "name": "python",
   "nbconvert_exporter": "python",
   "pygments_lexer": "ipython3",
   "version": "3.7.4"
  }
 },
 "nbformat": 4,
 "nbformat_minor": 4
}
