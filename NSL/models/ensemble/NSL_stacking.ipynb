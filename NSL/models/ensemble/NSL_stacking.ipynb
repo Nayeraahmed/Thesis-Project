{
 "cells": [
  {
   "cell_type": "code",
   "execution_count": 1,
   "metadata": {},
   "outputs": [],
   "source": [
    "import pandas as pd\n",
    "import numpy as np"
   ]
  },
  {
   "cell_type": "code",
   "execution_count": 2,
   "metadata": {},
   "outputs": [],
   "source": [
    "from sklearn.model_selection import cross_val_score\n",
    "from sklearn.model_selection import cross_validate\n",
    "from sklearn.feature_selection import SelectKBest\n",
    "from sklearn.feature_selection import f_classif\n",
    "from sklearn.metrics import fbeta_score, make_scorer\n",
    "from sklearn.metrics import make_scorer, accuracy_score, precision_score, recall_score, f1_score\n",
    "from mlxtend.classifier import StackingCVClassifier\n",
    "from sklearn import model_selection"
   ]
  },
  {
   "cell_type": "markdown",
   "metadata": {},
   "source": [
    "# Reading Data"
   ]
  },
  {
   "cell_type": "code",
   "execution_count": 3,
   "metadata": {},
   "outputs": [],
   "source": [
    "df = pd.read_csv('../../Dataset/NSL_new.csv')"
   ]
  },
  {
   "cell_type": "code",
   "execution_count": 4,
   "metadata": {},
   "outputs": [
    {
     "name": "stdout",
     "output_type": "stream",
     "text": [
      "(113270, 123)\n"
     ]
    }
   ],
   "source": [
    "df = df.drop( df[ (df.label != \"normal\") & (df.label != \"neptune\") & (df.label != \"back\") & (df.label != \"land\") & (df.label != \"pod\") & (df.label != \"smurf\") & (df.label != \"teardrop\") & (df.label != \"teardrop\") & (df.label != \"mailbomb\") & (df.label != \"apache2\") & (df.label != \"processtable\") & (df.label != \"udpstorm\") & (df.label != \"worm\")].index )\n",
    "print(df.shape)"
   ]
  },
  {
   "cell_type": "code",
   "execution_count": 5,
   "metadata": {},
   "outputs": [],
   "source": [
    "df = df.sample(n=20000)"
   ]
  },
  {
   "cell_type": "code",
   "execution_count": 6,
   "metadata": {},
   "outputs": [
    {
     "data": {
      "text/html": [
       "<div>\n",
       "<style scoped>\n",
       "    .dataframe tbody tr th:only-of-type {\n",
       "        vertical-align: middle;\n",
       "    }\n",
       "\n",
       "    .dataframe tbody tr th {\n",
       "        vertical-align: top;\n",
       "    }\n",
       "\n",
       "    .dataframe thead th {\n",
       "        text-align: right;\n",
       "    }\n",
       "</style>\n",
       "<table border=\"1\" class=\"dataframe\">\n",
       "  <thead>\n",
       "    <tr style=\"text-align: right;\">\n",
       "      <th></th>\n",
       "      <th>duration</th>\n",
       "      <th>src_bytes</th>\n",
       "      <th>dst_bytes</th>\n",
       "      <th>land</th>\n",
       "      <th>wrong_fragment</th>\n",
       "      <th>urgent</th>\n",
       "      <th>hot</th>\n",
       "      <th>num_failed_logins</th>\n",
       "      <th>logged_in</th>\n",
       "      <th>num_compromised</th>\n",
       "      <th>...</th>\n",
       "      <th>flag_RSTO</th>\n",
       "      <th>flag_RSTOS0</th>\n",
       "      <th>flag_RSTR</th>\n",
       "      <th>flag_S0</th>\n",
       "      <th>flag_S1</th>\n",
       "      <th>flag_S2</th>\n",
       "      <th>flag_S3</th>\n",
       "      <th>flag_SF</th>\n",
       "      <th>flag_SH</th>\n",
       "      <th>label</th>\n",
       "    </tr>\n",
       "  </thead>\n",
       "  <tbody>\n",
       "    <tr>\n",
       "      <th>25143</th>\n",
       "      <td>0</td>\n",
       "      <td>0</td>\n",
       "      <td>0</td>\n",
       "      <td>0</td>\n",
       "      <td>0</td>\n",
       "      <td>0</td>\n",
       "      <td>0</td>\n",
       "      <td>0</td>\n",
       "      <td>0</td>\n",
       "      <td>0</td>\n",
       "      <td>...</td>\n",
       "      <td>0</td>\n",
       "      <td>0</td>\n",
       "      <td>0</td>\n",
       "      <td>1</td>\n",
       "      <td>0</td>\n",
       "      <td>0</td>\n",
       "      <td>0</td>\n",
       "      <td>0</td>\n",
       "      <td>0</td>\n",
       "      <td>neptune</td>\n",
       "    </tr>\n",
       "    <tr>\n",
       "      <th>110669</th>\n",
       "      <td>0</td>\n",
       "      <td>0</td>\n",
       "      <td>0</td>\n",
       "      <td>0</td>\n",
       "      <td>0</td>\n",
       "      <td>0</td>\n",
       "      <td>0</td>\n",
       "      <td>0</td>\n",
       "      <td>0</td>\n",
       "      <td>0</td>\n",
       "      <td>...</td>\n",
       "      <td>0</td>\n",
       "      <td>0</td>\n",
       "      <td>0</td>\n",
       "      <td>1</td>\n",
       "      <td>0</td>\n",
       "      <td>0</td>\n",
       "      <td>0</td>\n",
       "      <td>0</td>\n",
       "      <td>0</td>\n",
       "      <td>neptune</td>\n",
       "    </tr>\n",
       "    <tr>\n",
       "      <th>8992</th>\n",
       "      <td>0</td>\n",
       "      <td>146</td>\n",
       "      <td>0</td>\n",
       "      <td>0</td>\n",
       "      <td>0</td>\n",
       "      <td>0</td>\n",
       "      <td>0</td>\n",
       "      <td>0</td>\n",
       "      <td>0</td>\n",
       "      <td>0</td>\n",
       "      <td>...</td>\n",
       "      <td>0</td>\n",
       "      <td>0</td>\n",
       "      <td>0</td>\n",
       "      <td>0</td>\n",
       "      <td>0</td>\n",
       "      <td>0</td>\n",
       "      <td>0</td>\n",
       "      <td>1</td>\n",
       "      <td>0</td>\n",
       "      <td>normal</td>\n",
       "    </tr>\n",
       "    <tr>\n",
       "      <th>37509</th>\n",
       "      <td>0</td>\n",
       "      <td>0</td>\n",
       "      <td>0</td>\n",
       "      <td>0</td>\n",
       "      <td>0</td>\n",
       "      <td>0</td>\n",
       "      <td>0</td>\n",
       "      <td>0</td>\n",
       "      <td>0</td>\n",
       "      <td>0</td>\n",
       "      <td>...</td>\n",
       "      <td>0</td>\n",
       "      <td>0</td>\n",
       "      <td>0</td>\n",
       "      <td>1</td>\n",
       "      <td>0</td>\n",
       "      <td>0</td>\n",
       "      <td>0</td>\n",
       "      <td>0</td>\n",
       "      <td>0</td>\n",
       "      <td>neptune</td>\n",
       "    </tr>\n",
       "    <tr>\n",
       "      <th>15876</th>\n",
       "      <td>0</td>\n",
       "      <td>212</td>\n",
       "      <td>5790</td>\n",
       "      <td>0</td>\n",
       "      <td>0</td>\n",
       "      <td>0</td>\n",
       "      <td>0</td>\n",
       "      <td>0</td>\n",
       "      <td>1</td>\n",
       "      <td>0</td>\n",
       "      <td>...</td>\n",
       "      <td>0</td>\n",
       "      <td>0</td>\n",
       "      <td>0</td>\n",
       "      <td>0</td>\n",
       "      <td>0</td>\n",
       "      <td>0</td>\n",
       "      <td>0</td>\n",
       "      <td>1</td>\n",
       "      <td>0</td>\n",
       "      <td>normal</td>\n",
       "    </tr>\n",
       "  </tbody>\n",
       "</table>\n",
       "<p>5 rows × 123 columns</p>\n",
       "</div>"
      ],
      "text/plain": [
       "        duration  src_bytes  dst_bytes  land  wrong_fragment  urgent  hot  \\\n",
       "25143          0          0          0     0               0       0    0   \n",
       "110669         0          0          0     0               0       0    0   \n",
       "8992           0        146          0     0               0       0    0   \n",
       "37509          0          0          0     0               0       0    0   \n",
       "15876          0        212       5790     0               0       0    0   \n",
       "\n",
       "        num_failed_logins  logged_in  num_compromised  ...  flag_RSTO  \\\n",
       "25143                   0          0                0  ...          0   \n",
       "110669                  0          0                0  ...          0   \n",
       "8992                    0          0                0  ...          0   \n",
       "37509                   0          0                0  ...          0   \n",
       "15876                   0          1                0  ...          0   \n",
       "\n",
       "        flag_RSTOS0  flag_RSTR  flag_S0  flag_S1  flag_S2  flag_S3  flag_SF  \\\n",
       "25143             0          0        1        0        0        0        0   \n",
       "110669            0          0        1        0        0        0        0   \n",
       "8992              0          0        0        0        0        0        1   \n",
       "37509             0          0        1        0        0        0        0   \n",
       "15876             0          0        0        0        0        0        1   \n",
       "\n",
       "        flag_SH    label  \n",
       "25143         0  neptune  \n",
       "110669        0  neptune  \n",
       "8992          0   normal  \n",
       "37509         0  neptune  \n",
       "15876         0   normal  \n",
       "\n",
       "[5 rows x 123 columns]"
      ]
     },
     "execution_count": 6,
     "metadata": {},
     "output_type": "execute_result"
    }
   ],
   "source": [
    "df.head()"
   ]
  },
  {
   "cell_type": "code",
   "execution_count": 7,
   "metadata": {},
   "outputs": [],
   "source": [
    "X = df.drop(['label'], axis=1)\n",
    "y = df['label']"
   ]
  },
  {
   "cell_type": "code",
   "execution_count": 8,
   "metadata": {},
   "outputs": [],
   "source": [
    "scoring_metrics = {'accuracy' : make_scorer(accuracy_score), \n",
    "           'precision' : make_scorer(precision_score, average=\"micro\"),\n",
    "           'recall' : make_scorer(recall_score, average=\"micro\"), \n",
    "           'f1_score' : make_scorer(f1_score, average=\"micro\")}"
   ]
  },
  {
   "cell_type": "code",
   "execution_count": 9,
   "metadata": {},
   "outputs": [],
   "source": [
    "y = y.replace( to_replace =  'normal' , value = 0 )\n",
    "\n",
    "y = y.replace( to_replace =  'neptune' , value = 1 )\n",
    "y = y.replace( to_replace =  'back' , value = 1 )\n",
    "y = y.replace( to_replace =  'land' , value = 1 )\n",
    "y = y.replace( to_replace =  'pod' , value = 1 )\n",
    "y = y.replace( to_replace =  'smurf' , value = 1 )\n",
    "y = y.replace( to_replace =  'teardrop' , value = 1 )\n",
    "y = y.replace( to_replace =  'mailbomb' , value = 1 )\n",
    "y = y.replace( to_replace =  'apache2' , value = 1 )\n",
    "y = y.replace( to_replace =  'processtable' , value = 1 )\n",
    "y = y.replace( to_replace =  'udpstorm' , value = 1 )\n",
    "y = y.replace( to_replace =  'worm' , value = 1 )"
   ]
  },
  {
   "cell_type": "markdown",
   "metadata": {},
   "source": [
    "# adaboost , Random Forest - mlp"
   ]
  },
  {
   "cell_type": "code",
   "execution_count": 10,
   "metadata": {},
   "outputs": [],
   "source": [
    "\n",
    "from sklearn.datasets import load_iris\n",
    "from sklearn.ensemble import RandomForestClassifier, StackingClassifier\n",
    "from sklearn.linear_model import LogisticRegression\n",
    "from sklearn.model_selection import train_test_split\n",
    "from sklearn.neighbors import KNeighborsClassifier\n",
    "from sklearn.ensemble import AdaBoostClassifier\n",
    "from sklearn.neural_network import MLPClassifier\n",
    "from vecstack import stacking\n",
    "\n"
   ]
  },
  {
   "cell_type": "code",
   "execution_count": 11,
   "metadata": {},
   "outputs": [],
   "source": [
    "from sklearn.metrics import accuracy_score , precision_score , recall_score , f1_score\n",
    "\n",
    "\n",
    "scoring_metrics = { accuracy_score , precision_score , recall_score , f1_score }"
   ]
  },
  {
   "cell_type": "code",
   "execution_count": 12,
   "metadata": {},
   "outputs": [],
   "source": [
    "X_train, X_test, y_train, y_test = train_test_split(X, y, test_size=0.2, random_state=0)"
   ]
  },
  {
   "cell_type": "code",
   "execution_count": 23,
   "metadata": {},
   "outputs": [],
   "source": [
    "# Create Base Learners\n",
    "base_learners = [  RandomForestClassifier(n_estimators=90, min_samples_split=0.1 , max_depth=19 ) ,\n",
    "                    AdaBoostClassifier(learning_rate=0.1 , n_estimators=1000)      \n",
    "                ]\n",
    "meta_learner = MLPClassifier(alpha=0.01 , hidden_layer_sizes=20 , learning_rate='constant' , solver='adam')"
   ]
  },
  {
   "cell_type": "code",
   "execution_count": 24,
   "metadata": {},
   "outputs": [
    {
     "name": "stdout",
     "output_type": "stream",
     "text": [
      "task:         [classification]\n",
      "n_classes:    [2]\n",
      "metric:       [accuracy_score]\n",
      "mode:         [oof_pred_bag]\n",
      "n_models:     [2]\n",
      "\n",
      "model  0:     [RandomForestClassifier]\n",
      "    fold  0:  [0.98175000]\n",
      "    fold  1:  [0.97725000]\n",
      "    fold  2:  [0.98000000]\n",
      "    fold  3:  [0.98350000]\n",
      "    ----\n",
      "    MEAN:     [0.98062500] + [0.00230827]\n",
      "    FULL:     [0.98062500]\n",
      "\n",
      "model  1:     [AdaBoostClassifier]\n",
      "    fold  0:  [0.99950000]\n",
      "    fold  1:  [0.99900000]\n",
      "    fold  2:  [0.99950000]\n",
      "    fold  3:  [0.99925000]\n",
      "    ----\n",
      "    MEAN:     [0.99931250] + [0.00020729]\n",
      "    FULL:     [0.99931250]\n",
      "\n"
     ]
    }
   ],
   "source": [
    "# Initialize Stacking Classifier with the Meta Learner\n",
    "S_train, S_test = stacking(base_learners,                   \n",
    "                           X_train, y_train, X_test,   \n",
    "                           regression=False, \n",
    "     \n",
    "#                            mode='oof_pred_bag', \n",
    "       \n",
    "                           needs_proba=False,\n",
    "         \n",
    "                           save_dir=None, \n",
    "            \n",
    "                           metric = accuracy_score , \n",
    "    \n",
    "                           n_folds=4, \n",
    "                 \n",
    "                           stratified=True,\n",
    "            \n",
    "                           shuffle=True,  \n",
    "            \n",
    "                           random_state=0,    \n",
    "         \n",
    "                           verbose=2)"
   ]
  },
  {
   "cell_type": "code",
   "execution_count": 26,
   "metadata": {},
   "outputs": [],
   "source": [
    "model = meta_learner.fit(S_train, y_train)\n"
   ]
  },
  {
   "cell_type": "code",
   "execution_count": 27,
   "metadata": {},
   "outputs": [],
   "source": [
    "y_pred = meta_learner.predict(S_test)\n"
   ]
  },
  {
   "cell_type": "code",
   "execution_count": 28,
   "metadata": {},
   "outputs": [
    {
     "name": "stdout",
     "output_type": "stream",
     "text": [
      "Accuracy score: [0.99925000]\n",
      "Precision score: [1.00000000]\n",
      "recall score: [0.99812851]\n"
     ]
    }
   ],
   "source": [
    "print('Accuracy score: [%.8f]' % accuracy_score(y_test, y_pred))\n",
    "print('Precision score: [%.8f]' % precision_score(y_test, y_pred))\n",
    "print('recall score: [%.8f]' % recall_score(y_test, y_pred))"
   ]
  },
  {
   "cell_type": "code",
   "execution_count": 29,
   "metadata": {},
   "outputs": [],
   "source": [
    "stacking1 = { 'accuracy' : accuracy_score(y_test, y_pred) , 'Precision' : precision_score(y_test, y_pred) , 'recall' : recall_score(y_test, y_pred) } "
   ]
  },
  {
   "cell_type": "code",
   "execution_count": 34,
   "metadata": {},
   "outputs": [],
   "source": [
    "stacking1 = pd.DataFrame(stacking1 , index=[0,1] )"
   ]
  },
  {
   "cell_type": "code",
   "execution_count": 36,
   "metadata": {},
   "outputs": [
    {
     "name": "stdout",
     "output_type": "stream",
     "text": [
      "   accuracy  Precision    recall\n",
      "0   0.99925        1.0  0.998129\n",
      "1   0.99925        1.0  0.998129\n"
     ]
    }
   ],
   "source": [
    "print(stacking1)"
   ]
  },
  {
   "cell_type": "code",
   "execution_count": 35,
   "metadata": {},
   "outputs": [],
   "source": [
    "stacking1.to_csv('NSL_DOS_Stacking_adaboost-randomForest-mlp.csv')"
   ]
  },
  {
   "cell_type": "markdown",
   "metadata": {},
   "source": [
    "# adaboost , KNN - mlp"
   ]
  },
  {
   "cell_type": "code",
   "execution_count": 13,
   "metadata": {},
   "outputs": [],
   "source": [
    "X_train, X_test, y_train, y_test = train_test_split(X, y, test_size=0.2, random_state=0)"
   ]
  },
  {
   "cell_type": "code",
   "execution_count": 14,
   "metadata": {},
   "outputs": [],
   "source": [
    "# Create Base Learners\n",
    "base_learners = [KNeighborsClassifier(n_neighbors= 1) ,\n",
    "                 AdaBoostClassifier(learning_rate=0.1 , n_estimators=1000)          \n",
    "                ]\n",
    "meta_learner = MLPClassifier(alpha=0.01 , hidden_layer_sizes=20 , learning_rate='constant' , solver='adam')"
   ]
  },
  {
   "cell_type": "code",
   "execution_count": 15,
   "metadata": {},
   "outputs": [
    {
     "name": "stdout",
     "output_type": "stream",
     "text": [
      "task:         [classification]\n",
      "n_classes:    [2]\n",
      "metric:       [accuracy_score]\n",
      "mode:         [oof_pred_bag]\n",
      "n_models:     [2]\n",
      "\n",
      "model  0:     [KNeighborsClassifier]\n",
      "    fold  0:  [0.99475000]\n",
      "    fold  1:  [0.99550000]\n",
      "    fold  2:  [0.99575000]\n",
      "    fold  3:  [0.99625000]\n",
      "    ----\n",
      "    MEAN:     [0.99556250] + [0.00054127]\n",
      "    FULL:     [0.99556250]\n",
      "\n",
      "model  1:     [AdaBoostClassifier]\n",
      "    fold  0:  [0.99775000]\n",
      "    fold  1:  [0.99975000]\n",
      "    fold  2:  [0.99825000]\n",
      "    fold  3:  [0.99900000]\n",
      "    ----\n",
      "    MEAN:     [0.99868750] + [0.00075777]\n",
      "    FULL:     [0.99868750]\n",
      "\n"
     ]
    }
   ],
   "source": [
    "# Initialize Stacking Classifier with the Meta Learner\n",
    "S_train, S_test = stacking(base_learners,                   \n",
    "                           X_train, y_train, X_test,   \n",
    "                           regression=False, \n",
    "     \n",
    "#                            mode='oof_pred_bag', \n",
    "       \n",
    "                           needs_proba=False,\n",
    "         \n",
    "                           save_dir=None, \n",
    "            \n",
    "                           metric= accuracy_score , \n",
    "    \n",
    "                           n_folds=4, \n",
    "                 \n",
    "                           stratified=True,\n",
    "            \n",
    "                           shuffle=True,  \n",
    "            \n",
    "                           random_state=0,    \n",
    "         \n",
    "                           verbose=2)"
   ]
  },
  {
   "cell_type": "code",
   "execution_count": 16,
   "metadata": {},
   "outputs": [],
   "source": [
    "model = meta_learner.fit(S_train, y_train)"
   ]
  },
  {
   "cell_type": "code",
   "execution_count": 17,
   "metadata": {},
   "outputs": [],
   "source": [
    "y_pred = meta_learner.predict(S_test)\n"
   ]
  },
  {
   "cell_type": "code",
   "execution_count": 18,
   "metadata": {},
   "outputs": [],
   "source": [
    "stacking2 = { 'accuracy' : accuracy_score(y_test, y_pred) , 'Precision' : precision_score(y_test, y_pred) , 'recall' : recall_score(y_test, y_pred) } "
   ]
  },
  {
   "cell_type": "code",
   "execution_count": 20,
   "metadata": {},
   "outputs": [
    {
     "name": "stdout",
     "output_type": "stream",
     "text": [
      "   accuracy  Precision  recall\n",
      "0     0.999   0.997523     1.0\n",
      "1     0.999   0.997523     1.0\n"
     ]
    }
   ],
   "source": [
    "stacking2 = pd.DataFrame(stacking2 , index=[0,1] )\n",
    "print(stacking2)"
   ]
  },
  {
   "cell_type": "code",
   "execution_count": 21,
   "metadata": {},
   "outputs": [],
   "source": [
    "stacking2.to_csv('NSL_DOS_Stacking_adaboost-KNN-mlp.csv')"
   ]
  },
  {
   "cell_type": "markdown",
   "metadata": {},
   "source": [
    "# adaboost , Descision Tree - mlp"
   ]
  },
  {
   "cell_type": "code",
   "execution_count": 22,
   "metadata": {},
   "outputs": [],
   "source": [
    "X_train, X_test, y_train, y_test = train_test_split(X, y, test_size=0.2, random_state=0)"
   ]
  },
  {
   "cell_type": "code",
   "execution_count": 25,
   "metadata": {},
   "outputs": [],
   "source": [
    "from sklearn.tree import tree\n",
    "\n",
    "# Create Base Learners\n",
    "base_learners = [tree.DecisionTreeClassifier(max_depth= 13 , min_samples_split = 10 ) ,\n",
    "                 AdaBoostClassifier(learning_rate=0.1 , n_estimators=1000)          \n",
    "                ]\n",
    "meta_learner = MLPClassifier(alpha=0.01 , hidden_layer_sizes=20 , learning_rate='constant' , solver='adam')"
   ]
  },
  {
   "cell_type": "code",
   "execution_count": 26,
   "metadata": {},
   "outputs": [
    {
     "name": "stdout",
     "output_type": "stream",
     "text": [
      "task:         [classification]\n",
      "n_classes:    [2]\n",
      "metric:       [accuracy_score]\n",
      "mode:         [oof_pred_bag]\n",
      "n_models:     [2]\n",
      "\n",
      "model  0:     [DecisionTreeClassifier]\n",
      "    fold  0:  [0.99675000]\n",
      "    fold  1:  [0.99775000]\n",
      "    fold  2:  [0.99825000]\n",
      "    fold  3:  [0.99900000]\n",
      "    ----\n",
      "    MEAN:     [0.99793750] + [0.00081729]\n",
      "    FULL:     [0.99793750]\n",
      "\n",
      "model  1:     [AdaBoostClassifier]\n",
      "    fold  0:  [0.99775000]\n",
      "    fold  1:  [0.99975000]\n",
      "    fold  2:  [0.99825000]\n",
      "    fold  3:  [0.99900000]\n",
      "    ----\n",
      "    MEAN:     [0.99868750] + [0.00075777]\n",
      "    FULL:     [0.99868750]\n",
      "\n"
     ]
    }
   ],
   "source": [
    "# Initialize Stacking Classifier with the Meta Learner\n",
    "S_train, S_test = stacking(base_learners,                   \n",
    "                           X_train, y_train, X_test,   \n",
    "                           regression=False, \n",
    "     \n",
    "#                            mode='oof_pred_bag', \n",
    "       \n",
    "                           needs_proba=False,\n",
    "         \n",
    "                           save_dir=None, \n",
    "            \n",
    "                           metric= accuracy_score , \n",
    "    \n",
    "                           n_folds=4, \n",
    "                 \n",
    "                           stratified=True,\n",
    "            \n",
    "                           shuffle=True,  \n",
    "            \n",
    "                           random_state=0,    \n",
    "         \n",
    "                           verbose=2)"
   ]
  },
  {
   "cell_type": "code",
   "execution_count": 27,
   "metadata": {},
   "outputs": [],
   "source": [
    "model = meta_learner.fit(S_train, y_train)"
   ]
  },
  {
   "cell_type": "code",
   "execution_count": 28,
   "metadata": {},
   "outputs": [],
   "source": [
    "y_pred = meta_learner.predict(S_test)\n"
   ]
  },
  {
   "cell_type": "code",
   "execution_count": 29,
   "metadata": {},
   "outputs": [],
   "source": [
    "stacking3 = { 'accuracy' : accuracy_score(y_test, y_pred) , 'Precision' : precision_score(y_test, y_pred) , 'recall' : recall_score(y_test, y_pred) } "
   ]
  },
  {
   "cell_type": "code",
   "execution_count": 30,
   "metadata": {},
   "outputs": [
    {
     "name": "stdout",
     "output_type": "stream",
     "text": [
      "   accuracy  Precision  recall\n",
      "0     0.999   0.997523     1.0\n",
      "1     0.999   0.997523     1.0\n"
     ]
    }
   ],
   "source": [
    "stacking3 = pd.DataFrame(stacking3 , index=[0,1] )\n",
    "print(stacking2)"
   ]
  },
  {
   "cell_type": "code",
   "execution_count": 31,
   "metadata": {},
   "outputs": [],
   "source": [
    "stacking3.to_csv('NSL_DOS_Stacking_adaboost-DecisionTree-mlp.csv')"
   ]
  },
  {
   "cell_type": "markdown",
   "metadata": {},
   "source": [
    "# adaboost , SVM - mlp"
   ]
  },
  {
   "cell_type": "code",
   "execution_count": 2,
   "metadata": {},
   "outputs": [],
   "source": []
  },
  {
   "cell_type": "code",
   "execution_count": null,
   "metadata": {},
   "outputs": [],
   "source": []
  },
  {
   "cell_type": "code",
   "execution_count": null,
   "metadata": {},
   "outputs": [],
   "source": []
  },
  {
   "cell_type": "code",
   "execution_count": null,
   "metadata": {},
   "outputs": [],
   "source": []
  },
  {
   "cell_type": "code",
   "execution_count": null,
   "metadata": {},
   "outputs": [],
   "source": []
  },
  {
   "cell_type": "code",
   "execution_count": null,
   "metadata": {},
   "outputs": [],
   "source": []
  }
 ],
 "metadata": {
  "kernelspec": {
   "display_name": "Python 3",
   "language": "python",
   "name": "python3"
  },
  "language_info": {
   "codemirror_mode": {
    "name": "ipython",
    "version": 3
   },
   "file_extension": ".py",
   "mimetype": "text/x-python",
   "name": "python",
   "nbconvert_exporter": "python",
   "pygments_lexer": "ipython3",
   "version": "3.8.2"
  }
 },
 "nbformat": 4,
 "nbformat_minor": 4
}
