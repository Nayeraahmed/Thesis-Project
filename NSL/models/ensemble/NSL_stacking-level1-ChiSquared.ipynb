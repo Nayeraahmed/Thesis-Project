{
 "cells": [
  {
   "cell_type": "code",
   "execution_count": 1,
   "metadata": {},
   "outputs": [],
   "source": [
    "import pandas as pd\n",
    "import numpy as np"
   ]
  },
  {
   "cell_type": "code",
   "execution_count": 2,
   "metadata": {},
   "outputs": [],
   "source": [
    "from sklearn.model_selection import cross_val_score\n",
    "from sklearn.model_selection import cross_validate\n",
    "from sklearn.feature_selection import SelectKBest\n",
    "from sklearn.feature_selection import f_classif\n",
    "from sklearn.metrics import fbeta_score, make_scorer\n",
    "from sklearn.metrics import make_scorer, accuracy_score, precision_score, recall_score, f1_score\n",
    "from mlxtend.classifier import StackingCVClassifier\n",
    "from sklearn import model_selection"
   ]
  },
  {
   "cell_type": "markdown",
   "metadata": {},
   "source": [
    "# Reading Data"
   ]
  },
  {
   "cell_type": "code",
   "execution_count": 3,
   "metadata": {},
   "outputs": [],
   "source": [
    "df = pd.read_csv('../../Dataset/NSL_new.csv')"
   ]
  },
  {
   "cell_type": "code",
   "execution_count": 4,
   "metadata": {},
   "outputs": [
    {
     "name": "stdout",
     "output_type": "stream",
     "text": [
      "(113270, 123)\n"
     ]
    }
   ],
   "source": [
    "df = df.drop( df[ (df.label != \"normal\") & (df.label != \"neptune\") & (df.label != \"back\") & (df.label != \"land\") & (df.label != \"pod\") & (df.label != \"smurf\") & (df.label != \"teardrop\") & (df.label != \"teardrop\") & (df.label != \"mailbomb\") & (df.label != \"apache2\") & (df.label != \"processtable\") & (df.label != \"udpstorm\") & (df.label != \"worm\")].index )\n",
    "print(df.shape)"
   ]
  },
  {
   "cell_type": "code",
   "execution_count": 5,
   "metadata": {},
   "outputs": [],
   "source": [
    "#df = df.sample(n=20000)"
   ]
  },
  {
   "cell_type": "code",
   "execution_count": 6,
   "metadata": {},
   "outputs": [
    {
     "data": {
      "text/html": [
       "<div>\n",
       "<style scoped>\n",
       "    .dataframe tbody tr th:only-of-type {\n",
       "        vertical-align: middle;\n",
       "    }\n",
       "\n",
       "    .dataframe tbody tr th {\n",
       "        vertical-align: top;\n",
       "    }\n",
       "\n",
       "    .dataframe thead th {\n",
       "        text-align: right;\n",
       "    }\n",
       "</style>\n",
       "<table border=\"1\" class=\"dataframe\">\n",
       "  <thead>\n",
       "    <tr style=\"text-align: right;\">\n",
       "      <th></th>\n",
       "      <th>duration</th>\n",
       "      <th>src_bytes</th>\n",
       "      <th>dst_bytes</th>\n",
       "      <th>land</th>\n",
       "      <th>wrong_fragment</th>\n",
       "      <th>urgent</th>\n",
       "      <th>hot</th>\n",
       "      <th>num_failed_logins</th>\n",
       "      <th>logged_in</th>\n",
       "      <th>num_compromised</th>\n",
       "      <th>...</th>\n",
       "      <th>flag_RSTO</th>\n",
       "      <th>flag_RSTOS0</th>\n",
       "      <th>flag_RSTR</th>\n",
       "      <th>flag_S0</th>\n",
       "      <th>flag_S1</th>\n",
       "      <th>flag_S2</th>\n",
       "      <th>flag_S3</th>\n",
       "      <th>flag_SF</th>\n",
       "      <th>flag_SH</th>\n",
       "      <th>label</th>\n",
       "    </tr>\n",
       "  </thead>\n",
       "  <tbody>\n",
       "    <tr>\n",
       "      <td>0</td>\n",
       "      <td>0</td>\n",
       "      <td>491</td>\n",
       "      <td>0</td>\n",
       "      <td>0</td>\n",
       "      <td>0</td>\n",
       "      <td>0</td>\n",
       "      <td>0</td>\n",
       "      <td>0</td>\n",
       "      <td>0</td>\n",
       "      <td>0</td>\n",
       "      <td>...</td>\n",
       "      <td>0</td>\n",
       "      <td>0</td>\n",
       "      <td>0</td>\n",
       "      <td>0</td>\n",
       "      <td>0</td>\n",
       "      <td>0</td>\n",
       "      <td>0</td>\n",
       "      <td>1</td>\n",
       "      <td>0</td>\n",
       "      <td>normal</td>\n",
       "    </tr>\n",
       "    <tr>\n",
       "      <td>1</td>\n",
       "      <td>0</td>\n",
       "      <td>146</td>\n",
       "      <td>0</td>\n",
       "      <td>0</td>\n",
       "      <td>0</td>\n",
       "      <td>0</td>\n",
       "      <td>0</td>\n",
       "      <td>0</td>\n",
       "      <td>0</td>\n",
       "      <td>0</td>\n",
       "      <td>...</td>\n",
       "      <td>0</td>\n",
       "      <td>0</td>\n",
       "      <td>0</td>\n",
       "      <td>0</td>\n",
       "      <td>0</td>\n",
       "      <td>0</td>\n",
       "      <td>0</td>\n",
       "      <td>1</td>\n",
       "      <td>0</td>\n",
       "      <td>normal</td>\n",
       "    </tr>\n",
       "    <tr>\n",
       "      <td>2</td>\n",
       "      <td>0</td>\n",
       "      <td>0</td>\n",
       "      <td>0</td>\n",
       "      <td>0</td>\n",
       "      <td>0</td>\n",
       "      <td>0</td>\n",
       "      <td>0</td>\n",
       "      <td>0</td>\n",
       "      <td>0</td>\n",
       "      <td>0</td>\n",
       "      <td>...</td>\n",
       "      <td>0</td>\n",
       "      <td>0</td>\n",
       "      <td>0</td>\n",
       "      <td>1</td>\n",
       "      <td>0</td>\n",
       "      <td>0</td>\n",
       "      <td>0</td>\n",
       "      <td>0</td>\n",
       "      <td>0</td>\n",
       "      <td>neptune</td>\n",
       "    </tr>\n",
       "    <tr>\n",
       "      <td>3</td>\n",
       "      <td>0</td>\n",
       "      <td>232</td>\n",
       "      <td>8153</td>\n",
       "      <td>0</td>\n",
       "      <td>0</td>\n",
       "      <td>0</td>\n",
       "      <td>0</td>\n",
       "      <td>0</td>\n",
       "      <td>1</td>\n",
       "      <td>0</td>\n",
       "      <td>...</td>\n",
       "      <td>0</td>\n",
       "      <td>0</td>\n",
       "      <td>0</td>\n",
       "      <td>0</td>\n",
       "      <td>0</td>\n",
       "      <td>0</td>\n",
       "      <td>0</td>\n",
       "      <td>1</td>\n",
       "      <td>0</td>\n",
       "      <td>normal</td>\n",
       "    </tr>\n",
       "    <tr>\n",
       "      <td>4</td>\n",
       "      <td>0</td>\n",
       "      <td>199</td>\n",
       "      <td>420</td>\n",
       "      <td>0</td>\n",
       "      <td>0</td>\n",
       "      <td>0</td>\n",
       "      <td>0</td>\n",
       "      <td>0</td>\n",
       "      <td>1</td>\n",
       "      <td>0</td>\n",
       "      <td>...</td>\n",
       "      <td>0</td>\n",
       "      <td>0</td>\n",
       "      <td>0</td>\n",
       "      <td>0</td>\n",
       "      <td>0</td>\n",
       "      <td>0</td>\n",
       "      <td>0</td>\n",
       "      <td>1</td>\n",
       "      <td>0</td>\n",
       "      <td>normal</td>\n",
       "    </tr>\n",
       "  </tbody>\n",
       "</table>\n",
       "<p>5 rows × 123 columns</p>\n",
       "</div>"
      ],
      "text/plain": [
       "   duration  src_bytes  dst_bytes  land  wrong_fragment  urgent  hot  \\\n",
       "0         0        491          0     0               0       0    0   \n",
       "1         0        146          0     0               0       0    0   \n",
       "2         0          0          0     0               0       0    0   \n",
       "3         0        232       8153     0               0       0    0   \n",
       "4         0        199        420     0               0       0    0   \n",
       "\n",
       "   num_failed_logins  logged_in  num_compromised  ...  flag_RSTO  flag_RSTOS0  \\\n",
       "0                  0          0                0  ...          0            0   \n",
       "1                  0          0                0  ...          0            0   \n",
       "2                  0          0                0  ...          0            0   \n",
       "3                  0          1                0  ...          0            0   \n",
       "4                  0          1                0  ...          0            0   \n",
       "\n",
       "   flag_RSTR  flag_S0  flag_S1  flag_S2  flag_S3  flag_SF  flag_SH    label  \n",
       "0          0        0        0        0        0        1        0   normal  \n",
       "1          0        0        0        0        0        1        0   normal  \n",
       "2          0        1        0        0        0        0        0  neptune  \n",
       "3          0        0        0        0        0        1        0   normal  \n",
       "4          0        0        0        0        0        1        0   normal  \n",
       "\n",
       "[5 rows x 123 columns]"
      ]
     },
     "execution_count": 6,
     "metadata": {},
     "output_type": "execute_result"
    }
   ],
   "source": [
    "df.head()"
   ]
  },
  {
   "cell_type": "code",
   "execution_count": 7,
   "metadata": {},
   "outputs": [],
   "source": [
    "X = df.drop(['label'], axis=1)\n",
    "y = df['label']"
   ]
  },
  {
   "cell_type": "code",
   "execution_count": 8,
   "metadata": {},
   "outputs": [],
   "source": [
    "scoring_metrics = {'accuracy' : make_scorer(accuracy_score), \n",
    "           'precision' : make_scorer(precision_score, average=\"micro\"),\n",
    "           'recall' : make_scorer(recall_score, average=\"micro\"), \n",
    "           'f1_score' : make_scorer(f1_score, average=\"micro\")}"
   ]
  },
  {
   "cell_type": "code",
   "execution_count": 9,
   "metadata": {},
   "outputs": [],
   "source": [
    "y = y.replace( to_replace =  'normal' , value = 0 )\n",
    "\n",
    "y = y.replace( to_replace =  'neptune' , value = 1 )\n",
    "y = y.replace( to_replace =  'back' , value = 1 )\n",
    "y = y.replace( to_replace =  'land' , value = 1 )\n",
    "y = y.replace( to_replace =  'pod' , value = 1 )\n",
    "y = y.replace( to_replace =  'smurf' , value = 1 )\n",
    "y = y.replace( to_replace =  'teardrop' , value = 1 )\n",
    "y = y.replace( to_replace =  'mailbomb' , value = 1 )\n",
    "y = y.replace( to_replace =  'apache2' , value = 1 )\n",
    "y = y.replace( to_replace =  'processtable' , value = 1 )\n",
    "y = y.replace( to_replace =  'udpstorm' , value = 1 )\n",
    "y = y.replace( to_replace =  'worm' , value = 1 )"
   ]
  },
  {
   "cell_type": "markdown",
   "metadata": {},
   "source": []
  },
  {
   "cell_type": "markdown",
   "metadata": {},
   "source": [
    "# Chi Squared"
   ]
  },
  {
   "cell_type": "code",
   "execution_count": 10,
   "metadata": {},
   "outputs": [],
   "source": [
    "import matplotlib.pyplot as plt\n",
    "from sklearn.datasets import load_iris\n",
    "from sklearn.model_selection import train_test_split\n",
    "from sklearn.preprocessing import MinMaxScaler\n",
    "from sklearn.svm import LinearSVC\n",
    "from sklearn.pipeline import make_pipeline\n",
    "from sklearn.feature_selection import SelectKBest, chi2"
   ]
  },
  {
   "cell_type": "code",
   "execution_count": 11,
   "metadata": {},
   "outputs": [
    {
     "name": "stdout",
     "output_type": "stream",
     "text": [
      "before transform:         duration  src_bytes  dst_bytes  land  wrong_fragment  urgent  hot  \\\n",
      "0              0        491          0     0               0       0    0   \n",
      "1              0        146          0     0               0       0    0   \n",
      "2              0          0          0     0               0       0    0   \n",
      "3              0        232       8153     0               0       0    0   \n",
      "4              0        199        420     0               0       0    0   \n",
      "...          ...        ...        ...   ...             ...     ...  ...   \n",
      "125968         0          0          0     0               0       0    0   \n",
      "125969         8        105        145     0               0       0    0   \n",
      "125970         0       2231        384     0               0       0    0   \n",
      "125971         0          0          0     0               0       0    0   \n",
      "125972         0        151          0     0               0       0    0   \n",
      "\n",
      "        num_failed_logins  logged_in  num_compromised  ...  flag_REJ  \\\n",
      "0                       0          0                0  ...         0   \n",
      "1                       0          0                0  ...         0   \n",
      "2                       0          0                0  ...         0   \n",
      "3                       0          1                0  ...         0   \n",
      "4                       0          1                0  ...         0   \n",
      "...                   ...        ...              ...  ...       ...   \n",
      "125968                  0          0                0  ...         0   \n",
      "125969                  0          0                0  ...         0   \n",
      "125970                  0          1                0  ...         0   \n",
      "125971                  0          0                0  ...         0   \n",
      "125972                  0          1                0  ...         0   \n",
      "\n",
      "        flag_RSTO  flag_RSTOS0  flag_RSTR  flag_S0  flag_S1  flag_S2  flag_S3  \\\n",
      "0               0            0          0        0        0        0        0   \n",
      "1               0            0          0        0        0        0        0   \n",
      "2               0            0          0        1        0        0        0   \n",
      "3               0            0          0        0        0        0        0   \n",
      "4               0            0          0        0        0        0        0   \n",
      "...           ...          ...        ...      ...      ...      ...      ...   \n",
      "125968          0            0          0        1        0        0        0   \n",
      "125969          0            0          0        0        0        0        0   \n",
      "125970          0            0          0        0        0        0        0   \n",
      "125971          0            0          0        1        0        0        0   \n",
      "125972          0            0          0        0        0        0        0   \n",
      "\n",
      "        flag_SF  flag_SH  \n",
      "0             1        0  \n",
      "1             1        0  \n",
      "2             0        0  \n",
      "3             1        0  \n",
      "4             1        0  \n",
      "...         ...      ...  \n",
      "125968        0        0  \n",
      "125969        1        0  \n",
      "125970        1        0  \n",
      "125971        0        0  \n",
      "125972        1        0  \n",
      "\n",
      "[113270 rows x 122 columns]\n",
      "scores_: [7.74194631e+06 4.71179622e+08 1.78844795e+08 1.02600087e+01\n",
      " 4.19070033e+03 6.81986249e+00 6.48165550e+03 6.34247212e+01\n",
      " 3.01489854e+04 2.10126016e+04 9.34321162e+01 9.41141024e+01\n",
      " 2.58534167e+04 1.02297937e+03 2.79614362e+01 3.44403056e+02\n",
      "            nan 6.81986249e-01 5.95373996e+02 7.72059357e+06\n",
      " 2.27146929e+04 4.73646599e+04 4.75411712e+04 3.61529496e+03\n",
      " 3.62066188e+03 2.52323505e+04 8.38950722e+02 5.17221035e+03\n",
      " 1.37990650e+06 5.91082251e+06 2.42931508e+04 3.69243768e+02\n",
      " 1.54126690e+03 1.00403608e+03 4.72190647e+04 4.87249583e+04\n",
      " 3.67195505e+03 3.52849271e+03 1.34748028e+03 4.85820216e+02\n",
      " 6.33516998e+03 1.26849442e+02 4.56930787e+01 1.24782575e+03\n",
      "            nan 4.58816980e+02 1.02494735e+03 1.06453759e+03\n",
      " 7.81540684e+02 7.88872210e+02 7.37551527e+02 7.62478716e+02\n",
      " 6.24134394e+02 6.16106378e+03 6.09982973e+02 3.38947166e+02\n",
      " 3.56093244e+03 7.00893897e+02 6.81831929e+02 5.42799616e+02\n",
      " 1.95782171e+01 1.13558397e+03 7.11158033e+02            nan\n",
      " 6.55438435e+02 2.04243923e+04            nan 7.66877632e+02\n",
      "            nan 9.01702669e+02 9.89756026e+02 6.23179720e+02\n",
      " 4.28161125e+02 5.90921005e+02 6.65702571e+02 6.15848194e+02\n",
      " 6.09982973e+02 6.27578636e+02 5.74791648e+02 4.92678555e+02\n",
      " 5.11740523e+02 5.04408997e+02 9.12041849e+02 4.12031768e+02\n",
      " 1.14573690e+02 1.62557923e+03            nan 1.02641366e+02\n",
      " 2.07598436e+01 9.09109239e+01 2.02504130e+04 5.45589000e+00\n",
      " 8.79783134e+01 9.97087552e+01 6.50133886e+01 4.18046392e+03\n",
      " 3.41649117e+02 3.95062855e+02 5.41066627e+02 7.74209158e+02\n",
      " 6.74500403e+02 3.10131195e+02 2.04595875e+00 3.08004061e-02\n",
      " 5.82709545e+02 6.81986249e+00 4.08509763e+02 1.12758872e+03\n",
      " 9.91222331e+02 8.88580965e+02 9.82424500e+02 7.50184874e+00\n",
      " 2.57755350e+03 1.16255175e+03            nan 5.69030528e-01\n",
      " 4.91466966e+04 2.40878775e+02 6.85827815e+01 3.06893812e+01\n",
      " 3.21891409e+04 1.36397250e+00]\n",
      "pvalues_: [0.00000000e+000 0.00000000e+000 0.00000000e+000 1.35945036e-003\n",
      " 0.00000000e+000 9.01495090e-003 0.00000000e+000 1.66613867e-015\n",
      " 0.00000000e+000 0.00000000e+000 4.20373910e-022 2.97849639e-022\n",
      " 0.00000000e+000 1.81733273e-224 1.23757372e-007 7.01424929e-077\n",
      "             nan 4.08903604e-001 1.69823659e-131 0.00000000e+000\n",
      " 0.00000000e+000 0.00000000e+000 0.00000000e+000 0.00000000e+000\n",
      " 0.00000000e+000 0.00000000e+000 1.83535918e-184 0.00000000e+000\n",
      " 0.00000000e+000 0.00000000e+000 0.00000000e+000 2.73432287e-082\n",
      " 0.00000000e+000 2.38215518e-220 0.00000000e+000 0.00000000e+000\n",
      " 0.00000000e+000 0.00000000e+000 5.43541242e-295 1.15689376e-107\n",
      " 0.00000000e+000 2.00415190e-029 1.38310614e-011 2.46375764e-273\n",
      "             nan 8.69636041e-102 6.78698903e-225 1.68481220e-233\n",
      " 5.56553723e-172 1.41730729e-173 2.04257395e-162 7.76441893e-168\n",
      " 9.43074944e-138 0.00000000e+000 1.12837255e-134 1.08183280e-075\n",
      " 0.00000000e+000 1.91126360e-154 2.67020497e-150 4.63857671e-120\n",
      " 9.65639101e-006 6.09569734e-249 1.12032393e-156             nan\n",
      " 1.46678433e-144 0.00000000e+000             nan 8.58322766e-169\n",
      "             nan 4.18486446e-198 3.02655148e-217 1.52118651e-137\n",
      " 4.08433110e-095 1.57971090e-130 8.59356372e-147 5.98087497e-136\n",
      " 1.12837255e-134 1.68053473e-138 5.09345092e-127 3.72385060e-109\n",
      " 2.65172174e-113 1.04392643e-111 2.36639180e-200 1.32393126e-091\n",
      " 9.75721308e-027 0.00000000e+000             nan 4.01658286e-024\n",
      " 5.20632728e-006 1.50287668e-021 0.00000000e+000 1.95024673e-002\n",
      " 6.61760484e-021 1.76539078e-023 7.43909112e-016 0.00000000e+000\n",
      " 2.79077460e-076 6.54192642e-088 1.10507148e-119 2.18559242e-170\n",
      " 1.04931518e-148 2.04477124e-069 1.52610813e-001 8.60686421e-001\n",
      " 9.65387971e-129 9.01495090e-003 7.73595823e-091 3.33197397e-247\n",
      " 1.45285782e-217 2.97988269e-195 1.18735329e-215 6.16356902e-003\n",
      " 0.00000000e+000 8.39375902e-255             nan 4.50644416e-001\n",
      " 0.00000000e+000 2.52985034e-054 1.21661754e-016 3.02817718e-008\n",
      " 0.00000000e+000 2.42850198e-001]\n",
      "selected index: [0 1 2]\n",
      "after transform: [[   0.  491.    0.]\n",
      " [   0.  146.    0.]\n",
      " [   0.    0.    0.]\n",
      " ...\n",
      " [   0. 2231.  384.]\n",
      " [   0.    0.    0.]\n",
      " [   0.  151.    0.]]\n"
     ]
    }
   ],
   "source": [
    "print(\"before transform:\",X)\n",
    "selector=SelectKBest(score_func=chi2,k=3)\n",
    "fit = selector.fit(X,y)\n",
    "features = fit.transform(X)\n",
    "print(\"scores_:\",fit.scores_)\n",
    "print(\"pvalues_:\",fit.pvalues_)\n",
    "print(\"selected index:\",fit.get_support(True))\n",
    "X = fit.transform(X)\n",
    "print(\"after transform:\", X)\n"
   ]
  },
  {
   "cell_type": "markdown",
   "metadata": {},
   "source": [
    "# adaboost , Random Forest - mlp"
   ]
  },
  {
   "cell_type": "code",
   "execution_count": 12,
   "metadata": {},
   "outputs": [],
   "source": [
    "\n",
    "from sklearn.datasets import load_iris\n",
    "from sklearn.ensemble import RandomForestClassifier, StackingClassifier\n",
    "from sklearn.linear_model import LogisticRegression\n",
    "from sklearn.model_selection import train_test_split\n",
    "from sklearn.neighbors import KNeighborsClassifier\n",
    "from sklearn.ensemble import AdaBoostClassifier\n",
    "from sklearn.neural_network import MLPClassifier\n",
    "from vecstack import stacking\n",
    "\n"
   ]
  },
  {
   "cell_type": "code",
   "execution_count": 13,
   "metadata": {},
   "outputs": [],
   "source": [
    "from sklearn.metrics import accuracy_score , precision_score , recall_score , f1_score\n",
    "\n",
    "\n",
    "scoring_metrics = { accuracy_score , precision_score , recall_score , f1_score }"
   ]
  },
  {
   "cell_type": "code",
   "execution_count": 14,
   "metadata": {},
   "outputs": [],
   "source": [
    "X_train, X_test, y_train, y_test = train_test_split(X, y, test_size=0.2, random_state=0)"
   ]
  },
  {
   "cell_type": "code",
   "execution_count": 15,
   "metadata": {},
   "outputs": [],
   "source": [
    "# Create Base Learners\n",
    "base_learners = [  RandomForestClassifier(n_estimators=90, min_samples_split=0.1 , max_depth=19 ) ,\n",
    "                    AdaBoostClassifier(learning_rate=0.1 , n_estimators=1000)      \n",
    "                ]\n",
    "meta_learner = MLPClassifier(alpha=0.01 , hidden_layer_sizes=20 , learning_rate='constant' , solver='adam')"
   ]
  },
  {
   "cell_type": "code",
   "execution_count": 16,
   "metadata": {},
   "outputs": [
    {
     "name": "stdout",
     "output_type": "stream",
     "text": [
      "task:         [classification]\n",
      "n_classes:    [2]\n",
      "metric:       [accuracy_score]\n",
      "mode:         [oof_pred_bag]\n",
      "n_models:     [2]\n",
      "\n",
      "model  0:     [RandomForestClassifier]\n",
      "    fold  0:  [0.93241812]\n",
      "    fold  1:  [0.93956917]\n",
      "    fold  2:  [0.92650305]\n",
      "    fold  3:  [0.93202084]\n",
      "    ----\n",
      "    MEAN:     [0.93262779] + [0.00463971]\n",
      "    FULL:     [0.93262779]\n",
      "\n",
      "model  1:     [AdaBoostClassifier]\n",
      "    fold  0:  [0.96985080]\n",
      "    fold  1:  [0.97064536]\n",
      "    fold  2:  [0.96799682]\n",
      "    fold  3:  [0.96963009]\n",
      "    ----\n",
      "    MEAN:     [0.96953077] + [0.00096276]\n",
      "    FULL:     [0.96953077]\n",
      "\n"
     ]
    }
   ],
   "source": [
    "# Initialize Stacking Classifier with the Meta Learner\n",
    "S_train, S_test = stacking(base_learners,                   \n",
    "                           X_train, y_train, X_test,   \n",
    "                           regression=False, \n",
    "     \n",
    "#                            mode='oof_pred_bag', \n",
    "       \n",
    "                           needs_proba=False,\n",
    "         \n",
    "                           save_dir=None, \n",
    "            \n",
    "                           metric = accuracy_score , \n",
    "    \n",
    "                           n_folds=4, \n",
    "                 \n",
    "                           stratified=True,\n",
    "            \n",
    "                           shuffle=True,  \n",
    "            \n",
    "                           random_state=0,    \n",
    "         \n",
    "                           verbose=2)"
   ]
  },
  {
   "cell_type": "code",
   "execution_count": 17,
   "metadata": {},
   "outputs": [],
   "source": [
    "model = meta_learner.fit(S_train, y_train)\n"
   ]
  },
  {
   "cell_type": "code",
   "execution_count": 18,
   "metadata": {},
   "outputs": [],
   "source": [
    "y_pred = meta_learner.predict(S_test)\n"
   ]
  },
  {
   "cell_type": "code",
   "execution_count": 19,
   "metadata": {},
   "outputs": [
    {
     "name": "stdout",
     "output_type": "stream",
     "text": [
      "Accuracy score: [0.96896795]\n",
      "Precision score: [0.93478482]\n",
      "recall score: [0.99329730]\n"
     ]
    }
   ],
   "source": [
    "print('Accuracy score: [%.8f]' % accuracy_score(y_test, y_pred))\n",
    "print('Precision score: [%.8f]' % precision_score(y_test, y_pred))\n",
    "print('recall score: [%.8f]' % recall_score(y_test, y_pred))"
   ]
  },
  {
   "cell_type": "code",
   "execution_count": 20,
   "metadata": {},
   "outputs": [],
   "source": [
    "stacking1 = { 'accuracy' : accuracy_score(y_test, y_pred) , 'Precision' : precision_score(y_test, y_pred) , 'recall' : recall_score(y_test, y_pred) } "
   ]
  },
  {
   "cell_type": "code",
   "execution_count": 21,
   "metadata": {},
   "outputs": [],
   "source": [
    "stacking1 = pd.DataFrame(stacking1 , index=[0,1] )"
   ]
  },
  {
   "cell_type": "code",
   "execution_count": 22,
   "metadata": {},
   "outputs": [
    {
     "name": "stdout",
     "output_type": "stream",
     "text": [
      "   accuracy  Precision    recall\n",
      "0  0.968968   0.934785  0.993297\n",
      "1  0.968968   0.934785  0.993297\n"
     ]
    }
   ],
   "source": [
    "print(stacking1)"
   ]
  },
  {
   "cell_type": "code",
   "execution_count": 23,
   "metadata": {},
   "outputs": [],
   "source": [
    "stacking1.to_csv('NSL_DOS_Stacking_adaboost-randomForest-mlp_ChiSquared.csv')"
   ]
  },
  {
   "cell_type": "markdown",
   "metadata": {},
   "source": [
    "# adaboost , KNN - mlp"
   ]
  },
  {
   "cell_type": "code",
   "execution_count": 24,
   "metadata": {},
   "outputs": [],
   "source": [
    "X_train, X_test, y_train, y_test = train_test_split(X, y, test_size=0.2, random_state=0)"
   ]
  },
  {
   "cell_type": "code",
   "execution_count": 25,
   "metadata": {},
   "outputs": [],
   "source": [
    "# Create Base Learners\n",
    "base_learners = [KNeighborsClassifier(n_neighbors= 1) ,\n",
    "                 AdaBoostClassifier(learning_rate=0.1 , n_estimators=1000)          \n",
    "                ]\n",
    "meta_learner = MLPClassifier(alpha=0.01 , hidden_layer_sizes=20 , learning_rate='constant' , solver='adam')"
   ]
  },
  {
   "cell_type": "code",
   "execution_count": 26,
   "metadata": {},
   "outputs": [
    {
     "name": "stdout",
     "output_type": "stream",
     "text": [
      "task:         [classification]\n",
      "n_classes:    [2]\n",
      "metric:       [accuracy_score]\n",
      "mode:         [oof_pred_bag]\n",
      "n_models:     [2]\n",
      "\n",
      "model  0:     [KNeighborsClassifier]\n",
      "    fold  0:  [0.63534034]\n",
      "    fold  1:  [0.97254348]\n",
      "    fold  2:  [0.97055708]\n",
      "    fold  3:  [0.97170478]\n",
      "    ----\n",
      "    MEAN:     [0.88753642] + [0.14560718]\n",
      "    FULL:     [0.88753642]\n",
      "\n",
      "model  1:     [AdaBoostClassifier]\n",
      "    fold  0:  [0.96985080]\n",
      "    fold  1:  [0.97064536]\n",
      "    fold  2:  [0.96799682]\n",
      "    fold  3:  [0.96963009]\n",
      "    ----\n",
      "    MEAN:     [0.96953077] + [0.00096276]\n",
      "    FULL:     [0.96953077]\n",
      "\n"
     ]
    }
   ],
   "source": [
    "# Initialize Stacking Classifier with the Meta Learner\n",
    "S_train, S_test = stacking(base_learners,                   \n",
    "                           X_train, y_train, X_test,   \n",
    "                           regression=False, \n",
    "     \n",
    "#                            mode='oof_pred_bag', \n",
    "       \n",
    "                           needs_proba=False,\n",
    "         \n",
    "                           save_dir=None, \n",
    "            \n",
    "                           metric= accuracy_score , \n",
    "    \n",
    "                           n_folds=4, \n",
    "                 \n",
    "                           stratified=True,\n",
    "            \n",
    "                           shuffle=True,  \n",
    "            \n",
    "                           random_state=0,    \n",
    "         \n",
    "                           verbose=2)"
   ]
  },
  {
   "cell_type": "code",
   "execution_count": 27,
   "metadata": {},
   "outputs": [],
   "source": [
    "model = meta_learner.fit(S_train, y_train)"
   ]
  },
  {
   "cell_type": "code",
   "execution_count": 28,
   "metadata": {},
   "outputs": [],
   "source": [
    "y_pred = meta_learner.predict(S_test)\n"
   ]
  },
  {
   "cell_type": "code",
   "execution_count": 29,
   "metadata": {},
   "outputs": [],
   "source": [
    "stacking2 = { 'accuracy' : accuracy_score(y_test, y_pred) , 'Precision' : precision_score(y_test, y_pred) , 'recall' : recall_score(y_test, y_pred) } "
   ]
  },
  {
   "cell_type": "code",
   "execution_count": 30,
   "metadata": {},
   "outputs": [
    {
     "name": "stdout",
     "output_type": "stream",
     "text": [
      "   accuracy  Precision    recall\n",
      "0  0.971616   0.935181  0.999784\n",
      "1  0.971616   0.935181  0.999784\n"
     ]
    }
   ],
   "source": [
    "stacking2 = pd.DataFrame(stacking2 , index=[0,1] )\n",
    "print(stacking2)"
   ]
  },
  {
   "cell_type": "code",
   "execution_count": 31,
   "metadata": {},
   "outputs": [],
   "source": [
    "stacking2.to_csv('NSL_DOS_Stacking_adaboost-KNN-mlp_ChiSquared.csv')"
   ]
  },
  {
   "cell_type": "markdown",
   "metadata": {},
   "source": [
    "# adaboost , Descision Tree - mlp"
   ]
  },
  {
   "cell_type": "code",
   "execution_count": 32,
   "metadata": {},
   "outputs": [],
   "source": [
    "X_train, X_test, y_train, y_test = train_test_split(X, y, test_size=0.2, random_state=0)"
   ]
  },
  {
   "cell_type": "code",
   "execution_count": 33,
   "metadata": {},
   "outputs": [
    {
     "name": "stderr",
     "output_type": "stream",
     "text": [
      "C:\\Users\\nayer\\Anaconda3\\lib\\site-packages\\sklearn\\utils\\deprecation.py:144: FutureWarning: The sklearn.tree.tree module is  deprecated in version 0.22 and will be removed in version 0.24. The corresponding classes / functions should instead be imported from sklearn.tree. Anything that cannot be imported from sklearn.tree is now part of the private API.\n",
      "  warnings.warn(message, FutureWarning)\n"
     ]
    }
   ],
   "source": [
    "from sklearn.tree import tree\n",
    "\n",
    "# Create Base Learners\n",
    "base_learners = [tree.DecisionTreeClassifier(max_depth= 13 , min_samples_split = 10 ) ,\n",
    "                 AdaBoostClassifier(learning_rate=0.1 , n_estimators=1000)          \n",
    "                ]\n",
    "meta_learner = MLPClassifier(alpha=0.01 , hidden_layer_sizes=20 , learning_rate='constant' , solver='adam')"
   ]
  },
  {
   "cell_type": "code",
   "execution_count": 34,
   "metadata": {},
   "outputs": [
    {
     "name": "stdout",
     "output_type": "stream",
     "text": [
      "task:         [classification]\n",
      "n_classes:    [2]\n",
      "metric:       [accuracy_score]\n",
      "mode:         [oof_pred_bag]\n",
      "n_models:     [2]\n",
      "\n",
      "model  0:     [DecisionTreeClassifier]\n",
      "    fold  0:  [0.97179306]\n",
      "    fold  1:  [0.97236691]\n",
      "    fold  2:  [0.97060122]\n",
      "    fold  3:  [0.97166063]\n",
      "    ----\n",
      "    MEAN:     [0.97160546] + [0.00063768]\n",
      "    FULL:     [0.97160546]\n",
      "\n",
      "model  1:     [AdaBoostClassifier]\n",
      "    fold  0:  [0.96985080]\n",
      "    fold  1:  [0.97064536]\n",
      "    fold  2:  [0.96799682]\n",
      "    fold  3:  [0.96963009]\n",
      "    ----\n",
      "    MEAN:     [0.96953077] + [0.00096276]\n",
      "    FULL:     [0.96953077]\n",
      "\n"
     ]
    }
   ],
   "source": [
    "# Initialize Stacking Classifier with the Meta Learner\n",
    "S_train, S_test = stacking(base_learners,                   \n",
    "                           X_train, y_train, X_test,   \n",
    "                           regression=False, \n",
    "     \n",
    "#                            mode='oof_pred_bag', \n",
    "       \n",
    "                           needs_proba=False,\n",
    "         \n",
    "                           save_dir=None, \n",
    "            \n",
    "                           metric= accuracy_score , \n",
    "    \n",
    "                           n_folds=4, \n",
    "                 \n",
    "                           stratified=True,\n",
    "            \n",
    "                           shuffle=True,  \n",
    "            \n",
    "                           random_state=0,    \n",
    "         \n",
    "                           verbose=2)"
   ]
  },
  {
   "cell_type": "code",
   "execution_count": 35,
   "metadata": {},
   "outputs": [],
   "source": [
    "model = meta_learner.fit(S_train, y_train)"
   ]
  },
  {
   "cell_type": "code",
   "execution_count": 36,
   "metadata": {},
   "outputs": [],
   "source": [
    "y_pred = meta_learner.predict(S_test)\n"
   ]
  },
  {
   "cell_type": "code",
   "execution_count": 37,
   "metadata": {},
   "outputs": [],
   "source": [
    "stacking3 = { 'accuracy' : accuracy_score(y_test, y_pred) , 'Precision' : precision_score(y_test, y_pred) , 'recall' : recall_score(y_test, y_pred) } "
   ]
  },
  {
   "cell_type": "code",
   "execution_count": 38,
   "metadata": {},
   "outputs": [
    {
     "name": "stdout",
     "output_type": "stream",
     "text": [
      "   accuracy  Precision    recall\n",
      "0  0.971616   0.935181  0.999784\n",
      "1  0.971616   0.935181  0.999784\n"
     ]
    }
   ],
   "source": [
    "stacking3 = pd.DataFrame(stacking3 , index=[0,1] )\n",
    "print(stacking2)"
   ]
  },
  {
   "cell_type": "code",
   "execution_count": 39,
   "metadata": {},
   "outputs": [],
   "source": [
    "stacking3.to_csv('NSL_DOS_Stacking_adaboost-DecisionTree-mlp_ChiSquared.csv')"
   ]
  },
  {
   "cell_type": "markdown",
   "metadata": {},
   "source": [
    "# adaboost , SVM - mlp"
   ]
  },
  {
   "cell_type": "code",
   "execution_count": null,
   "metadata": {},
   "outputs": [],
   "source": []
  },
  {
   "cell_type": "code",
   "execution_count": null,
   "metadata": {},
   "outputs": [],
   "source": []
  },
  {
   "cell_type": "code",
   "execution_count": null,
   "metadata": {},
   "outputs": [],
   "source": []
  },
  {
   "cell_type": "code",
   "execution_count": null,
   "metadata": {},
   "outputs": [],
   "source": []
  },
  {
   "cell_type": "code",
   "execution_count": null,
   "metadata": {},
   "outputs": [],
   "source": []
  },
  {
   "cell_type": "code",
   "execution_count": null,
   "metadata": {},
   "outputs": [],
   "source": []
  }
 ],
 "metadata": {
  "kernelspec": {
   "display_name": "Python 3",
   "language": "python",
   "name": "python3"
  },
  "language_info": {
   "codemirror_mode": {
    "name": "ipython",
    "version": 3
   },
   "file_extension": ".py",
   "mimetype": "text/x-python",
   "name": "python",
   "nbconvert_exporter": "python",
   "pygments_lexer": "ipython3",
   "version": "3.7.4"
  }
 },
 "nbformat": 4,
 "nbformat_minor": 4
}
